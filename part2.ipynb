{
 "cells": [
  {
   "cell_type": "code",
   "execution_count": 1,
   "metadata": {},
   "outputs": [],
   "source": [
    "import numpy as np\n",
    "import math\n",
    "import matplotlib\n",
    "import matplotlib.pyplot as plt\n",
    "import pandas as pd\n",
    "%matplotlib inline"
   ]
  },
  {
   "cell_type": "markdown",
   "metadata": {},
   "source": [
    "# Задание 7.\n",
    "\n",
    "### 1. Методом случайного поиска найти минимальное значение функции $f$ на множестве $A = \\{x_1, x_2: x_1^2 + x_2^2 \\leqslant 1 \\}$, т.е. $y = \\min\\limits_{x \\in A}f(x)$, где $$f(x) = x_1^3 \\sin \\left(\\dfrac{1}{x_1} \\right) + 10 x_1 x_2^4 \\cos \\left( \\dfrac{1}{x_2} \\right)$$ при $x_1 \\not= 0$ и $x_2 \\not= 0$, функция доопределяется по непрерывности при $x_1 = 0$ или $x_2 = 0$.\n",
    "\n",
    "Для поиска минимума методом случайного поиска сгенерируем равномерное распределение точек по кругу и среди них найдем наименьшее значение. \n",
    "\n",
    "Необходимое количество точек определяется через вероятность не попасть в $\\Delta x$ окрестность точки минимума. Вычислим необходимый $n$ (число точек).\n",
    "Вероятность попасть в круг, но не попасть в $\\Delta x$ окрестность точки минимума $x_*$, при выборе одной точки определяется как $\\mathbb{P} = 1 - \\frac{\\pi \\Delta x^2}{\\pi} = 1 - \\Delta x^2$, следовательно, при выборе $n$ точек $\\mathbb{P}_n = (1 - \\Delta x^2)^n$. Зафиксируем $p$ - вероятность не попасть в указанную окрестность. Тогда $(1 - \\Delta x ^2)^n = p$, а $n = \\frac{\\ln p}{\\ln (1 - \\Delta x^2)}$.\n",
    "\n",
    "Выберем окрестность $\\Delta x$ таким образом, чтобы для фиксированной погрешности $\\varepsilon$ выполнялось $|f(x_*) - f(x)| < \\varepsilon$: $|f(x_*) - f(x)| < \\|\\nabla f \\| |\\Delta x|,$ оценим $\\|\\nabla f\\|$.\n",
    "$$\\dfrac{\\partial f}{\\partial x_1} = 3 x_1^2 \\sin \\left( \\dfrac{1}{x_1} \\right) - x_1 \\cos\\left( \\dfrac{1}{x_1} \\right) + 10 x_2^$ \\cos\\left( \\dfrac{1}{x_2} \\right) \\leqslant 14,$$\n",
    "$$\\dfrac{\\partial f}{\\partial x_2} = 40 x_1 x_2^3 \\cos \\left( \\dfrac{1}{x_2} \\right) + 10 x_1 x_2^2 \\sin\\left( \\dfrac{1}{x_2} \\right) \\leqslant 50,$$\n",
    "такми образом, $\\| \\nabla f \\| \\leqslant \\sqrt{14^2 + 50^2} \\approx 52 = C.$ Тогда $\\Delta x = \\dfrac{\\varepsilon}{C}$.\n",
    "\n",
    "Для удобства перейдем в полярную систему координат. \n",
    "При равномерном распределении точек по единичному кругу полученные случайные величины распределены следующим образом:\n",
    "$$\\mathbb{P}(\\xi \\in B) = \\iint\\limits_{B}p(x)dxdy = \\{\\text{к полярной системе координат}\\} = \\dfrac{1}{2\\pi}\\iint\\limits_{B}dr^2d\\varphi,$$\n",
    "то есть $\\varphi \\sim \\mathcal{U}[0,2\\pi]$, а $r$ имеет функцию распределения:\n",
    "$$F_r(x) = \\left\\{\n",
    "\\begin{aligned}\n",
    "    &0,\\quad x < 0\\\\\n",
    "    &x^2,\\quad x \\in [0, 1]\\\\\n",
    "    &1,\\quad x > 1\n",
    "\\end{aligned}\n",
    "\\right.$$\n",
    "С помощью метода обратных функций определяется $r \\sim \\sqrt{u},\\ u \\sim \\mathcal{U}[0, 1]$."
   ]
  },
  {
   "cell_type": "code",
   "execution_count": 2,
   "metadata": {},
   "outputs": [],
   "source": [
    "def fun_min_val(x1, x2):\n",
    "    res = x1 ** 3 * np.sin(1 / x1) + 10 * x1 * x2 ** 4 * np.cos(1 / x2)\n",
    "    return res"
   ]
  },
  {
   "cell_type": "code",
   "execution_count": 3,
   "metadata": {},
   "outputs": [
    {
     "name": "stdout",
     "output_type": "stream",
     "text": [
      "81004599\n",
      "-1.2884723054048162\n"
     ]
    }
   ],
   "source": [
    "eps = 10 ** (-2)\n",
    "p = 0.05\n",
    "c = 52\n",
    "step = eps / c\n",
    "n = int(np.log(p) / np.log(1 - step ** 2))\n",
    "print(n)\n",
    " \n",
    "r_sample = np.sqrt(np.random.random_sample(n))\n",
    "phi_sample = 2 * np.pi * np.random.random_sample(n)\n",
    "\n",
    "print(fun_min_val(r_sample * np.sin(phi_sample), r_sample * np.cos(phi_sample)).min())"
   ]
  },
  {
   "cell_type": "markdown",
   "metadata": {},
   "source": [
    "### 2. Методом имитации отжига найти минимальное значение функции Розенброка $g$ в пространстве $\n",
    "\\mathbb{R}^2$, где $$g(x) = (x_1 - 1)^2 + 100(x_2 - x_1^2)^2.$$\n",
    "\n",
    "Введем вспомогательные функции при решении задачи."
   ]
  },
  {
   "cell_type": "code",
   "execution_count": 4,
   "metadata": {},
   "outputs": [],
   "source": [
    "def fun_rosenbrock(x1, x2):\n",
    "    return (x1 - 1) ** 2 + 100 * (x2 - x1 ** 2) ** 2"
   ]
  },
  {
   "cell_type": "markdown",
   "metadata": {},
   "source": [
    "Предполагаемый следующий шаг алгоритма ($new = [new_x, new_y]$) распределен как $\\mathcal{N}(cur, cur_t \\sigma^2)$, где $cur = [cur_x, cur_y]$ - текущий шаг алгоритма, $cur_t$ - температура в текущий момент времени, $\\sigma$ - параметр."
   ]
  },
  {
   "cell_type": "code",
   "execution_count": 5,
   "metadata": {},
   "outputs": [],
   "source": [
    "def new_state(cur_x, cur_y, t):\n",
    "    new_x = normal(cur_x, np.sqrt(t) *  sigma * np.sqrt(1 + abs(cur_x)), 1)\n",
    "    new_y = normal(cur_y, np.sqrt(t) * sigma * np.sqrt(1 + abs(cur_y)), 1)\n",
    "    return (new_x, new_y)"
   ]
  },
  {
   "cell_type": "markdown",
   "metadata": {},
   "source": [
    "Функция $$p(\\Delta f, cur_t) = e^{-\\frac{|\\Delta f|}{cur_t}},$$ где $\\Delta f = f(cur) - f(next)$, определяет вероятность, с которой на каждом шаге выбирается точка (меняется на следующую или сохраняется текущая). "
   ]
  },
  {
   "cell_type": "code",
   "execution_count": 6,
   "metadata": {},
   "outputs": [],
   "source": [
    "def p(df, t):\n",
    "    return np.exp(-abs(df) / t)"
   ]
  },
  {
   "cell_type": "markdown",
   "metadata": {},
   "source": [
    "В следующей функции происходит выбор точки для следующего шага алгоритма. Если $\\Delta f > 0$, то всегда выбирается следующая точка (на которой достигается меньшая точка). Если неравенство не выполнено, то вероятность перехода к следующей точке определяется функцией $p(\\Delta f, cur_t)$."
   ]
  },
  {
   "cell_type": "code",
   "execution_count": 7,
   "metadata": {},
   "outputs": [],
   "source": [
    "def choose_state(new_x, new_y, cur_x, cur_y, t):\n",
    "    df = fun_rosenbrock(cur_x, cur_y) - fun_rosenbrock(new_x, new_y) \n",
    "    if (df > 0) or (bern(p(df, t), 1)):\n",
    "        return (new_x, new_y)\n",
    "    return (cur_x, cur_y)"
   ]
  },
  {
   "cell_type": "markdown",
   "metadata": {},
   "source": [
    "Функция $t\\_next(cur_t)$ контролирует изменение температуры (ее уменьшение с коэффициентом $k$)."
   ]
  },
  {
   "cell_type": "code",
   "execution_count": 8,
   "metadata": {},
   "outputs": [],
   "source": [
    "def t_next(cur_t):\n",
    "    return k * cur_t"
   ]
  },
  {
   "cell_type": "markdown",
   "metadata": {},
   "source": [
    "В результате, с использованием описанных функций, на каждом шаге происходит выбор точки. Работа алгоритма останавливается, когда температура приближается к нулю ($t < 10^{-6}$)."
   ]
  },
  {
   "cell_type": "code",
   "execution_count": 9,
   "metadata": {},
   "outputs": [],
   "source": [
    "from time import time\n",
    "\n",
    "\n",
    "def annealing(g):\n",
    "\n",
    "    i = 0\n",
    "    t = time()\n",
    "\n",
    "    cur_x = np.random.random_sample() * 20 - 10\n",
    "    cur_y = np.random.random_sample() * 20 - 10\n",
    "    cur = [cur_x, cur_y]\n",
    "    if (g == 1):\n",
    "        print('x_0 = ', cur_x)\n",
    "        print('y_0 = ', cur_y)\n",
    "\n",
    "    cur_t = t_0\n",
    "\n",
    "    while cur_t > 10 ** (-6):\n",
    "        i += 1\n",
    "        new = new_state(cur[0], cur[1], cur_t)\n",
    "        cur = choose_state(new[0], new[1], cur[0], cur[1], cur_t)\n",
    "        cur_t = t_next(cur_t)\n",
    "        if (g == 1):\n",
    "            plt.plot(cur[0], cur[1], 'bo', alpha = 0.5)\n",
    "\n",
    "    if (g == 1):\n",
    "        plt.plot(cur[0], cur[1], '*r')\n",
    "        print('x* = ', cur[0])\n",
    "        print('y* = ', cur[1])\n",
    "        print('f(x*, y*) = ', fun_rosenbrock(cur[0], cur[1]))\n",
    "        print('Inaccuracy = ', abs(1 - cur[0]), abs(1 - cur[1]))\n",
    "        print('The algorithm made ', i, ' iterations, it took ', time() - t, 'seconds.')\n",
    "\n",
    "    return (cur[0], cur[1], i, time() - t)"
   ]
  },
  {
   "cell_type": "code",
   "execution_count": 10,
   "metadata": {},
   "outputs": [
    {
     "ename": "NameError",
     "evalue": "name 'normal' is not defined",
     "output_type": "error",
     "traceback": [
      "\u001b[0;31m---------------------------------------------------------------------------\u001b[0m",
      "\u001b[0;31mNameError\u001b[0m                                 Traceback (most recent call last)",
      "\u001b[0;32m<ipython-input-10-ba317805cc13>\u001b[0m in \u001b[0;36m<module>\u001b[0;34m\u001b[0m\n\u001b[1;32m      3\u001b[0m \u001b[0msigma\u001b[0m \u001b[0;34m=\u001b[0m \u001b[0;36m1\u001b[0m \u001b[0;34m/\u001b[0m \u001b[0mt_0\u001b[0m\u001b[0;34m\u001b[0m\u001b[0;34m\u001b[0m\u001b[0m\n\u001b[1;32m      4\u001b[0m \u001b[0;34m\u001b[0m\u001b[0m\n\u001b[0;32m----> 5\u001b[0;31m \u001b[0mres\u001b[0m \u001b[0;34m=\u001b[0m \u001b[0mannealing\u001b[0m\u001b[0;34m(\u001b[0m\u001b[0;36m0\u001b[0m\u001b[0;34m)\u001b[0m\u001b[0;34m\u001b[0m\u001b[0;34m\u001b[0m\u001b[0m\n\u001b[0m\u001b[1;32m      6\u001b[0m \u001b[0mprint\u001b[0m\u001b[0;34m(\u001b[0m\u001b[0mres\u001b[0m\u001b[0;34m)\u001b[0m\u001b[0;34m\u001b[0m\u001b[0;34m\u001b[0m\u001b[0m\n",
      "\u001b[0;32m<ipython-input-9-df97ddbb10c2>\u001b[0m in \u001b[0;36mannealing\u001b[0;34m(g)\u001b[0m\n\u001b[1;32m     18\u001b[0m     \u001b[0;32mwhile\u001b[0m \u001b[0mcur_t\u001b[0m \u001b[0;34m>\u001b[0m \u001b[0;36m10\u001b[0m \u001b[0;34m**\u001b[0m \u001b[0;34m(\u001b[0m\u001b[0;34m-\u001b[0m\u001b[0;36m6\u001b[0m\u001b[0;34m)\u001b[0m\u001b[0;34m:\u001b[0m\u001b[0;34m\u001b[0m\u001b[0;34m\u001b[0m\u001b[0m\n\u001b[1;32m     19\u001b[0m         \u001b[0mi\u001b[0m \u001b[0;34m+=\u001b[0m \u001b[0;36m1\u001b[0m\u001b[0;34m\u001b[0m\u001b[0;34m\u001b[0m\u001b[0m\n\u001b[0;32m---> 20\u001b[0;31m         \u001b[0mnew\u001b[0m \u001b[0;34m=\u001b[0m \u001b[0mnew_state\u001b[0m\u001b[0;34m(\u001b[0m\u001b[0mcur\u001b[0m\u001b[0;34m[\u001b[0m\u001b[0;36m0\u001b[0m\u001b[0;34m]\u001b[0m\u001b[0;34m,\u001b[0m \u001b[0mcur\u001b[0m\u001b[0;34m[\u001b[0m\u001b[0;36m1\u001b[0m\u001b[0;34m]\u001b[0m\u001b[0;34m,\u001b[0m \u001b[0mcur_t\u001b[0m\u001b[0;34m)\u001b[0m\u001b[0;34m\u001b[0m\u001b[0;34m\u001b[0m\u001b[0m\n\u001b[0m\u001b[1;32m     21\u001b[0m         \u001b[0mcur\u001b[0m \u001b[0;34m=\u001b[0m \u001b[0mchoose_state\u001b[0m\u001b[0;34m(\u001b[0m\u001b[0mnew\u001b[0m\u001b[0;34m[\u001b[0m\u001b[0;36m0\u001b[0m\u001b[0;34m]\u001b[0m\u001b[0;34m,\u001b[0m \u001b[0mnew\u001b[0m\u001b[0;34m[\u001b[0m\u001b[0;36m1\u001b[0m\u001b[0;34m]\u001b[0m\u001b[0;34m,\u001b[0m \u001b[0mcur\u001b[0m\u001b[0;34m[\u001b[0m\u001b[0;36m0\u001b[0m\u001b[0;34m]\u001b[0m\u001b[0;34m,\u001b[0m \u001b[0mcur\u001b[0m\u001b[0;34m[\u001b[0m\u001b[0;36m1\u001b[0m\u001b[0;34m]\u001b[0m\u001b[0;34m,\u001b[0m \u001b[0mcur_t\u001b[0m\u001b[0;34m)\u001b[0m\u001b[0;34m\u001b[0m\u001b[0;34m\u001b[0m\u001b[0m\n\u001b[1;32m     22\u001b[0m         \u001b[0mcur_t\u001b[0m \u001b[0;34m=\u001b[0m \u001b[0mt_next\u001b[0m\u001b[0;34m(\u001b[0m\u001b[0mcur_t\u001b[0m\u001b[0;34m)\u001b[0m\u001b[0;34m\u001b[0m\u001b[0;34m\u001b[0m\u001b[0m\n",
      "\u001b[0;32m<ipython-input-5-414330326cb6>\u001b[0m in \u001b[0;36mnew_state\u001b[0;34m(cur_x, cur_y, t)\u001b[0m\n\u001b[1;32m      1\u001b[0m \u001b[0;32mdef\u001b[0m \u001b[0mnew_state\u001b[0m\u001b[0;34m(\u001b[0m\u001b[0mcur_x\u001b[0m\u001b[0;34m,\u001b[0m \u001b[0mcur_y\u001b[0m\u001b[0;34m,\u001b[0m \u001b[0mt\u001b[0m\u001b[0;34m)\u001b[0m\u001b[0;34m:\u001b[0m\u001b[0;34m\u001b[0m\u001b[0;34m\u001b[0m\u001b[0m\n\u001b[0;32m----> 2\u001b[0;31m     \u001b[0mnew_x\u001b[0m \u001b[0;34m=\u001b[0m \u001b[0mnormal\u001b[0m\u001b[0;34m(\u001b[0m\u001b[0mcur_x\u001b[0m\u001b[0;34m,\u001b[0m \u001b[0mnp\u001b[0m\u001b[0;34m.\u001b[0m\u001b[0msqrt\u001b[0m\u001b[0;34m(\u001b[0m\u001b[0mt\u001b[0m\u001b[0;34m)\u001b[0m \u001b[0;34m*\u001b[0m  \u001b[0msigma\u001b[0m \u001b[0;34m*\u001b[0m \u001b[0mnp\u001b[0m\u001b[0;34m.\u001b[0m\u001b[0msqrt\u001b[0m\u001b[0;34m(\u001b[0m\u001b[0;36m1\u001b[0m \u001b[0;34m+\u001b[0m \u001b[0mabs\u001b[0m\u001b[0;34m(\u001b[0m\u001b[0mcur_x\u001b[0m\u001b[0;34m)\u001b[0m\u001b[0;34m)\u001b[0m\u001b[0;34m,\u001b[0m \u001b[0;36m1\u001b[0m\u001b[0;34m)\u001b[0m\u001b[0;34m\u001b[0m\u001b[0;34m\u001b[0m\u001b[0m\n\u001b[0m\u001b[1;32m      3\u001b[0m     \u001b[0mnew_y\u001b[0m \u001b[0;34m=\u001b[0m \u001b[0mnormal\u001b[0m\u001b[0;34m(\u001b[0m\u001b[0mcur_y\u001b[0m\u001b[0;34m,\u001b[0m \u001b[0mnp\u001b[0m\u001b[0;34m.\u001b[0m\u001b[0msqrt\u001b[0m\u001b[0;34m(\u001b[0m\u001b[0mt\u001b[0m\u001b[0;34m)\u001b[0m \u001b[0;34m*\u001b[0m \u001b[0msigma\u001b[0m \u001b[0;34m*\u001b[0m \u001b[0mnp\u001b[0m\u001b[0;34m.\u001b[0m\u001b[0msqrt\u001b[0m\u001b[0;34m(\u001b[0m\u001b[0;36m1\u001b[0m \u001b[0;34m+\u001b[0m \u001b[0mabs\u001b[0m\u001b[0;34m(\u001b[0m\u001b[0mcur_y\u001b[0m\u001b[0;34m)\u001b[0m\u001b[0;34m)\u001b[0m\u001b[0;34m,\u001b[0m \u001b[0;36m1\u001b[0m\u001b[0;34m)\u001b[0m\u001b[0;34m\u001b[0m\u001b[0;34m\u001b[0m\u001b[0m\n\u001b[1;32m      4\u001b[0m     \u001b[0;32mreturn\u001b[0m \u001b[0;34m(\u001b[0m\u001b[0mnew_x\u001b[0m\u001b[0;34m,\u001b[0m \u001b[0mnew_y\u001b[0m\u001b[0;34m)\u001b[0m\u001b[0;34m\u001b[0m\u001b[0;34m\u001b[0m\u001b[0m\n",
      "\u001b[0;31mNameError\u001b[0m: name 'normal' is not defined"
     ]
    }
   ],
   "source": [
    "k = 0.99\n",
    "t_0 = 2\n",
    "sigma = 1 / t_0\n",
    "\n",
    "res = annealing(0)\n",
    "print(res)"
   ]
  },
  {
   "cell_type": "code",
   "execution_count": null,
   "metadata": {},
   "outputs": [],
   "source": [
    "n = 100\n",
    "\n",
    "T = np.zeros(n)\n",
    "\n",
    "Inac_x = np.zeros(n)\n",
    "Inac_y = np.zeros(n)\n",
    "\n",
    "for j in range(0, n):\n",
    "    res = annealing(0)\n",
    "    T[j] = res[3]\n",
    "    Inac_x[j] = abs(1 - res[0])\n",
    "    Inac_y[j] = abs(1 - res[1])\n",
    "\n",
    "print(np.median(T))\n",
    "plt.hist(Inac_x, color = 'b', alpha = 0.5)\n",
    "plt.show()\n",
    "plt.hist(Inac_y, color = 'b', alpha = 0.5)\n",
    "plt.show()"
   ]
  },
  {
   "cell_type": "markdown",
   "metadata": {},
   "source": [
    "# Задание 8.\n",
    "\n",
    "### Применить метод Монте-Карло к решению первой краевой задачи для двумерного уравнения Лапласа в единичном круге:\n",
    "### $$\\left\\{\n",
    "\\begin{aligned}\n",
    "&\\Delta u = 0,\\ (x, y) \\in D\\\\\n",
    "&u|_{\\delta D} = f(x, y)\\\\\n",
    "&u \\in C^2(D),\\ f \\in C(\\delta D)\\\\\n",
    "&D = \\{x, y:\\ x^2 + y^2 \\leqslant 1 \\}\n",
    "\\end{aligned}\n",
    "\\right.$$\n",
    "### Для функции $f(x, y) = x^2 - y^2$ найти аналитическое решение и сравнить с полученным по методу Монте-Карло.\n",
    "\n",
    "Аналитическим решением задачи является функция $u(x, y) = x^2 - y^2.$\n",
    "\n",
    "## Метод Монте-Карло\n",
    "\n",
    "Разобьем область $D$ на сетку с шагом $h$. Чтобы понять, является ли точка граничной воспользумся следующими условиями:\n",
    "$$\\begin{gather} x^2 + y^2 \\leqslant 1;\\\\ x^2 + y^2 + h^2 + 2h\\max\\{|x|, |y|\\} > 1\\end{gather}.$$\n",
    "Если выполнено первое условие, то рассматриваемая точка с координатами $(x, y)$ принадлежит области $D$, если также выполнено и второе неравенство, то рассматриваемая точка является граничной (хотя бы одна из трех соседних точек лежит вне области $D$).\n",
    "\n",
    "Из каждой внутренней точки можно двигаться в четырех направлениях (вправо, влево, вверх или вниз), выбор направления случаен. Последовательным переходом из одной точки в другую можно попасть на границу. Найдем сумму значений заданной на границе функции $f(x)$ при N запусках процесса из некоторой фиксированной внутренней точки $P$ и поделим полученную сумму на $N$. Таким образом, получено значение функции $u(P)$.\n",
    "\n"
   ]
  },
  {
   "cell_type": "code",
   "execution_count": 20,
   "metadata": {},
   "outputs": [],
   "source": [
    "def fun_laplas(x, y):\n",
    "    #print(x, y)\n",
    "    return x**2 - y**2"
   ]
  },
  {
   "cell_type": "code",
   "execution_count": 21,
   "metadata": {},
   "outputs": [],
   "source": [
    "def in_range(x, y): #returnes: 0 - out of range; 1 - inside; 2 - on bound\n",
    "    #print('a ', x, y)\n",
    "    if (x**2 + y**2 <= 1):\n",
    "        if (x**2 + y**2 + h**2 + 2 * h * max(abs(x), abs(y)) > 1):\n",
    "            return 2\n",
    "        else:\n",
    "            return 1\n",
    "    else:\n",
    "        return 0"
   ]
  },
  {
   "cell_type": "code",
   "execution_count": 35,
   "metadata": {},
   "outputs": [],
   "source": [
    "def next_step(i, j): #gives next coordinate\n",
    "    step = (np.random.binomial(1, 0.5, 1) * 2 - 1) * np.random.binomial(1, 0.5, 1)\n",
    "    if (i < 19) and (i > 0):\n",
    "        i += step\n",
    "    elif (i <= 0):\n",
    "        i += abs(step)\n",
    "    else:\n",
    "        i -= abs(step)\n",
    "        \n",
    "    if (j < 19) and (j > 0):\n",
    "        j += (np.random.binomial(1, 0.5, 1) * 2 - 1) * (1 - abs(step))\n",
    "    elif (j <= 0):\n",
    "        j += 1 - abs(step)\n",
    "    else:\n",
    "        j -= 1 - abs(step)   \n",
    "    return (i, j)"
   ]
  },
  {
   "cell_type": "code",
   "execution_count": 29,
   "metadata": {},
   "outputs": [],
   "source": [
    "def get_value(X, Y, i0, j0):\n",
    "    coord = np.array([i0, j0])\n",
    "    traj_i = (i0,)\n",
    "    traj_j = (j0, )\n",
    "    #print(i0, j0)\n",
    "    while (in_range(X[coord[0], coord[0]], Y[coord[1], coord[1]]) != 2):\n",
    "        coord = next_step(coord[0], coord[1])\n",
    "        #print(X[coord[0], coord[0]], Y[coord[1], coord[1]])\n",
    "        #print(coord)\n",
    "        traj_i = traj_i + (int(coord[0]),)\n",
    "        traj_j = traj_j + (int(coord[1]),)\n",
    "    return (traj_i, traj_j, fun_laplas(X[int(coord[0]), int(coord[0])], Y[int(coord[1]), int(coord[1])]))"
   ]
  },
  {
   "cell_type": "code",
   "execution_count": 30,
   "metadata": {},
   "outputs": [],
   "source": [
    "def get_coord(P, X, Y):\n",
    "    n_p = np.shape(P)[0]\n",
    "    Coord_i, Coord_j = np.where(P == P.min())\n",
    "    coord_i = Coord_i[0]\n",
    "    coord_j = Coord_j[0]\n",
    "    while (in_range(X[int(coord_i), int(coord_i)], Y[int(coord_j), int(coord_j)]) != 1):\n",
    "        P[int(coord_i), int(coord_j)] = n_step\n",
    "        Coord_i, Coord_j = np.where(P == P.min())\n",
    "        coord_i = Coord_i[0]\n",
    "        coord_j = Coord_j[0]\n",
    "    return (int(coord_i), int(coord_j))"
   ]
  },
  {
   "cell_type": "code",
   "execution_count": 31,
   "metadata": {},
   "outputs": [],
   "source": [
    "n = 20\n",
    "n_step = 500"
   ]
  },
  {
   "cell_type": "code",
   "execution_count": 36,
   "metadata": {},
   "outputs": [],
   "source": [
    "h = 2 / n\n",
    "\n",
    "x = np.linspace(-1, 1, n)\n",
    "y = np.linspace(-1, 1, n)\n",
    "XY = np.meshgrid(x, y)\n",
    "X, Y = np.meshgrid(x, y)\n",
    "\n",
    "Passed = np.zeros((n, n))\n",
    "Res_sum = np.zeros((n, n))\n",
    "coord = np.zeros(2)\n",
    "\n",
    "while np.any(Passed < n_step):\n",
    "    coord = get_coord(Passed, X, Y)\n",
    "    res = get_value(X, Y, coord[0], coord[1])\n",
    "    #print(res)\n",
    "    Passed[res[0], res[1]] += 1\n",
    "    Res_sum[res[0], res[1]] += res[2]\n",
    "    #print(Passed)\n",
    "\n",
    "#print(Passed)\n",
    "#print(Res_sum / Passed)\n",
    "\n"
   ]
  },
  {
   "cell_type": "code",
   "execution_count": 37,
   "metadata": {
    "scrolled": true
   },
   "outputs": [
    {
     "data": {
      "application/javascript": [
       "/* Put everything inside the global mpl namespace */\n",
       "window.mpl = {};\n",
       "\n",
       "\n",
       "mpl.get_websocket_type = function() {\n",
       "    if (typeof(WebSocket) !== 'undefined') {\n",
       "        return WebSocket;\n",
       "    } else if (typeof(MozWebSocket) !== 'undefined') {\n",
       "        return MozWebSocket;\n",
       "    } else {\n",
       "        alert('Your browser does not have WebSocket support. ' +\n",
       "              'Please try Chrome, Safari or Firefox ≥ 6. ' +\n",
       "              'Firefox 4 and 5 are also supported but you ' +\n",
       "              'have to enable WebSockets in about:config.');\n",
       "    };\n",
       "}\n",
       "\n",
       "mpl.figure = function(figure_id, websocket, ondownload, parent_element) {\n",
       "    this.id = figure_id;\n",
       "\n",
       "    this.ws = websocket;\n",
       "\n",
       "    this.supports_binary = (this.ws.binaryType != undefined);\n",
       "\n",
       "    if (!this.supports_binary) {\n",
       "        var warnings = document.getElementById(\"mpl-warnings\");\n",
       "        if (warnings) {\n",
       "            warnings.style.display = 'block';\n",
       "            warnings.textContent = (\n",
       "                \"This browser does not support binary websocket messages. \" +\n",
       "                    \"Performance may be slow.\");\n",
       "        }\n",
       "    }\n",
       "\n",
       "    this.imageObj = new Image();\n",
       "\n",
       "    this.context = undefined;\n",
       "    this.message = undefined;\n",
       "    this.canvas = undefined;\n",
       "    this.rubberband_canvas = undefined;\n",
       "    this.rubberband_context = undefined;\n",
       "    this.format_dropdown = undefined;\n",
       "\n",
       "    this.image_mode = 'full';\n",
       "\n",
       "    this.root = $('<div/>');\n",
       "    this._root_extra_style(this.root)\n",
       "    this.root.attr('style', 'display: inline-block');\n",
       "\n",
       "    $(parent_element).append(this.root);\n",
       "\n",
       "    this._init_header(this);\n",
       "    this._init_canvas(this);\n",
       "    this._init_toolbar(this);\n",
       "\n",
       "    var fig = this;\n",
       "\n",
       "    this.waiting = false;\n",
       "\n",
       "    this.ws.onopen =  function () {\n",
       "            fig.send_message(\"supports_binary\", {value: fig.supports_binary});\n",
       "            fig.send_message(\"send_image_mode\", {});\n",
       "            if (mpl.ratio != 1) {\n",
       "                fig.send_message(\"set_dpi_ratio\", {'dpi_ratio': mpl.ratio});\n",
       "            }\n",
       "            fig.send_message(\"refresh\", {});\n",
       "        }\n",
       "\n",
       "    this.imageObj.onload = function() {\n",
       "            if (fig.image_mode == 'full') {\n",
       "                // Full images could contain transparency (where diff images\n",
       "                // almost always do), so we need to clear the canvas so that\n",
       "                // there is no ghosting.\n",
       "                fig.context.clearRect(0, 0, fig.canvas.width, fig.canvas.height);\n",
       "            }\n",
       "            fig.context.drawImage(fig.imageObj, 0, 0);\n",
       "        };\n",
       "\n",
       "    this.imageObj.onunload = function() {\n",
       "        fig.ws.close();\n",
       "    }\n",
       "\n",
       "    this.ws.onmessage = this._make_on_message_function(this);\n",
       "\n",
       "    this.ondownload = ondownload;\n",
       "}\n",
       "\n",
       "mpl.figure.prototype._init_header = function() {\n",
       "    var titlebar = $(\n",
       "        '<div class=\"ui-dialog-titlebar ui-widget-header ui-corner-all ' +\n",
       "        'ui-helper-clearfix\"/>');\n",
       "    var titletext = $(\n",
       "        '<div class=\"ui-dialog-title\" style=\"width: 100%; ' +\n",
       "        'text-align: center; padding: 3px;\"/>');\n",
       "    titlebar.append(titletext)\n",
       "    this.root.append(titlebar);\n",
       "    this.header = titletext[0];\n",
       "}\n",
       "\n",
       "\n",
       "\n",
       "mpl.figure.prototype._canvas_extra_style = function(canvas_div) {\n",
       "\n",
       "}\n",
       "\n",
       "\n",
       "mpl.figure.prototype._root_extra_style = function(canvas_div) {\n",
       "\n",
       "}\n",
       "\n",
       "mpl.figure.prototype._init_canvas = function() {\n",
       "    var fig = this;\n",
       "\n",
       "    var canvas_div = $('<div/>');\n",
       "\n",
       "    canvas_div.attr('style', 'position: relative; clear: both; outline: 0');\n",
       "\n",
       "    function canvas_keyboard_event(event) {\n",
       "        return fig.key_event(event, event['data']);\n",
       "    }\n",
       "\n",
       "    canvas_div.keydown('key_press', canvas_keyboard_event);\n",
       "    canvas_div.keyup('key_release', canvas_keyboard_event);\n",
       "    this.canvas_div = canvas_div\n",
       "    this._canvas_extra_style(canvas_div)\n",
       "    this.root.append(canvas_div);\n",
       "\n",
       "    var canvas = $('<canvas/>');\n",
       "    canvas.addClass('mpl-canvas');\n",
       "    canvas.attr('style', \"left: 0; top: 0; z-index: 0; outline: 0\")\n",
       "\n",
       "    this.canvas = canvas[0];\n",
       "    this.context = canvas[0].getContext(\"2d\");\n",
       "\n",
       "    var backingStore = this.context.backingStorePixelRatio ||\n",
       "\tthis.context.webkitBackingStorePixelRatio ||\n",
       "\tthis.context.mozBackingStorePixelRatio ||\n",
       "\tthis.context.msBackingStorePixelRatio ||\n",
       "\tthis.context.oBackingStorePixelRatio ||\n",
       "\tthis.context.backingStorePixelRatio || 1;\n",
       "\n",
       "    mpl.ratio = (window.devicePixelRatio || 1) / backingStore;\n",
       "\n",
       "    var rubberband = $('<canvas/>');\n",
       "    rubberband.attr('style', \"position: absolute; left: 0; top: 0; z-index: 1;\")\n",
       "\n",
       "    var pass_mouse_events = true;\n",
       "\n",
       "    canvas_div.resizable({\n",
       "        start: function(event, ui) {\n",
       "            pass_mouse_events = false;\n",
       "        },\n",
       "        resize: function(event, ui) {\n",
       "            fig.request_resize(ui.size.width, ui.size.height);\n",
       "        },\n",
       "        stop: function(event, ui) {\n",
       "            pass_mouse_events = true;\n",
       "            fig.request_resize(ui.size.width, ui.size.height);\n",
       "        },\n",
       "    });\n",
       "\n",
       "    function mouse_event_fn(event) {\n",
       "        if (pass_mouse_events)\n",
       "            return fig.mouse_event(event, event['data']);\n",
       "    }\n",
       "\n",
       "    rubberband.mousedown('button_press', mouse_event_fn);\n",
       "    rubberband.mouseup('button_release', mouse_event_fn);\n",
       "    // Throttle sequential mouse events to 1 every 20ms.\n",
       "    rubberband.mousemove('motion_notify', mouse_event_fn);\n",
       "\n",
       "    rubberband.mouseenter('figure_enter', mouse_event_fn);\n",
       "    rubberband.mouseleave('figure_leave', mouse_event_fn);\n",
       "\n",
       "    canvas_div.on(\"wheel\", function (event) {\n",
       "        event = event.originalEvent;\n",
       "        event['data'] = 'scroll'\n",
       "        if (event.deltaY < 0) {\n",
       "            event.step = 1;\n",
       "        } else {\n",
       "            event.step = -1;\n",
       "        }\n",
       "        mouse_event_fn(event);\n",
       "    });\n",
       "\n",
       "    canvas_div.append(canvas);\n",
       "    canvas_div.append(rubberband);\n",
       "\n",
       "    this.rubberband = rubberband;\n",
       "    this.rubberband_canvas = rubberband[0];\n",
       "    this.rubberband_context = rubberband[0].getContext(\"2d\");\n",
       "    this.rubberband_context.strokeStyle = \"#000000\";\n",
       "\n",
       "    this._resize_canvas = function(width, height) {\n",
       "        // Keep the size of the canvas, canvas container, and rubber band\n",
       "        // canvas in synch.\n",
       "        canvas_div.css('width', width)\n",
       "        canvas_div.css('height', height)\n",
       "\n",
       "        canvas.attr('width', width * mpl.ratio);\n",
       "        canvas.attr('height', height * mpl.ratio);\n",
       "        canvas.attr('style', 'width: ' + width + 'px; height: ' + height + 'px;');\n",
       "\n",
       "        rubberband.attr('width', width);\n",
       "        rubberband.attr('height', height);\n",
       "    }\n",
       "\n",
       "    // Set the figure to an initial 600x600px, this will subsequently be updated\n",
       "    // upon first draw.\n",
       "    this._resize_canvas(600, 600);\n",
       "\n",
       "    // Disable right mouse context menu.\n",
       "    $(this.rubberband_canvas).bind(\"contextmenu\",function(e){\n",
       "        return false;\n",
       "    });\n",
       "\n",
       "    function set_focus () {\n",
       "        canvas.focus();\n",
       "        canvas_div.focus();\n",
       "    }\n",
       "\n",
       "    window.setTimeout(set_focus, 100);\n",
       "}\n",
       "\n",
       "mpl.figure.prototype._init_toolbar = function() {\n",
       "    var fig = this;\n",
       "\n",
       "    var nav_element = $('<div/>');\n",
       "    nav_element.attr('style', 'width: 100%');\n",
       "    this.root.append(nav_element);\n",
       "\n",
       "    // Define a callback function for later on.\n",
       "    function toolbar_event(event) {\n",
       "        return fig.toolbar_button_onclick(event['data']);\n",
       "    }\n",
       "    function toolbar_mouse_event(event) {\n",
       "        return fig.toolbar_button_onmouseover(event['data']);\n",
       "    }\n",
       "\n",
       "    for(var toolbar_ind in mpl.toolbar_items) {\n",
       "        var name = mpl.toolbar_items[toolbar_ind][0];\n",
       "        var tooltip = mpl.toolbar_items[toolbar_ind][1];\n",
       "        var image = mpl.toolbar_items[toolbar_ind][2];\n",
       "        var method_name = mpl.toolbar_items[toolbar_ind][3];\n",
       "\n",
       "        if (!name) {\n",
       "            // put a spacer in here.\n",
       "            continue;\n",
       "        }\n",
       "        var button = $('<button/>');\n",
       "        button.addClass('ui-button ui-widget ui-state-default ui-corner-all ' +\n",
       "                        'ui-button-icon-only');\n",
       "        button.attr('role', 'button');\n",
       "        button.attr('aria-disabled', 'false');\n",
       "        button.click(method_name, toolbar_event);\n",
       "        button.mouseover(tooltip, toolbar_mouse_event);\n",
       "\n",
       "        var icon_img = $('<span/>');\n",
       "        icon_img.addClass('ui-button-icon-primary ui-icon');\n",
       "        icon_img.addClass(image);\n",
       "        icon_img.addClass('ui-corner-all');\n",
       "\n",
       "        var tooltip_span = $('<span/>');\n",
       "        tooltip_span.addClass('ui-button-text');\n",
       "        tooltip_span.html(tooltip);\n",
       "\n",
       "        button.append(icon_img);\n",
       "        button.append(tooltip_span);\n",
       "\n",
       "        nav_element.append(button);\n",
       "    }\n",
       "\n",
       "    var fmt_picker_span = $('<span/>');\n",
       "\n",
       "    var fmt_picker = $('<select/>');\n",
       "    fmt_picker.addClass('mpl-toolbar-option ui-widget ui-widget-content');\n",
       "    fmt_picker_span.append(fmt_picker);\n",
       "    nav_element.append(fmt_picker_span);\n",
       "    this.format_dropdown = fmt_picker[0];\n",
       "\n",
       "    for (var ind in mpl.extensions) {\n",
       "        var fmt = mpl.extensions[ind];\n",
       "        var option = $(\n",
       "            '<option/>', {selected: fmt === mpl.default_extension}).html(fmt);\n",
       "        fmt_picker.append(option);\n",
       "    }\n",
       "\n",
       "    // Add hover states to the ui-buttons\n",
       "    $( \".ui-button\" ).hover(\n",
       "        function() { $(this).addClass(\"ui-state-hover\");},\n",
       "        function() { $(this).removeClass(\"ui-state-hover\");}\n",
       "    );\n",
       "\n",
       "    var status_bar = $('<span class=\"mpl-message\"/>');\n",
       "    nav_element.append(status_bar);\n",
       "    this.message = status_bar[0];\n",
       "}\n",
       "\n",
       "mpl.figure.prototype.request_resize = function(x_pixels, y_pixels) {\n",
       "    // Request matplotlib to resize the figure. Matplotlib will then trigger a resize in the client,\n",
       "    // which will in turn request a refresh of the image.\n",
       "    this.send_message('resize', {'width': x_pixels, 'height': y_pixels});\n",
       "}\n",
       "\n",
       "mpl.figure.prototype.send_message = function(type, properties) {\n",
       "    properties['type'] = type;\n",
       "    properties['figure_id'] = this.id;\n",
       "    this.ws.send(JSON.stringify(properties));\n",
       "}\n",
       "\n",
       "mpl.figure.prototype.send_draw_message = function() {\n",
       "    if (!this.waiting) {\n",
       "        this.waiting = true;\n",
       "        this.ws.send(JSON.stringify({type: \"draw\", figure_id: this.id}));\n",
       "    }\n",
       "}\n",
       "\n",
       "\n",
       "mpl.figure.prototype.handle_save = function(fig, msg) {\n",
       "    var format_dropdown = fig.format_dropdown;\n",
       "    var format = format_dropdown.options[format_dropdown.selectedIndex].value;\n",
       "    fig.ondownload(fig, format);\n",
       "}\n",
       "\n",
       "\n",
       "mpl.figure.prototype.handle_resize = function(fig, msg) {\n",
       "    var size = msg['size'];\n",
       "    if (size[0] != fig.canvas.width || size[1] != fig.canvas.height) {\n",
       "        fig._resize_canvas(size[0], size[1]);\n",
       "        fig.send_message(\"refresh\", {});\n",
       "    };\n",
       "}\n",
       "\n",
       "mpl.figure.prototype.handle_rubberband = function(fig, msg) {\n",
       "    var x0 = msg['x0'] / mpl.ratio;\n",
       "    var y0 = (fig.canvas.height - msg['y0']) / mpl.ratio;\n",
       "    var x1 = msg['x1'] / mpl.ratio;\n",
       "    var y1 = (fig.canvas.height - msg['y1']) / mpl.ratio;\n",
       "    x0 = Math.floor(x0) + 0.5;\n",
       "    y0 = Math.floor(y0) + 0.5;\n",
       "    x1 = Math.floor(x1) + 0.5;\n",
       "    y1 = Math.floor(y1) + 0.5;\n",
       "    var min_x = Math.min(x0, x1);\n",
       "    var min_y = Math.min(y0, y1);\n",
       "    var width = Math.abs(x1 - x0);\n",
       "    var height = Math.abs(y1 - y0);\n",
       "\n",
       "    fig.rubberband_context.clearRect(\n",
       "        0, 0, fig.canvas.width / mpl.ratio, fig.canvas.height / mpl.ratio);\n",
       "\n",
       "    fig.rubberband_context.strokeRect(min_x, min_y, width, height);\n",
       "}\n",
       "\n",
       "mpl.figure.prototype.handle_figure_label = function(fig, msg) {\n",
       "    // Updates the figure title.\n",
       "    fig.header.textContent = msg['label'];\n",
       "}\n",
       "\n",
       "mpl.figure.prototype.handle_cursor = function(fig, msg) {\n",
       "    var cursor = msg['cursor'];\n",
       "    switch(cursor)\n",
       "    {\n",
       "    case 0:\n",
       "        cursor = 'pointer';\n",
       "        break;\n",
       "    case 1:\n",
       "        cursor = 'default';\n",
       "        break;\n",
       "    case 2:\n",
       "        cursor = 'crosshair';\n",
       "        break;\n",
       "    case 3:\n",
       "        cursor = 'move';\n",
       "        break;\n",
       "    }\n",
       "    fig.rubberband_canvas.style.cursor = cursor;\n",
       "}\n",
       "\n",
       "mpl.figure.prototype.handle_message = function(fig, msg) {\n",
       "    fig.message.textContent = msg['message'];\n",
       "}\n",
       "\n",
       "mpl.figure.prototype.handle_draw = function(fig, msg) {\n",
       "    // Request the server to send over a new figure.\n",
       "    fig.send_draw_message();\n",
       "}\n",
       "\n",
       "mpl.figure.prototype.handle_image_mode = function(fig, msg) {\n",
       "    fig.image_mode = msg['mode'];\n",
       "}\n",
       "\n",
       "mpl.figure.prototype.updated_canvas_event = function() {\n",
       "    // Called whenever the canvas gets updated.\n",
       "    this.send_message(\"ack\", {});\n",
       "}\n",
       "\n",
       "// A function to construct a web socket function for onmessage handling.\n",
       "// Called in the figure constructor.\n",
       "mpl.figure.prototype._make_on_message_function = function(fig) {\n",
       "    return function socket_on_message(evt) {\n",
       "        if (evt.data instanceof Blob) {\n",
       "            /* FIXME: We get \"Resource interpreted as Image but\n",
       "             * transferred with MIME type text/plain:\" errors on\n",
       "             * Chrome.  But how to set the MIME type?  It doesn't seem\n",
       "             * to be part of the websocket stream */\n",
       "            evt.data.type = \"image/png\";\n",
       "\n",
       "            /* Free the memory for the previous frames */\n",
       "            if (fig.imageObj.src) {\n",
       "                (window.URL || window.webkitURL).revokeObjectURL(\n",
       "                    fig.imageObj.src);\n",
       "            }\n",
       "\n",
       "            fig.imageObj.src = (window.URL || window.webkitURL).createObjectURL(\n",
       "                evt.data);\n",
       "            fig.updated_canvas_event();\n",
       "            fig.waiting = false;\n",
       "            return;\n",
       "        }\n",
       "        else if (typeof evt.data === 'string' && evt.data.slice(0, 21) == \"data:image/png;base64\") {\n",
       "            fig.imageObj.src = evt.data;\n",
       "            fig.updated_canvas_event();\n",
       "            fig.waiting = false;\n",
       "            return;\n",
       "        }\n",
       "\n",
       "        var msg = JSON.parse(evt.data);\n",
       "        var msg_type = msg['type'];\n",
       "\n",
       "        // Call the  \"handle_{type}\" callback, which takes\n",
       "        // the figure and JSON message as its only arguments.\n",
       "        try {\n",
       "            var callback = fig[\"handle_\" + msg_type];\n",
       "        } catch (e) {\n",
       "            console.log(\"No handler for the '\" + msg_type + \"' message type: \", msg);\n",
       "            return;\n",
       "        }\n",
       "\n",
       "        if (callback) {\n",
       "            try {\n",
       "                // console.log(\"Handling '\" + msg_type + \"' message: \", msg);\n",
       "                callback(fig, msg);\n",
       "            } catch (e) {\n",
       "                console.log(\"Exception inside the 'handler_\" + msg_type + \"' callback:\", e, e.stack, msg);\n",
       "            }\n",
       "        }\n",
       "    };\n",
       "}\n",
       "\n",
       "// from http://stackoverflow.com/questions/1114465/getting-mouse-location-in-canvas\n",
       "mpl.findpos = function(e) {\n",
       "    //this section is from http://www.quirksmode.org/js/events_properties.html\n",
       "    var targ;\n",
       "    if (!e)\n",
       "        e = window.event;\n",
       "    if (e.target)\n",
       "        targ = e.target;\n",
       "    else if (e.srcElement)\n",
       "        targ = e.srcElement;\n",
       "    if (targ.nodeType == 3) // defeat Safari bug\n",
       "        targ = targ.parentNode;\n",
       "\n",
       "    // jQuery normalizes the pageX and pageY\n",
       "    // pageX,Y are the mouse positions relative to the document\n",
       "    // offset() returns the position of the element relative to the document\n",
       "    var x = e.pageX - $(targ).offset().left;\n",
       "    var y = e.pageY - $(targ).offset().top;\n",
       "\n",
       "    return {\"x\": x, \"y\": y};\n",
       "};\n",
       "\n",
       "/*\n",
       " * return a copy of an object with only non-object keys\n",
       " * we need this to avoid circular references\n",
       " * http://stackoverflow.com/a/24161582/3208463\n",
       " */\n",
       "function simpleKeys (original) {\n",
       "  return Object.keys(original).reduce(function (obj, key) {\n",
       "    if (typeof original[key] !== 'object')\n",
       "        obj[key] = original[key]\n",
       "    return obj;\n",
       "  }, {});\n",
       "}\n",
       "\n",
       "mpl.figure.prototype.mouse_event = function(event, name) {\n",
       "    var canvas_pos = mpl.findpos(event)\n",
       "\n",
       "    if (name === 'button_press')\n",
       "    {\n",
       "        this.canvas.focus();\n",
       "        this.canvas_div.focus();\n",
       "    }\n",
       "\n",
       "    var x = canvas_pos.x * mpl.ratio;\n",
       "    var y = canvas_pos.y * mpl.ratio;\n",
       "\n",
       "    this.send_message(name, {x: x, y: y, button: event.button,\n",
       "                             step: event.step,\n",
       "                             guiEvent: simpleKeys(event)});\n",
       "\n",
       "    /* This prevents the web browser from automatically changing to\n",
       "     * the text insertion cursor when the button is pressed.  We want\n",
       "     * to control all of the cursor setting manually through the\n",
       "     * 'cursor' event from matplotlib */\n",
       "    event.preventDefault();\n",
       "    return false;\n",
       "}\n",
       "\n",
       "mpl.figure.prototype._key_event_extra = function(event, name) {\n",
       "    // Handle any extra behaviour associated with a key event\n",
       "}\n",
       "\n",
       "mpl.figure.prototype.key_event = function(event, name) {\n",
       "\n",
       "    // Prevent repeat events\n",
       "    if (name == 'key_press')\n",
       "    {\n",
       "        if (event.which === this._key)\n",
       "            return;\n",
       "        else\n",
       "            this._key = event.which;\n",
       "    }\n",
       "    if (name == 'key_release')\n",
       "        this._key = null;\n",
       "\n",
       "    var value = '';\n",
       "    if (event.ctrlKey && event.which != 17)\n",
       "        value += \"ctrl+\";\n",
       "    if (event.altKey && event.which != 18)\n",
       "        value += \"alt+\";\n",
       "    if (event.shiftKey && event.which != 16)\n",
       "        value += \"shift+\";\n",
       "\n",
       "    value += 'k';\n",
       "    value += event.which.toString();\n",
       "\n",
       "    this._key_event_extra(event, name);\n",
       "\n",
       "    this.send_message(name, {key: value,\n",
       "                             guiEvent: simpleKeys(event)});\n",
       "    return false;\n",
       "}\n",
       "\n",
       "mpl.figure.prototype.toolbar_button_onclick = function(name) {\n",
       "    if (name == 'download') {\n",
       "        this.handle_save(this, null);\n",
       "    } else {\n",
       "        this.send_message(\"toolbar_button\", {name: name});\n",
       "    }\n",
       "};\n",
       "\n",
       "mpl.figure.prototype.toolbar_button_onmouseover = function(tooltip) {\n",
       "    this.message.textContent = tooltip;\n",
       "};\n",
       "mpl.toolbar_items = [[\"Home\", \"Reset original view\", \"fa fa-home icon-home\", \"home\"], [\"Back\", \"Back to previous view\", \"fa fa-arrow-left icon-arrow-left\", \"back\"], [\"Forward\", \"Forward to next view\", \"fa fa-arrow-right icon-arrow-right\", \"forward\"], [\"\", \"\", \"\", \"\"], [\"Pan\", \"Pan axes with left mouse, zoom with right\", \"fa fa-arrows icon-move\", \"pan\"], [\"Zoom\", \"Zoom to rectangle\", \"fa fa-square-o icon-check-empty\", \"zoom\"], [\"\", \"\", \"\", \"\"], [\"Download\", \"Download plot\", \"fa fa-floppy-o icon-save\", \"download\"]];\n",
       "\n",
       "mpl.extensions = [\"eps\", \"jpeg\", \"pdf\", \"png\", \"ps\", \"raw\", \"svg\", \"tif\"];\n",
       "\n",
       "mpl.default_extension = \"png\";var comm_websocket_adapter = function(comm) {\n",
       "    // Create a \"websocket\"-like object which calls the given IPython comm\n",
       "    // object with the appropriate methods. Currently this is a non binary\n",
       "    // socket, so there is still some room for performance tuning.\n",
       "    var ws = {};\n",
       "\n",
       "    ws.close = function() {\n",
       "        comm.close()\n",
       "    };\n",
       "    ws.send = function(m) {\n",
       "        //console.log('sending', m);\n",
       "        comm.send(m);\n",
       "    };\n",
       "    // Register the callback with on_msg.\n",
       "    comm.on_msg(function(msg) {\n",
       "        //console.log('receiving', msg['content']['data'], msg);\n",
       "        // Pass the mpl event to the overridden (by mpl) onmessage function.\n",
       "        ws.onmessage(msg['content']['data'])\n",
       "    });\n",
       "    return ws;\n",
       "}\n",
       "\n",
       "mpl.mpl_figure_comm = function(comm, msg) {\n",
       "    // This is the function which gets called when the mpl process\n",
       "    // starts-up an IPython Comm through the \"matplotlib\" channel.\n",
       "\n",
       "    var id = msg.content.data.id;\n",
       "    // Get hold of the div created by the display call when the Comm\n",
       "    // socket was opened in Python.\n",
       "    var element = $(\"#\" + id);\n",
       "    var ws_proxy = comm_websocket_adapter(comm)\n",
       "\n",
       "    function ondownload(figure, format) {\n",
       "        window.open(figure.imageObj.src);\n",
       "    }\n",
       "\n",
       "    var fig = new mpl.figure(id, ws_proxy,\n",
       "                           ondownload,\n",
       "                           element.get(0));\n",
       "\n",
       "    // Call onopen now - mpl needs it, as it is assuming we've passed it a real\n",
       "    // web socket which is closed, not our websocket->open comm proxy.\n",
       "    ws_proxy.onopen();\n",
       "\n",
       "    fig.parent_element = element.get(0);\n",
       "    fig.cell_info = mpl.find_output_cell(\"<div id='\" + id + \"'></div>\");\n",
       "    if (!fig.cell_info) {\n",
       "        console.error(\"Failed to find cell for figure\", id, fig);\n",
       "        return;\n",
       "    }\n",
       "\n",
       "    var output_index = fig.cell_info[2]\n",
       "    var cell = fig.cell_info[0];\n",
       "\n",
       "};\n",
       "\n",
       "mpl.figure.prototype.handle_close = function(fig, msg) {\n",
       "    var width = fig.canvas.width/mpl.ratio\n",
       "    fig.root.unbind('remove')\n",
       "\n",
       "    // Update the output cell to use the data from the current canvas.\n",
       "    fig.push_to_output();\n",
       "    var dataURL = fig.canvas.toDataURL();\n",
       "    // Re-enable the keyboard manager in IPython - without this line, in FF,\n",
       "    // the notebook keyboard shortcuts fail.\n",
       "    IPython.keyboard_manager.enable()\n",
       "    $(fig.parent_element).html('<img src=\"' + dataURL + '\" width=\"' + width + '\">');\n",
       "    fig.close_ws(fig, msg);\n",
       "}\n",
       "\n",
       "mpl.figure.prototype.close_ws = function(fig, msg){\n",
       "    fig.send_message('closing', msg);\n",
       "    // fig.ws.close()\n",
       "}\n",
       "\n",
       "mpl.figure.prototype.push_to_output = function(remove_interactive) {\n",
       "    // Turn the data on the canvas into data in the output cell.\n",
       "    var width = this.canvas.width/mpl.ratio\n",
       "    var dataURL = this.canvas.toDataURL();\n",
       "    this.cell_info[1]['text/html'] = '<img src=\"' + dataURL + '\" width=\"' + width + '\">';\n",
       "}\n",
       "\n",
       "mpl.figure.prototype.updated_canvas_event = function() {\n",
       "    // Tell IPython that the notebook contents must change.\n",
       "    IPython.notebook.set_dirty(true);\n",
       "    this.send_message(\"ack\", {});\n",
       "    var fig = this;\n",
       "    // Wait a second, then push the new image to the DOM so\n",
       "    // that it is saved nicely (might be nice to debounce this).\n",
       "    setTimeout(function () { fig.push_to_output() }, 1000);\n",
       "}\n",
       "\n",
       "mpl.figure.prototype._init_toolbar = function() {\n",
       "    var fig = this;\n",
       "\n",
       "    var nav_element = $('<div/>');\n",
       "    nav_element.attr('style', 'width: 100%');\n",
       "    this.root.append(nav_element);\n",
       "\n",
       "    // Define a callback function for later on.\n",
       "    function toolbar_event(event) {\n",
       "        return fig.toolbar_button_onclick(event['data']);\n",
       "    }\n",
       "    function toolbar_mouse_event(event) {\n",
       "        return fig.toolbar_button_onmouseover(event['data']);\n",
       "    }\n",
       "\n",
       "    for(var toolbar_ind in mpl.toolbar_items){\n",
       "        var name = mpl.toolbar_items[toolbar_ind][0];\n",
       "        var tooltip = mpl.toolbar_items[toolbar_ind][1];\n",
       "        var image = mpl.toolbar_items[toolbar_ind][2];\n",
       "        var method_name = mpl.toolbar_items[toolbar_ind][3];\n",
       "\n",
       "        if (!name) { continue; };\n",
       "\n",
       "        var button = $('<button class=\"btn btn-default\" href=\"#\" title=\"' + name + '\"><i class=\"fa ' + image + ' fa-lg\"></i></button>');\n",
       "        button.click(method_name, toolbar_event);\n",
       "        button.mouseover(tooltip, toolbar_mouse_event);\n",
       "        nav_element.append(button);\n",
       "    }\n",
       "\n",
       "    // Add the status bar.\n",
       "    var status_bar = $('<span class=\"mpl-message\" style=\"text-align:right; float: right;\"/>');\n",
       "    nav_element.append(status_bar);\n",
       "    this.message = status_bar[0];\n",
       "\n",
       "    // Add the close button to the window.\n",
       "    var buttongrp = $('<div class=\"btn-group inline pull-right\"></div>');\n",
       "    var button = $('<button class=\"btn btn-mini btn-primary\" href=\"#\" title=\"Stop Interaction\"><i class=\"fa fa-power-off icon-remove icon-large\"></i></button>');\n",
       "    button.click(function (evt) { fig.handle_close(fig, {}); } );\n",
       "    button.mouseover('Stop Interaction', toolbar_mouse_event);\n",
       "    buttongrp.append(button);\n",
       "    var titlebar = this.root.find($('.ui-dialog-titlebar'));\n",
       "    titlebar.prepend(buttongrp);\n",
       "}\n",
       "\n",
       "mpl.figure.prototype._root_extra_style = function(el){\n",
       "    var fig = this\n",
       "    el.on(\"remove\", function(){\n",
       "\tfig.close_ws(fig, {});\n",
       "    });\n",
       "}\n",
       "\n",
       "mpl.figure.prototype._canvas_extra_style = function(el){\n",
       "    // this is important to make the div 'focusable\n",
       "    el.attr('tabindex', 0)\n",
       "    // reach out to IPython and tell the keyboard manager to turn it's self\n",
       "    // off when our div gets focus\n",
       "\n",
       "    // location in version 3\n",
       "    if (IPython.notebook.keyboard_manager) {\n",
       "        IPython.notebook.keyboard_manager.register_events(el);\n",
       "    }\n",
       "    else {\n",
       "        // location in version 2\n",
       "        IPython.keyboard_manager.register_events(el);\n",
       "    }\n",
       "\n",
       "}\n",
       "\n",
       "mpl.figure.prototype._key_event_extra = function(event, name) {\n",
       "    var manager = IPython.notebook.keyboard_manager;\n",
       "    if (!manager)\n",
       "        manager = IPython.keyboard_manager;\n",
       "\n",
       "    // Check for shift+enter\n",
       "    if (event.shiftKey && event.which == 13) {\n",
       "        this.canvas_div.blur();\n",
       "        // select the cell after this one\n",
       "        var index = IPython.notebook.find_cell_index(this.cell_info[0]);\n",
       "        IPython.notebook.select(index + 1);\n",
       "    }\n",
       "}\n",
       "\n",
       "mpl.figure.prototype.handle_save = function(fig, msg) {\n",
       "    fig.ondownload(fig, null);\n",
       "}\n",
       "\n",
       "\n",
       "mpl.find_output_cell = function(html_output) {\n",
       "    // Return the cell and output element which can be found *uniquely* in the notebook.\n",
       "    // Note - this is a bit hacky, but it is done because the \"notebook_saving.Notebook\"\n",
       "    // IPython event is triggered only after the cells have been serialised, which for\n",
       "    // our purposes (turning an active figure into a static one), is too late.\n",
       "    var cells = IPython.notebook.get_cells();\n",
       "    var ncells = cells.length;\n",
       "    for (var i=0; i<ncells; i++) {\n",
       "        var cell = cells[i];\n",
       "        if (cell.cell_type === 'code'){\n",
       "            for (var j=0; j<cell.output_area.outputs.length; j++) {\n",
       "                var data = cell.output_area.outputs[j];\n",
       "                if (data.data) {\n",
       "                    // IPython >= 3 moved mimebundle to data attribute of output\n",
       "                    data = data.data;\n",
       "                }\n",
       "                if (data['text/html'] == html_output) {\n",
       "                    return [cell, data, j];\n",
       "                }\n",
       "            }\n",
       "        }\n",
       "    }\n",
       "}\n",
       "\n",
       "// Register the function which deals with the matplotlib target/channel.\n",
       "// The kernel may be null if the page has been refreshed.\n",
       "if (IPython.notebook.kernel != null) {\n",
       "    IPython.notebook.kernel.comm_manager.register_target('matplotlib', mpl.mpl_figure_comm);\n",
       "}\n"
      ],
      "text/plain": [
       "<IPython.core.display.Javascript object>"
      ]
     },
     "metadata": {},
     "output_type": "display_data"
    },
    {
     "data": {
      "text/html": [
       "<img src=\"data:image/png;base64,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\" width=\"432\">"
      ],
      "text/plain": [
       "<IPython.core.display.HTML object>"
      ]
     },
     "metadata": {},
     "output_type": "display_data"
    },
    {
     "data": {
      "text/plain": [
       "<mpl_toolkits.mplot3d.art3d.Poly3DCollection at 0x7f7a9085ef10>"
      ]
     },
     "execution_count": 37,
     "metadata": {},
     "output_type": "execute_result"
    }
   ],
   "source": [
    "%matplotlib notebook\n",
    "fig = plt.figure()\n",
    "ax = fig.add_subplot(111, projection='3d')\n",
    "Z = X**2 - Y**2\n",
    "X[X**2 + Y**2 > 1] = np.inf\n",
    "Z[Z == np.inf] = 0\n",
    "ax.plot_surface(X, Y, Z, cmap='PuBu')"
   ]
  },
  {
   "cell_type": "markdown",
   "metadata": {},
   "source": [
    "# Задание 9.\n",
    "### Рассмотреть два вида процессов:\n",
    "$\\bullet$ Винеровский процесс $W(t),\\ t \\in [0, 1],\\ W(0) = 0$;\n",
    "\n",
    "$\\bullet$ Процесс Орнштейна-Уленбека $X(t),\\ t \\in [0, 1],\\ X(0) = X_0$, то есть стационарный марковский гауссовский процесс, начальное значение $X_0$ генерируется случайным образом так, что чтобы полученный процесс был стационарным.\n",
    "### Для данных гауссовских процессов:\n",
    "\n",
    "1) найти ковариационную функцию и переходные вероятности;\n",
    "\n",
    "2) моделировать независимые траектории процесса с данными переходными вероятностями методом добавления разбиения отрезка;\n",
    "\n",
    "3) построить график траектории, не соединяя точки ломанной, с целью получения визуально непрерывной линии."
   ]
  },
  {
   "cell_type": "markdown",
   "metadata": {},
   "source": [
    "## Метод добавления разбиения отрезка.\n",
    "\n",
    "Рассмотрим моделирование некоторого случайного процесса $X(t)$ на отрезке $[t_0, t_1]$\n",
    "\n",
    "1. моделировние $X_0 = X(t_0)$;\n",
    "\n",
    "2. моделирование $X(t_1)$ по условному распределению $[X(t_1)|X(t_0)]$;\n",
    "\n",
    "3. рассмотрим отрезок $[t_i, t_{i + 1}]$, на концах которого определены $$X(t_i) = x_{i},\\ X(t_{i + 1}) = x_{i + 1},$$ добавим узел $$t = \\dfrac{t_{i + 1} - t_i}{2}$$ и построим $X(t)$ с использованием распределения случайной величины $$[X(t)|X(t_i) = x_{i},\\ X(t_{i + 1}) = x_{i + 1}];$$\n",
    "\n",
    "4. повторять третий шаг до достижения нужного шага сетки."
   ]
  },
  {
   "cell_type": "markdown",
   "metadata": {},
   "source": [
    "## Винеровский процесс\n",
    "Винеровский процесс - гауссовский процесс Леви, то есть процесс с независимыми приращениями такой, что:\n",
    "\n",
    "$\\bullet\\ W_0= 0;$\n",
    "\n",
    "$\\bullet\\ \\mu(h) = \\mathbb{E}(W_{t + h} - W_{t}) = 0;$\n",
    "\n",
    "$\\bullet\\ \\sigma^2(h) = \\mathbb{D}(W_{t + h} - W_{t}) = \\sigma^2 h.$\n",
    "\n",
    "### Найдём ковариационную функцию для винеровского процесса.\n",
    "\n",
    "$$K(t_1, t_2) = \\mathbb{E}[W(t_1)W(t_2)],$$\n",
    "\n",
    "не ограничивая общности суждений, будем считать, что $t_1 < t_2$, тогда:\n",
    "\n",
    "$$K(t_1, t_2) = \\mathbb{E}[W(t_1)W(t_2)] = \\mathbb{E}W^2(t_1) + \\mathbb{E}[W(t_1) - W_0][W(t_2) - W(t_1)] = $$\n",
    "$$= \\sigma ^2 t_1 + \\mathbb{E}W(t_1)\\mathbb{E}[W(t_2) - W(t_1)] = \\sigma^2 t_1.$$\n",
    "\n",
    "Таким образом, ковариационная функция винеровского процесса:\n",
    "\n",
    "$$K(s, t) = \\min(s, t) \\sigma^2.$$\n",
    "\n",
    "### Моделирование винеровского процесса\n",
    "\n",
    "Найдем распределение \n",
    "$$Y = [W(t_{i + \\frac{1}{2}})|W(t_i) = x_i,\\ W(t_{i + 1}) = x_{i + 1}],$$\n",
    "где $t_{i + \\frac{1}{2}} = \\dfrac{t_{i + 1} - t_i}{2}$.\n",
    "\n",
    "Одно из свойств винеровского процесса $W(t) \\sim \\mathcal{N}(0, \\sigma^2)$, тогда $Y$ имеет плотность распределения\n",
    "$$p_Y(x) = \\dfrac{p_3(x_i, x_{i + \\frac{1}{2}}, x_{i + 1})}{p_2(x_i, x_{i + 1})},$$\n",
    "\n",
    "где $p_3(x_i, x_{i + \\frac{1}{2}}, x_{i + 1})$ - совместная плотность $[W(t_i), W(t_{i + \\frac{1}{2}}), W(t_{i + 1})]$, а $p_2(x_i, x_{i + 1})$ - совместная плотность $[W(t_i), W(t_{i + 1})]$.\n",
    "\n",
    "Получим ковариационные матрицы $\\Sigma_2$ и $\\Sigma_3$, соответствующие $p_2(x),\\ p_3(x)$. Вопрользуемся формулой для ковариационной функции винеровского процесса, тогда\n",
    "\n",
    "$$\n",
    "\\Sigma_2 = \\sigma^2 \\begin{bmatrix} t_i & t_i \\\\ t_i & t_{i + 1}\\end{bmatrix}\n",
    "$$\n",
    "\n",
    "$$\n",
    "\\Sigma_3 = \\sigma^2 \\begin{bmatrix} t_i & t_i & t_i \\\\ t_i & t_{i + \\frac{1}{2}} & t_{i + \\frac{1}{2}} \\\\ t_{i + \\frac{1}{2}} & t_{i + \\frac{1}{2}} & t_{i + 1}\\end{bmatrix}\n",
    "$$\n",
    "\n",
    "Рассмотрим $n$-мерное нормальное распределение со средним $\\mu$ и ковариационной матрицей $\\Sigma$. Для такого распределения плотность имеет вид:\n",
    "\n",
    "$$\n",
    "p(x) = \\dfrac{1}{\\sqrt{(2\\pi)^n|\\Sigma|}} e^{-\\frac{1}{2}(x - \\mu)^T \\Sigma^{-1}(x - \\mu)}\n",
    "$$\n",
    "\n",
    "Вычислим плотность $p_Y(x)$. Заметим, что она имеет вид $C e^ {d}$, где коэффициент $C$ получен как частное коэффициентов при $p_2(x),\\ p_3(x)$, а $d$ как разность степеней экспоненты в тех же плотностях.\n",
    "\n",
    "Воспользуемся символьными вычислениями для вычисления $d$."
   ]
  },
  {
   "cell_type": "code",
   "execution_count": 39,
   "metadata": {},
   "outputs": [
    {
     "data": {
      "text/latex": [
       "$\\displaystyle \\frac{- t_{1} x_{3} \\left(- x_{1} + x_{3}\\right) - 2 t_{1} \\left(x_{2} \\left(x_{1} - x_{2}\\right) + x_{3} \\left(x_{2} - x_{3}\\right)\\right) + x_{1} \\left(t_{1} x_{3} - t_{3} x_{1}\\right) - x_{1} \\left(x_{2} \\left(t_{1} - t_{3}\\right) + \\left(t_{1} + t_{3}\\right) \\left(- x_{1} + x_{3}\\right)\\right)}{2 t_{1} \\left(t_{1} - t_{3}\\right)}$"
      ],
      "text/plain": [
       "(-t_1*x_3*(-x_1 + x_3) - 2*t_1*(x_2*(x_1 - x_2) + x_3*(x_2 - x_3)) + x_1*(t_1*x_3 - t_3*x_1) - x_1*(x_2*(t_1 - t_3) + (t_1 + t_3)*(-x_1 + x_3)))/(2*t_1*(t_1 - t_3))"
      ]
     },
     "execution_count": 39,
     "metadata": {},
     "output_type": "execute_result"
    }
   ],
   "source": [
    "import sympy as sp\n",
    "\n",
    "t1, t2, t3 = sp.symbols('t_1 t_2 t_3', real = True)\n",
    "x1, x2, x3 = sp.symbols('x_1 x_2 x_3', real = True)\n",
    "\n",
    "t2 = (t1 + t3) / 2\n",
    "\n",
    "S3 = sp.Matrix([[t1, t1, t1], [t1, t2, t2], [t2, t2, t3]])\n",
    "S2 = sp.Matrix([[t1, t1], [t1, t3]])\n",
    "X3 = sp.Matrix([[x1], [x2], [x3]])\n",
    "X2 = sp.Matrix([[x1], [x3]])\n",
    "\n",
    "d = -sp.Rational(1, 2) * X3.T @ S3.inv() @ X3 + sp.Rational(1, 2) * X2.T @ S2.inv() @ X2\n",
    "2\n",
    "\n",
    "d[0].simplify()"
   ]
  },
  {
   "cell_type": "markdown",
   "metadata": {},
   "source": [
    "Пусть $h = t_{i + \\frac{1}{2}} - t_i$, тогда плотность распределения для процесса $Y$ имеет вид:\n",
    "\n",
    "AAAAAAAAAAAAAAAAAAAAAAAAAAAAAAA ЧТО ТАМ С ЦИФЕРКАМИ ПОМОГИТЕ Я НЕ ХОЧУ ЭТО СЧИТАТЬ\n",
    "\n",
    "$$\n",
    "p_Y(x) = C \\exp\\left\\{-\\dfrac{2}{(t_{i + 1} - t_i)}\\left(x_{i + \\frac{1}{2}} - \\dfrac{x_i + x_{i + 1}}{2}\\right)^2\\right\\}, \n",
    "$$\n",
    "\n",
    "а значит, $$ Y \\sim \\mathcal{N}\\left( \\dfrac{x_i + x_{i + 1}}{2}, \\dfrac{h \\sigma^2}{2}\\right).$$"
   ]
  },
  {
   "cell_type": "code",
   "execution_count": 40,
   "metadata": {},
   "outputs": [],
   "source": [
    "n_grid = 15\n",
    "sigma = 1"
   ]
  },
  {
   "cell_type": "code",
   "execution_count": 41,
   "metadata": {},
   "outputs": [],
   "source": [
    "def wiener(sigma, n_grid):\n",
    "    W = np.zeros(2 ** n_grid + 1)\n",
    "    W[-1] = sigma * np.random.randn()\n",
    "    step = 2 ** n_grid\n",
    "    first = 2 ** (n_grid - 1)\n",
    "    h = 1\n",
    "    for i in range(0, n_grid):\n",
    "        h /= 2\n",
    "        W[first :: step] = np.random.randn(2 ** i) * np.sqrt(h / 2) * sigma + (W[: -1 : step] + W[step :: step]) / 2\n",
    "        first = first // 2\n",
    "        step = step // 2\n",
    "    return W"
   ]
  },
  {
   "cell_type": "code",
   "execution_count": 42,
   "metadata": {},
   "outputs": [],
   "source": [
    "%matplotlib inline"
   ]
  },
  {
   "cell_type": "code",
   "execution_count": 43,
   "metadata": {},
   "outputs": [
    {
     "data": {
      "image/png": "[encoded data removed]",
      "text/plain": [
       "<Figure size 432x288 with 1 Axes>"
      ]
     },
     "metadata": {
      "needs_background": "light"
     },
     "output_type": "display_data"
    }
   ],
   "source": [
    "x = np.linspace(0, 1, 2 ** n_grid + 1)\n",
    "plt.plot(x, wiener(sigma, n_grid), 'b.', ms = 0.2, alpha = 0.5)\n",
    "plt.title(r'Винеровский процесс с $\\sigma = 1$')\n",
    "plt.show()"
   ]
  },
  {
   "cell_type": "markdown",
   "metadata": {},
   "source": [
    "## Процесс Орнштейна-Уленбека\n",
    "\n",
    "Процесс Орнштейна-Уленбека - это стационарный марковский гауссовский процесс."
   ]
  },
  {
   "cell_type": "markdown",
   "metadata": {},
   "source": [
    "### Найдем ковариационную функцию для процесса Орнштейна-Уленбека\n",
    "\n",
    "Известно, что для корреляционной функции такого процесса верно\n",
    "$$\\rho(X(t_1), X(t_3)) = \\rho(X(t_1), X(t_2))\\rho(X(t_2), \\rho(t_3)),\\quad t_1 < t_2 < t_3.$$\n",
    "\n",
    "Рассмотрим центрированный процесс Орнштейна-Уленбека, в таком случаедля любого $t$ будет верно $X(t) \\sim \\mathcal{N}(0, \\sigma^2)$. Ковариационная функция для такого процесса будет иметь вид $$R(t_1, t_2) = \\sigma^2 K(|t_2 - t_1|),$$ \n",
    "\n",
    "где $K(t) = \\rho(X(t), X_0)$. Найдем вид $K(t).$\n",
    "\n",
    "Рассмотрим $0 \\leqslant t_1 < t_2 \\leqslant 1$, тогда из свойства корреляционной функции:\n",
    "\n",
    "$$K(t_2) = \\rho(X(t_2), X(t_1))\\rho(X(t_1), X(0)) = K(t_2 - t_1)K(t_1),$$\n",
    "\n",
    "в таком случае, для любых $t \\geqslant 0, s \\geqslant 0$ верно $K(t + s) = K(t)K(s)$. \n",
    "\n",
    "Логарифм такой функции является решением уравнения Коши:\n",
    "$$f(x + y) = f(x) + f(y).$$\n",
    "\n",
    "В классе непрерывных функций уравнение Коши имеет единственное решение вида $K(t) = e^{-\\lambda t},\\ \\lambda > 0$, следовательно\n",
    "\n",
    "$$R(t_1, t_2) = \\sigma^2 e^{-\\lambda |t_1 - t_2|}, \\quad \\lambda > 0.$$"
   ]
  },
  {
   "cell_type": "markdown",
   "metadata": {},
   "source": [
    "### Моделирование процесса Орнштейна-Уленбека\n",
    "\n",
    "\n",
    "Как и винеровский процесс, процесс Орнштейна-Уленбека является гауссовским, а значит рассчитывается по аналогичной формуле, имея однако другие ковариационные матрицы.\n",
    "\n",
    "Построим ковариационные матрицы для двух и трех случайных величин $\\Sigma_2,\\ \\Sigma_3$ соответственно. \n",
    "\n",
    "Рассмотрим случайные величины $X(t_i),\\ X(t_{i + \\frac{1}{2}}),\\ X(t_{i + 1})$,  обозначим $h = t_{i + \\frac{1}{2}} - t_i$, тогда\n",
    "\n",
    "$$\n",
    "\\Sigma_2 = \\sigma^2 \\begin{bmatrix} 1 & e^{-2\\lambda h} \\\\ e^{-2\\lambda h} & 1\\end{bmatrix}\n",
    "$$\n",
    "\n",
    "$$\n",
    "\\Sigma_3 = \\sigma^2 \\begin{bmatrix} 1 & e^{-\\lambda h} & e^{-2\\lambda h} \\\\ e^{-\\lambda h} & 1 & e^{-\\lambda h} \\\\ e^{-2\\lambda h} & e^{-\\lambda h} & 1\\end{bmatrix}\n",
    "$$\n",
    "\n",
    "Рассмотрим теперь $t_1 = 0,\\ t_2 = 1$. В этом случае \n",
    "\n",
    "$$\\Sigma_2^{(0)} = \\sigma^2 \\begin{bmatrix} 1 & e^{-\\lambda} \\\\ e^{-\\lambda} & 1\\end{bmatrix}$$\n"
   ]
  },
  {
   "cell_type": "code",
   "execution_count": 48,
   "metadata": {},
   "outputs": [],
   "source": [
    "t1, t2, t3 = sp.symbols('t_1 t_2 t_3', real = True)\n",
    "x0, x1, x2, x3 = sp.symbols('x_0 x_1 x_2 x_3', real = True)\n",
    "lam, h = sp.symbols('\\lambda h', real = True)\n",
    "t2 = (t1 + t3) / 2\n",
    "h = t2 - t1\n",
    "\n",
    "S3 = sp.Matrix([[1, sp.exp(-lam * h), sp.exp(-2 * lam * h)], \n",
    "             [sp.exp(-lam * h), 1, sp.exp(-lam * h)], \n",
    "             [sp.exp(-2 *lam * h), sp.exp(-lam * h), 1]])\n",
    "S2 = sp.Matrix([[1, sp.exp(-2 * lam * h)], [sp.exp(-2 * lam * h), 1]])\n",
    "X3 = sp.Matrix([[x1], [x2], [x3]])\n",
    "X2 = sp.Matrix([[x1], [x3]])\n",
    "\n",
    "d = -sp.Rational(1, 2) * X3.T @ S3.inv() @ X3 + sp.Rational(1, 2) * X2.T @ S2.inv() @ X2\n",
    "2\n",
    "\n",
    "S_20 = S2.subs(h, sp.Rational(1, 2))\n",
    "X0 = sp.Matrix([[x0], [x1]])\n",
    "d_0 = -sp.Rational(1, 2) * X0.T @ S_20.inv() @ X0\n",
    "d_0 = d_0[0].simplify()\n",
    "\n",
    "\n",
    "d = d[0].simplify()"
   ]
  },
  {
   "cell_type": "code",
   "execution_count": 49,
   "metadata": {},
   "outputs": [
    {
     "data": {
      "text/latex": [
       "$\\displaystyle - \\frac{x_{0} \\left(x_{0} e^{\\lambda} - x_{1}\\right) - x_{1} \\left(x_{0} - x_{1} e^{\\lambda}\\right)}{4 \\sinh{\\left(\\lambda \\right)}}$"
      ],
      "text/plain": [
       "-(x_0*(x_0*exp(\\lambda) - x_1) - x_1*(x_0 - x_1*exp(\\lambda)))/(4*sinh(\\lambda))"
      ]
     },
     "execution_count": 49,
     "metadata": {},
     "output_type": "execute_result"
    }
   ],
   "source": [
    "d_0"
   ]
  },
  {
   "cell_type": "code",
   "execution_count": 50,
   "metadata": {},
   "outputs": [
    {
     "data": {
      "text/latex": [
       "$\\displaystyle \\frac{- \\left(x_{1} \\left(x_{1} - x_{3} e^{\\lambda \\left(t_{1} - t_{3}\\right)}\\right) - x_{3} \\left(x_{1} e^{\\lambda \\left(t_{1} - t_{3}\\right)} - x_{3}\\right)\\right) \\left(e^{2 \\lambda \\left(t_{1} - t_{3}\\right)} - 2 e^{\\lambda \\left(t_{1} - t_{3}\\right)} + 1\\right) \\left(e^{3 \\lambda \\left(t_{1} - t_{3}\\right)} - 3 e^{2 \\lambda \\left(t_{1} - t_{3}\\right)} + 3 e^{\\lambda \\left(t_{1} - t_{3}\\right)} - 1\\right) - \\left(e^{2 \\lambda \\left(t_{1} - t_{3}\\right)} - 1\\right) \\left(- x_{1} \\left(x_{1} - x_{2} e^{\\frac{\\lambda \\left(t_{1} - t_{3}\\right)}{2}}\\right) \\left(e^{2 \\lambda \\left(t_{1} - t_{3}\\right)} - 2 e^{\\lambda \\left(t_{1} - t_{3}\\right)} + 1\\right)^{2} + x_{2} \\left(x_{3} \\left(e^{\\lambda \\left(t_{1} - t_{3}\\right)} - 1\\right) \\left(e^{3 \\lambda \\left(t_{1} - t_{3}\\right)} - 3 e^{2 \\lambda \\left(t_{1} - t_{3}\\right)} + 3 e^{\\lambda \\left(t_{1} - t_{3}\\right)} - 1\\right) e^{\\frac{\\lambda \\left(t_{1} - t_{3}\\right)}{2}} + \\left(x_{1} \\left(e^{2 \\lambda \\left(t_{1} - t_{3}\\right)} - 2 e^{\\lambda \\left(t_{1} - t_{3}\\right)} + 1\\right) e^{\\frac{\\lambda \\left(t_{1} - t_{3}\\right)}{2}} - x_{2} \\left(e^{3 \\lambda \\left(t_{1} - t_{3}\\right)} - e^{2 \\lambda \\left(t_{1} - t_{3}\\right)} - e^{\\lambda \\left(t_{1} - t_{3}\\right)} + 1\\right)\\right) \\left(e^{2 \\lambda \\left(t_{1} - t_{3}\\right)} - 2 e^{\\lambda \\left(t_{1} - t_{3}\\right)} + 1\\right)\\right) + x_{3} \\left(x_{2} \\left(e^{2 \\lambda \\left(t_{1} - t_{3}\\right)} - 2 e^{\\lambda \\left(t_{1} - t_{3}\\right)} + 1\\right)^{2} e^{\\frac{\\lambda \\left(t_{1} - t_{3}\\right)}{2}} - x_{3} \\left(e^{\\lambda \\left(t_{1} - t_{3}\\right)} - 1\\right) \\left(e^{3 \\lambda \\left(t_{1} - t_{3}\\right)} - 3 e^{2 \\lambda \\left(t_{1} - t_{3}\\right)} + 3 e^{\\lambda \\left(t_{1} - t_{3}\\right)} - 1\\right)\\right)\\right)}{2 \\left(e^{2 \\lambda \\left(t_{1} - t_{3}\\right)} - 1\\right) \\left(e^{2 \\lambda \\left(t_{1} - t_{3}\\right)} - 2 e^{\\lambda \\left(t_{1} - t_{3}\\right)} + 1\\right) \\left(e^{3 \\lambda \\left(t_{1} - t_{3}\\right)} - 3 e^{2 \\lambda \\left(t_{1} - t_{3}\\right)} + 3 e^{\\lambda \\left(t_{1} - t_{3}\\right)} - 1\\right)}$"
      ],
      "text/plain": [
       "(-(x_1*(x_1 - x_3*exp(\\lambda*(t_1 - t_3))) - x_3*(x_1*exp(\\lambda*(t_1 - t_3)) - x_3))*(exp(2*\\lambda*(t_1 - t_3)) - 2*exp(\\lambda*(t_1 - t_3)) + 1)*(exp(3*\\lambda*(t_1 - t_3)) - 3*exp(2*\\lambda*(t_1 - t_3)) + 3*exp(\\lambda*(t_1 - t_3)) - 1) - (exp(2*\\lambda*(t_1 - t_3)) - 1)*(-x_1*(x_1 - x_2*exp(\\lambda*(t_1 - t_3)/2))*(exp(2*\\lambda*(t_1 - t_3)) - 2*exp(\\lambda*(t_1 - t_3)) + 1)**2 + x_2*(x_3*(exp(\\lambda*(t_1 - t_3)) - 1)*(exp(3*\\lambda*(t_1 - t_3)) - 3*exp(2*\\lambda*(t_1 - t_3)) + 3*exp(\\lambda*(t_1 - t_3)) - 1)*exp(\\lambda*(t_1 - t_3)/2) + (x_1*(exp(2*\\lambda*(t_1 - t_3)) - 2*exp(\\lambda*(t_1 - t_3)) + 1)*exp(\\lambda*(t_1 - t_3)/2) - x_2*(exp(3*\\lambda*(t_1 - t_3)) - exp(2*\\lambda*(t_1 - t_3)) - exp(\\lambda*(t_1 - t_3)) + 1))*(exp(2*\\lambda*(t_1 - t_3)) - 2*exp(\\lambda*(t_1 - t_3)) + 1)) + x_3*(x_2*(exp(2*\\lambda*(t_1 - t_3)) - 2*exp(\\lambda*(t_1 - t_3)) + 1)**2*exp(\\lambda*(t_1 - t_3)/2) - x_3*(exp(\\lambda*(t_1 - t_3)) - 1)*(exp(3*\\lambda*(t_1 - t_3)) - 3*exp(2*\\lambda*(t_1 - t_3)) + 3*exp(\\lambda*(t_1 - t_3)) - 1))))/(2*(exp(2*\\lambda*(t_1 - t_3)) - 1)*(exp(2*\\lambda*(t_1 - t_3)) - 2*exp(\\lambda*(t_1 - t_3)) + 1)*(exp(3*\\lambda*(t_1 - t_3)) - 3*exp(2*\\lambda*(t_1 - t_3)) + 3*exp(\\lambda*(t_1 - t_3)) - 1))"
      ]
     },
     "execution_count": 50,
     "metadata": {},
     "output_type": "execute_result"
    }
   ],
   "source": [
    "d"
   ]
  },
  {
   "cell_type": "markdown",
   "metadata": {},
   "source": [
    "Подставляя полученные матрицы в соответствующие формулы (см. винеровский процесс) получим, что \n",
    "\n",
    "$$[X(1)|X(0)] \\sim \\mathcal{N} (x_0e^{-\\lambda}, \\sigma^2(1 - e^{-2\\lambda}))$$\n",
    "\n",
    "$$[X(t_{i + \\frac{1}{2}})|\\ X(t_i) = x_i,\\ X(t_{i + 1}) = x_{i + 1}] \\sim \\mathcal{N}\\left(\\dfrac{x_i + x_{i + 1}}{e^{\\lambda h} + e^{-\\lambda h}}, \\dfrac{\\sigma^2 (e^{2\\lambda h} - 1)}{e^{2\\lambda h} + 1} \\right).$$"
   ]
  },
  {
   "cell_type": "code",
   "execution_count": 51,
   "metadata": {},
   "outputs": [],
   "source": [
    "n_grid = 14\n",
    "sigma = 1\n",
    "lam = 5"
   ]
  },
  {
   "cell_type": "code",
   "execution_count": 52,
   "metadata": {},
   "outputs": [],
   "source": [
    "def ou_mean(x1, x2, h, lam):\n",
    "    return((x1 + x2) / (np.exp(lam * h) + np.exp(-lam * h)))"
   ]
  },
  {
   "cell_type": "code",
   "execution_count": 53,
   "metadata": {},
   "outputs": [],
   "source": [
    "def ou_scale(h, sigma, lam):\n",
    "    return((sigma ** 2) * (np.exp(2 * lam * h) - 1)/(np.exp(2 * lam * h) + 1))"
   ]
  },
  {
   "cell_type": "code",
   "execution_count": 60,
   "metadata": {},
   "outputs": [],
   "source": [
    "def ornstein_uhlenbeck(sigma, lam, n_grid):\n",
    "    OU = np.zeros(2 ** n_grid + 1)\n",
    "    OU[0] = np.random.rand() * sigma\n",
    "    OU[-1] =  sigma * np.sqrt(1 - np.exp(-2 * lam)) * np.random.randn() + OU[0] * np.exp(-lam)\n",
    "    step = 2 ** n_grid\n",
    "    first = 2 ** (n_grid - 1)\n",
    "    h = 1\n",
    "    for i in range(0, n_grid):\n",
    "        h /= 2\n",
    "        OU[first :: step] = np.random.randn(2 ** i) * np.sqrt(ou_scale(h, sigma, lam)) + ou_mean(OU[: -1 : step], OU[step :: step], h, lam)\n",
    "        first = first // 2\n",
    "        step = step // 2\n",
    "    return OU"
   ]
  },
  {
   "cell_type": "code",
   "execution_count": 61,
   "metadata": {},
   "outputs": [
    {
     "data": {
      "image/png": "[encoded data removed]",
      "text/plain": [
       "<Figure size 432x288 with 1 Axes>"
      ]
     },
     "metadata": {
      "needs_background": "light"
     },
     "output_type": "display_data"
    }
   ],
   "source": [
    "x = np.linspace(0, 1, 2 ** n_grid + 1)\n",
    "plt.plot(x, ornstein_uhlenbeck(sigma, lam, n_grid), 'b.', ms = 0.2, alpha = 0.5)\n",
    "plt.title(r'Процесс Орнштейна-Уленбека с $\\sigma = 1$')\n",
    "plt.show()"
   ]
  },
  {
   "cell_type": "markdown",
   "metadata": {},
   "source": [
    "# Задание 10.\n",
    "\n",
    "## Произвести фильтрацию одномерного процесса Орнштейна-Уленбека."
   ]
  },
  {
   "cell_type": "markdown",
   "metadata": {},
   "source": [
    "### 1. Используя генератор белого шума, добавить случайную ошибку с известной дисперсией к реализации процесса Орнштейна-Уленбека.\n",
    "\n",
    "Рассмотрим процесс Орнштейна-Уленбека $x_n = X(t_n)$ с заданными параметрами $\\lambda > 0,\\ \\sigma$ на сетке $\\{t_n = nh\\ |\\ n = 1,\\ldots,N;\\ h = \\frac{1}{N}\\}$. \n",
    "\n",
    "Пусть $x_1 = X(t_1) \\sim \\mathcal{N}(0, \\sigma^2)$, тогда процесс $x_n$ может быть записан в виде:\n",
    "$$x_n = a x_{n - 1} + \\nu_n,$$\n",
    "\n",
    "где $\\nu_n \\sim \\mathcal{N}(0, q)$.\n",
    "\n",
    "Введем зашумленный сигнал $y_n$ вида\n",
    "$$y_n = x_n + \\varepsilon_n,$$\n",
    "где $\\varepsilon_n$ - ошибка с заданным характером распределения (в данной задаче нормальным или распределением Коши) с нулевым сдвигом и масштабом $r$ (он также считается известным).\n",
    "\n",
    "Найдем параметры системы $a$ и $q$. Для этоого запишем ковариациооную функцию процесса в моменты $t_n$ и $t_{n + 1}$:\n",
    "\n",
    "$$ R(t_n, t_n) = \\mathbb{D}x_n = \\sigma^2, $$\n",
    "$$ R(t_n, t_{n + 1}) = a \\mathbb{D}x_n = a \\sigma^2, $$\n",
    "$$ R(t_{n + 1}, t_{n + 1}) = \\mathbb{D}(x_{n + 1}) = a^2\\mathbb{D}x_n = a^2\\sigma^2 + q =  \\sigma^2.$$\n",
    "\n",
    "Из полученной системы находим искомые параметры:\n",
    "$$a = e^{\\lambda h}, \\quad q = \\sigma^2(1 - e^{-2\\lambda}).$$"
   ]
  },
  {
   "cell_type": "markdown",
   "metadata": {},
   "source": [
    "### 2. При помощи одномерного фильтра Калмана оценить траекторию процесса по зашумленному сигналу, параметры процесса и белого шума считать известными.\n",
    "\n",
    "Рассмотрим работу фильтра Калмана на $n$-ом шаге.\n",
    "\n",
    "Введем обозначения: \n",
    "\n",
    "$\\hat x_{n|n}$  - оценка значения $x_n$ при известных $y_1, \\ldots, y_n$;\n",
    "\n",
    "$\\hat x_{n|(n - 1)}$ - предполагаемое значение $x_n$ на основе предыдущего шага в соответствии с динамической системой;\n",
    "\n",
    "$p_{n|n}$ - дисперсия ошибки фильтрации;\n",
    "\n",
    "$p_{n|(n - 1)}$ - прогнозируемая диспресия на основе предыдущего шага.\n",
    "\n",
    "Фильтр Калмана работает по следующему алгоритму:\n",
    "\n",
    "1) исходя из динамической системы получаем:\n",
    "$$ \\hat x_{n|(n - 1)} = a \\hat x_{(n - 1)|(n - 1)},\\quad p_{n|(n - 1)} = a^2 p_{(n - 1)|(n - 1)} + q;$$\n",
    "2) вычисляем разницу между наблюдаемым процессом и прогнозом $\\delta_n$ и коэффициент усиления Калмана $k_n$:\n",
    "$$\\delta_n = y_n - \\hat x_{n|(n - 1)},\\quad k_n = \\dfrac{p_{n|(n - 1)}}{p_{n|(n - 1)} + r};$$\n",
    "3) рассчитываем новое значение $x_{n|n}$ как линейную комбинацию предсказанного и наблюдаемого значений:\n",
    "$$\\hat x_{n|n} = \\hat x_{n|(n - 1)} + k_n \\delta_n,\\quad p_{n|n} = (1 - k_n)p_{n|(n - 1)}.$$"
   ]
  },
  {
   "cell_type": "code",
   "execution_count": 62,
   "metadata": {},
   "outputs": [],
   "source": [
    "def kalman(y, a, q, r):\n",
    "    n = len(y)\n",
    "    p = np.zeros(n)\n",
    "    x_res = np.zeros(n)\n",
    "    x_res[0] = y[0]\n",
    "    p[0] = r\n",
    "    for i in range(1, n):\n",
    "        x_pred = a * x_res[i - 1]\n",
    "        p_pred = a**2 * p[i - 1] + q\n",
    "        delta = y[i] - x_pred\n",
    "        k = p_pred / (p_pred + r)\n",
    "        x_res[i] = x_pred + k * delta\n",
    "        p[i] = (1 - k) * p_pred\n",
    "    return [x_res, p]"
   ]
  },
  {
   "cell_type": "markdown",
   "metadata": {},
   "source": [
    "### Нормальная ошибка"
   ]
  },
  {
   "cell_type": "code",
   "execution_count": 63,
   "metadata": {},
   "outputs": [],
   "source": [
    "lam = 0.01\n",
    "sigma = 1\n",
    "\n",
    "r = 0.01\n",
    "\n",
    "n_grid = 14"
   ]
  },
  {
   "cell_type": "code",
   "execution_count": 67,
   "metadata": {},
   "outputs": [],
   "source": [
    "n = int(2 ** n_grid + 1)\n",
    "\n",
    "h = 1 / (n - 1)\n",
    "\n",
    "a = np.exp(-lam * h)\n",
    "q = (sigma ** 2) * (1 - np.exp(-2 * lam * h))"
   ]
  },
  {
   "cell_type": "code",
   "execution_count": 68,
   "metadata": {},
   "outputs": [
    {
     "data": {
      "image/png": "[encoded data removed]",
      "text/plain": [
       "<Figure size 432x288 with 1 Axes>"
      ]
     },
     "metadata": {
      "needs_background": "light"
     },
     "output_type": "display_data"
    }
   ],
   "source": [
    "# получение процесса Орнштейна-Уленбека\n",
    "\n",
    "x = ornstein_uhlenbeck(sigma, lam, n_grid)\n",
    "\n",
    "pl = np.linspace(0, 1, 2 ** n_grid + 1)\n",
    "plt.plot(pl, x, 'r.', ms = 0.2, label = 'Чистый сигнал')\n",
    "plt.title(r'Процесс Орнштейна-Уленбека с $\\sigma = 1$')\n",
    "plt.legend()\n",
    "plt.show()"
   ]
  },
  {
   "cell_type": "code",
   "execution_count": 69,
   "metadata": {},
   "outputs": [
    {
     "data": {
      "image/png": "[encoded data removed]",
      "text/plain": [
       "<Figure size 432x288 with 1 Axes>"
      ]
     },
     "metadata": {
      "needs_background": "light"
     },
     "output_type": "display_data"
    }
   ],
   "source": [
    "#добавление нормального шума\n",
    "\n",
    "noise = np.sqrt(r) * np.random.randn(n)\n",
    "y = x + noise\n",
    "\n",
    "\n",
    "plt.plot(pl, y, 'b', ms = 0.2, alpha = 0.5, label = 'Зашумленный сигнал')\n",
    "plt.plot(pl, x, 'r', ms = 0.2, label = 'Чистый сигнал')\n",
    "plt.title(r'Процесс Орнштейна-Уленбека с добавлением шума')\n",
    "plt.legend()\n",
    "plt.show()"
   ]
  },
  {
   "cell_type": "code",
   "execution_count": 70,
   "metadata": {},
   "outputs": [
    {
     "data": {
      "image/png": "[encoded data removed]",
      "text/plain": [
       "<Figure size 432x288 with 1 Axes>"
      ]
     },
     "metadata": {
      "needs_background": "light"
     },
     "output_type": "display_data"
    }
   ],
   "source": [
    "#фильтрация\n",
    "z = kalman(y, a, q, r)[0]\n",
    "plt.plot(pl, z, 'b.', ms = 0.2, alpha = 0.5, label = 'Результат фильтрации')\n",
    "plt.plot(pl, x, 'r.', ms = 0.2, label = 'Чистый сигнал')\n",
    "plt.title(r'Результат фильтрации процесса с нормальным шумом')\n",
    "plt.legend()\n",
    "plt.show()"
   ]
  },
  {
   "cell_type": "markdown",
   "metadata": {},
   "source": [
    "### Ошибка с распределением Коши"
   ]
  },
  {
   "cell_type": "code",
   "execution_count": 71,
   "metadata": {},
   "outputs": [],
   "source": [
    "lam = 0.01\n",
    "sigma = 1\n",
    "\n",
    "r = 0.0001\n",
    "\n",
    "n_grid = 14"
   ]
  },
  {
   "cell_type": "code",
   "execution_count": 73,
   "metadata": {},
   "outputs": [],
   "source": [
    "n = int(2 ** n_grid + 1)\n",
    "\n",
    "h = 1 / (n - 1)\n",
    "\n",
    "a = np.exp(-lam * h)\n",
    "q = (sigma ** 2) * (1 - np.exp(-2 * lam * h))"
   ]
  },
  {
   "cell_type": "code",
   "execution_count": 74,
   "metadata": {},
   "outputs": [
    {
     "data": {
      "image/png": "[encoded data removed]",
      "text/plain": [
       "<Figure size 432x288 with 1 Axes>"
      ]
     },
     "metadata": {
      "needs_background": "light"
     },
     "output_type": "display_data"
    }
   ],
   "source": [
    "# получение процесса Орнштейна-Уленбека\n",
    "\n",
    "x = ornstein_uhlenbeck(sigma, lam, n_grid)\n",
    "\n",
    "pl = np.linspace(0, 1, 2 ** n_grid + 1)\n",
    "plt.plot(pl, x, 'r.', ms = 0.2, label = 'Чистый сигнал')\n",
    "plt.title(r'Процесс Орнштейна-Уленбека с $\\sigma = 1$')\n",
    "plt.legend()\n",
    "plt.show()"
   ]
  },
  {
   "cell_type": "code",
   "execution_count": 78,
   "metadata": {},
   "outputs": [],
   "source": [
    "#датчик распределения Коши\n",
    "def cauchy(x_0, gamma, size):\n",
    "    sample = np.random.random_sample(size)\n",
    "    return gamma * (np.tan(np.pi * (sample - 0.5))) + x_0"
   ]
  },
  {
   "cell_type": "code",
   "execution_count": 79,
   "metadata": {},
   "outputs": [
    {
     "data": {
      "image/png": "[encoded data removed]",
      "text/plain": [
       "<Figure size 432x288 with 1 Axes>"
      ]
     },
     "metadata": {
      "needs_background": "light"
     },
     "output_type": "display_data"
    }
   ],
   "source": [
    "#добавление шума c распределением Коши\n",
    "\n",
    "noise = cauchy(0, r, 1)\n",
    "y = x + noise\n",
    "\n",
    "\n",
    "plt.plot(pl, y, 'b', ms = 0.2, alpha = 0.5, label = 'Зашумленный сигнал')\n",
    "plt.plot(pl, x, 'r', ms = 0.2, label = 'Чистый сигнал')\n",
    "plt.title(r'Процесс Орнштейна-Уленбека с добавлением шума')\n",
    "plt.legend()\n",
    "plt.show()"
   ]
  },
  {
   "cell_type": "code",
   "execution_count": 80,
   "metadata": {},
   "outputs": [
    {
     "data": {
      "image/png": "[encoded data removed]",
      "text/plain": [
       "<Figure size 432x288 with 1 Axes>"
      ]
     },
     "metadata": {
      "needs_background": "light"
     },
     "output_type": "display_data"
    }
   ],
   "source": [
    "#фильтрация\n",
    "z = kalman(y, a, q, r)[0]\n",
    "plt.plot(pl, z, 'b.', ms = 0.2, alpha = 0.5, label = 'Результат фильтрации')\n",
    "plt.plot(pl, x, 'r.', ms = 0.2, label = 'Чистый сигнал')\n",
    "plt.title(r'Результат фильтрации процесса с шумом с распределением Коши')\n",
    "plt.legend()\n",
    "plt.show()"
   ]
  },
  {
   "cell_type": "markdown",
   "metadata": {},
   "source": [
    "# Задание 11.\n",
    "### Построить двумерное пуассоновское поле, отвечающее пуассоновскому процессу:\n",
    "\n",
    "### 1. Первая интерпритация: система массового обслуживания. При этом, первая координата поля - время поступления заявки в СМО (равномерное распределение), вторая - время ее обслуживания (распределение $\\chi^2$ с 10 степенями свободы)."
   ]
  },
  {
   "cell_type": "markdown",
   "metadata": {},
   "source": [
    "Рассмотрим работу системы массового обслуживания на отрезке времени $[0, T]$. За это время на участок приходит $\\eta \\sim \\mathcal{Pois}(\\lambda T)$, где $\\lambda$ - интенсивность очереди. Момент прихода $i-$го человека $t_i \\sim \\mathcal{U}([0, T])$, а его время ожидания $s_i \\sim \\mathcal{\\chi^2}(10)$. Обозначим время обработки заявки $i$-го человека через $X_i$, тогда:\n",
    "\n",
    "$$\n",
    "X_i = \n",
    "\\left\\{\n",
    "\\begin{aligned}\n",
    "& t_i + s_i,\\ X_{i - 1} \\leqslant t_i\\ (\\text{в очереди никого нет});\\\\\n",
    "& X_{i - 1} + s_i,\\ X_{i - 1} > t_i\\ (\\text{очередь не пуста}).\n",
    "\\end{aligned}\n",
    "\\right.\n",
    "$$\n",
    "\n",
    "В таком случае, число людей в очереди в момент времени $t$ равен $N(t) = \\sum\\limits_{i = 0}^{\\eta}\\mathbb{I}_{t \\in [t_i, X_i)}$, то есть сумма людей, которые уже встали в очередь и запросы которых не были обработаны к моменты $t$.\n",
    "\n",
    "Заметим, что очередь не будет накапливаться до бесконечности лишь в том случае, если среднее время обработки заявки больше, чем средний интервал между появлением новых людей в очереди. \n",
    "\n",
    "$t_i \\sim \\mathcal{U}[0, T]$, следовательно $(t_{i + 1} - t_i) \\sim \\mathcal{Exp}(\\lambda)$. Известно, что $$\\mathbb{E}(t_{i + 1} - t_i) = \\dfrac{1}{\\lambda},\\quad \\mathbb{E}s_i = 10.$$\n",
    "\n",
    "Тогда наше условие корректной работы СМО (отсутствие бесконечно длинной очереди) эквивалентно $\\dfrac{1}{\\lambda} < 10$."
   ]
  },
  {
   "cell_type": "code",
   "execution_count": 81,
   "metadata": {},
   "outputs": [],
   "source": [
    "def chi2_rnd(k, size):\n",
    "    mu = 0\n",
    "    sigma = 1\n",
    "    return np.sum((np.reshape(np.random.rand(size * k) ** 2, (size, k))), 1)"
   ]
  },
  {
   "cell_type": "code",
   "execution_count": 82,
   "metadata": {},
   "outputs": [],
   "source": [
    "# определение значения параметра\n",
    "lam = 0.1\n",
    "T = 100\n",
    "k = 10\n",
    "n = 1000"
   ]
  },
  {
   "cell_type": "code",
   "execution_count": 83,
   "metadata": {},
   "outputs": [],
   "source": [
    "def queue_mod(t):\n",
    "    eta = np.size(t)\n",
    "    s = chi2_rnd(k, eta)\n",
    "    X = np.zeros(eta)\n",
    "    X[0] = t[0] + s[0]\n",
    "    for i in range(1, eta):\n",
    "        X[i] = max(X[i - 1], t[i]) + s[i]\n",
    "    N = lambda tau: ((tau > t) * (tau < X)).sum()\n",
    "    return [N, X]"
   ]
  },
  {
   "cell_type": "code",
   "execution_count": 84,
   "metadata": {},
   "outputs": [
    {
     "data": {
      "image/png": "[encoded data removed]",
      "text/plain": [
       "<Figure size 432x288 with 1 Axes>"
      ]
     },
     "metadata": {
      "needs_background": "light"
     },
     "output_type": "display_data"
    }
   ],
   "source": [
    "\n",
    "eta = np.random.poisson(lam * T)\n",
    "\n",
    "t = np.sort(T * np.random.rand(int(eta)))\n",
    "\n",
    "[N, X] = queue_mod(t)\n",
    "\n",
    "tt = np.linspace(0, T, n)\n",
    "y = np.zeros(n)\n",
    "for i in range(0, n):\n",
    "    y[i] = N(tt[i])\n",
    "\n",
    "plt.plot(tt, y, color = 'b', alpha = 0.5, label = 'Число людей в очереди')\n",
    "plt.grid()\n",
    "plt.legend()\n",
    "plt.show()"
   ]
  },
  {
   "cell_type": "markdown",
   "metadata": {},
   "source": [
    "### 2. Вторая интерпретация: система массового обслуживания с циклической интенсивностью $\\lambda(1 + \\cos(t))$ и единичными скачками. Свести данную задачу моделирования неоднородного пуассоновского процесса при помощи метода Льюса и Шедлера к моделированию двумерного пуассоновского поля, где первая координата имеет равномерное распределение, а вторая - распределение Бернулли."
   ]
  },
  {
   "cell_type": "markdown",
   "metadata": {},
   "source": [
    "Рассмотрим работу СМО c циклической интенсивностью $\\lambda(t)$ на отрезке времени $[0, T]$. $\\lambda(t) = \\lambda (1 - \\cos(t)) \\leqslant 2\\lambda$ для любого $t \\in [0, T]$. Тогда получим число людей, встающих в очередь $\\eta \\sim \\mathcal{Pois}(2\\lambda)$ и получим соответствующее число равномерно распределенных моментов времени, в которые приходят эти люди $t_1', \\ldots, t_{\\eta}'$. \n",
    "\n",
    "Получим новую выборку моментов времени $t_1, \\ldots, t_n$ следующим образом: каждую случайную величину $t_i'$ будем принимать в новую выборку с вероятностью $p_i = \\dfrac{\\lambda(t_i')}{2 \\lambda} = \\dfrac{1 + \\cos(t_i')}{2}.$ Полученная выборка будет определнять моменты появления новых людей в очереди в системе массового обслуживания с циклической интенсивностью. \n",
    "\n",
    "Далее рассуждения повторяют пункт 1 задания 11."
   ]
  },
  {
   "cell_type": "code",
   "execution_count": 85,
   "metadata": {},
   "outputs": [],
   "source": [
    "lam = 0.1\n",
    "T = 100\n",
    "k = 10\n",
    "n = 1000"
   ]
  },
  {
   "cell_type": "code",
   "execution_count": 86,
   "metadata": {},
   "outputs": [
    {
     "data": {
      "image/png": "[encoded data removed]",
      "text/plain": [
       "<Figure size 432x288 with 1 Axes>"
      ]
     },
     "metadata": {
      "needs_background": "light"
     },
     "output_type": "display_data"
    }
   ],
   "source": [
    "eta = np.random.poisson(2 * lam * T)\n",
    "t1 = (T * np.random.rand(int(eta)))\n",
    "idx = (np.random.rand(eta)) < ((1 + np.cos(t1)) / 2)\n",
    "t = t1[idx]\n",
    "\n",
    "[N, X] = queue_mod(t)\n",
    "\n",
    "tt = np.linspace(0, T, n)\n",
    "y = np.zeros(n)\n",
    "for i in range(0, n):\n",
    "    y[i] = N(tt[i])\n",
    "\n",
    "plt.plot(tt, y, color = 'b', alpha = 0.5, label = 'Число людей в очереди')\n",
    "plt.legend()\n",
    "plt.grid()\n",
    "plt.show()"
   ]
  },
  {
   "cell_type": "markdown",
   "metadata": {},
   "source": [
    "### 3. Третья интерпретация: работа страховой компании. Первая координата - момент наступления страхового случая (равномерное распределение), вторая координата - величина ущерба (распределение Парето). Поступление капитала по времени линейно со скоростью $c > 0$, начальный капитал $W > 0$."
   ]
  },
  {
   "cell_type": "markdown",
   "metadata": {},
   "source": [
    "Рассмотрим работу страховой компании на отрезке времени $[0, T]$. Число страховых случаев $N \\sim \\mathcal{Pois}(\\lambda)$. Моменты наступления страховых случаев $t_i \\sim \\mathcal{U}(0, T)$, величины ущерба в соответствующие моменты времени $X_i \\sim \\mathcal{Par}(k)$, где $\\mathcal{Par}(k)$ - распределение Парето с параметром $k$.\n",
    "\n",
    "Будем моделировать распределение Парето методом обращения функции распределения. Для распределения Парето:\n",
    "$$F_{Par} = 1 - \\left[ \\frac{1}{x}\\right]^k.$$\n",
    "Тогда при $y \\sim \\mathcal{U}[0, 1]$ случайная величина $x = (1 - y)^-\\frac{1}{k}\\ \\sim \\mathcal{Par}(k).$"
   ]
  },
  {
   "cell_type": "code",
   "execution_count": 87,
   "metadata": {},
   "outputs": [],
   "source": [
    "def Pareto(k, size):\n",
    "    y = np.random.rand(size)\n",
    "    return (1 - y) ** (- (1 / k))"
   ]
  },
  {
   "cell_type": "markdown",
   "metadata": {},
   "source": [
    "Капитал поступает линейно со скоростью $c$, а начальный капитал равен $W$. Также при возникновении страховых случаев необходимо выплачивать соответствующие величины ущерба, следовательно:\n",
    "$$K(t) = W + ct - \\sum\\limits_{i = 1}^{N(t)} X_i,$$\n",
    "где $N(t)$ - число страховых случаев к моменту времени $t$.\n",
    "\n",
    "Рассмотрим поведение системы при различных параметрах. Будем рассматривать $k > 1$, так как в противном случае математическое ожидание случайной величины не определено. \n",
    "\n",
    "Рассмотрим среднее значение капитала в момент времени $t$:\n",
    "$$\\mathbb{E}K(t) = W + ct - \\lambda t \\frac{k}{k - 1} = W + t(c - \\dfrac{\\lambda k}{k + 1}).$$\n",
    "Таким образом, при $c > \\dfrac{\\lambda k}{k - 1}$ капитал будет расти, а в обратном случае быстро будет израсходован."
   ]
  },
  {
   "cell_type": "code",
   "execution_count": 88,
   "metadata": {},
   "outputs": [],
   "source": [
    "lam = 1\n",
    "k = 2\n",
    "T = 100\n",
    "c = 2\n",
    "W = 50\n",
    "n = 1000"
   ]
  },
  {
   "cell_type": "code",
   "execution_count": 89,
   "metadata": {},
   "outputs": [],
   "source": [
    "def K(tau, f, xx, t):\n",
    "    if (tau < t[0]):\n",
    "        return W + c*tau\n",
    "    res = [((t[i] <= tau) & (t[i + 1] > tau)) for i in range(0, eta - 1)]\n",
    "    if (np.sum(res) == 0):\n",
    "        res = np.concatenate((res, [1])).astype(bool)\n",
    "    else:\n",
    "        res = np.concatenate((res, [0])).astype(bool)\n",
    "    if (W + c * tau - xx[res] <= 0):\n",
    "        f = False\n",
    "    return f * (W + c * tau - xx[res]) \n"
   ]
  },
  {
   "cell_type": "code",
   "execution_count": 90,
   "metadata": {},
   "outputs": [
    {
     "data": {
      "image/png": "[encoded data removed]",
      "text/plain": [
       "<Figure size 432x288 with 1 Axes>"
      ]
     },
     "metadata": {
      "needs_background": "light"
     },
     "output_type": "display_data"
    }
   ],
   "source": [
    "eta = np.random.poisson(lam * T)\n",
    "t = np.sort(T * np.random.rand(eta))\n",
    "X = Pareto(k, eta)\n",
    "f = True\n",
    "\n",
    "kk = np.zeros(eta)\n",
    "xx = np.zeros(eta)\n",
    "kk[0] = W\n",
    "for i in range(1, eta):\n",
    "    xx[i] = xx[i - 1] + X[i]\n",
    "    \n",
    "tt = np.linspace(0, T, n)\n",
    "yy = np.zeros(n)\n",
    "\n",
    "for i in range(0, n):\n",
    "    yy[i] = K(tt[i], f, xx, t)\n",
    "\n",
    "    \n",
    "plt.plot(tt, yy, color = 'b', alpha = 0.5, label = 'K(t)')\n",
    "plt.legend()\n",
    "plt.show()"
   ]
  }
 ],
 "metadata": {
  "kernelspec": {
   "display_name": "Python 3",
   "language": "python",
   "name": "python3"
  },
  "language_info": {
   "codemirror_mode": {
    "name": "ipython",
    "version": 3
   },
   "file_extension": ".py",
   "mimetype": "text/x-python",
   "name": "python",
   "nbconvert_exporter": "python",
   "pygments_lexer": "ipython3",
   "version": "3.8.3"
  }
 },
 "nbformat": 4,
 "nbformat_minor": 4
}
