{
 "cells": [
  {
   "cell_type": "code",
   "execution_count": 1,
   "metadata": {},
   "outputs": [],
   "source": [
    "import numpy as np #считать циферки\n",
    "import math\n",
    "import matplotlib #рисовать картиночки\n",
    "%matplotlib inline\n",
    "import matplotlib.pyplot as plt\n",
    "import pandas as pd"
   ]
  },
  {
   "cell_type": "markdown",
   "metadata": {},
   "source": [
    "# Задание 1\n",
    "### 1. Реализовать генератор схемы Бернулли с заданной вероятностью успеха $p$. На основе гегнератора схемы Бернулли построить датчик для биномиального распределения.\n"
   ]
  },
  {
   "cell_type": "markdown",
   "metadata": {},
   "source": [
    "## Схема Бернулли"
   ]
  },
  {
   "cell_type": "code",
   "execution_count": 2,
   "metadata": {},
   "outputs": [],
   "source": [
    "def bern(p, size):\n",
    "    if (p > 1 or p < 0):\n",
    "        print('p = ', p, 'ins out of bounds [0, 1]')\n",
    "        return \"error\"\n",
    "    return (np.random.random_sample(size) <= p).astype(int)"
   ]
  },
  {
   "cell_type": "code",
   "execution_count": 3,
   "metadata": {},
   "outputs": [],
   "source": [
    "p = 0.4;\n",
    "size = 1000;"
   ]
  },
  {
   "cell_type": "markdown",
   "metadata": {},
   "source": [
    "Проверка распределения Бернулли"
   ]
  },
  {
   "cell_type": "code",
   "execution_count": 4,
   "metadata": {},
   "outputs": [
    {
     "data": {
      "image/png": "[encoded data removed]",
      "text/plain": [
       "<Figure size 432x288 with 1 Axes>"
      ]
     },
     "metadata": {
      "needs_background": "light"
     },
     "output_type": "display_data"
    }
   ],
   "source": [
    "plt.hist(bern(p, size), color = 'b', alpha = 0.5)\n",
    "plt.show()"
   ]
  },
  {
   "cell_type": "markdown",
   "metadata": {},
   "source": [
    "## Датчик биномиального распределения"
   ]
  },
  {
   "cell_type": "code",
   "execution_count": 5,
   "metadata": {},
   "outputs": [],
   "source": [
    "def binom(p, n, size):\n",
    "    if (p > 1 or p < 0):\n",
    "        print('p = ', p, 'ins out of bounds [0, 1]')\n",
    "        return \"error\"\n",
    "    if (type(size) == int):\n",
    "        return (bern(p, (n, size))).sum(0)\n",
    "    else:\n",
    "        return (bern(p, (n,) + size)).sum(0)"
   ]
  },
  {
   "cell_type": "code",
   "execution_count": 6,
   "metadata": {},
   "outputs": [],
   "source": [
    "p = 0.4\n",
    "n = 100\n",
    "size = 100000"
   ]
  },
  {
   "cell_type": "markdown",
   "metadata": {},
   "source": [
    "Проверка биномиального распределения"
   ]
  },
  {
   "cell_type": "code",
   "execution_count": 7,
   "metadata": {},
   "outputs": [
    {
     "data": {
      "image/png": "[encoded data removed]",
      "text/plain": [
       "<Figure size 432x288 with 1 Axes>"
      ]
     },
     "metadata": {
      "needs_background": "light"
     },
     "output_type": "display_data"
    }
   ],
   "source": [
    "m = n * p;\n",
    "plt.hist(binom(p, n, size), bins = 20, color = 'b', alpha = 0.5)\n",
    "plt.show()"
   ]
  },
  {
   "cell_type": "markdown",
   "metadata": {},
   "source": [
    "### 2. Реализовать генератор геометрического распределения. Проверить для данного распределения свойство отсутствия памяти."
   ]
  },
  {
   "cell_type": "markdown",
   "metadata": {},
   "source": [
    "## Генератор геометрического распределения"
   ]
  },
  {
   "cell_type": "code",
   "execution_count": 8,
   "metadata": {},
   "outputs": [],
   "source": [
    "def geom(p, size):\n",
    "    if (p > 1 or p < 0):\n",
    "        print('p = ', p, 'ins out of bounds [0, 1]')\n",
    "        return \"error\"\n",
    "    lam = -np.log(1 - p)\n",
    "    u = np.random.random_sample(size)\n",
    "    return np.floor(np.divide(-np.log(np.ones(size) - u), lam))"
   ]
  },
  {
   "cell_type": "code",
   "execution_count": 9,
   "metadata": {},
   "outputs": [],
   "source": [
    "p = 0.3\n",
    "size = 100000"
   ]
  },
  {
   "cell_type": "markdown",
   "metadata": {},
   "source": [
    "Проверка геометрического распределения"
   ]
  },
  {
   "cell_type": "code",
   "execution_count": 10,
   "metadata": {},
   "outputs": [
    {
     "data": {
      "image/png": "[encoded data removed]",
      "text/plain": [
       "<Figure size 432x288 with 1 Axes>"
      ]
     },
     "metadata": {
      "needs_background": "light"
     },
     "output_type": "display_data"
    }
   ],
   "source": [
    "g = geom(p, size)\n",
    "plt.hist(g, bins = np.arange(-0.25, np.max(g), 1), density = True, color = 'b', alpha = 0.5)\n",
    "plt.show()"
   ]
  },
  {
   "cell_type": "markdown",
   "metadata": {},
   "source": [
    "Проверка свойства отсутствия памяти"
   ]
  },
  {
   "cell_type": "code",
   "execution_count": 11,
   "metadata": {},
   "outputs": [],
   "source": [
    "tau = 5"
   ]
  },
  {
   "cell_type": "code",
   "execution_count": 12,
   "metadata": {},
   "outputs": [
    {
     "data": {
      "image/png": "[encoded data removed]",
      "text/plain": [
       "<Figure size 432x288 with 1 Axes>"
      ]
     },
     "metadata": {
      "needs_background": "light"
     },
     "output_type": "display_data"
    }
   ],
   "source": [
    "x = geom(p, size)\n",
    "y = geom(p, int(size / ((1 - p)**tau)))\n",
    "y = y[y >= tau][0 : size]\n",
    "plt.hist(x, bins = np.arange(-0.25, np.max(x), 1), density = True, color = 'b', alpha = 0.5, label = 'x')\n",
    "plt.hist(y - tau, bins = np.arange(-0.25, np.max(x), 1), density = True, color = 'r', alpha = 0.8, rwidth = 0.3, label = r'y - $\\tau$')\n",
    "plt.legend()\n",
    "plt.show()"
   ]
  },
  {
   "cell_type": "markdown",
   "metadata": {},
   "source": [
    "### 3. Рассмотреть игру в орлянку - бесконечную последовательность независимых испытаний с бросанием правильной монеты. Выигрыш $S_n$ определяется как сумма по всем $n$ испытаниям значений $-1$ и $1$ в зависимости от выпавшей стороны. Проиллюстровать (в виде ломанной) поведение нормированной суммы $Y(i) = \\frac{S_n}  {\\sqrt{n}}$, как функцию от номера испытания $i = 1, ..., n$ для одной отдельно взятой траектории. Дать теоретическую оценку для $Y(n)$ при $n \\rightarrow \\infty$."
   ]
  },
  {
   "cell_type": "code",
   "execution_count": 13,
   "metadata": {},
   "outputs": [
    {
     "data": {
      "image/png": "[encoded data removed]",
      "text/plain": [
       "<Figure size 432x288 with 1 Axes>"
      ]
     },
     "metadata": {
      "needs_background": "light"
     },
     "output_type": "display_data"
    }
   ],
   "source": [
    "n = 100\n",
    "for i in range(0, 10):\n",
    "    s_n = (2 * bern(0.5, n) - 1).cumsum()\n",
    "    plt.plot(s_n / np.sqrt(n))\n",
    "plt.plot([0, n], [3, 3], 'k', [0, n], [-3, -3], 'k')\n",
    "plt.show()"
   ]
  },
  {
   "cell_type": "markdown",
   "metadata": {},
   "source": [
    "# Задание 2.\n",
    "### 1. Построить датчик сингулярного распределения, имеющий в качестве функции распределения канторову лестницу. С помощью критерия Колмогорова убедиться в корректности работы датчика."
   ]
  },
  {
   "cell_type": "markdown",
   "metadata": {},
   "source": [
    "## Сингулярное распределение с канторовой лестницей"
   ]
  },
  {
   "cell_type": "markdown",
   "metadata": {},
   "source": [
    "Носителем распределения является канторова лестница. В троичной записи точек, принадлежащих канторову множеству отсутствует единица. Таким образом, можно задать каждый элемент множетсва (с заданной точностью) при помощи его троичной записи. Для этого сгенерируем схему Бернулли, заменяя $1$ на $2$. Полученная последовательность задает троичную запись числа, то есть, при переходе к десятичной системе счисления, будет получена случайная величина, распределенная сингулярно с канторовой лестницей в качестве функции распределения.\n",
    "\n",
    "Для определения необходимой точности вычислений (длину генерируемой схемы Бернулли) положим точность $10^{-10}$. При переходе к троичной системе счисления получено, что необходимо вычислить $n = 10\\frac{\\ln 10}{\\ln 3} \\approx 21$ знаков после запятой."
   ]
  },
  {
   "cell_type": "code",
   "execution_count": 14,
   "metadata": {},
   "outputs": [],
   "source": [
    "def sing(size):\n",
    "    p = 0.5\n",
    "    n = 21\n",
    "    if (type(size) == int):\n",
    "        x = 2 * (bern(p, (n, size)))\n",
    "        y = (np.ones((n, size)) / 3).cumprod(0)\n",
    "    else:\n",
    "        x = 2 * (bern(p, (n,) + size))\n",
    "        y = (np.ones((n,) + size) / 3).cumprod(0)\n",
    "    return (x * y).sum(0)"
   ]
  },
  {
   "cell_type": "code",
   "execution_count": 15,
   "metadata": {},
   "outputs": [],
   "source": [
    "size = 10000"
   ]
  },
  {
   "cell_type": "code",
   "execution_count": 16,
   "metadata": {},
   "outputs": [
    {
     "data": {
      "image/png": "[encoded data removed]",
      "text/plain": [
       "<Figure size 432x288 with 1 Axes>"
      ]
     },
     "metadata": {
      "needs_background": "light"
     },
     "output_type": "display_data"
    }
   ],
   "source": [
    "from statsmodels.distributions.empirical_distribution import ECDF\n",
    "\n",
    "sample = sing(size)\n",
    "\n",
    "ecdf = ECDF(sample)\n",
    "plt.plot(ecdf.x, ecdf.y, label = 'Singular distribution', c = 'b', alpha = 0.5)\n",
    "plt.legend()\n",
    "plt.show()"
   ]
  },
  {
   "cell_type": "markdown",
   "metadata": {},
   "source": [
    "## Лестница Кантора\n",
    "\n",
    "Зададим канторову лестницу аналитически для использования критерия Колмогорова.\n",
    "\n",
    "Для аналитического построения канторовой лестницы представим x в троичной системе счисления. Если в троичной записи числа есть $1$, то выбросим все последующие цифры из записи и заменим все предшествующие $2$ на $1$. Полученная последовательность является записью значения канторовой лестницы в двоичной системе счисления"
   ]
  },
  {
   "cell_type": "code",
   "execution_count": 17,
   "metadata": {},
   "outputs": [],
   "source": [
    "def cantor(x):\n",
    "    if (x >= 1):\n",
    "        return 1\n",
    "    if (x <= 0):\n",
    "        return 0\n",
    "    res = 0\n",
    "    i = 1\n",
    "    while (i <= 21):\n",
    "        c = np.floor(3 * x)\n",
    "        if (c == 2):\n",
    "            res = res + 1 / 2**i\n",
    "        if (c == 1):\n",
    "            res = res + 1 / 2**i\n",
    "            break\n",
    "        i = i + 1\n",
    "        x = (x - c/3) * 3\n",
    "    return res"
   ]
  },
  {
   "cell_type": "code",
   "execution_count": 18,
   "metadata": {},
   "outputs": [],
   "source": [
    "def cantor_vect(xx):\n",
    "    if type(xx) == int:\n",
    "        return cantor(xx)\n",
    "    else:\n",
    "        res = np.zeros(np.shape(xx))\n",
    "        for i in enumerate(xx):\n",
    "            res[i[0]] = cantor(i[1])\n",
    "    return res"
   ]
  },
  {
   "cell_type": "code",
   "execution_count": 19,
   "metadata": {},
   "outputs": [],
   "source": [
    "n_plot = 10000"
   ]
  },
  {
   "cell_type": "code",
   "execution_count": 20,
   "metadata": {},
   "outputs": [
    {
     "data": {
      "image/png": "[encoded data removed]",
      "text/plain": [
       "<Figure size 432x288 with 1 Axes>"
      ]
     },
     "metadata": {
      "needs_background": "light"
     },
     "output_type": "display_data"
    }
   ],
   "source": [
    "x = np.linspace(0, 1, n_plot)\n",
    "y = cantor_vect(x)\n",
    "plt.plot(y, c = 'r', label = 'Analitical Cantor function')\n",
    "plt.legend()\n",
    "plt.show()"
   ]
  },
  {
   "cell_type": "markdown",
   "metadata": {},
   "source": [
    "## Проверка\n",
    "\n",
    "Проверим правильность построения сингулярного распределения с помощью критерия Колмогорова.\n",
    "\n",
    "#### Критерий Колмогорова:\n",
    "Пусть $F(x)$ - заданная функция распределения, $F_{n}(x)$ - эмпирическая функция распределения, построенная по данной выборке. Пусть $D_n = \\sup\\limits_{x}|F(x) - F_n(x)|$, тогда элементы выборки распределены с функцией $F$ с заданным уровнем согласия $\\alpha$ тогда и только тогда, когда $\\sqrt{n}D_n \\leqslant \\gamma$, где $\\gamma = K^{-1}(1 - \\alpha)$.  \n",
    "\n",
    "Положим $\\alpha = 5%$, тогда $\\gamma = 1.36$."
   ]
  },
  {
   "cell_type": "code",
   "execution_count": 21,
   "metadata": {},
   "outputs": [],
   "source": [
    "n_hyp = 100\n",
    "n_sample = 1000\n",
    "n_plot = 10000"
   ]
  },
  {
   "cell_type": "code",
   "execution_count": 22,
   "metadata": {},
   "outputs": [
    {
     "name": "stdout",
     "output_type": "stream",
     "text": [
      "Rejected  8.0 % of tests.\n"
     ]
    }
   ],
   "source": [
    "from statsmodels.distributions.empirical_distribution import ECDF\n",
    "\n",
    "rejected = 0\n",
    "gamma = 1.36\n",
    "cant = cantor_vect(np.linspace(0, 1, n_plot))\n",
    "\n",
    "for i in range(0, n_hyp):\n",
    "    ecdf = ECDF(sing(n_sample))\n",
    "    Dn = np.max(np.abs(ecdf(np.linspace(0, 1, n_plot)) - cant))\n",
    "    if (Dn * np.sqrt(n_sample) > gamma):\n",
    "        rejected = rejected + 1\n",
    "    \n",
    "print('Rejected ', rejected/n_hyp * 100, '% of tests.')"
   ]
  },
  {
   "cell_type": "code",
   "execution_count": 23,
   "metadata": {},
   "outputs": [
    {
     "data": {
      "image/png": "[encoded data removed]",
      "text/plain": [
       "<Figure size 432x288 with 1 Axes>"
      ]
     },
     "metadata": {
      "needs_background": "light"
     },
     "output_type": "display_data"
    }
   ],
   "source": [
    "plt.plot(cant, c = 'b', label = 'Analitical Cantor function', alpha = 0.5)\n",
    "plt.plot(ecdf(np.linspace(0, 1, n_plot)), c = 'r', label = 'Singular distribution (latest test)')\n",
    "plt.legend()\n",
    "plt.show()"
   ]
  },
  {
   "cell_type": "markdown",
   "metadata": {},
   "source": [
    "### 2. Для канторовых случайных величин проверить свойство симметричности относительно $\\frac{1}{2}$ ($X$ и $1 - X$ распределены одинаково) и самоподобия относительно деления на $3$ с помощью критерия Смирнова."
   ]
  },
  {
   "cell_type": "markdown",
   "metadata": {},
   "source": [
    "## Симметричность распределения\n",
    "\n",
    "Рассмотрим две выборки, $X_1 \\sim \\mathcal{Cant}\\ (\\mathcal{Cant}$ - сингулярное распределение с канторовой лестницей в качестве функции распределения) и $1 - X_2,\\ X_2 \\sim \\mathcal{Cant}$. Покажем, с использованием критерия Смирнова, что $1 - X$ имеет такое же распределение. \n",
    "\n",
    "#### Критерий Смирнова:\n",
    "Пусть $X_1$ и $X_2$ - две выборки. Для того, чтобы проверить, одинаковые ли у низ распределения введем $D_{mn} = \\sup\\limits_{x}|F_1(x) - F_2(x)|$, где $F_1(x)$ и $F_2(x)$ - эмпирические функции распределения на основе выборок $X_1$ и $X_2$ соответственно. $X_1$ и $X_2$ распределены одинаково тогда и только тогда, когда $\\left(\\frac{mn}{m + n}\\right)^{\\frac{1}{2}}D_{mn} \\leqslant \\gamma$, где $\\gamma = K^{-1}(1 - \\alpha)$, $\\alpha$ - уровень согласия.\n",
    "\n",
    "Положим $\\alpha = 5%$, тогда $\\gamma = 1.36$.\n",
    "В нашем случае $m = n$, а значит, критерий имеет следующий вид: $\\sqrt{\\frac{n}{2}}D_{mn} \\leqslant 1.36$. "
   ]
  },
  {
   "cell_type": "code",
   "execution_count": 24,
   "metadata": {},
   "outputs": [],
   "source": [
    "n_hyp = 100\n",
    "n_sample = 1000\n",
    "n_plot = 1000"
   ]
  },
  {
   "cell_type": "code",
   "execution_count": 25,
   "metadata": {},
   "outputs": [
    {
     "name": "stdout",
     "output_type": "stream",
     "text": [
      "Rejected  4.0 % of tests.\n"
     ]
    }
   ],
   "source": [
    "from statsmodels.distributions.empirical_distribution import ECDF\n",
    "\n",
    "rejected = 0\n",
    "gamma = 1.36\n",
    "x = np.linspace(0, 1, n_plot)\n",
    "\n",
    "for i in range(0, n_hyp):\n",
    "    x1 = sing(n_sample)\n",
    "    ecdf1 = ECDF(x1)\n",
    "    x2 = 1 - sing(n_sample)\n",
    "    ecdf2 = ECDF(x2)\n",
    "    Dn = np.max(np.abs(ecdf1(x) - ecdf2(x)))\n",
    "    if (Dn * np.sqrt(n_sample/2) > gamma):\n",
    "        rejected = rejected + 1\n",
    "    \n",
    "print('Rejected ', rejected/n_hyp * 100, '% of tests.')"
   ]
  },
  {
   "cell_type": "code",
   "execution_count": 26,
   "metadata": {},
   "outputs": [
    {
     "data": {
      "image/png": "[encoded data removed]",
      "text/plain": [
       "<Figure size 432x288 with 1 Axes>"
      ]
     },
     "metadata": {
      "needs_background": "light"
     },
     "output_type": "display_data"
    }
   ],
   "source": [
    "plt.plot(ecdf1(x), c = 'b', label = r'$X_1$ (latest test)', alpha = 0.5)\n",
    "plt.plot(ecdf2(x), c = 'r', label = r'$1 - X_2$ (latest test)')\n",
    "plt.legend()\n",
    "plt.show()"
   ]
  },
  {
   "cell_type": "markdown",
   "metadata": {},
   "source": [
    "## Самоподобие распределения относительно деления на 3\n",
    "\n",
    "Аналогично проверке на симметричность рассмотрим распределения $\\frac{Y}{3}$ и условное распределение $Y$ при условии $Y \\in [0, \\frac{1}{3}]$."
   ]
  },
  {
   "cell_type": "code",
   "execution_count": 27,
   "metadata": {},
   "outputs": [],
   "source": [
    "n_hyp = 100\n",
    "n_sample = 1000\n",
    "n_plot = 1000"
   ]
  },
  {
   "cell_type": "code",
   "execution_count": 28,
   "metadata": {},
   "outputs": [
    {
     "name": "stdout",
     "output_type": "stream",
     "text": [
      "Rejected  3.0 % of tests.\n"
     ]
    }
   ],
   "source": [
    "from statsmodels.distributions.empirical_distribution import ECDF\n",
    "\n",
    "rejected = 0\n",
    "gamma = 1.36\n",
    "x = np.linspace(0, 1, n_plot)\n",
    "\n",
    "for i in range(0, n_hyp):\n",
    "    x1 = sing(n_sample)/3\n",
    "    ecdf1 = ECDF(x1)\n",
    "    x2 = sing(n_sample * 2)\n",
    "    x2 = x2[x2 <= 1/3]\n",
    "    ecdf2 = ECDF(x2)\n",
    "    Dn = np.max(np.abs(ecdf1(x) - ecdf2(x)))\n",
    "    if (Dn * np.sqrt(n_sample/2) > gamma):\n",
    "        rejected = rejected + 1\n",
    "    \n",
    "print('Rejected ', rejected/n_hyp * 100, '% of tests.')"
   ]
  },
  {
   "cell_type": "code",
   "execution_count": 29,
   "metadata": {},
   "outputs": [
    {
     "data": {
      "image/png": "[encoded data removed]",
      "text/plain": [
       "<Figure size 432x288 with 1 Axes>"
      ]
     },
     "metadata": {
      "needs_background": "light"
     },
     "output_type": "display_data"
    }
   ],
   "source": [
    "plt.plot(ecdf1(x), c = 'b', label = r'$\\frac{Y}{3}$ (latest test)', alpha = 0.5)\n",
    "plt.plot(ecdf2(x), c = 'r', label = r'$Y: Y \\in [0, \\frac{1}{3}]$ (latest test)')\n",
    "plt.legend()\n",
    "plt.show()"
   ]
  },
  {
   "cell_type": "markdown",
   "metadata": {},
   "source": [
    "### 3. Вычислить значение математического ожидания и дисперсии для данного распределения. Сравнить теоретические значения с эмпирическими для разного объема выборок. Проиллюстрировать сходимость."
   ]
  },
  {
   "cell_type": "markdown",
   "metadata": {},
   "source": [
    "## Вычисление матожидания и дисперсии\n",
    "Пусть $\\xi \\sim \\mathcal{Cant}$, из симетричности распределения относительно $\\frac{1}{2}$ следует, что $\\mathbb{E}\\xi = \\frac{1}{2} \\sim 0,5$.\n",
    "\n",
    "Вычислим $\\mathbb{E}\\xi ^2 = \\int\\limits_0^1 x^2 dF(x) = \\int\\limits_0^{\\frac{1}{3}} x^2 dF(x) + \\int\\limits_{\\frac{2}{3}}^1 x^2 dF(x)$, используя свойство самоподобия получим, что $\\mathbb{E}\\xi^2 = \\frac{3}{8}$.\n",
    "\n",
    "Таким образом, $\\mathbb{D}\\xi = \\frac{3}{8} - \\frac{1}{4} = \\frac{1}{8} \\sim 0,125.$\n",
    "\n",
    "## Эмпирические значения"
   ]
  },
  {
   "cell_type": "code",
   "execution_count": 30,
   "metadata": {},
   "outputs": [],
   "source": [
    "n_sample1 = 100\n",
    "n_sample2 = 1000\n",
    "n_sample3 = 100000\n",
    "\n",
    "df = pd.DataFrame({\n",
    "    'Mean': np.zeros(3),\n",
    "    'Variance': np.zeros(3)},\n",
    "    index = {n_sample1, n_sample2, n_sample3})"
   ]
  },
  {
   "cell_type": "code",
   "execution_count": 31,
   "metadata": {},
   "outputs": [],
   "source": [
    "mean1 = np.mean(sing(n_sample1))\n",
    "\n",
    "mean2 = np.mean(sing(n_sample2))\n",
    "mean3 = np.mean(sing(n_sample3))\n",
    "\n",
    "var1 = np.var(sing(n_sample1))\n",
    "var2 = np.var(sing(n_sample2))\n",
    "var3 = np.var(sing(n_sample3))"
   ]
  },
  {
   "cell_type": "code",
   "execution_count": 32,
   "metadata": {},
   "outputs": [
    {
     "data": {
      "text/html": [
       "<div>\n",
       "<style scoped>\n",
       "    .dataframe tbody tr th:only-of-type {\n",
       "        vertical-align: middle;\n",
       "    }\n",
       "\n",
       "    .dataframe tbody tr th {\n",
       "        vertical-align: top;\n",
       "    }\n",
       "\n",
       "    .dataframe thead th {\n",
       "        text-align: right;\n",
       "    }\n",
       "</style>\n",
       "<table border=\"1\" class=\"dataframe\">\n",
       "  <thead>\n",
       "    <tr style=\"text-align: right;\">\n",
       "      <th></th>\n",
       "      <th>Mean</th>\n",
       "      <th>Variance</th>\n",
       "    </tr>\n",
       "  </thead>\n",
       "  <tbody>\n",
       "    <tr>\n",
       "      <th>1000</th>\n",
       "      <td>0.502976</td>\n",
       "      <td>0.127873</td>\n",
       "    </tr>\n",
       "    <tr>\n",
       "      <th>100</th>\n",
       "      <td>0.436552</td>\n",
       "      <td>0.142233</td>\n",
       "    </tr>\n",
       "    <tr>\n",
       "      <th>100000</th>\n",
       "      <td>0.498219</td>\n",
       "      <td>0.124912</td>\n",
       "    </tr>\n",
       "  </tbody>\n",
       "</table>\n",
       "</div>"
      ],
      "text/plain": [
       "            Mean  Variance\n",
       "1000    0.502976  0.127873\n",
       "100     0.436552  0.142233\n",
       "100000  0.498219  0.124912"
      ]
     },
     "execution_count": 32,
     "metadata": {},
     "output_type": "execute_result"
    }
   ],
   "source": [
    "df.loc[n_sample1, 'Mean'] = mean1\n",
    "df.loc[n_sample2, 'Mean'] = mean2\n",
    "df.loc[n_sample3, 'Mean'] = mean3\n",
    "\n",
    "df.loc[n_sample1, 'Variance'] = var1\n",
    "df.loc[n_sample2, 'Variance'] = var2\n",
    "df.loc[n_sample3, 'Variance'] = var3\n",
    "\n",
    "df"
   ]
  },
  {
   "cell_type": "markdown",
   "metadata": {},
   "source": [
    "## Сходимость\n",
    "\n",
    "Матожидание для каждого $n$ - числа случайных величин $X_n$ рассчитывается следующим образом: $$\\mathbb{E}_n = \\dfrac{1}{n}\\sum\\limits_{k = 1}^{n}X_k,$$\n",
    "а дисперсия: $$\\mathbb{D}_n = \\dfrac{1}{n}\\sum\\limits_{k = 1}^{n}(X_k - \\bar X)^2$$"
   ]
  },
  {
   "cell_type": "code",
   "execution_count": 33,
   "metadata": {},
   "outputs": [
    {
     "data": {
      "image/png": "[encoded data removed]",
      "text/plain": [
       "<Figure size 432x288 with 1 Axes>"
      ]
     },
     "metadata": {
      "needs_background": "light"
     },
     "output_type": "display_data"
    },
    {
     "data": {
      "image/png": "[encoded data removed]",
      "text/plain": [
       "<Figure size 432x288 with 1 Axes>"
      ]
     },
     "metadata": {
      "needs_background": "light"
     },
     "output_type": "display_data"
    }
   ],
   "source": [
    "n = 500\n",
    "m = 0.5\n",
    "v = 0.125\n",
    "ns = np.linspace(10, 3000, n)\n",
    "means = np.zeros(n)\n",
    "varss = np.zeros(n)\n",
    "\n",
    "for i in range(0, n):\n",
    "    sample = sing(int(ns[i]))\n",
    "    means[i] = sample.mean()\n",
    "    varss[i] = sample.var()\n",
    "\n",
    "plt.plot(ns, means, label = 'Empirical mean', c = 'b', alpha = 0.5)\n",
    "plt.plot([10, 3000], [0.5, 0.5], c = 'r', label = 'Analitical mean')\n",
    "plt.legend()\n",
    "plt.show()\n",
    "\n",
    "\n",
    "plt.plot(ns, varss, label = 'Empirical variance', c = 'b', alpha = 0.5)\n",
    "plt.plot([10, 3000], [v, v], c = 'r', label = 'Analitical variance')\n",
    "plt.legend()\n",
    "plt.show()"
   ]
  },
  {
   "cell_type": "markdown",
   "metadata": {},
   "source": [
    "# Задание 3.\n",
    "### 1. Построить датчик экспоненциального распределения. Проверить для данного распределения сойство отсутствия памяти. Пусть $X_1, ..., X_n$ - нзависимо экспоненциально распределенные с.в. с параметрами $\\lambda_1, ..., \\lambda_n$ соотвестственно. Найти распределение сучайной величины $Y = \\min(X_1, ..., X_n).$"
   ]
  },
  {
   "cell_type": "markdown",
   "metadata": {},
   "source": [
    "## Датчик экпоненциального распределения"
   ]
  },
  {
   "cell_type": "code",
   "execution_count": 34,
   "metadata": {},
   "outputs": [],
   "source": [
    "def exp(lam, size):\n",
    "    u = np.random.random_sample(size)\n",
    "    return np.divide(-np.log(np.ones(size) - u), lam)"
   ]
  },
  {
   "cell_type": "code",
   "execution_count": 35,
   "metadata": {},
   "outputs": [],
   "source": [
    "lam = 4\n",
    "size = 1000"
   ]
  },
  {
   "cell_type": "code",
   "execution_count": 36,
   "metadata": {},
   "outputs": [
    {
     "data": {
      "image/png": "[encoded data removed]",
      "text/plain": [
       "<Figure size 432x288 with 1 Axes>"
      ]
     },
     "metadata": {
      "needs_background": "light"
     },
     "output_type": "display_data"
    }
   ],
   "source": [
    "plt.hist(exp(lam, size), label = 'Exponential distribution histogram', color = 'b', alpha = 0.5)\n",
    "plt.legend()\n",
    "plt.show()"
   ]
  },
  {
   "cell_type": "markdown",
   "metadata": {},
   "source": [
    "## Проверка отсутствия памяти"
   ]
  },
  {
   "cell_type": "code",
   "execution_count": 37,
   "metadata": {},
   "outputs": [
    {
     "data": {
      "image/png": "[encoded data removed]",
      "text/plain": [
       "<Figure size 432x288 with 1 Axes>"
      ]
     },
     "metadata": {
      "needs_background": "light"
     },
     "output_type": "display_data"
    }
   ],
   "source": [
    "tau = 1\n",
    "x = exp(lam, size)\n",
    "y = exp(lam, int(size * np.exp(lam * tau)))\n",
    "y = y[y >= tau][0 : size]\n",
    "plt.hist(x, bins = np.linspace(0, np.max(x), 10), density = True, alpha = 0.5, label = 'x', color = 'b')\n",
    "plt.hist(y - tau, bins = np.linspace(0, np.max(x), 10), density = True, label = r'y - $\\tau$', color = 'r', rwidth = 0.3, alpha = 0.8)\n",
    "plt.legend()\n",
    "plt.show()"
   ]
  },
  {
   "cell_type": "markdown",
   "metadata": {},
   "source": [
    "\n",
    "## Распределение минимума \n",
    "\n",
    "Рассмотрим независимо экспоненциально распределенные величины $X_1, ..., X_n$ с параметрами $\\lambda_1,...,\\lambda_n$ соответственно.\n",
    "\n",
    "Функция распределения $Y = \\min(X_1, ..., X_n)$ вычисляется следующим образом:\n",
    "$$F_y(x) = \\mathbb{P}(\\min(X_1,...,X_n) < x) = 1 - \\prod\\limits_{k = 1}^n (1 - F_{X_n}(x)) = 1 - e^{-\\sum\\limits_{i = 1}^{n}\\lambda_i X_i},$$ то есть $Y \\sim \\mathcal{exp}(\\sum\\limits_{i = 1}^n \\lambda_i).$"
   ]
  },
  {
   "cell_type": "code",
   "execution_count": 38,
   "metadata": {},
   "outputs": [
    {
     "data": {
      "image/png": "[encoded data removed]",
      "text/plain": [
       "<Figure size 432x288 with 1 Axes>"
      ]
     },
     "metadata": {
      "needs_background": "light"
     },
     "output_type": "display_data"
    }
   ],
   "source": [
    "from statsmodels.distributions.empirical_distribution import ECDF\n",
    "\n",
    "n = 5\n",
    "size = 10000\n",
    "\n",
    "lam = (np.random.random_sample(n) * 10 + 1).astype(int)\n",
    "\n",
    "sample = np.zeros(n * size)\n",
    "for i in range(0, n):\n",
    "    sample[i * size : (i + 1) * size] = exp(lam[i], size)  \n",
    "sample = np.reshape(sample, (n, size))\n",
    "new_sample = sample.min(0)\n",
    "\n",
    "x = np.linspace(0, 0.3, 20)\n",
    "\n",
    "plt.hist(new_sample, density = True, bins = 25, label = 'Histogram of the empirical distribution', color = 'b', alpha = 0.5)\n",
    "plt.plot(x, lam.sum(0) *  np.exp(-1 * lam.sum(0) * x), label = 'Analitical distribution function', color = 'r')\n",
    "plt.legend()\n",
    "plt.show()"
   ]
  },
  {
   "cell_type": "markdown",
   "metadata": {},
   "source": [
    "### 2. На основе датчика экспоненциального распределения построить датчик пуассоновского распределения.\n",
    "\n",
    "## Пуассоновское распределение\n",
    "\n",
    "Рассмотрим пуассоновский процесс $X(t)$ с интенсивностью $\\lambda$. В момент времени $1$ $X(1)$ имеет пуассоновоское распределение с параметром $\\lambda$. \n",
    "\n",
    "Также известно, что скачки в пуассоновском процессе распределены экспоненциально, то есть случайную величину $\\eta \\sim \\mathcal{Pois}(\\lambda)$  можно получить как индекс первой суммируемой\n",
    "случайной величины $\\xi_i \\sim \\mathcal{Exp}(\\lambda)$ такой, что $$\\sum\\limits_{i = 1}^{\\eta} \\xi_i \\geqslant 1.$$"
   ]
  },
  {
   "cell_type": "code",
   "execution_count": 39,
   "metadata": {},
   "outputs": [],
   "source": [
    "def poisson_exp(lam, size):\n",
    "    sum = 0\n",
    "    res = np.zeros(size)\n",
    "    for i in range(0, size):\n",
    "        while (sum <= 1):\n",
    "            sum = sum + exp(lam, 1)\n",
    "            res[i] = res[i] + 1\n",
    "        sum = 0\n",
    "    return res"
   ]
  },
  {
   "cell_type": "code",
   "execution_count": 40,
   "metadata": {},
   "outputs": [
    {
     "data": {
      "image/png": "[encoded data removed]",
      "text/plain": [
       "<Figure size 432x288 with 1 Axes>"
      ]
     },
     "metadata": {
      "needs_background": "light"
     },
     "output_type": "display_data"
    }
   ],
   "source": [
    "lam = 9\n",
    "size = 1000\n",
    "plt.hist(poisson_exp(lam, size), bins = 20, label = 'Poisson distribution (with exponential)', color = 'b', alpha = 0.5)\n",
    "plt.legend()\n",
    "plt.show()"
   ]
  },
  {
   "cell_type": "markdown",
   "metadata": {},
   "source": [
    "### 3. Построить датчик пуассоновского распределения как предел биномиального распределения. С помощью критерия хи-квадрат Пирсона убедиться, что получен датчик распределения Пуассона.\n",
    "\n",
    "Для построения датчика Пуассоновского распределения воспользуемся теоремой Пуассона.\n",
    "\n",
    "#### Теорема Пуассона:\n",
    "Пусть проведено $n \\rightarrow \\infty$ испытаний Бернулли, причем $p_n \\rightarrow 0$, а $np \\rightarrow \\lambda > 0$, тогда вероятность получить $k$ успехов в $n$ испытаниях Бернулли стремится к величине $\\frac{\\lambda^k e^{-\\lambda}}{k!}$, причем $$\\left| \\sum\\limits_k C_n^k p^k(1 - p)^{n-k} - \\sum\\limits_k \\frac{\\lambda^k}{k!}e^{-\\lambda} \\right| \\leqslant np^2.$$\n",
    "\n",
    "Выберем такой $\\epsilon$, что $np^2 = \\lambda p = \\epsilon$ при заданном $\\lambda$. Тогда $p = \\frac{\\epsilon}{\\lambda},\\ n = \\frac{\\lambda}{\\epsilon}$. Положим $\\epsilon = 10^{-3}.$"
   ]
  },
  {
   "cell_type": "code",
   "execution_count": 41,
   "metadata": {},
   "outputs": [],
   "source": [
    "def poisson_binom(lam, size):\n",
    "    eps = 10**(-3)\n",
    "    p = eps / lam\n",
    "    n = int(lam / p)\n",
    "    return binom(p, n, size)"
   ]
  },
  {
   "cell_type": "code",
   "execution_count": 42,
   "metadata": {},
   "outputs": [
    {
     "data": {
      "image/png": "[encoded data removed]",
      "text/plain": [
       "<Figure size 432x288 with 1 Axes>"
      ]
     },
     "metadata": {
      "needs_background": "light"
     },
     "output_type": "display_data"
    }
   ],
   "source": [
    "lam = 9\n",
    "size = 1000\n",
    "plt.hist(poisson_binom(lam, size), bins = 30, label = 'Poisson distribution (with binomial)', color = 'b', alpha = 0.5)\n",
    "plt.legend()\n",
    "plt.show()"
   ]
  },
  {
   "cell_type": "markdown",
   "metadata": {},
   "source": [
    "## Проверка\n",
    "\n",
    "Для проверки правильности полученного распределения воспользуемся критерием хи-квадрат Пирсона.\n",
    "\n",
    "#### Критерий хи-квадрат:\n",
    "Рассмотрим выборку $X_1, ..., X_n,\\ X_i \\in [a, b]$. Разделим $[a,b]$ на $m$ непересекабщихся полуинтервалов. Пусть $n_i$ - количество наблюдений, попавших в $i$-й полуинтервал. Пусть $p_j = F(b_j) - F(a_j)$ - вероятность попадания наблюдения в $j$-й интервал при функции распределения $F(x)$, тогда ожидаемое число наблюдений в $j$-м интервале равно $np_j$. Тогда $$Q = \\sum\\limits_{i = 1}^{m}\\dfrac{(n_i - np_i)^2}{np_i} \\rightarrow \\chi ^2(m - 1), \\quad n \\rightarrow \\infty.$$\n",
    "\n",
    "Тогда случайные величины в выборке распределены как $F(x)$ тогда и только тогда, когда $Q < \\gamma$. Определим $\\gamma = \\chi _{m - 1}^{-1}(1 - \\alpha)$."
   ]
  },
  {
   "cell_type": "code",
   "execution_count": 43,
   "metadata": {},
   "outputs": [],
   "source": [
    "def poisson(lam, k):\n",
    "    if type(k) == int:\n",
    "        return np.exp(-lam) * (lam ** k) / np.prod(range(1, k + 1))\n",
    "    \n",
    "    res = np.zeros(len(k))\n",
    "    for i in range(0, len(k)):\n",
    "        res[i] = np.exp(-lam) * (lam ** k[i]) / np.prod(range(1, k[i] + 1))\n",
    "    return res"
   ]
  },
  {
   "cell_type": "code",
   "execution_count": 44,
   "metadata": {},
   "outputs": [
    {
     "name": "stdout",
     "output_type": "stream",
     "text": [
      "Rejected  1.0 % of tests.\n"
     ]
    }
   ],
   "source": [
    "from scipy.stats import chi2\n",
    "\n",
    "lam = 4\n",
    "size = 500\n",
    "\n",
    "rejected = 0\n",
    "n_hyp = 100\n",
    "\n",
    "x = np.array([0, 3, 4, 5, 6])\n",
    "n = len(x)\n",
    "\n",
    "alpha = 0.05\n",
    "gamma = chi2.ppf(1 - alpha, n)\n",
    "\n",
    "ps = np.zeros(n)\n",
    "ps[0] = poisson(lam, 0) + poisson(lam, 1) + poisson(lam, 2)\n",
    "ps[1 : 4] = poisson(lam, x[1 : 4])\n",
    "ps[4] = 1 - ps.sum()\n",
    "\n",
    "for i in range(0, n_hyp):\n",
    "    ns = np.zeros(n)\n",
    "    sample = poisson_binom(lam, size)\n",
    "\n",
    "    ns[0] = (sample == 0).sum() + (sample == 1).sum() + (sample == 2).sum()\n",
    "    for i in range(1, 4):\n",
    "        ns[i] = (sample == x[i]).sum()\n",
    "    ns[4] = size - np.sum(ns)\n",
    "\n",
    "    ns = ns.astype(int)\n",
    "\n",
    "    q = np.sum((ns - ps * size) ** 2 / size / ps)\n",
    "    \n",
    "    if (q > gamma):\n",
    "        rejected = rejected + 1\n",
    "        \n",
    "print('Rejected ', rejected/n_hyp * 100, '% of tests.')"
   ]
  },
  {
   "cell_type": "markdown",
   "metadata": {},
   "source": [
    "\n",
    "### 4. Построить датчик стандартного нормального распределения методом моделирования случайных величин парами с переходом в полярные коорадинаты. Проверить при помощи критерия t-критерия Стьюдента равенство математических ожиданий, а при помощи критерия Фишера равенство дисперсий.\n",
    "\n",
    "В полярной системе координат построим точки, квадрат радиуса которых распределен экспоненциально с $\\lambda = \\frac{1}{2}$, а угол распределен равномерно. При переходе в декартову систему координат коорадинаты $x, y$ распределены равномерно."
   ]
  },
  {
   "cell_type": "code",
   "execution_count": 45,
   "metadata": {},
   "outputs": [],
   "source": [
    "def normal(mu, sigma, size):\n",
    "    phi = 2 * math.pi * np.random.random_sample(int(np.ceil(size/2)))\n",
    "    r2 = exp(0.5, int(np.ceil(size/2)))\n",
    "    x = np.sqrt(r2) * np.sin(phi)\n",
    "    y = np.sqrt(r2) * np.cos(phi)\n",
    "    return np.concatenate([x, y])[0:size] * sigma + mu"
   ]
  },
  {
   "cell_type": "code",
   "execution_count": 46,
   "metadata": {},
   "outputs": [
    {
     "data": {
      "image/png": "[encoded data removed]",
      "text/plain": [
       "<Figure size 432x288 with 1 Axes>"
      ]
     },
     "metadata": {
      "needs_background": "light"
     },
     "output_type": "display_data"
    }
   ],
   "source": [
    "mu = 0\n",
    "sigma = 1\n",
    "size = 10000\n",
    "plt.hist(normal(mu, sigma, size), bins = 20, label = 'Normal distribution', density=True, color = 'b', alpha = 0.5)\n",
    "x = np.linspace(-4, 4, 1000)\n",
    "plt.plot(x, 1 / (np.sqrt(2 * np.pi)) * np.exp(-x**2 / 2), color = 'r')\n",
    "plt.legend()\n",
    "plt.show()"
   ]
  },
  {
   "cell_type": "markdown",
   "metadata": {},
   "source": [
    "## Проверка матожидания\n",
    "\n",
    "Для проверки правильности постоенного распределения воспользуется t-критерием Стьюдента.\n",
    "\n",
    "#### T-критерий Стьюдента\n",
    "\n",
    "Пусть $X$ - выборка, эмпирическое распределение которой нормальное со средним $\\mu$. Пусть $$\\sigma'  = \\sqrt{\\frac{1}{n - 1} \\sum\\limits_i (X_i - \\bar X)^2}, \\quad U = \\sqrt{n} \\dfrac{\\bar X - \\mu}{\\sigma'}.$$\n",
    "Тогда $X$ действительно распределено нормально с параметром $\\mu$ тогда и только тогда, когда $U \\leqslant \\gamma,\\ \\gamma = T^{-1}(1 - \\frac{\\alpha}{2}),$ где $\\alpha$ - уровень солгасия."
   ]
  },
  {
   "cell_type": "code",
   "execution_count": 47,
   "metadata": {},
   "outputs": [
    {
     "name": "stdout",
     "output_type": "stream",
     "text": [
      "Rejected  6.0 % of tests.\n"
     ]
    }
   ],
   "source": [
    "from scipy.stats import t\n",
    "\n",
    "n_hyp = 100\n",
    "rejected = 0\n",
    "alpha = 0.05\n",
    "\n",
    "mu = 1\n",
    "sigma = 2\n",
    "size = 1000\n",
    "\n",
    "gamma = t.ppf(1 - alpha / 2, size - 1)\n",
    "\n",
    "for i in range(0, n_hyp):\n",
    "    sample = normal(mu, sigma, size)\n",
    "    mean = sample.mean()\n",
    "    s = np.sqrt(np.sum((sample - mean) ** 2) / (size - 1))\n",
    "    u = np.abs(np.sqrt(size) * (mean - mu) / s)\n",
    "    if (u >= gamma):\n",
    "        rejected = rejected + 1\n",
    "        \n",
    "print('Rejected ', rejected/n_hyp * 100, '% of tests.')"
   ]
  },
  {
   "cell_type": "markdown",
   "metadata": {},
   "source": [
    "##  Проверка равенства дисперсий\n",
    "\n",
    "Рассмотрим построенное распределение и нормальное распределение с одинаковыми параметрами. С помощью критерия Фишера проверим равенство дисперсий выборок, полученных разными способами.\n",
    "\n",
    "#### Критерий Фишера:\n",
    "\n",
    "Пусть $X_1$ и $X_2$ - выборки размера $m$ и $n$ соответственно с нормальным распределением с параметрами $\\mu$ и $\\sigma$. Пусть $$V = \\dfrac{\\sum\\limits_i (X_i - \\bar X)^2 (m - 1)}{(m - 1)\\sum\\limits_i (Y_i - \\bar Y)^2}.$$\n",
    "Дисперсии равны при $V \\in [\\gamma_1, \\gamma_2],$ где $\\gamma_1 = F_{(n - 1)(m - 1)}^{-1}\\left(\\dfrac{\\alpha}{2}\\right),$ а $\\gamma_2 = F_{(n - 1)(m - 1)}^{-1}\\left(1 - \\dfrac{\\alpha}{2}\\right).$"
   ]
  },
  {
   "cell_type": "code",
   "execution_count": 48,
   "metadata": {},
   "outputs": [
    {
     "name": "stdout",
     "output_type": "stream",
     "text": [
      "Rejected  6.0 % of tests.\n"
     ]
    }
   ],
   "source": [
    "from scipy.stats import f\n",
    "\n",
    "n_hyp = 100\n",
    "rejected = 0\n",
    "alpha = 0.05\n",
    "\n",
    "mu = 0\n",
    "sigma = 1\n",
    "size = 1000\n",
    "\n",
    "gamma1 = f.ppf(alpha / 2, size - 1, size - 1)\n",
    "gamma2 = f.ppf(1 - alpha / 2, size - 1, size - 1)\n",
    "\n",
    "for i in range(0, n_hyp):\n",
    "    sample1 = normal(mu, sigma, size)\n",
    "    sample2 = np.random.randn(size)\n",
    "    V = sample1.var() / sample2.var()\n",
    "    if (V >= gamma2) or (V <= gamma1):\n",
    "        rejected = rejected + 1\n",
    "        \n",
    "print('Rejected ', rejected/n_hyp * 100, '% of tests.')"
   ]
  },
  {
   "cell_type": "markdown",
   "metadata": {},
   "source": [
    "# Задание 4.\n",
    "### 1. Построить датчик распределения Коши.\n",
    "\n",
    "Построим датчик распределения Коши с использованием равномерного распределения. Пусть $X \\sim \\mathcal{U}[0, 1]$, тогда $\\tan(\\pi (X - \\frac{1}{2})) \\sim \\mathcal{C}(0, 1)$. Для получения распределения Коши с параметрами $x_0, \\gamma$ воспользуемся формулой $X_1 = \\gamma X_0 + x_0,$ где $X_1 \\sim \\mathcal{C}(x_0, \\gamma),\\ X_0 \\sim \\mathcal{C}(0, 1)$"
   ]
  },
  {
   "cell_type": "code",
   "execution_count": 49,
   "metadata": {},
   "outputs": [],
   "source": [
    "def cauchy(x_0, gamma, size):\n",
    "    sample = np.random.random_sample(size)\n",
    "    return gamma * (np.tan(np.pi * (sample - 0.5))) + x_0"
   ]
  },
  {
   "cell_type": "code",
   "execution_count": 50,
   "metadata": {},
   "outputs": [
    {
     "data": {
      "image/png": "[encoded data removed]",
      "text/plain": [
       "<Figure size 432x288 with 1 Axes>"
      ]
     },
     "metadata": {
      "needs_background": "light"
     },
     "output_type": "display_data"
    }
   ],
   "source": [
    "x_0 = 0\n",
    "gamma = 3\n",
    "size = 10000\n",
    "x = np.linspace(-20, 20, size)\n",
    "plt.plot(x, 1 / np.pi / gamma / (1 + ((x - x_0)/gamma)**2), color = 'r')\n",
    "plt.hist(cauchy(x_0, gamma, size), label = 'Cauchi distribution', range = (-20, 20), alpha = 0.5, color = 'b', density = True, bins = 40)\n",
    "plt.legend()\n",
    "plt.show()"
   ]
  },
  {
   "cell_type": "markdown",
   "metadata": {},
   "source": [
    "### 2. На основе датчика распределения Коши с помощью метода фон Неймана построить датчик стандартного нормального распределения. При помощи функции normal probability plot убедиться в корректности построенного датчика и обосновать наблюдаемоую линейную зависимость.\n",
    "\n",
    "Рассмотрим генератор распределения Коши и построим по нему стандартное нормальное распределение. \n",
    "\n",
    "Пусть $c(x)$ - плотность распрелеоения Коши, $n(x)$ - плотность стандартного нормального распределения. \n",
    "\n",
    "Введем $k$ такое, что $\\dfrac{n(x)}{c(x)} \\leqslant k$.\n",
    "\n",
    "Воспользуемся следующим алгоритмом:\n",
    "1.  сгенерируем $X \\sim \\mathcal{C}(0, 1),\\ Y \\sim \\mathcal{U}[0, 1]$;\n",
    "2. рассмотрим неравенство $\\dfrac{n(X)}{c(X)} \\leqslant k U$: если оно выполнено, то $X \\sim \\mathcal{N}(0, 1)$, иначе - нет.\n",
    "\n",
    "Выберем подходящее $k$. \n",
    "$$h(x) = \\dfrac{n(x)}{c(x)} = \\sqrt{\\dfrac{\\pi}{2}}\\dfrac{e^{-\\frac{x^2}{2}}(x^2 + \\gamma^2)}{\\gamma},$$ минимум функции достигается при $\\gamma = 1$, при этом $h(1) = \\sqrt{2\\pi}e^{-\\frac{1}{2}} = k$."
   ]
  },
  {
   "cell_type": "code",
   "execution_count": 51,
   "metadata": {},
   "outputs": [],
   "source": [
    "def normal_cauchy(mu, sigma, size):\n",
    "    k = np.sqrt(2*np.pi) * np.exp(-0.5)\n",
    "    res = []\n",
    "    while (len(res) < size):\n",
    "        c = cauchy(0, 1, 2 * size)\n",
    "        u = np.random.random_sample(2 * size)\n",
    "        res = np.concatenate([res, c[np.sqrt(np.pi / 2) * np.exp(-(c ** 2) / 2) * (c ** 2 + 1) > k * u]])\n",
    "    return sigma * res + mu"
   ]
  },
  {
   "cell_type": "code",
   "execution_count": 52,
   "metadata": {},
   "outputs": [
    {
     "name": "stdout",
     "output_type": "stream",
     "text": [
      "[-0.10826577]\n"
     ]
    }
   ],
   "source": [
    "print(normal(0, 1, 1))"
   ]
  },
  {
   "cell_type": "code",
   "execution_count": 53,
   "metadata": {},
   "outputs": [
    {
     "data": {
      "image/png": "[encoded data removed]",
      "text/plain": [
       "<Figure size 432x288 with 1 Axes>"
      ]
     },
     "metadata": {
      "needs_background": "light"
     },
     "output_type": "display_data"
    }
   ],
   "source": [
    "mu = 0\n",
    "sigma = 1\n",
    "size = 10000\n",
    "x = np.linspace(-4, 4, 1000)\n",
    "plt.plot(x, 1 / (np.sqrt(2 * np.pi)) * np.exp(-x**2 / 2), color = 'r')\n",
    "plt.hist(normal_cauchy(mu, sigma, size), bins = 50, label = 'Normal distribution (with Cauchy)', density=True, color = 'b', alpha = 0.5)\n",
    "plt.legend()\n",
    "plt.show()"
   ]
  },
  {
   "cell_type": "code",
   "execution_count": 54,
   "metadata": {},
   "outputs": [
    {
     "data": {
      "image/png": "[encoded data removed]",
      "text/plain": [
       "<Figure size 432x288 with 1 Axes>"
      ]
     },
     "metadata": {
      "needs_background": "light"
     },
     "output_type": "display_data"
    }
   ],
   "source": [
    "from scipy import stats\n",
    "\n",
    "samp = normal_cauchy(0, 1, 500)\n",
    "(quants, vals), (slope, inter, r) = stats.probplot(samp, dist='norm')\n",
    "\n",
    "samp2 = normal_cauchy(0, 3, 500)\n",
    "(quants2, vals2), (slope2, inter2, r2) = stats.probplot(samp2, dist='norm')\n",
    "\n",
    "plt.plot(vals2, quants2, 'o', label=r'$\\sigma=3$', color = 'b', alpha = 0.5)\n",
    "plt.plot(quants2 * slope2 + inter2, quants2, 'r')\n",
    "\n",
    "plt.plot(vals, quants, 'o', label=r'$\\sigma=1$', color = 'r', alpha = 0.5\n",
    "        )\n",
    "plt.plot(quants * slope + inter, quants, 'r')\n",
    "\n",
    "ticks_perc=[1, 5, 10, 20, 50, 80, 90, 95, 99]\n",
    "ticks_quan=[stats.norm.ppf(i/100.) for i in ticks_perc]\n",
    "plt.yticks(ticks_quan,ticks_perc)\n",
    "\n",
    "plt.legend()\n",
    "plt.grid()\n",
    "plt.show()"
   ]
  },
  {
   "cell_type": "markdown",
   "metadata": {},
   "source": [
    "### 3. Сравнить скорость моделирования стандартного нормального распределения в заданиях 3 и 4."
   ]
  },
  {
   "cell_type": "code",
   "execution_count": 55,
   "metadata": {},
   "outputs": [
    {
     "data": {
      "image/png": "[encoded data removed]",
      "text/plain": [
       "<Figure size 432x288 with 1 Axes>"
      ]
     },
     "metadata": {
      "needs_background": "light"
     },
     "output_type": "display_data"
    }
   ],
   "source": [
    "from time import time\n",
    "\n",
    "n = 10\n",
    "p = np.array([2, 4, 5, 6])\n",
    "T1 = np.zeros((n, len(p)))\n",
    "T2 = np.zeros((n, len(p)))\n",
    "\n",
    "for i in range(0, n):\n",
    "    for j in range(0, len(p)):\n",
    "        t = time()\n",
    "        a = normal(0, 1, 10 ** p[j])\n",
    "        T1[i, j] = time() - t\n",
    "\n",
    "t1 = np.median(T1, 0)\n",
    "\n",
    "for i in range(0, n):\n",
    "    for j in range(0, len(p)):\n",
    "        t = time()\n",
    "        a = normal_cauchy(0, 1, 10 ** p[j])\n",
    "        T2[i, j] = time() - t\n",
    "\n",
    "t2 = np.median(T2, 0)\n",
    "\n",
    "plt.plot(t1, color = 'b', alpha = 0.5, label = 'Normal distribution')\n",
    "plt.plot(t2, color = 'r', label = 'Normal distribution (with Cauchy)')\n",
    "plt.legend()\n",
    "plt.show()"
   ]
  },
  {
   "cell_type": "markdown",
   "metadata": {},
   "source": [
    "# Задание 5.\n",
    "\n",
    "### 1. Пусть $X_i \\sim \\mathcal{N}(\\mu, \\sigma^2)$. Убедиться эмпирически в справедливости ЗБЧ и ЦПТ, т.е. исследовать поведение суммы $S_n$ и эмпирического распределения величины $$\\sqrt{n}\\left(\\dfrac{S_n}{n} - \\mu \\right).$$\n",
    "\n",
    "## Проверка ЗБЧ\n",
    "\n",
    "В случае выполнения закона больших чисел, $\\dfrac{S_n}{n} \\rightarrow \\mu$ или $S_n \\rightarrow n \\mu$."
   ]
  },
  {
   "cell_type": "code",
   "execution_count": 56,
   "metadata": {},
   "outputs": [
    {
     "data": {
      "image/png": "[encoded data removed]",
      "text/plain": [
       "<Figure size 432x288 with 1 Axes>"
      ]
     },
     "metadata": {
      "needs_background": "light"
     },
     "output_type": "display_data"
    }
   ],
   "source": [
    "mu = 1\n",
    "sigma = 1\n",
    "n = 5000\n",
    "\n",
    "x = np.ones(n).cumsum()\n",
    "\n",
    "sample = normal(mu, sigma**2, n)\n",
    "Sn = np.cumsum(sample)\n",
    "\n",
    "plt.plot(Sn, color = 'b', alpha = 0.5, label = r'$S_n$')\n",
    "plt.plot(mu * x, color = 'r', label = r'$n \\mu$')\n",
    "plt.legend()\n",
    "plt.show()"
   ]
  },
  {
   "cell_type": "markdown",
   "metadata": {},
   "source": [
    "## Проверка ЦПТ\n",
    "\n",
    "Покажем, что $\\sqrt{n}\\left(\\dfrac{S_n}{n} - \\mu \\right)$ рапределено нормально с параметрами 0, $\\sigma$."
   ]
  },
  {
   "cell_type": "code",
   "execution_count": 57,
   "metadata": {},
   "outputs": [
    {
     "data": {
      "image/png": "[encoded data removed]",
      "text/plain": [
       "<Figure size 432x288 with 1 Axes>"
      ]
     },
     "metadata": {
      "needs_background": "light"
     },
     "output_type": "display_data"
    }
   ],
   "source": [
    "from scipy.stats import norm\n",
    "\n",
    "mu = 1\n",
    "sigma = 1\n",
    "n = 10000\n",
    "\n",
    "sample = np.zeros(n)\n",
    "x = np.linspace(-4, 4, 100000)\n",
    "\n",
    "for i in range(0, n):\n",
    "    sample[i] = np.sqrt(n) * (normal(mu, sigma**2, n).mean() - mu)\n",
    "    \n",
    "plt.hist(sample,  bins = 50, label = r'$\\sqrt{n}\\left(\\dfrac{S_n}{n} - \\mu \\right).$', density=True, color = 'b', alpha = 0.5)\n",
    "plt.plot(x, norm.pdf(x / sigma) / sigma, color = 'r', label = r'$\\mathcal{N}(0, \\sigma^2)$')\n",
    "plt.legend()\n",
    "plt.show()"
   ]
  },
  {
   "cell_type": "markdown",
   "metadata": {},
   "source": [
    "### 2. Считая $\\mu$ и $\\sigma$ неизвестными, для пункта 1 построить доверительне интервалы для среднего и дисперсии.\n",
    "\n",
    "## Доверительный интервал для матожидания\n",
    "\n",
    "Известно, что $$U = \\sqrt{n} \\dfrac{\\bar X - \\mu}{\\sigma'} \\sim \\mathcal{St}(n - 1),$$ где $\\sigma' = \\dfrac{1}{n - 1} \\sum (X_i - \\bar X)^2$.\n",
    "\n",
    "Тогда $$\\mathbb{P}(\\gamma_1 < U < \\gamma_2) = \\mathbb{P}\\left(\\bar X - \\dfrac{\\sigma' \\gamma_2}{\\sqrt{n}} < \\mu < \\bar X - \\dfrac{\\sigma' \\gamma_1}{\\sqrt{n}}\\right) = 1 - \\alpha = T(\\gamma_2) - T(\\gamma_1),$$\n",
    "где $T(x)$ - функция распределения Стьюдента с $n - 1$ степенями свободы.\n",
    "\n",
    "Таким образом, $\\gamma_1 = T^{-1}(\\frac{\\alpha}{2}),\\ \\gamma_2 = T^{-1}(1 - \\frac{\\alpha}{2})$, а $\\mu$ лежит в интервале $\\left(\\bar X - \\dfrac{\\sigma' \\gamma_2}{\\sqrt{n}}, \\bar X - \\dfrac{\\sigma' \\gamma_1}{\\sqrt{n}}\\right)$."
   ]
  },
  {
   "cell_type": "code",
   "execution_count": 58,
   "metadata": {},
   "outputs": [
    {
     "name": "stdout",
     "output_type": "stream",
     "text": [
      "Wrong interval in  6.0 % of tests.\n"
     ]
    }
   ],
   "source": [
    "from scipy.stats import t\n",
    "\n",
    "mu = 0\n",
    "sigma = 1\n",
    "size = 1000\n",
    "\n",
    "alpha = 0.05\n",
    "n_hyp = 100\n",
    "rejected = 0\n",
    "\n",
    "gamma1 = t.ppf(alpha / 2, size - 1)\n",
    "gamma2 = t.ppf(1 - alpha / 2, size - 1)\n",
    "\n",
    "for i in range(1, n_hyp):\n",
    "    sample = normal(mu, sigma**2, size)\n",
    "    mean = sample.mean()\n",
    "    s = np.sqrt(np.sum((sample - mean) ** 2) / (size - 1))\n",
    "    if (mu < mean - s * gamma2 / np.sqrt(size)) or (mu > mean - s * gamma1 / np.sqrt(size)):\n",
    "        rejected = rejected + 1\n",
    "\n",
    "print('Wrong interval in ', rejected/n_hyp * 100, '% of tests.')"
   ]
  },
  {
   "cell_type": "markdown",
   "metadata": {},
   "source": [
    "## Доверительный интервал для дисперсии\n",
    "\n",
    "Известно, что $$V = \\dfrac{\\sum\\limits_{i = 1}^{n} (X_i - \\bar X)^2}{\\sigma^2} \\sim \\chi^2(n - 1).$$\n",
    "\n",
    "Тогда $$\\mathbb{P}(\\gamma1 < V < \\gamma2) = \\mathbb{P}\\left(\\dfrac{\\sum (X_i - \\bar X)^2}{\\gamma_2} < \\sigma^2 < \\dfrac{\\sum (X_i - \\bar X)^2}{\\gamma_1}\\right) = 1 - \\alpha = \\chi(\\gamma_2) - \\chi(\\gamma_1).$$\n",
    "\n",
    "Таким образом, $\\gamma_1 = \\chi^{-1}(\\frac{\\alpha}{2}),\\ \\gamma_2 = \\chi^{-1}(1 - \\frac{\\alpha}{2})$, а $\\sigma^2 \\in \\left(\\dfrac{\\sum (X_i - \\bar X)^2}{\\gamma_2}, \\dfrac{\\sum (X_i - \\bar X)^2}{\\gamma_1} \\right)$"
   ]
  },
  {
   "cell_type": "code",
   "execution_count": 59,
   "metadata": {},
   "outputs": [
    {
     "name": "stdout",
     "output_type": "stream",
     "text": [
      "Wrong interval in  0.0 % of tests.\n"
     ]
    }
   ],
   "source": [
    "from scipy.stats import chi2\n",
    "\n",
    "mu = 0\n",
    "sigma = 1\n",
    "size = 1000\n",
    "\n",
    "alpha = 0.05\n",
    "n_hyp = 100\n",
    "rejected = 0\n",
    "\n",
    "gamma1 = chi2.ppf(alpha / 2, size - 1)\n",
    "gamma2 = chi2.ppf(1 - alpha / 2, size - 1)\n",
    "\n",
    "for i in range(1, n_hyp):\n",
    "    sample = normal(mu, sigma**2, size)\n",
    "    if (sigma**2 < size * sample.var() / gamma2) or (sigma**2 > size * sample.var() / gamma1):\n",
    "        rejected = rejected + 1\n",
    "\n",
    "print('Wrong interval in ', rejected/n_hyp * 100, '% of tests.')"
   ]
  },
  {
   "cell_type": "markdown",
   "metadata": {},
   "source": [
    "### 3. Пусть $X_i \\sim \\mathcal{C}(x_0, \\gamma)$ имеет распределение Коши со сдвигом $x_0$ и масштабом $\\gamma$. Проверить эмпирически, как ведут себя суммы $\\frac{S_n}{n}$. Результат объяснить, а также найти закон распределения данных сумм.\n",
    "\n",
    "Так как распределение Коши не имеет матожидания или дисперсии, то закон больших чисел выполняться не будет. "
   ]
  },
  {
   "cell_type": "code",
   "execution_count": 60,
   "metadata": {},
   "outputs": [
    {
     "data": {
      "image/png": "[encoded data removed]",
      "text/plain": [
       "<Figure size 432x288 with 1 Axes>"
      ]
     },
     "metadata": {
      "needs_background": "light"
     },
     "output_type": "display_data"
    }
   ],
   "source": [
    "x_0 = 1\n",
    "gamma = 1\n",
    "n = 5000\n",
    "\n",
    "x = np.ones(n).cumsum()\n",
    "\n",
    "sample = cauchy(x_0, gamma, n)\n",
    "Sn = np.cumsum(sample)\n",
    "\n",
    "plt.plot(Sn, color = 'b', alpha = 0.5, label = r'$S_n$')\n",
    "plt.plot(x_0 * x, color = 'r', label = r'$n \\mu$')\n",
    "plt.legend()\n",
    "plt.show()"
   ]
  },
  {
   "cell_type": "markdown",
   "metadata": {},
   "source": [
    "## Закон распределения сумм"
   ]
  },
  {
   "cell_type": "code",
   "execution_count": 61,
   "metadata": {},
   "outputs": [
    {
     "data": {
      "image/png": "[encoded data removed]",
      "text/plain": [
       "<Figure size 432x288 with 1 Axes>"
      ]
     },
     "metadata": {
      "needs_background": "light"
     },
     "output_type": "display_data"
    }
   ],
   "source": [
    "x_0 = 0\n",
    "gamma = 3\n",
    "n = 1000\n",
    "size = 10000\n",
    "x = np.linspace(-20, 20, size)\n",
    "plt.plot(x, 1 / np.pi / gamma / (1 + ((x - x_0)/gamma)**2), color = 'r')\n",
    "plt.hist(cauchy(x_0, gamma, (n, size)).sum(0) / n, label = 'Cauchi distribution', range = (-20, 20), alpha = 0.5, color = 'b', density = True, bins = 50)\n",
    "plt.legend()\n",
    "plt.show()"
   ]
  },
  {
   "cell_type": "markdown",
   "metadata": {},
   "source": [
    "Эмпирически получено, что $\\frac{S_n}{n} \\sim \\mathcal{C}(x_0, \\gamma)$. Покажем, что это действительно так. Для этого рассмотрим характеристическую функцию распределения Коши:\n",
    "$$\\varphi(t) = \\mathbb{E}e^{it\\xi} = \\dfrac{1}{\\pi}\\int\\dfrac{\\gamma e^{itx}}{(x - x_0)^2 + \\gamma^2}dx = e^{itx_0 - |t|\\gamma}.$$\n",
    "\n",
    "Известно также, что из $\\xi \\sim \\varphi$ следует $\\sum\\limits_{k = 1}^{n}\\xi_k = \\varphi^n$. Тогда $$\\varphi_{\\frac{S_n}{n}}(t) = \\left[\\varphi\\left(\\frac{t}{n}\\right)\\right]^n = e^{itx_0 - |t|\\gamma},$$\n",
    "то есть $\\dfrac{S_n}{n} \\sim \\mathcal{C}(x_0, \\gamma).$"
   ]
  },
  {
   "cell_type": "markdown",
   "metadata": {},
   "source": [
    "# Задание 6.\n",
    "\n",
    "### 1. Посчитать интеграл $$I = \\int\\limits_{-\\infty}^{\\infty}\\int\\limits_{-\\infty}^{\\infty}\\ldots\\int\\limits_{-\\infty}^{\\infty}\\dfrac{e^{-\\left(x_1^2 + \\ldots + x_{10}^2 + \\frac{1}{2^7 \\cdot x_1^2 \\cdot \\ldots\\cdot x_{10}^2}\\right)}}{x_1^2 \\cdot \\ldots \\cdot x_{10}^2}dx_1dx_2\\ldots dx_{10}$$\n",
    "- методом Монте-Карло;\n",
    "- методом квадратур, сводя задачу к вычислению собственного интеграла Римана.\n",
    "\n",
    "## Метод Монте-Карло\n",
    "\n",
    "Представим интеграл в виде матожидания от некоторого десятимерного распределения. \n",
    "\n",
    "Заметим, что плотность десятимерного нормального распределенияс параметрами $\\mu = 0,\\ \\sigma^2 = \\frac{1}{2}$ выглядит следующим образом:\n",
    "$$p(x) = \\dfrac{1}{\\pi^5}e^{-\\sum x_k^2}.$$\n",
    "Тогда интеграл $I$ можно преддставить в виде:\n",
    "$$I = \\pi^5 \\int\\limits_{-\\infty}^{\\infty}\\int\\limits_{-\\infty}^{\\infty}\\ldots\\int\\limits_{-\\infty}^{\\infty} y e^{-\\frac{y}{2^7}}p(x)dx = \\pi^5 \\mathbb{E}\\left[y e^{-\\frac{y}{128}}\\right] \\approx \\pi^5 \\dfrac{1}{n} \\sum\\limits_{k = 1}^{n}y_k e^{-\\frac{y_k}{128}},$$\n",
    "где $X_j^{(k)} \\sim \\mathcal{N}\\left(0, \\frac{1}{2}\\right),\\ j = 1,\\ldots, 10,\\ k = 1, \\ldots, n;\\ y_k = \\left[ \\prod\\limits_{j = 1}^{10} X_j^{(k)}\\right]^{-2}.$"
   ]
  },
  {
   "cell_type": "code",
   "execution_count": 62,
   "metadata": {},
   "outputs": [
    {
     "name": "stdout",
     "output_type": "stream",
     "text": [
      "125.54531830061511\n"
     ]
    }
   ],
   "source": [
    "n = 10**(6)\n",
    "y = (np.reshape(normal(0, np.sqrt(0.5), 10 * n), (10, n)).prod(0)) ** (-2)\n",
    "res = (np.pi ** 5) * (y * np.exp(-y / 128)).mean()\n",
    "print(res)"
   ]
  },
  {
   "cell_type": "markdown",
   "metadata": {},
   "source": [
    "## Метод квадратур\n",
    "\n",
    "Введем замену $$x_i = \\tan y_i \\Rightarrow dx_i = \\frac{1}{\\cos^2 y_i}dy_i,\\quad i = 1,\\ldots,10.$$\n",
    "\n",
    "\n",
    "При такой замене интеграл $I$ примет вид:$$I =  \\int\\limits_{-\\frac{\\pi}{2}}^{\\frac{\\pi}{2}} \\int\\limits_{-\\frac{\\pi}{2}}^{\\frac{\\pi}{2}} \\ldots \\int\\limits_{-\\frac{\\pi}{2}}^{\\frac{\\pi}{2}} \\prod \\dfrac{1}{\\sin^2 y_k} \\exp\\left\\{-\\sum \\tan^2 y_k - \\frac{1}{128} \\prod \\cot^2 y_k \\right\\} dy_1 \\ldots dy_{10}.$$\n",
    "\n",
    "Заметим, что интеграл четный, значит можно рассматривать отрезки $[0, \\frac{\\pi}{2}]$, при этом необходимо домножить полученный результат на $2^{10}$, то есть удвоить по каждому измерению.\n",
    "Разобьем каждый из $10$ отрезков $[0, \\frac{\\pi}{2}]$ на $m$ равных подынтервалов, в каждом подынтервале выберем среднее значение и получим сетку из $m - 1$ элементов по каждому разряду. Сопоставим каждой точке на интервале ее порядковый номер (от $1$ до $m - 1$).\n",
    "\n",
    "Заметим, что подынтегральная функция симметрична по всем аргументам, а значит, можно перебирать не все возможные комбинации точек, а только те, номера которых упорядочены и не убывают. Такие комбинации определяются в функции get_ii(), принимающей на вход предыдущую возможную (стартовая - все нули) последовательность.\n",
    "\n",
    "Назовем весом количество комбинаций, которые приводятся к рассматриваемой при упорядочивании элементов. Для того, чтобы учесть все обобщаемые точки, необходимо умножить значения функций в этих точках на их вес. \n",
    "Для вычисления весов каждой из комбинаций воспользуемся формулой:\n",
    "\n",
    "$$w = \\dfrac{n!}{n_1!\\cdot\\ldots n_{m - 1}!},$$\n",
    "где $n_i$ - количество элементов в строке, принимающих значение $i$, $i = 1,\\ldots,m$.\n",
    "\n",
    "Полученная сумма умножается на $h^{10} = \\left[\\dfrac{\\pi}{2m}\\right]^{10}$, затем на $2^{10}$, упрощая, получим коэффициент $(2h)^{10}$. \n",
    "\n",
    "Таким образом, интеграл вычисляется многомерным методом прямоугольников, а выбор точек специального вида позволяет упростить вычисления."
   ]
  },
  {
   "cell_type": "code",
   "execution_count": 63,
   "metadata": {},
   "outputs": [],
   "source": [
    "def fact(n): #считает факториал\n",
    "    if (n == 0):\n",
    "        return 1\n",
    "    return np.prod(range(1, n + 1))"
   ]
  },
  {
   "cell_type": "markdown",
   "metadata": {},
   "source": []
  },
  {
   "cell_type": "code",
   "execution_count": 64,
   "metadata": {},
   "outputs": [],
   "source": [
    "def coef(ns): #считает вес комбинации\n",
    "    ns = ns[ns != 0]\n",
    "    res = fact(ns.sum())\n",
    "    for i in range(0, len(ns)):\n",
    "        res = res / fact(ns[i])\n",
    "    return res"
   ]
  },
  {
   "cell_type": "code",
   "execution_count": 65,
   "metadata": {},
   "outputs": [],
   "source": [
    "def fun(y): #та самая подынтеральная функция\n",
    "    tans = np.tan(y) ** 2\n",
    "    return np.exp(-tans.sum() - np.prod(1 / tans) / 128) * np.prod(1 / (np.sin(y))**2)"
   ]
  },
  {
   "cell_type": "code",
   "execution_count": 66,
   "metadata": {},
   "outputs": [],
   "source": [
    "def get_ii(s, m):\n",
    "    for i in range(-1, -len(s) - 1, -1):\n",
    "        if (s[i] < m - 1):\n",
    "            s[i:] = (s[i] + 1) * np.ones(np.shape(s[i:]))\n",
    "            return s.astype(int)\n",
    "    return -1"
   ]
  },
  {
   "cell_type": "code",
   "execution_count": 67,
   "metadata": {},
   "outputs": [
    {
     "name": "stdout",
     "output_type": "stream",
     "text": [
      "124.98912846401929\n"
     ]
    }
   ],
   "source": [
    "m = 12\n",
    "n = 10\n",
    "\n",
    "res = 0\n",
    "\n",
    "h = np.pi / 2 / m\n",
    "x = [0 + h * (i + 0.5) for i in range(0, m)]\n",
    "\n",
    "ii = np.zeros(n)\n",
    "\n",
    "while 1:\n",
    "    ii = get_ii(ii, m)\n",
    "    if (np.prod(ii == -1)):\n",
    "        break\n",
    "    ns = np.array([np.array((ii == i)).astype(int).sum() for i in range(0, m)])\n",
    "    res += coef(ns) * fun(np.array([x[i] for i in ii]))\n",
    "res = res * ((2 * h) ** 10)\n",
    "print(res)"
   ]
  },
  {
   "cell_type": "markdown",
   "metadata": {},
   "source": [
    "### 2. Для каждого случая оценить точность вычислений.\n",
    "\n",
    "## Метод Монте-Карло\n",
    "\n",
    "Для оценки ошибки $\\varepsilon$ на выборке размера $n$ с уровнем доеврия $\\alpha$ воспользуемся неравенством Чебышева:\n",
    "$$\\mathbb{P} \\left( \\left| \\dfrac{1}{n} \\sum\\limits_{i = 1}^{n} f(Y_i) - \\mathbb{E} [f(Y)] \\right| \\geqslant \\varepsilon \\right) \\leqslant \\mathbb{D}\\dfrac{[f(Y)]}{n \\varepsilon^2} = \\alpha.$$\n",
    "В качестве $\\mathbb{D}[f(Y)]$ используем выборочную дисперсию. Положим $\\alpha = 5$%, $n = 10^{5}$."
   ]
  },
  {
   "cell_type": "code",
   "execution_count": 68,
   "metadata": {},
   "outputs": [
    {
     "name": "stdout",
     "output_type": "stream",
     "text": [
      "1.611513547148326\n"
     ]
    }
   ],
   "source": [
    "n = 10**7\n",
    "alpha = 0.05\n",
    "y = (np.reshape(normal(0, 1 / np.sqrt(2), 10 * n), (10, n)).prod(0)) ** (-2)\n",
    "var = (np.pi ** 5 * y * np.exp(-y / 128)).var()\n",
    "res = np.sqrt(var / n / alpha)\n",
    "print(res)"
   ]
  },
  {
   "cell_type": "markdown",
   "metadata": {},
   "source": [
    "## Метод квадратур\n",
    "\n",
    "Для оценки погрешности воспрользуемся разложением подынтегральной функции $f(x)$ в ряд Тейлора до первого члена:\n",
    "$$f(x) = f(x_0) + \\langle \\nabla f(\\xi), \\Delta x\\rangle,$$\n",
    "где $x_0$ - центр десятимерного гиперкуба $\\Delta$, а $\\xi$ лежит в нем.\n",
    "\n",
    "Тогда погрешность по каждому из измерений составляет:\n",
    "$$\\int\\limits_{\\Delta} \\langle \\nabla f(\\xi), \\Delta x \\rangle \\leqslant \\sup\\limits_{\\Delta}\\| \\nabla f(x) \\| \\|\\Delta x\\| \\mu(\\Delta) \\leqslant \\dfrac{\\sqrt{n}}{2}h^{n + 1} \\sup\\limits_{\\left[ -\\frac{\\pi}{2}, \\frac{\\pi}{2}\\right]} \\|\\nabla f(x)\\|,$$\n",
    "а общая ошибка не превосходит $\\dfrac{\\pi^n h \\sqrt{n}}{2} \\sup\\limits_{\\left[ -\\frac{\\pi}{2}, \\frac{\\pi}{2} \\right]} \\|\\nabla f(x)\\|$. \n",
    "\n",
    "Ошибка убывает линейно по $h$, однако для достижения маленькой ошибки необходима большая вычислительная мощность."
   ]
  },
  {
   "cell_type": "markdown",
   "metadata": {},
   "source": [
    "# Задание 7.\n",
    "\n",
    "### 1. Методом случайного поиска найти минимальное значение функции $f$ на множестве $A = \\{x_1, x_2: x_1^2 + x_2^2 \\leqslant 1 \\}$, т.е. $y = \\min\\limits_{x \\in A}f(x)$, где $$f(x) = x_1^3 \\sin \\left(\\dfrac{1}{x_1} \\right) + 10 x_1 x_2^4 \\cos \\left( \\dfrac{1}{x_2} \\right)$$ при $x_1 \\not= 0$ и $x_2 \\not= 0$, функция доопределяется по непрерывности при $x_1 = 0$ или $x_2 = 0$.\n",
    "\n",
    "Для поиска минимума методом случайного поиска сгенерируем равномерное распределение точек по кругу и среди них найдем наименьшее значение. \n",
    "\n",
    "Необходимое количество точек определяется через вероятность не попасть в $\\Delta x$ окрестность точки минимума. Вычислим необходимый $n$ (число точек).\n",
    "Вероятность попасть в круг, но не попасть в $\\Delta x$ окрестность точки минимума $x_*$, при выборе одной точки определяется как $\\mathbb{P} = 1 - \\frac{\\pi \\Delta x^2}{\\pi} = 1 - \\Delta x^2$, следовательно, при выборе $n$ точек $\\mathbb{P}_n = (1 - \\Delta x^2)^n$. Зафиксируем $p$ - вероятность не попасть в указанную окрестность. Тогда $(1 - \\Delta x ^2)^n = p$, а $n = \\frac{\\ln p}{\\ln (1 - \\Delta x^2)}$.\n",
    "\n",
    "Выберем окрестность $\\Delta x$ таким образом, чтобы для фиксированной погрешности $\\varepsilon$ выполнялось $|f(x_*) - f(x)| < \\varepsilon$: $|f(x_*) - f(x)| < \\|\\nabla f \\| |\\Delta x|,$ оценим $\\|\\nabla f\\|$.\n",
    "$$\\dfrac{\\partial f}{\\partial x_1} = 3 x_1^2 \\sin \\left( \\dfrac{1}{x_1} \\right) - x_1 \\cos\\left( \\dfrac{1}{x_1} \\right) + 10 x_2^$ \\cos\\left( \\dfrac{1}{x_2} \\right) \\leqslant 14,$$\n",
    "$$\\dfrac{\\partial f}{\\partial x_2} = 40 x_1 x_2^3 \\cos \\left( \\dfrac{1}{x_2} \\right) + 10 x_1 x_2^2 \\sin\\left( \\dfrac{1}{x_2} \\right) \\leqslant 50,$$\n",
    "такми образом, $\\| \\nabla f \\| \\leqslant \\sqrt{14^2 + 50^2} \\approx 52 = C.$ Тогда $\\Delta x = \\dfrac{\\varepsilon}{C}$.\n",
    "\n",
    "Для удобства перейдем в полярную систему координат. \n",
    "При равномерном распределении точек по единичному кругу полученные случайные величины распределены следующим образом:\n",
    "$$\\mathbb{P}(\\xi \\in B) = \\iint\\limits_{B}p(x)dxdy = \\{\\text{к полярной системе координат}\\} = \\dfrac{1}{2\\pi}\\iint\\limits_{B}dr^2d\\varphi,$$\n",
    "то есть $\\varphi \\sim \\mathcal{U}[0,2\\pi]$, а $r$ имеет функцию распределения:\n",
    "$$F_r(x) = \\left\\{\n",
    "\\begin{aligned}\n",
    "    &0,\\quad x < 0\\\\\n",
    "    &x^2,\\quad x \\in [0, 1]\\\\\n",
    "    &1,\\quad x > 1\n",
    "\\end{aligned}\n",
    "\\right.$$\n",
    "С помощью метода обратных функций определяется $r \\sim \\sqrt{u},\\ u \\sim \\mathcal{U}[0, 1]$."
   ]
  },
  {
   "cell_type": "code",
   "execution_count": 69,
   "metadata": {},
   "outputs": [],
   "source": [
    "def fun_min_val(x1, x2):\n",
    "    res = x1 ** 3 * np.sin(1 / x1) + 10 * x1 * x2 ** 4 * np.cos(1 / x2)\n",
    "    return res"
   ]
  },
  {
   "cell_type": "code",
   "execution_count": 70,
   "metadata": {},
   "outputs": [
    {
     "name": "stdout",
     "output_type": "stream",
     "text": [
      "81004599\n",
      "-1.2884382296622996\n"
     ]
    }
   ],
   "source": [
    "eps = 10 ** (-2)\n",
    "p = 0.05\n",
    "c = 52\n",
    "step = eps / c\n",
    "n = int(np.log(p) / np.log(1 - step ** 2))\n",
    "print(n)\n",
    " \n",
    "r_sample = np.sqrt(np.random.random_sample(n))\n",
    "phi_sample = 2 * np.pi * np.random.random_sample(n)\n",
    "\n",
    "print(fun_min_val(r_sample * np.sin(phi_sample), r_sample * np.cos(phi_sample)).min())"
   ]
  },
  {
   "cell_type": "markdown",
   "metadata": {},
   "source": [
    "### 2. Методом имитации отжига найти минимальное значение функции Розенброка $g$ в пространстве $\n",
    "\\mathbb{R}^2$, где $$g(x) = (x_1 - 1)^2 + 100(x_2 - x_1^2)^2.$$\n",
    "\n",
    "Введем вспомогательные функции при решении задачи."
   ]
  },
  {
   "cell_type": "code",
   "execution_count": 71,
   "metadata": {},
   "outputs": [],
   "source": [
    "def fun_rosenbrock(x1, x2):\n",
    "    return (x1 - 1) ** 2 + 100 * (x2 - x1 ** 2) ** 2"
   ]
  },
  {
   "cell_type": "markdown",
   "metadata": {},
   "source": [
    "Предполагаемый следующий шаг алгоритма ($new = [new_x, new_y]$) распределен как $\\mathcal{N}(cur, cur_t \\sigma^2)$, где $cur = [cur_x, cur_y]$ - текущий шаг алгоритма, $cur_t$ - температура в текущий момент времени, $\\sigma$ - параметр."
   ]
  },
  {
   "cell_type": "code",
   "execution_count": 72,
   "metadata": {},
   "outputs": [],
   "source": [
    "def new_state(cur_x, cur_y, t):\n",
    "    new_x = normal(cur_x, np.sqrt(t) *  sigma * np.sqrt(1 + abs(cur_x)), 1)\n",
    "    new_y = normal(cur_y, np.sqrt(t) * sigma * np.sqrt(1 + abs(cur_y)), 1)\n",
    "    return (new_x, new_y)"
   ]
  },
  {
   "cell_type": "markdown",
   "metadata": {},
   "source": [
    "Функция $$p(\\Delta f, cur_t) = e^{-\\frac{|\\Delta f|}{cur_t}},$$ где $\\Delta f = f(cur) - f(next)$, определяет вероятность, с которой на каждом шаге выбирается точка (меняется на следующую или сохраняется текущая). "
   ]
  },
  {
   "cell_type": "code",
   "execution_count": 73,
   "metadata": {},
   "outputs": [],
   "source": [
    "def p(df, t):\n",
    "    return np.exp(-abs(df) / t)"
   ]
  },
  {
   "cell_type": "markdown",
   "metadata": {},
   "source": [
    "В следующей функции происходит выбор точки для следующего шага алгоритма. Если $\\Delta f > 0$, то всегда выбирается следующая точка (на которой достигается меньшая точка). Если неравенство не выполнено, то вероятность перехода к следующей точке определяется функцией $p(\\Delta f, cur_t)$."
   ]
  },
  {
   "cell_type": "code",
   "execution_count": 74,
   "metadata": {},
   "outputs": [],
   "source": [
    "def choose_state(new_x, new_y, cur_x, cur_y, t):\n",
    "    df = fun_rosenbrock(cur_x, cur_y) - fun_rosenbrock(new_x, new_y) \n",
    "    if (df > 0) or (bern(p(df, t), 1)):\n",
    "        return (new_x, new_y)\n",
    "    return (cur_x, cur_y)"
   ]
  },
  {
   "cell_type": "markdown",
   "metadata": {},
   "source": [
    "Функция $t\\_next(cur_t)$ контролирует изменение температуры (ее уменьшение с коэффициентом $k$)."
   ]
  },
  {
   "cell_type": "code",
   "execution_count": 75,
   "metadata": {},
   "outputs": [],
   "source": [
    "def t_next(cur_t):\n",
    "    return k * cur_t"
   ]
  },
  {
   "cell_type": "markdown",
   "metadata": {},
   "source": [
    "В результате, с использованием описанных функций, на каждом шаге происходит выбор точки. Работа алгоритма останавливается, когда температура приближается к нулю ($t < 10^{-6}$)."
   ]
  },
  {
   "cell_type": "code",
   "execution_count": 76,
   "metadata": {},
   "outputs": [],
   "source": [
    "from time import time\n",
    "\n",
    "\n",
    "def annealing(g):\n",
    "\n",
    "    i = 0\n",
    "    t = time()\n",
    "\n",
    "    cur_x = np.random.random_sample() * 20 - 10\n",
    "    cur_y = np.random.random_sample() * 20 - 10\n",
    "    cur = [cur_x, cur_y]\n",
    "    if (g == 1):\n",
    "        print('x_0 = ', cur_x)\n",
    "        print('y_0 = ', cur_y)\n",
    "\n",
    "    cur_t = t_0\n",
    "\n",
    "    while cur_t > 10 ** (-6):\n",
    "        i += 1\n",
    "        new = new_state(cur[0], cur[1], cur_t)\n",
    "        cur = choose_state(new[0], new[1], cur[0], cur[1], cur_t)\n",
    "        cur_t = t_next(cur_t)\n",
    "        if (g == 1):\n",
    "            plt.plot(cur[0], cur[1], 'bo', alpha = 0.5)\n",
    "\n",
    "    if (g == 1):\n",
    "        plt.plot(cur[0], cur[1], '*r')\n",
    "        print('x* = ', cur[0])\n",
    "        print('y* = ', cur[1])\n",
    "        print('f(x*, y*) = ', fun_rosenbrock(cur[0], cur[1]))\n",
    "        print('Inaccuracy = ', abs(1 - cur[0]), abs(1 - cur[1]))\n",
    "        print('The algorithm made ', i, ' iterations, it took ', time() - t, 'seconds.')\n",
    "\n",
    "    return (cur[0], cur[1], i, time() - t)"
   ]
  },
  {
   "cell_type": "code",
   "execution_count": 77,
   "metadata": {},
   "outputs": [
    {
     "name": "stdout",
     "output_type": "stream",
     "text": [
      "(array([1.01482777]), array([1.02988541]), 1444, 0.29717350006103516)\n"
     ]
    }
   ],
   "source": [
    "k = 0.99\n",
    "t_0 = 2\n",
    "sigma = 1 / t_0\n",
    "\n",
    "res = annealing(0)\n",
    "print(res)"
   ]
  },
  {
   "cell_type": "code",
   "execution_count": 78,
   "metadata": {},
   "outputs": [
    {
     "name": "stdout",
     "output_type": "stream",
     "text": [
      "0.1284480094909668\n"
     ]
    },
    {
     "data": {
      "image/png": "[encoded data removed]",
      "text/plain": [
       "<Figure size 432x288 with 1 Axes>"
      ]
     },
     "metadata": {
      "needs_background": "light"
     },
     "output_type": "display_data"
    },
    {
     "data": {
      "image/png": "[encoded data removed]",
      "text/plain": [
       "<Figure size 432x288 with 1 Axes>"
      ]
     },
     "metadata": {
      "needs_background": "light"
     },
     "output_type": "display_data"
    }
   ],
   "source": [
    "n = 100\n",
    "\n",
    "T = np.zeros(n)\n",
    "\n",
    "Inac_x = np.zeros(n)\n",
    "Inac_y = np.zeros(n)\n",
    "\n",
    "for j in range(0, n):\n",
    "    res = annealing(0)\n",
    "    T[j] = res[3]\n",
    "    Inac_x[j] = abs(1 - res[0])\n",
    "    Inac_y[j] = abs(1 - res[1])\n",
    "\n",
    "print(np.median(T))\n",
    "plt.hist(Inac_x, color = 'b', alpha = 0.5)\n",
    "plt.show()\n",
    "plt.hist(Inac_y, color = 'b', alpha = 0.5)\n",
    "plt.show()"
   ]
  },
  {
   "cell_type": "markdown",
   "metadata": {},
   "source": [
    "# Задание 8.\n",
    "\n",
    "### Применить метод Монте-Карло к решению первой краевой задачи для двумерного уравнения Лапласа в единичном круге:\n",
    "### $$\\left\\{\n",
    "\\begin{aligned}\n",
    "&\\Delta u = 0,\\ (x, y) \\in D\\\\\n",
    "&u|_{\\delta D} = f(x, y)\\\\\n",
    "&u \\in C^2(D),\\ f \\in C(\\delta D)\\\\\n",
    "&D = \\{x, y:\\ x^2 + y^2 \\leqslant 1 \\}\n",
    "\\end{aligned}\n",
    "\\right.$$\n",
    "### Для функции $f(x, y) = x^2 - y^2$ найти аналитическое решение и сравнить с полученным по методу Монте-Карло.\n",
    "\n",
    "Аналитическим решением задачи является функция $u(x, y) = x^2 - y^2.$\n",
    "\n",
    "## Метод Монте-Карло\n",
    "\n",
    "Разобьем область $D$ на сетку с шагом $h$. Чтобы понять, является ли точка граничной воспользумся следующими условиями:\n",
    "$$\\begin{gather} x^2 + y^2 \\leqslant 1;\\\\ x^2 + y^2 + h^2 + 2h\\max\\{|x|, |y|\\} > 1\\end{gather}.$$\n",
    "Если выполнено первое условие, то рассматриваемая точка с координатами $(x, y)$ принадлежит области $D$, если также выполнено и второе неравенство, то рассматриваемая точка является граничной (хотя бы одна из трех соседних точек лежит вне области $D$).\n",
    "\n",
    "Из каждой внутренней точки можно двигаться в четырех направлениях (вправо, влево, вверх или вниз), выбор направления случаен. Последовательным переходом из одной точки в другую можно попасть на границу. Найдем сумму значений заданной на границе функции $f(x)$ при N запусках процесса из некоторой фиксированной внутренней точки $P$ и поделим полученную сумму на $N$. Таким образом, получено значение функции $u(P)$.\n",
    "\n"
   ]
  },
  {
   "cell_type": "code",
   "execution_count": 79,
   "metadata": {},
   "outputs": [],
   "source": [
    "def fun_laplas(x, y):\n",
    "    #print(x, y)\n",
    "    return x**2 - y**2"
   ]
  },
  {
   "cell_type": "code",
   "execution_count": 80,
   "metadata": {},
   "outputs": [],
   "source": [
    "def in_range(x, y): #returnes: 0 - out of range; 1 - inside; 2 - on bound\n",
    "    #print('a ', x, y)\n",
    "    if (x**2 + y**2 <= 1):\n",
    "        if (x**2 + y**2 + h**2 + 2 * h * max(abs(x), abs(y)) > 1):\n",
    "            return 2\n",
    "        else:\n",
    "            return 1\n",
    "    else:\n",
    "        return 0"
   ]
  },
  {
   "cell_type": "code",
   "execution_count": 81,
   "metadata": {},
   "outputs": [],
   "source": [
    "def next_step(i, j): #gives next coordinate\n",
    "    step = (bern(0.5, 1) * 2 - 1) * bern(0.5, 1)\n",
    "    if (i < 19) and (i > 0):\n",
    "        i += step\n",
    "    elif (i <= 0):\n",
    "        i += abs(step)\n",
    "    else:\n",
    "        i -= abs(step)\n",
    "        \n",
    "    if (j < 19) and (j > 0):\n",
    "        j += (bern(0.5, 1) * 2 - 1) * (1 - abs(step))\n",
    "    elif (j <= 0):\n",
    "        j += 1 - abs(step)\n",
    "    else:\n",
    "        j -= 1 - abs(step)   \n",
    "    return (i, j)"
   ]
  },
  {
   "cell_type": "code",
   "execution_count": 82,
   "metadata": {},
   "outputs": [],
   "source": [
    "def get_value(X, Y, i0, j0):\n",
    "    coord = np.array([i0, j0])\n",
    "    traj_i = (i0,)\n",
    "    traj_j = (j0, )\n",
    "    #print(i0, j0)\n",
    "    while (in_range(X[coord[0], coord[0]], Y[coord[1], coord[1]]) != 2):\n",
    "        coord = next_step(coord[0], coord[1])\n",
    "        #print(X[coord[0], coord[0]], Y[coord[1], coord[1]])\n",
    "        #print(coord)\n",
    "        traj_i = traj_i + (int(coord[0]),)\n",
    "        traj_j = traj_j + (int(coord[1]),)\n",
    "    return (traj_i, traj_j, fun_laplas(X[int(coord[0]), int(coord[0])], Y[int(coord[1]), int(coord[1])]))"
   ]
  },
  {
   "cell_type": "code",
   "execution_count": 83,
   "metadata": {},
   "outputs": [],
   "source": [
    "def get_coord(P, X, Y):\n",
    "    n_p = np.shape(P)[0]\n",
    "    Coord_i, Coord_j = np.where(P == P.min())\n",
    "    coord_i = Coord_i[0]\n",
    "    coord_j = Coord_j[0]\n",
    "    while (in_range(X[int(coord_i), int(coord_i)], Y[int(coord_j), int(coord_j)]) != 1):\n",
    "        P[int(coord_i), int(coord_j)] = n_step\n",
    "        Coord_i, Coord_j = np.where(P == P.min())\n",
    "        coord_i = Coord_i[0]\n",
    "        coord_j = Coord_j[0]\n",
    "    return (int(coord_i), int(coord_j))"
   ]
  },
  {
   "cell_type": "code",
   "execution_count": 84,
   "metadata": {},
   "outputs": [],
   "source": [
    "n = 20\n",
    "n_step = 500"
   ]
  },
  {
   "cell_type": "code",
   "execution_count": 85,
   "metadata": {},
   "outputs": [],
   "source": [
    "h = 2 / n\n",
    "\n",
    "x = np.linspace(-1, 1, n)\n",
    "y = np.linspace(-1, 1, n)\n",
    "XY = np.meshgrid(x, y)\n",
    "X, Y = np.meshgrid(x, y)\n",
    "\n",
    "Passed = np.zeros((n, n))\n",
    "Res_sum = np.zeros((n, n))\n",
    "coord = np.zeros(2)\n",
    "\n",
    "while np.any(Passed < n_step):\n",
    "    coord = get_coord(Passed, X, Y)\n",
    "    res = get_value(X, Y, coord[0], coord[1])\n",
    "    #print(res)\n",
    "    Passed[res[0], res[1]] += 1\n",
    "    Res_sum[res[0], res[1]] += res[2]\n",
    "    #print(Passed)\n",
    "\n",
    "#print(Passed)\n",
    "#print(Res_sum / Passed)\n",
    "\n"
   ]
  },
  {
   "cell_type": "code",
   "execution_count": 86,
   "metadata": {},
   "outputs": [
    {
     "data": {
      "application/javascript": [
       "/* Put everything inside the global mpl namespace */\n",
       "window.mpl = {};\n",
       "\n",
       "\n",
       "mpl.get_websocket_type = function() {\n",
       "    if (typeof(WebSocket) !== 'undefined') {\n",
       "        return WebSocket;\n",
       "    } else if (typeof(MozWebSocket) !== 'undefined') {\n",
       "        return MozWebSocket;\n",
       "    } else {\n",
       "        alert('Your browser does not have WebSocket support. ' +\n",
       "              'Please try Chrome, Safari or Firefox ≥ 6. ' +\n",
       "              'Firefox 4 and 5 are also supported but you ' +\n",
       "              'have to enable WebSockets in about:config.');\n",
       "    };\n",
       "}\n",
       "\n",
       "mpl.figure = function(figure_id, websocket, ondownload, parent_element) {\n",
       "    this.id = figure_id;\n",
       "\n",
       "    this.ws = websocket;\n",
       "\n",
       "    this.supports_binary = (this.ws.binaryType != undefined);\n",
       "\n",
       "    if (!this.supports_binary) {\n",
       "        var warnings = document.getElementById(\"mpl-warnings\");\n",
       "        if (warnings) {\n",
       "            warnings.style.display = 'block';\n",
       "            warnings.textContent = (\n",
       "                \"This browser does not support binary websocket messages. \" +\n",
       "                    \"Performance may be slow.\");\n",
       "        }\n",
       "    }\n",
       "\n",
       "    this.imageObj = new Image();\n",
       "\n",
       "    this.context = undefined;\n",
       "    this.message = undefined;\n",
       "    this.canvas = undefined;\n",
       "    this.rubberband_canvas = undefined;\n",
       "    this.rubberband_context = undefined;\n",
       "    this.format_dropdown = undefined;\n",
       "\n",
       "    this.image_mode = 'full';\n",
       "\n",
       "    this.root = $('<div/>');\n",
       "    this._root_extra_style(this.root)\n",
       "    this.root.attr('style', 'display: inline-block');\n",
       "\n",
       "    $(parent_element).append(this.root);\n",
       "\n",
       "    this._init_header(this);\n",
       "    this._init_canvas(this);\n",
       "    this._init_toolbar(this);\n",
       "\n",
       "    var fig = this;\n",
       "\n",
       "    this.waiting = false;\n",
       "\n",
       "    this.ws.onopen =  function () {\n",
       "            fig.send_message(\"supports_binary\", {value: fig.supports_binary});\n",
       "            fig.send_message(\"send_image_mode\", {});\n",
       "            if (mpl.ratio != 1) {\n",
       "                fig.send_message(\"set_dpi_ratio\", {'dpi_ratio': mpl.ratio});\n",
       "            }\n",
       "            fig.send_message(\"refresh\", {});\n",
       "        }\n",
       "\n",
       "    this.imageObj.onload = function() {\n",
       "            if (fig.image_mode == 'full') {\n",
       "                // Full images could contain transparency (where diff images\n",
       "                // almost always do), so we need to clear the canvas so that\n",
       "                // there is no ghosting.\n",
       "                fig.context.clearRect(0, 0, fig.canvas.width, fig.canvas.height);\n",
       "            }\n",
       "            fig.context.drawImage(fig.imageObj, 0, 0);\n",
       "        };\n",
       "\n",
       "    this.imageObj.onunload = function() {\n",
       "        fig.ws.close();\n",
       "    }\n",
       "\n",
       "    this.ws.onmessage = this._make_on_message_function(this);\n",
       "\n",
       "    this.ondownload = ondownload;\n",
       "}\n",
       "\n",
       "mpl.figure.prototype._init_header = function() {\n",
       "    var titlebar = $(\n",
       "        '<div class=\"ui-dialog-titlebar ui-widget-header ui-corner-all ' +\n",
       "        'ui-helper-clearfix\"/>');\n",
       "    var titletext = $(\n",
       "        '<div class=\"ui-dialog-title\" style=\"width: 100%; ' +\n",
       "        'text-align: center; padding: 3px;\"/>');\n",
       "    titlebar.append(titletext)\n",
       "    this.root.append(titlebar);\n",
       "    this.header = titletext[0];\n",
       "}\n",
       "\n",
       "\n",
       "\n",
       "mpl.figure.prototype._canvas_extra_style = function(canvas_div) {\n",
       "\n",
       "}\n",
       "\n",
       "\n",
       "mpl.figure.prototype._root_extra_style = function(canvas_div) {\n",
       "\n",
       "}\n",
       "\n",
       "mpl.figure.prototype._init_canvas = function() {\n",
       "    var fig = this;\n",
       "\n",
       "    var canvas_div = $('<div/>');\n",
       "\n",
       "    canvas_div.attr('style', 'position: relative; clear: both; outline: 0');\n",
       "\n",
       "    function canvas_keyboard_event(event) {\n",
       "        return fig.key_event(event, event['data']);\n",
       "    }\n",
       "\n",
       "    canvas_div.keydown('key_press', canvas_keyboard_event);\n",
       "    canvas_div.keyup('key_release', canvas_keyboard_event);\n",
       "    this.canvas_div = canvas_div\n",
       "    this._canvas_extra_style(canvas_div)\n",
       "    this.root.append(canvas_div);\n",
       "\n",
       "    var canvas = $('<canvas/>');\n",
       "    canvas.addClass('mpl-canvas');\n",
       "    canvas.attr('style', \"left: 0; top: 0; z-index: 0; outline: 0\")\n",
       "\n",
       "    this.canvas = canvas[0];\n",
       "    this.context = canvas[0].getContext(\"2d\");\n",
       "\n",
       "    var backingStore = this.context.backingStorePixelRatio ||\n",
       "\tthis.context.webkitBackingStorePixelRatio ||\n",
       "\tthis.context.mozBackingStorePixelRatio ||\n",
       "\tthis.context.msBackingStorePixelRatio ||\n",
       "\tthis.context.oBackingStorePixelRatio ||\n",
       "\tthis.context.backingStorePixelRatio || 1;\n",
       "\n",
       "    mpl.ratio = (window.devicePixelRatio || 1) / backingStore;\n",
       "\n",
       "    var rubberband = $('<canvas/>');\n",
       "    rubberband.attr('style', \"position: absolute; left: 0; top: 0; z-index: 1;\")\n",
       "\n",
       "    var pass_mouse_events = true;\n",
       "\n",
       "    canvas_div.resizable({\n",
       "        start: function(event, ui) {\n",
       "            pass_mouse_events = false;\n",
       "        },\n",
       "        resize: function(event, ui) {\n",
       "            fig.request_resize(ui.size.width, ui.size.height);\n",
       "        },\n",
       "        stop: function(event, ui) {\n",
       "            pass_mouse_events = true;\n",
       "            fig.request_resize(ui.size.width, ui.size.height);\n",
       "        },\n",
       "    });\n",
       "\n",
       "    function mouse_event_fn(event) {\n",
       "        if (pass_mouse_events)\n",
       "            return fig.mouse_event(event, event['data']);\n",
       "    }\n",
       "\n",
       "    rubberband.mousedown('button_press', mouse_event_fn);\n",
       "    rubberband.mouseup('button_release', mouse_event_fn);\n",
       "    // Throttle sequential mouse events to 1 every 20ms.\n",
       "    rubberband.mousemove('motion_notify', mouse_event_fn);\n",
       "\n",
       "    rubberband.mouseenter('figure_enter', mouse_event_fn);\n",
       "    rubberband.mouseleave('figure_leave', mouse_event_fn);\n",
       "\n",
       "    canvas_div.on(\"wheel\", function (event) {\n",
       "        event = event.originalEvent;\n",
       "        event['data'] = 'scroll'\n",
       "        if (event.deltaY < 0) {\n",
       "            event.step = 1;\n",
       "        } else {\n",
       "            event.step = -1;\n",
       "        }\n",
       "        mouse_event_fn(event);\n",
       "    });\n",
       "\n",
       "    canvas_div.append(canvas);\n",
       "    canvas_div.append(rubberband);\n",
       "\n",
       "    this.rubberband = rubberband;\n",
       "    this.rubberband_canvas = rubberband[0];\n",
       "    this.rubberband_context = rubberband[0].getContext(\"2d\");\n",
       "    this.rubberband_context.strokeStyle = \"#000000\";\n",
       "\n",
       "    this._resize_canvas = function(width, height) {\n",
       "        // Keep the size of the canvas, canvas container, and rubber band\n",
       "        // canvas in synch.\n",
       "        canvas_div.css('width', width)\n",
       "        canvas_div.css('height', height)\n",
       "\n",
       "        canvas.attr('width', width * mpl.ratio);\n",
       "        canvas.attr('height', height * mpl.ratio);\n",
       "        canvas.attr('style', 'width: ' + width + 'px; height: ' + height + 'px;');\n",
       "\n",
       "        rubberband.attr('width', width);\n",
       "        rubberband.attr('height', height);\n",
       "    }\n",
       "\n",
       "    // Set the figure to an initial 600x600px, this will subsequently be updated\n",
       "    // upon first draw.\n",
       "    this._resize_canvas(600, 600);\n",
       "\n",
       "    // Disable right mouse context menu.\n",
       "    $(this.rubberband_canvas).bind(\"contextmenu\",function(e){\n",
       "        return false;\n",
       "    });\n",
       "\n",
       "    function set_focus () {\n",
       "        canvas.focus();\n",
       "        canvas_div.focus();\n",
       "    }\n",
       "\n",
       "    window.setTimeout(set_focus, 100);\n",
       "}\n",
       "\n",
       "mpl.figure.prototype._init_toolbar = function() {\n",
       "    var fig = this;\n",
       "\n",
       "    var nav_element = $('<div/>');\n",
       "    nav_element.attr('style', 'width: 100%');\n",
       "    this.root.append(nav_element);\n",
       "\n",
       "    // Define a callback function for later on.\n",
       "    function toolbar_event(event) {\n",
       "        return fig.toolbar_button_onclick(event['data']);\n",
       "    }\n",
       "    function toolbar_mouse_event(event) {\n",
       "        return fig.toolbar_button_onmouseover(event['data']);\n",
       "    }\n",
       "\n",
       "    for(var toolbar_ind in mpl.toolbar_items) {\n",
       "        var name = mpl.toolbar_items[toolbar_ind][0];\n",
       "        var tooltip = mpl.toolbar_items[toolbar_ind][1];\n",
       "        var image = mpl.toolbar_items[toolbar_ind][2];\n",
       "        var method_name = mpl.toolbar_items[toolbar_ind][3];\n",
       "\n",
       "        if (!name) {\n",
       "            // put a spacer in here.\n",
       "            continue;\n",
       "        }\n",
       "        var button = $('<button/>');\n",
       "        button.addClass('ui-button ui-widget ui-state-default ui-corner-all ' +\n",
       "                        'ui-button-icon-only');\n",
       "        button.attr('role', 'button');\n",
       "        button.attr('aria-disabled', 'false');\n",
       "        button.click(method_name, toolbar_event);\n",
       "        button.mouseover(tooltip, toolbar_mouse_event);\n",
       "\n",
       "        var icon_img = $('<span/>');\n",
       "        icon_img.addClass('ui-button-icon-primary ui-icon');\n",
       "        icon_img.addClass(image);\n",
       "        icon_img.addClass('ui-corner-all');\n",
       "\n",
       "        var tooltip_span = $('<span/>');\n",
       "        tooltip_span.addClass('ui-button-text');\n",
       "        tooltip_span.html(tooltip);\n",
       "\n",
       "        button.append(icon_img);\n",
       "        button.append(tooltip_span);\n",
       "\n",
       "        nav_element.append(button);\n",
       "    }\n",
       "\n",
       "    var fmt_picker_span = $('<span/>');\n",
       "\n",
       "    var fmt_picker = $('<select/>');\n",
       "    fmt_picker.addClass('mpl-toolbar-option ui-widget ui-widget-content');\n",
       "    fmt_picker_span.append(fmt_picker);\n",
       "    nav_element.append(fmt_picker_span);\n",
       "    this.format_dropdown = fmt_picker[0];\n",
       "\n",
       "    for (var ind in mpl.extensions) {\n",
       "        var fmt = mpl.extensions[ind];\n",
       "        var option = $(\n",
       "            '<option/>', {selected: fmt === mpl.default_extension}).html(fmt);\n",
       "        fmt_picker.append(option);\n",
       "    }\n",
       "\n",
       "    // Add hover states to the ui-buttons\n",
       "    $( \".ui-button\" ).hover(\n",
       "        function() { $(this).addClass(\"ui-state-hover\");},\n",
       "        function() { $(this).removeClass(\"ui-state-hover\");}\n",
       "    );\n",
       "\n",
       "    var status_bar = $('<span class=\"mpl-message\"/>');\n",
       "    nav_element.append(status_bar);\n",
       "    this.message = status_bar[0];\n",
       "}\n",
       "\n",
       "mpl.figure.prototype.request_resize = function(x_pixels, y_pixels) {\n",
       "    // Request matplotlib to resize the figure. Matplotlib will then trigger a resize in the client,\n",
       "    // which will in turn request a refresh of the image.\n",
       "    this.send_message('resize', {'width': x_pixels, 'height': y_pixels});\n",
       "}\n",
       "\n",
       "mpl.figure.prototype.send_message = function(type, properties) {\n",
       "    properties['type'] = type;\n",
       "    properties['figure_id'] = this.id;\n",
       "    this.ws.send(JSON.stringify(properties));\n",
       "}\n",
       "\n",
       "mpl.figure.prototype.send_draw_message = function() {\n",
       "    if (!this.waiting) {\n",
       "        this.waiting = true;\n",
       "        this.ws.send(JSON.stringify({type: \"draw\", figure_id: this.id}));\n",
       "    }\n",
       "}\n",
       "\n",
       "\n",
       "mpl.figure.prototype.handle_save = function(fig, msg) {\n",
       "    var format_dropdown = fig.format_dropdown;\n",
       "    var format = format_dropdown.options[format_dropdown.selectedIndex].value;\n",
       "    fig.ondownload(fig, format);\n",
       "}\n",
       "\n",
       "\n",
       "mpl.figure.prototype.handle_resize = function(fig, msg) {\n",
       "    var size = msg['size'];\n",
       "    if (size[0] != fig.canvas.width || size[1] != fig.canvas.height) {\n",
       "        fig._resize_canvas(size[0], size[1]);\n",
       "        fig.send_message(\"refresh\", {});\n",
       "    };\n",
       "}\n",
       "\n",
       "mpl.figure.prototype.handle_rubberband = function(fig, msg) {\n",
       "    var x0 = msg['x0'] / mpl.ratio;\n",
       "    var y0 = (fig.canvas.height - msg['y0']) / mpl.ratio;\n",
       "    var x1 = msg['x1'] / mpl.ratio;\n",
       "    var y1 = (fig.canvas.height - msg['y1']) / mpl.ratio;\n",
       "    x0 = Math.floor(x0) + 0.5;\n",
       "    y0 = Math.floor(y0) + 0.5;\n",
       "    x1 = Math.floor(x1) + 0.5;\n",
       "    y1 = Math.floor(y1) + 0.5;\n",
       "    var min_x = Math.min(x0, x1);\n",
       "    var min_y = Math.min(y0, y1);\n",
       "    var width = Math.abs(x1 - x0);\n",
       "    var height = Math.abs(y1 - y0);\n",
       "\n",
       "    fig.rubberband_context.clearRect(\n",
       "        0, 0, fig.canvas.width / mpl.ratio, fig.canvas.height / mpl.ratio);\n",
       "\n",
       "    fig.rubberband_context.strokeRect(min_x, min_y, width, height);\n",
       "}\n",
       "\n",
       "mpl.figure.prototype.handle_figure_label = function(fig, msg) {\n",
       "    // Updates the figure title.\n",
       "    fig.header.textContent = msg['label'];\n",
       "}\n",
       "\n",
       "mpl.figure.prototype.handle_cursor = function(fig, msg) {\n",
       "    var cursor = msg['cursor'];\n",
       "    switch(cursor)\n",
       "    {\n",
       "    case 0:\n",
       "        cursor = 'pointer';\n",
       "        break;\n",
       "    case 1:\n",
       "        cursor = 'default';\n",
       "        break;\n",
       "    case 2:\n",
       "        cursor = 'crosshair';\n",
       "        break;\n",
       "    case 3:\n",
       "        cursor = 'move';\n",
       "        break;\n",
       "    }\n",
       "    fig.rubberband_canvas.style.cursor = cursor;\n",
       "}\n",
       "\n",
       "mpl.figure.prototype.handle_message = function(fig, msg) {\n",
       "    fig.message.textContent = msg['message'];\n",
       "}\n",
       "\n",
       "mpl.figure.prototype.handle_draw = function(fig, msg) {\n",
       "    // Request the server to send over a new figure.\n",
       "    fig.send_draw_message();\n",
       "}\n",
       "\n",
       "mpl.figure.prototype.handle_image_mode = function(fig, msg) {\n",
       "    fig.image_mode = msg['mode'];\n",
       "}\n",
       "\n",
       "mpl.figure.prototype.updated_canvas_event = function() {\n",
       "    // Called whenever the canvas gets updated.\n",
       "    this.send_message(\"ack\", {});\n",
       "}\n",
       "\n",
       "// A function to construct a web socket function for onmessage handling.\n",
       "// Called in the figure constructor.\n",
       "mpl.figure.prototype._make_on_message_function = function(fig) {\n",
       "    return function socket_on_message(evt) {\n",
       "        if (evt.data instanceof Blob) {\n",
       "            /* FIXME: We get \"Resource interpreted as Image but\n",
       "             * transferred with MIME type text/plain:\" errors on\n",
       "             * Chrome.  But how to set the MIME type?  It doesn't seem\n",
       "             * to be part of the websocket stream */\n",
       "            evt.data.type = \"image/png\";\n",
       "\n",
       "            /* Free the memory for the previous frames */\n",
       "            if (fig.imageObj.src) {\n",
       "                (window.URL || window.webkitURL).revokeObjectURL(\n",
       "                    fig.imageObj.src);\n",
       "            }\n",
       "\n",
       "            fig.imageObj.src = (window.URL || window.webkitURL).createObjectURL(\n",
       "                evt.data);\n",
       "            fig.updated_canvas_event();\n",
       "            fig.waiting = false;\n",
       "            return;\n",
       "        }\n",
       "        else if (typeof evt.data === 'string' && evt.data.slice(0, 21) == \"data:image/png;base64\") {\n",
       "            fig.imageObj.src = evt.data;\n",
       "            fig.updated_canvas_event();\n",
       "            fig.waiting = false;\n",
       "            return;\n",
       "        }\n",
       "\n",
       "        var msg = JSON.parse(evt.data);\n",
       "        var msg_type = msg['type'];\n",
       "\n",
       "        // Call the  \"handle_{type}\" callback, which takes\n",
       "        // the figure and JSON message as its only arguments.\n",
       "        try {\n",
       "            var callback = fig[\"handle_\" + msg_type];\n",
       "        } catch (e) {\n",
       "            console.log(\"No handler for the '\" + msg_type + \"' message type: \", msg);\n",
       "            return;\n",
       "        }\n",
       "\n",
       "        if (callback) {\n",
       "            try {\n",
       "                // console.log(\"Handling '\" + msg_type + \"' message: \", msg);\n",
       "                callback(fig, msg);\n",
       "            } catch (e) {\n",
       "                console.log(\"Exception inside the 'handler_\" + msg_type + \"' callback:\", e, e.stack, msg);\n",
       "            }\n",
       "        }\n",
       "    };\n",
       "}\n",
       "\n",
       "// from http://stackoverflow.com/questions/1114465/getting-mouse-location-in-canvas\n",
       "mpl.findpos = function(e) {\n",
       "    //this section is from http://www.quirksmode.org/js/events_properties.html\n",
       "    var targ;\n",
       "    if (!e)\n",
       "        e = window.event;\n",
       "    if (e.target)\n",
       "        targ = e.target;\n",
       "    else if (e.srcElement)\n",
       "        targ = e.srcElement;\n",
       "    if (targ.nodeType == 3) // defeat Safari bug\n",
       "        targ = targ.parentNode;\n",
       "\n",
       "    // jQuery normalizes the pageX and pageY\n",
       "    // pageX,Y are the mouse positions relative to the document\n",
       "    // offset() returns the position of the element relative to the document\n",
       "    var x = e.pageX - $(targ).offset().left;\n",
       "    var y = e.pageY - $(targ).offset().top;\n",
       "\n",
       "    return {\"x\": x, \"y\": y};\n",
       "};\n",
       "\n",
       "/*\n",
       " * return a copy of an object with only non-object keys\n",
       " * we need this to avoid circular references\n",
       " * http://stackoverflow.com/a/24161582/3208463\n",
       " */\n",
       "function simpleKeys (original) {\n",
       "  return Object.keys(original).reduce(function (obj, key) {\n",
       "    if (typeof original[key] !== 'object')\n",
       "        obj[key] = original[key]\n",
       "    return obj;\n",
       "  }, {});\n",
       "}\n",
       "\n",
       "mpl.figure.prototype.mouse_event = function(event, name) {\n",
       "    var canvas_pos = mpl.findpos(event)\n",
       "\n",
       "    if (name === 'button_press')\n",
       "    {\n",
       "        this.canvas.focus();\n",
       "        this.canvas_div.focus();\n",
       "    }\n",
       "\n",
       "    var x = canvas_pos.x * mpl.ratio;\n",
       "    var y = canvas_pos.y * mpl.ratio;\n",
       "\n",
       "    this.send_message(name, {x: x, y: y, button: event.button,\n",
       "                             step: event.step,\n",
       "                             guiEvent: simpleKeys(event)});\n",
       "\n",
       "    /* This prevents the web browser from automatically changing to\n",
       "     * the text insertion cursor when the button is pressed.  We want\n",
       "     * to control all of the cursor setting manually through the\n",
       "     * 'cursor' event from matplotlib */\n",
       "    event.preventDefault();\n",
       "    return false;\n",
       "}\n",
       "\n",
       "mpl.figure.prototype._key_event_extra = function(event, name) {\n",
       "    // Handle any extra behaviour associated with a key event\n",
       "}\n",
       "\n",
       "mpl.figure.prototype.key_event = function(event, name) {\n",
       "\n",
       "    // Prevent repeat events\n",
       "    if (name == 'key_press')\n",
       "    {\n",
       "        if (event.which === this._key)\n",
       "            return;\n",
       "        else\n",
       "            this._key = event.which;\n",
       "    }\n",
       "    if (name == 'key_release')\n",
       "        this._key = null;\n",
       "\n",
       "    var value = '';\n",
       "    if (event.ctrlKey && event.which != 17)\n",
       "        value += \"ctrl+\";\n",
       "    if (event.altKey && event.which != 18)\n",
       "        value += \"alt+\";\n",
       "    if (event.shiftKey && event.which != 16)\n",
       "        value += \"shift+\";\n",
       "\n",
       "    value += 'k';\n",
       "    value += event.which.toString();\n",
       "\n",
       "    this._key_event_extra(event, name);\n",
       "\n",
       "    this.send_message(name, {key: value,\n",
       "                             guiEvent: simpleKeys(event)});\n",
       "    return false;\n",
       "}\n",
       "\n",
       "mpl.figure.prototype.toolbar_button_onclick = function(name) {\n",
       "    if (name == 'download') {\n",
       "        this.handle_save(this, null);\n",
       "    } else {\n",
       "        this.send_message(\"toolbar_button\", {name: name});\n",
       "    }\n",
       "};\n",
       "\n",
       "mpl.figure.prototype.toolbar_button_onmouseover = function(tooltip) {\n",
       "    this.message.textContent = tooltip;\n",
       "};\n",
       "mpl.toolbar_items = [[\"Home\", \"Reset original view\", \"fa fa-home icon-home\", \"home\"], [\"Back\", \"Back to previous view\", \"fa fa-arrow-left icon-arrow-left\", \"back\"], [\"Forward\", \"Forward to next view\", \"fa fa-arrow-right icon-arrow-right\", \"forward\"], [\"\", \"\", \"\", \"\"], [\"Pan\", \"Pan axes with left mouse, zoom with right\", \"fa fa-arrows icon-move\", \"pan\"], [\"Zoom\", \"Zoom to rectangle\", \"fa fa-square-o icon-check-empty\", \"zoom\"], [\"\", \"\", \"\", \"\"], [\"Download\", \"Download plot\", \"fa fa-floppy-o icon-save\", \"download\"]];\n",
       "\n",
       "mpl.extensions = [\"eps\", \"jpeg\", \"pdf\", \"png\", \"ps\", \"raw\", \"svg\", \"tif\"];\n",
       "\n",
       "mpl.default_extension = \"png\";var comm_websocket_adapter = function(comm) {\n",
       "    // Create a \"websocket\"-like object which calls the given IPython comm\n",
       "    // object with the appropriate methods. Currently this is a non binary\n",
       "    // socket, so there is still some room for performance tuning.\n",
       "    var ws = {};\n",
       "\n",
       "    ws.close = function() {\n",
       "        comm.close()\n",
       "    };\n",
       "    ws.send = function(m) {\n",
       "        //console.log('sending', m);\n",
       "        comm.send(m);\n",
       "    };\n",
       "    // Register the callback with on_msg.\n",
       "    comm.on_msg(function(msg) {\n",
       "        //console.log('receiving', msg['content']['data'], msg);\n",
       "        // Pass the mpl event to the overridden (by mpl) onmessage function.\n",
       "        ws.onmessage(msg['content']['data'])\n",
       "    });\n",
       "    return ws;\n",
       "}\n",
       "\n",
       "mpl.mpl_figure_comm = function(comm, msg) {\n",
       "    // This is the function which gets called when the mpl process\n",
       "    // starts-up an IPython Comm through the \"matplotlib\" channel.\n",
       "\n",
       "    var id = msg.content.data.id;\n",
       "    // Get hold of the div created by the display call when the Comm\n",
       "    // socket was opened in Python.\n",
       "    var element = $(\"#\" + id);\n",
       "    var ws_proxy = comm_websocket_adapter(comm)\n",
       "\n",
       "    function ondownload(figure, format) {\n",
       "        window.open(figure.imageObj.src);\n",
       "    }\n",
       "\n",
       "    var fig = new mpl.figure(id, ws_proxy,\n",
       "                           ondownload,\n",
       "                           element.get(0));\n",
       "\n",
       "    // Call onopen now - mpl needs it, as it is assuming we've passed it a real\n",
       "    // web socket which is closed, not our websocket->open comm proxy.\n",
       "    ws_proxy.onopen();\n",
       "\n",
       "    fig.parent_element = element.get(0);\n",
       "    fig.cell_info = mpl.find_output_cell(\"<div id='\" + id + \"'></div>\");\n",
       "    if (!fig.cell_info) {\n",
       "        console.error(\"Failed to find cell for figure\", id, fig);\n",
       "        return;\n",
       "    }\n",
       "\n",
       "    var output_index = fig.cell_info[2]\n",
       "    var cell = fig.cell_info[0];\n",
       "\n",
       "};\n",
       "\n",
       "mpl.figure.prototype.handle_close = function(fig, msg) {\n",
       "    var width = fig.canvas.width/mpl.ratio\n",
       "    fig.root.unbind('remove')\n",
       "\n",
       "    // Update the output cell to use the data from the current canvas.\n",
       "    fig.push_to_output();\n",
       "    var dataURL = fig.canvas.toDataURL();\n",
       "    // Re-enable the keyboard manager in IPython - without this line, in FF,\n",
       "    // the notebook keyboard shortcuts fail.\n",
       "    IPython.keyboard_manager.enable()\n",
       "    $(fig.parent_element).html('<img src=\"' + dataURL + '\" width=\"' + width + '\">');\n",
       "    fig.close_ws(fig, msg);\n",
       "}\n",
       "\n",
       "mpl.figure.prototype.close_ws = function(fig, msg){\n",
       "    fig.send_message('closing', msg);\n",
       "    // fig.ws.close()\n",
       "}\n",
       "\n",
       "mpl.figure.prototype.push_to_output = function(remove_interactive) {\n",
       "    // Turn the data on the canvas into data in the output cell.\n",
       "    var width = this.canvas.width/mpl.ratio\n",
       "    var dataURL = this.canvas.toDataURL();\n",
       "    this.cell_info[1]['text/html'] = '<img src=\"' + dataURL + '\" width=\"' + width + '\">';\n",
       "}\n",
       "\n",
       "mpl.figure.prototype.updated_canvas_event = function() {\n",
       "    // Tell IPython that the notebook contents must change.\n",
       "    IPython.notebook.set_dirty(true);\n",
       "    this.send_message(\"ack\", {});\n",
       "    var fig = this;\n",
       "    // Wait a second, then push the new image to the DOM so\n",
       "    // that it is saved nicely (might be nice to debounce this).\n",
       "    setTimeout(function () { fig.push_to_output() }, 1000);\n",
       "}\n",
       "\n",
       "mpl.figure.prototype._init_toolbar = function() {\n",
       "    var fig = this;\n",
       "\n",
       "    var nav_element = $('<div/>');\n",
       "    nav_element.attr('style', 'width: 100%');\n",
       "    this.root.append(nav_element);\n",
       "\n",
       "    // Define a callback function for later on.\n",
       "    function toolbar_event(event) {\n",
       "        return fig.toolbar_button_onclick(event['data']);\n",
       "    }\n",
       "    function toolbar_mouse_event(event) {\n",
       "        return fig.toolbar_button_onmouseover(event['data']);\n",
       "    }\n",
       "\n",
       "    for(var toolbar_ind in mpl.toolbar_items){\n",
       "        var name = mpl.toolbar_items[toolbar_ind][0];\n",
       "        var tooltip = mpl.toolbar_items[toolbar_ind][1];\n",
       "        var image = mpl.toolbar_items[toolbar_ind][2];\n",
       "        var method_name = mpl.toolbar_items[toolbar_ind][3];\n",
       "\n",
       "        if (!name) { continue; };\n",
       "\n",
       "        var button = $('<button class=\"btn btn-default\" href=\"#\" title=\"' + name + '\"><i class=\"fa ' + image + ' fa-lg\"></i></button>');\n",
       "        button.click(method_name, toolbar_event);\n",
       "        button.mouseover(tooltip, toolbar_mouse_event);\n",
       "        nav_element.append(button);\n",
       "    }\n",
       "\n",
       "    // Add the status bar.\n",
       "    var status_bar = $('<span class=\"mpl-message\" style=\"text-align:right; float: right;\"/>');\n",
       "    nav_element.append(status_bar);\n",
       "    this.message = status_bar[0];\n",
       "\n",
       "    // Add the close button to the window.\n",
       "    var buttongrp = $('<div class=\"btn-group inline pull-right\"></div>');\n",
       "    var button = $('<button class=\"btn btn-mini btn-primary\" href=\"#\" title=\"Stop Interaction\"><i class=\"fa fa-power-off icon-remove icon-large\"></i></button>');\n",
       "    button.click(function (evt) { fig.handle_close(fig, {}); } );\n",
       "    button.mouseover('Stop Interaction', toolbar_mouse_event);\n",
       "    buttongrp.append(button);\n",
       "    var titlebar = this.root.find($('.ui-dialog-titlebar'));\n",
       "    titlebar.prepend(buttongrp);\n",
       "}\n",
       "\n",
       "mpl.figure.prototype._root_extra_style = function(el){\n",
       "    var fig = this\n",
       "    el.on(\"remove\", function(){\n",
       "\tfig.close_ws(fig, {});\n",
       "    });\n",
       "}\n",
       "\n",
       "mpl.figure.prototype._canvas_extra_style = function(el){\n",
       "    // this is important to make the div 'focusable\n",
       "    el.attr('tabindex', 0)\n",
       "    // reach out to IPython and tell the keyboard manager to turn it's self\n",
       "    // off when our div gets focus\n",
       "\n",
       "    // location in version 3\n",
       "    if (IPython.notebook.keyboard_manager) {\n",
       "        IPython.notebook.keyboard_manager.register_events(el);\n",
       "    }\n",
       "    else {\n",
       "        // location in version 2\n",
       "        IPython.keyboard_manager.register_events(el);\n",
       "    }\n",
       "\n",
       "}\n",
       "\n",
       "mpl.figure.prototype._key_event_extra = function(event, name) {\n",
       "    var manager = IPython.notebook.keyboard_manager;\n",
       "    if (!manager)\n",
       "        manager = IPython.keyboard_manager;\n",
       "\n",
       "    // Check for shift+enter\n",
       "    if (event.shiftKey && event.which == 13) {\n",
       "        this.canvas_div.blur();\n",
       "        // select the cell after this one\n",
       "        var index = IPython.notebook.find_cell_index(this.cell_info[0]);\n",
       "        IPython.notebook.select(index + 1);\n",
       "    }\n",
       "}\n",
       "\n",
       "mpl.figure.prototype.handle_save = function(fig, msg) {\n",
       "    fig.ondownload(fig, null);\n",
       "}\n",
       "\n",
       "\n",
       "mpl.find_output_cell = function(html_output) {\n",
       "    // Return the cell and output element which can be found *uniquely* in the notebook.\n",
       "    // Note - this is a bit hacky, but it is done because the \"notebook_saving.Notebook\"\n",
       "    // IPython event is triggered only after the cells have been serialised, which for\n",
       "    // our purposes (turning an active figure into a static one), is too late.\n",
       "    var cells = IPython.notebook.get_cells();\n",
       "    var ncells = cells.length;\n",
       "    for (var i=0; i<ncells; i++) {\n",
       "        var cell = cells[i];\n",
       "        if (cell.cell_type === 'code'){\n",
       "            for (var j=0; j<cell.output_area.outputs.length; j++) {\n",
       "                var data = cell.output_area.outputs[j];\n",
       "                if (data.data) {\n",
       "                    // IPython >= 3 moved mimebundle to data attribute of output\n",
       "                    data = data.data;\n",
       "                }\n",
       "                if (data['text/html'] == html_output) {\n",
       "                    return [cell, data, j];\n",
       "                }\n",
       "            }\n",
       "        }\n",
       "    }\n",
       "}\n",
       "\n",
       "// Register the function which deals with the matplotlib target/channel.\n",
       "// The kernel may be null if the page has been refreshed.\n",
       "if (IPython.notebook.kernel != null) {\n",
       "    IPython.notebook.kernel.comm_manager.register_target('matplotlib', mpl.mpl_figure_comm);\n",
       "}\n"
      ],
      "text/plain": [
       "<IPython.core.display.Javascript object>"
      ]
     },
     "metadata": {},
     "output_type": "display_data"
    },
    {
     "data": {
      "text/html": [
       "<img src=\"data:image/png;base64,iVBORw0KGgoAAAANSUhEUgAAAbAAAAEgCAYAAADVKCZpAAAB+UlEQVR4nO3BMQEAAADCoPVP7WkJoAAAAAAAAAAAAAAAAAAAAAAAAAAAAAAAAAAAAAAAAAAAAAAAAAAAAAAAAAAAAAAAAAAAAAAAAAAAAAAAAAAAAAAAAAAAAAAAAAAAAAAAAAAAAAAAAAAAAAAAAAAAAAAAAAAAAAAAAAAAAAAAAAAAAAAAAAAAAAAAAAAAAAAAAAAAAAAAAAAAAAAAAAAAAAAAAAAAAAAAAAAAAAAAAAAAAAAAAAAAAAAAAAAAAAAAAAAAAAAAAAAAAAAAAAAAAAAAAAAAAAAAAAAAAAAAAAAAAAAAAAAAAAAAAAAAAAAAAAAAAAAAAAAAAAAAAAAAAAAAAAAAAAAAAAAAAAAAAAAAAAAAAAAAAAAAAAAAAAAAAAAAAAAAAAAAAAAAAAAAAAAAAAAAAAAAAAAAAAAAAAAAAAAAAAAAAAAAAAAAAAAAAAAAAAAAAAAAAAAAAAAAAAAAAAAAAAAAAAAAAAAAAAAAAAAAAAAAAAAAAAAAAAAAAAAAAAAAAAAAAAAAAAAAAAAAAAAAAAAAAAAAAAAAAAAAAAAAAAAAAAAAAAAAAAAAAAAAAAAAAAAAAAAAAAAAAAAAAAAAAAAAAAAAAAAAAAAAAAAAAAAAAAAAAAAAAAAAAAAAAAAAAAAAAAAAAAAAAAAAAAAA4AaZiQAB1KMUfAAAAABJRU5ErkJggg==\" width=\"432\">"
      ],
      "text/plain": [
       "<IPython.core.display.HTML object>"
      ]
     },
     "metadata": {},
     "output_type": "display_data"
    },
    {
     "data": {
      "text/plain": [
       "<mpl_toolkits.mplot3d.art3d.Poly3DCollection at 0x7ff3dd3bf310>"
      ]
     },
     "execution_count": 86,
     "metadata": {},
     "output_type": "execute_result"
    },
    {
     "data": {
      "application/javascript": [
       "/* Put everything inside the global mpl namespace */\n",
       "window.mpl = {};\n",
       "\n",
       "\n",
       "mpl.get_websocket_type = function() {\n",
       "    if (typeof(WebSocket) !== 'undefined') {\n",
       "        return WebSocket;\n",
       "    } else if (typeof(MozWebSocket) !== 'undefined') {\n",
       "        return MozWebSocket;\n",
       "    } else {\n",
       "        alert('Your browser does not have WebSocket support. ' +\n",
       "              'Please try Chrome, Safari or Firefox ≥ 6. ' +\n",
       "              'Firefox 4 and 5 are also supported but you ' +\n",
       "              'have to enable WebSockets in about:config.');\n",
       "    };\n",
       "}\n",
       "\n",
       "mpl.figure = function(figure_id, websocket, ondownload, parent_element) {\n",
       "    this.id = figure_id;\n",
       "\n",
       "    this.ws = websocket;\n",
       "\n",
       "    this.supports_binary = (this.ws.binaryType != undefined);\n",
       "\n",
       "    if (!this.supports_binary) {\n",
       "        var warnings = document.getElementById(\"mpl-warnings\");\n",
       "        if (warnings) {\n",
       "            warnings.style.display = 'block';\n",
       "            warnings.textContent = (\n",
       "                \"This browser does not support binary websocket messages. \" +\n",
       "                    \"Performance may be slow.\");\n",
       "        }\n",
       "    }\n",
       "\n",
       "    this.imageObj = new Image();\n",
       "\n",
       "    this.context = undefined;\n",
       "    this.message = undefined;\n",
       "    this.canvas = undefined;\n",
       "    this.rubberband_canvas = undefined;\n",
       "    this.rubberband_context = undefined;\n",
       "    this.format_dropdown = undefined;\n",
       "\n",
       "    this.image_mode = 'full';\n",
       "\n",
       "    this.root = $('<div/>');\n",
       "    this._root_extra_style(this.root)\n",
       "    this.root.attr('style', 'display: inline-block');\n",
       "\n",
       "    $(parent_element).append(this.root);\n",
       "\n",
       "    this._init_header(this);\n",
       "    this._init_canvas(this);\n",
       "    this._init_toolbar(this);\n",
       "\n",
       "    var fig = this;\n",
       "\n",
       "    this.waiting = false;\n",
       "\n",
       "    this.ws.onopen =  function () {\n",
       "            fig.send_message(\"supports_binary\", {value: fig.supports_binary});\n",
       "            fig.send_message(\"send_image_mode\", {});\n",
       "            if (mpl.ratio != 1) {\n",
       "                fig.send_message(\"set_dpi_ratio\", {'dpi_ratio': mpl.ratio});\n",
       "            }\n",
       "            fig.send_message(\"refresh\", {});\n",
       "        }\n",
       "\n",
       "    this.imageObj.onload = function() {\n",
       "            if (fig.image_mode == 'full') {\n",
       "                // Full images could contain transparency (where diff images\n",
       "                // almost always do), so we need to clear the canvas so that\n",
       "                // there is no ghosting.\n",
       "                fig.context.clearRect(0, 0, fig.canvas.width, fig.canvas.height);\n",
       "            }\n",
       "            fig.context.drawImage(fig.imageObj, 0, 0);\n",
       "        };\n",
       "\n",
       "    this.imageObj.onunload = function() {\n",
       "        fig.ws.close();\n",
       "    }\n",
       "\n",
       "    this.ws.onmessage = this._make_on_message_function(this);\n",
       "\n",
       "    this.ondownload = ondownload;\n",
       "}\n",
       "\n",
       "mpl.figure.prototype._init_header = function() {\n",
       "    var titlebar = $(\n",
       "        '<div class=\"ui-dialog-titlebar ui-widget-header ui-corner-all ' +\n",
       "        'ui-helper-clearfix\"/>');\n",
       "    var titletext = $(\n",
       "        '<div class=\"ui-dialog-title\" style=\"width: 100%; ' +\n",
       "        'text-align: center; padding: 3px;\"/>');\n",
       "    titlebar.append(titletext)\n",
       "    this.root.append(titlebar);\n",
       "    this.header = titletext[0];\n",
       "}\n",
       "\n",
       "\n",
       "\n",
       "mpl.figure.prototype._canvas_extra_style = function(canvas_div) {\n",
       "\n",
       "}\n",
       "\n",
       "\n",
       "mpl.figure.prototype._root_extra_style = function(canvas_div) {\n",
       "\n",
       "}\n",
       "\n",
       "mpl.figure.prototype._init_canvas = function() {\n",
       "    var fig = this;\n",
       "\n",
       "    var canvas_div = $('<div/>');\n",
       "\n",
       "    canvas_div.attr('style', 'position: relative; clear: both; outline: 0');\n",
       "\n",
       "    function canvas_keyboard_event(event) {\n",
       "        return fig.key_event(event, event['data']);\n",
       "    }\n",
       "\n",
       "    canvas_div.keydown('key_press', canvas_keyboard_event);\n",
       "    canvas_div.keyup('key_release', canvas_keyboard_event);\n",
       "    this.canvas_div = canvas_div\n",
       "    this._canvas_extra_style(canvas_div)\n",
       "    this.root.append(canvas_div);\n",
       "\n",
       "    var canvas = $('<canvas/>');\n",
       "    canvas.addClass('mpl-canvas');\n",
       "    canvas.attr('style', \"left: 0; top: 0; z-index: 0; outline: 0\")\n",
       "\n",
       "    this.canvas = canvas[0];\n",
       "    this.context = canvas[0].getContext(\"2d\");\n",
       "\n",
       "    var backingStore = this.context.backingStorePixelRatio ||\n",
       "\tthis.context.webkitBackingStorePixelRatio ||\n",
       "\tthis.context.mozBackingStorePixelRatio ||\n",
       "\tthis.context.msBackingStorePixelRatio ||\n",
       "\tthis.context.oBackingStorePixelRatio ||\n",
       "\tthis.context.backingStorePixelRatio || 1;\n",
       "\n",
       "    mpl.ratio = (window.devicePixelRatio || 1) / backingStore;\n",
       "\n",
       "    var rubberband = $('<canvas/>');\n",
       "    rubberband.attr('style', \"position: absolute; left: 0; top: 0; z-index: 1;\")\n",
       "\n",
       "    var pass_mouse_events = true;\n",
       "\n",
       "    canvas_div.resizable({\n",
       "        start: function(event, ui) {\n",
       "            pass_mouse_events = false;\n",
       "        },\n",
       "        resize: function(event, ui) {\n",
       "            fig.request_resize(ui.size.width, ui.size.height);\n",
       "        },\n",
       "        stop: function(event, ui) {\n",
       "            pass_mouse_events = true;\n",
       "            fig.request_resize(ui.size.width, ui.size.height);\n",
       "        },\n",
       "    });\n",
       "\n",
       "    function mouse_event_fn(event) {\n",
       "        if (pass_mouse_events)\n",
       "            return fig.mouse_event(event, event['data']);\n",
       "    }\n",
       "\n",
       "    rubberband.mousedown('button_press', mouse_event_fn);\n",
       "    rubberband.mouseup('button_release', mouse_event_fn);\n",
       "    // Throttle sequential mouse events to 1 every 20ms.\n",
       "    rubberband.mousemove('motion_notify', mouse_event_fn);\n",
       "\n",
       "    rubberband.mouseenter('figure_enter', mouse_event_fn);\n",
       "    rubberband.mouseleave('figure_leave', mouse_event_fn);\n",
       "\n",
       "    canvas_div.on(\"wheel\", function (event) {\n",
       "        event = event.originalEvent;\n",
       "        event['data'] = 'scroll'\n",
       "        if (event.deltaY < 0) {\n",
       "            event.step = 1;\n",
       "        } else {\n",
       "            event.step = -1;\n",
       "        }\n",
       "        mouse_event_fn(event);\n",
       "    });\n",
       "\n",
       "    canvas_div.append(canvas);\n",
       "    canvas_div.append(rubberband);\n",
       "\n",
       "    this.rubberband = rubberband;\n",
       "    this.rubberband_canvas = rubberband[0];\n",
       "    this.rubberband_context = rubberband[0].getContext(\"2d\");\n",
       "    this.rubberband_context.strokeStyle = \"#000000\";\n",
       "\n",
       "    this._resize_canvas = function(width, height) {\n",
       "        // Keep the size of the canvas, canvas container, and rubber band\n",
       "        // canvas in synch.\n",
       "        canvas_div.css('width', width)\n",
       "        canvas_div.css('height', height)\n",
       "\n",
       "        canvas.attr('width', width * mpl.ratio);\n",
       "        canvas.attr('height', height * mpl.ratio);\n",
       "        canvas.attr('style', 'width: ' + width + 'px; height: ' + height + 'px;');\n",
       "\n",
       "        rubberband.attr('width', width);\n",
       "        rubberband.attr('height', height);\n",
       "    }\n",
       "\n",
       "    // Set the figure to an initial 600x600px, this will subsequently be updated\n",
       "    // upon first draw.\n",
       "    this._resize_canvas(600, 600);\n",
       "\n",
       "    // Disable right mouse context menu.\n",
       "    $(this.rubberband_canvas).bind(\"contextmenu\",function(e){\n",
       "        return false;\n",
       "    });\n",
       "\n",
       "    function set_focus () {\n",
       "        canvas.focus();\n",
       "        canvas_div.focus();\n",
       "    }\n",
       "\n",
       "    window.setTimeout(set_focus, 100);\n",
       "}\n",
       "\n",
       "mpl.figure.prototype._init_toolbar = function() {\n",
       "    var fig = this;\n",
       "\n",
       "    var nav_element = $('<div/>');\n",
       "    nav_element.attr('style', 'width: 100%');\n",
       "    this.root.append(nav_element);\n",
       "\n",
       "    // Define a callback function for later on.\n",
       "    function toolbar_event(event) {\n",
       "        return fig.toolbar_button_onclick(event['data']);\n",
       "    }\n",
       "    function toolbar_mouse_event(event) {\n",
       "        return fig.toolbar_button_onmouseover(event['data']);\n",
       "    }\n",
       "\n",
       "    for(var toolbar_ind in mpl.toolbar_items) {\n",
       "        var name = mpl.toolbar_items[toolbar_ind][0];\n",
       "        var tooltip = mpl.toolbar_items[toolbar_ind][1];\n",
       "        var image = mpl.toolbar_items[toolbar_ind][2];\n",
       "        var method_name = mpl.toolbar_items[toolbar_ind][3];\n",
       "\n",
       "        if (!name) {\n",
       "            // put a spacer in here.\n",
       "            continue;\n",
       "        }\n",
       "        var button = $('<button/>');\n",
       "        button.addClass('ui-button ui-widget ui-state-default ui-corner-all ' +\n",
       "                        'ui-button-icon-only');\n",
       "        button.attr('role', 'button');\n",
       "        button.attr('aria-disabled', 'false');\n",
       "        button.click(method_name, toolbar_event);\n",
       "        button.mouseover(tooltip, toolbar_mouse_event);\n",
       "\n",
       "        var icon_img = $('<span/>');\n",
       "        icon_img.addClass('ui-button-icon-primary ui-icon');\n",
       "        icon_img.addClass(image);\n",
       "        icon_img.addClass('ui-corner-all');\n",
       "\n",
       "        var tooltip_span = $('<span/>');\n",
       "        tooltip_span.addClass('ui-button-text');\n",
       "        tooltip_span.html(tooltip);\n",
       "\n",
       "        button.append(icon_img);\n",
       "        button.append(tooltip_span);\n",
       "\n",
       "        nav_element.append(button);\n",
       "    }\n",
       "\n",
       "    var fmt_picker_span = $('<span/>');\n",
       "\n",
       "    var fmt_picker = $('<select/>');\n",
       "    fmt_picker.addClass('mpl-toolbar-option ui-widget ui-widget-content');\n",
       "    fmt_picker_span.append(fmt_picker);\n",
       "    nav_element.append(fmt_picker_span);\n",
       "    this.format_dropdown = fmt_picker[0];\n",
       "\n",
       "    for (var ind in mpl.extensions) {\n",
       "        var fmt = mpl.extensions[ind];\n",
       "        var option = $(\n",
       "            '<option/>', {selected: fmt === mpl.default_extension}).html(fmt);\n",
       "        fmt_picker.append(option);\n",
       "    }\n",
       "\n",
       "    // Add hover states to the ui-buttons\n",
       "    $( \".ui-button\" ).hover(\n",
       "        function() { $(this).addClass(\"ui-state-hover\");},\n",
       "        function() { $(this).removeClass(\"ui-state-hover\");}\n",
       "    );\n",
       "\n",
       "    var status_bar = $('<span class=\"mpl-message\"/>');\n",
       "    nav_element.append(status_bar);\n",
       "    this.message = status_bar[0];\n",
       "}\n",
       "\n",
       "mpl.figure.prototype.request_resize = function(x_pixels, y_pixels) {\n",
       "    // Request matplotlib to resize the figure. Matplotlib will then trigger a resize in the client,\n",
       "    // which will in turn request a refresh of the image.\n",
       "    this.send_message('resize', {'width': x_pixels, 'height': y_pixels});\n",
       "}\n",
       "\n",
       "mpl.figure.prototype.send_message = function(type, properties) {\n",
       "    properties['type'] = type;\n",
       "    properties['figure_id'] = this.id;\n",
       "    this.ws.send(JSON.stringify(properties));\n",
       "}\n",
       "\n",
       "mpl.figure.prototype.send_draw_message = function() {\n",
       "    if (!this.waiting) {\n",
       "        this.waiting = true;\n",
       "        this.ws.send(JSON.stringify({type: \"draw\", figure_id: this.id}));\n",
       "    }\n",
       "}\n",
       "\n",
       "\n",
       "mpl.figure.prototype.handle_save = function(fig, msg) {\n",
       "    var format_dropdown = fig.format_dropdown;\n",
       "    var format = format_dropdown.options[format_dropdown.selectedIndex].value;\n",
       "    fig.ondownload(fig, format);\n",
       "}\n",
       "\n",
       "\n",
       "mpl.figure.prototype.handle_resize = function(fig, msg) {\n",
       "    var size = msg['size'];\n",
       "    if (size[0] != fig.canvas.width || size[1] != fig.canvas.height) {\n",
       "        fig._resize_canvas(size[0], size[1]);\n",
       "        fig.send_message(\"refresh\", {});\n",
       "    };\n",
       "}\n",
       "\n",
       "mpl.figure.prototype.handle_rubberband = function(fig, msg) {\n",
       "    var x0 = msg['x0'] / mpl.ratio;\n",
       "    var y0 = (fig.canvas.height - msg['y0']) / mpl.ratio;\n",
       "    var x1 = msg['x1'] / mpl.ratio;\n",
       "    var y1 = (fig.canvas.height - msg['y1']) / mpl.ratio;\n",
       "    x0 = Math.floor(x0) + 0.5;\n",
       "    y0 = Math.floor(y0) + 0.5;\n",
       "    x1 = Math.floor(x1) + 0.5;\n",
       "    y1 = Math.floor(y1) + 0.5;\n",
       "    var min_x = Math.min(x0, x1);\n",
       "    var min_y = Math.min(y0, y1);\n",
       "    var width = Math.abs(x1 - x0);\n",
       "    var height = Math.abs(y1 - y0);\n",
       "\n",
       "    fig.rubberband_context.clearRect(\n",
       "        0, 0, fig.canvas.width / mpl.ratio, fig.canvas.height / mpl.ratio);\n",
       "\n",
       "    fig.rubberband_context.strokeRect(min_x, min_y, width, height);\n",
       "}\n",
       "\n",
       "mpl.figure.prototype.handle_figure_label = function(fig, msg) {\n",
       "    // Updates the figure title.\n",
       "    fig.header.textContent = msg['label'];\n",
       "}\n",
       "\n",
       "mpl.figure.prototype.handle_cursor = function(fig, msg) {\n",
       "    var cursor = msg['cursor'];\n",
       "    switch(cursor)\n",
       "    {\n",
       "    case 0:\n",
       "        cursor = 'pointer';\n",
       "        break;\n",
       "    case 1:\n",
       "        cursor = 'default';\n",
       "        break;\n",
       "    case 2:\n",
       "        cursor = 'crosshair';\n",
       "        break;\n",
       "    case 3:\n",
       "        cursor = 'move';\n",
       "        break;\n",
       "    }\n",
       "    fig.rubberband_canvas.style.cursor = cursor;\n",
       "}\n",
       "\n",
       "mpl.figure.prototype.handle_message = function(fig, msg) {\n",
       "    fig.message.textContent = msg['message'];\n",
       "}\n",
       "\n",
       "mpl.figure.prototype.handle_draw = function(fig, msg) {\n",
       "    // Request the server to send over a new figure.\n",
       "    fig.send_draw_message();\n",
       "}\n",
       "\n",
       "mpl.figure.prototype.handle_image_mode = function(fig, msg) {\n",
       "    fig.image_mode = msg['mode'];\n",
       "}\n",
       "\n",
       "mpl.figure.prototype.updated_canvas_event = function() {\n",
       "    // Called whenever the canvas gets updated.\n",
       "    this.send_message(\"ack\", {});\n",
       "}\n",
       "\n",
       "// A function to construct a web socket function for onmessage handling.\n",
       "// Called in the figure constructor.\n",
       "mpl.figure.prototype._make_on_message_function = function(fig) {\n",
       "    return function socket_on_message(evt) {\n",
       "        if (evt.data instanceof Blob) {\n",
       "            /* FIXME: We get \"Resource interpreted as Image but\n",
       "             * transferred with MIME type text/plain:\" errors on\n",
       "             * Chrome.  But how to set the MIME type?  It doesn't seem\n",
       "             * to be part of the websocket stream */\n",
       "            evt.data.type = \"image/png\";\n",
       "\n",
       "            /* Free the memory for the previous frames */\n",
       "            if (fig.imageObj.src) {\n",
       "                (window.URL || window.webkitURL).revokeObjectURL(\n",
       "                    fig.imageObj.src);\n",
       "            }\n",
       "\n",
       "            fig.imageObj.src = (window.URL || window.webkitURL).createObjectURL(\n",
       "                evt.data);\n",
       "            fig.updated_canvas_event();\n",
       "            fig.waiting = false;\n",
       "            return;\n",
       "        }\n",
       "        else if (typeof evt.data === 'string' && evt.data.slice(0, 21) == \"data:image/png;base64\") {\n",
       "            fig.imageObj.src = evt.data;\n",
       "            fig.updated_canvas_event();\n",
       "            fig.waiting = false;\n",
       "            return;\n",
       "        }\n",
       "\n",
       "        var msg = JSON.parse(evt.data);\n",
       "        var msg_type = msg['type'];\n",
       "\n",
       "        // Call the  \"handle_{type}\" callback, which takes\n",
       "        // the figure and JSON message as its only arguments.\n",
       "        try {\n",
       "            var callback = fig[\"handle_\" + msg_type];\n",
       "        } catch (e) {\n",
       "            console.log(\"No handler for the '\" + msg_type + \"' message type: \", msg);\n",
       "            return;\n",
       "        }\n",
       "\n",
       "        if (callback) {\n",
       "            try {\n",
       "                // console.log(\"Handling '\" + msg_type + \"' message: \", msg);\n",
       "                callback(fig, msg);\n",
       "            } catch (e) {\n",
       "                console.log(\"Exception inside the 'handler_\" + msg_type + \"' callback:\", e, e.stack, msg);\n",
       "            }\n",
       "        }\n",
       "    };\n",
       "}\n",
       "\n",
       "// from http://stackoverflow.com/questions/1114465/getting-mouse-location-in-canvas\n",
       "mpl.findpos = function(e) {\n",
       "    //this section is from http://www.quirksmode.org/js/events_properties.html\n",
       "    var targ;\n",
       "    if (!e)\n",
       "        e = window.event;\n",
       "    if (e.target)\n",
       "        targ = e.target;\n",
       "    else if (e.srcElement)\n",
       "        targ = e.srcElement;\n",
       "    if (targ.nodeType == 3) // defeat Safari bug\n",
       "        targ = targ.parentNode;\n",
       "\n",
       "    // jQuery normalizes the pageX and pageY\n",
       "    // pageX,Y are the mouse positions relative to the document\n",
       "    // offset() returns the position of the element relative to the document\n",
       "    var x = e.pageX - $(targ).offset().left;\n",
       "    var y = e.pageY - $(targ).offset().top;\n",
       "\n",
       "    return {\"x\": x, \"y\": y};\n",
       "};\n",
       "\n",
       "/*\n",
       " * return a copy of an object with only non-object keys\n",
       " * we need this to avoid circular references\n",
       " * http://stackoverflow.com/a/24161582/3208463\n",
       " */\n",
       "function simpleKeys (original) {\n",
       "  return Object.keys(original).reduce(function (obj, key) {\n",
       "    if (typeof original[key] !== 'object')\n",
       "        obj[key] = original[key]\n",
       "    return obj;\n",
       "  }, {});\n",
       "}\n",
       "\n",
       "mpl.figure.prototype.mouse_event = function(event, name) {\n",
       "    var canvas_pos = mpl.findpos(event)\n",
       "\n",
       "    if (name === 'button_press')\n",
       "    {\n",
       "        this.canvas.focus();\n",
       "        this.canvas_div.focus();\n",
       "    }\n",
       "\n",
       "    var x = canvas_pos.x * mpl.ratio;\n",
       "    var y = canvas_pos.y * mpl.ratio;\n",
       "\n",
       "    this.send_message(name, {x: x, y: y, button: event.button,\n",
       "                             step: event.step,\n",
       "                             guiEvent: simpleKeys(event)});\n",
       "\n",
       "    /* This prevents the web browser from automatically changing to\n",
       "     * the text insertion cursor when the button is pressed.  We want\n",
       "     * to control all of the cursor setting manually through the\n",
       "     * 'cursor' event from matplotlib */\n",
       "    event.preventDefault();\n",
       "    return false;\n",
       "}\n",
       "\n",
       "mpl.figure.prototype._key_event_extra = function(event, name) {\n",
       "    // Handle any extra behaviour associated with a key event\n",
       "}\n",
       "\n",
       "mpl.figure.prototype.key_event = function(event, name) {\n",
       "\n",
       "    // Prevent repeat events\n",
       "    if (name == 'key_press')\n",
       "    {\n",
       "        if (event.which === this._key)\n",
       "            return;\n",
       "        else\n",
       "            this._key = event.which;\n",
       "    }\n",
       "    if (name == 'key_release')\n",
       "        this._key = null;\n",
       "\n",
       "    var value = '';\n",
       "    if (event.ctrlKey && event.which != 17)\n",
       "        value += \"ctrl+\";\n",
       "    if (event.altKey && event.which != 18)\n",
       "        value += \"alt+\";\n",
       "    if (event.shiftKey && event.which != 16)\n",
       "        value += \"shift+\";\n",
       "\n",
       "    value += 'k';\n",
       "    value += event.which.toString();\n",
       "\n",
       "    this._key_event_extra(event, name);\n",
       "\n",
       "    this.send_message(name, {key: value,\n",
       "                             guiEvent: simpleKeys(event)});\n",
       "    return false;\n",
       "}\n",
       "\n",
       "mpl.figure.prototype.toolbar_button_onclick = function(name) {\n",
       "    if (name == 'download') {\n",
       "        this.handle_save(this, null);\n",
       "    } else {\n",
       "        this.send_message(\"toolbar_button\", {name: name});\n",
       "    }\n",
       "};\n",
       "\n",
       "mpl.figure.prototype.toolbar_button_onmouseover = function(tooltip) {\n",
       "    this.message.textContent = tooltip;\n",
       "};\n",
       "mpl.toolbar_items = [[\"Home\", \"Reset original view\", \"fa fa-home icon-home\", \"home\"], [\"Back\", \"Back to previous view\", \"fa fa-arrow-left icon-arrow-left\", \"back\"], [\"Forward\", \"Forward to next view\", \"fa fa-arrow-right icon-arrow-right\", \"forward\"], [\"\", \"\", \"\", \"\"], [\"Pan\", \"Pan axes with left mouse, zoom with right\", \"fa fa-arrows icon-move\", \"pan\"], [\"Zoom\", \"Zoom to rectangle\", \"fa fa-square-o icon-check-empty\", \"zoom\"], [\"\", \"\", \"\", \"\"], [\"Download\", \"Download plot\", \"fa fa-floppy-o icon-save\", \"download\"]];\n",
       "\n",
       "mpl.extensions = [\"eps\", \"jpeg\", \"pdf\", \"png\", \"ps\", \"raw\", \"svg\", \"tif\"];\n",
       "\n",
       "mpl.default_extension = \"png\";var comm_websocket_adapter = function(comm) {\n",
       "    // Create a \"websocket\"-like object which calls the given IPython comm\n",
       "    // object with the appropriate methods. Currently this is a non binary\n",
       "    // socket, so there is still some room for performance tuning.\n",
       "    var ws = {};\n",
       "\n",
       "    ws.close = function() {\n",
       "        comm.close()\n",
       "    };\n",
       "    ws.send = function(m) {\n",
       "        //console.log('sending', m);\n",
       "        comm.send(m);\n",
       "    };\n",
       "    // Register the callback with on_msg.\n",
       "    comm.on_msg(function(msg) {\n",
       "        //console.log('receiving', msg['content']['data'], msg);\n",
       "        // Pass the mpl event to the overridden (by mpl) onmessage function.\n",
       "        ws.onmessage(msg['content']['data'])\n",
       "    });\n",
       "    return ws;\n",
       "}\n",
       "\n",
       "mpl.mpl_figure_comm = function(comm, msg) {\n",
       "    // This is the function which gets called when the mpl process\n",
       "    // starts-up an IPython Comm through the \"matplotlib\" channel.\n",
       "\n",
       "    var id = msg.content.data.id;\n",
       "    // Get hold of the div created by the display call when the Comm\n",
       "    // socket was opened in Python.\n",
       "    var element = $(\"#\" + id);\n",
       "    var ws_proxy = comm_websocket_adapter(comm)\n",
       "\n",
       "    function ondownload(figure, format) {\n",
       "        window.open(figure.imageObj.src);\n",
       "    }\n",
       "\n",
       "    var fig = new mpl.figure(id, ws_proxy,\n",
       "                           ondownload,\n",
       "                           element.get(0));\n",
       "\n",
       "    // Call onopen now - mpl needs it, as it is assuming we've passed it a real\n",
       "    // web socket which is closed, not our websocket->open comm proxy.\n",
       "    ws_proxy.onopen();\n",
       "\n",
       "    fig.parent_element = element.get(0);\n",
       "    fig.cell_info = mpl.find_output_cell(\"<div id='\" + id + \"'></div>\");\n",
       "    if (!fig.cell_info) {\n",
       "        console.error(\"Failed to find cell for figure\", id, fig);\n",
       "        return;\n",
       "    }\n",
       "\n",
       "    var output_index = fig.cell_info[2]\n",
       "    var cell = fig.cell_info[0];\n",
       "\n",
       "};\n",
       "\n",
       "mpl.figure.prototype.handle_close = function(fig, msg) {\n",
       "    var width = fig.canvas.width/mpl.ratio\n",
       "    fig.root.unbind('remove')\n",
       "\n",
       "    // Update the output cell to use the data from the current canvas.\n",
       "    fig.push_to_output();\n",
       "    var dataURL = fig.canvas.toDataURL();\n",
       "    // Re-enable the keyboard manager in IPython - without this line, in FF,\n",
       "    // the notebook keyboard shortcuts fail.\n",
       "    IPython.keyboard_manager.enable()\n",
       "    $(fig.parent_element).html('<img src=\"' + dataURL + '\" width=\"' + width + '\">');\n",
       "    fig.close_ws(fig, msg);\n",
       "}\n",
       "\n",
       "mpl.figure.prototype.close_ws = function(fig, msg){\n",
       "    fig.send_message('closing', msg);\n",
       "    // fig.ws.close()\n",
       "}\n",
       "\n",
       "mpl.figure.prototype.push_to_output = function(remove_interactive) {\n",
       "    // Turn the data on the canvas into data in the output cell.\n",
       "    var width = this.canvas.width/mpl.ratio\n",
       "    var dataURL = this.canvas.toDataURL();\n",
       "    this.cell_info[1]['text/html'] = '<img src=\"' + dataURL + '\" width=\"' + width + '\">';\n",
       "}\n",
       "\n",
       "mpl.figure.prototype.updated_canvas_event = function() {\n",
       "    // Tell IPython that the notebook contents must change.\n",
       "    IPython.notebook.set_dirty(true);\n",
       "    this.send_message(\"ack\", {});\n",
       "    var fig = this;\n",
       "    // Wait a second, then push the new image to the DOM so\n",
       "    // that it is saved nicely (might be nice to debounce this).\n",
       "    setTimeout(function () { fig.push_to_output() }, 1000);\n",
       "}\n",
       "\n",
       "mpl.figure.prototype._init_toolbar = function() {\n",
       "    var fig = this;\n",
       "\n",
       "    var nav_element = $('<div/>');\n",
       "    nav_element.attr('style', 'width: 100%');\n",
       "    this.root.append(nav_element);\n",
       "\n",
       "    // Define a callback function for later on.\n",
       "    function toolbar_event(event) {\n",
       "        return fig.toolbar_button_onclick(event['data']);\n",
       "    }\n",
       "    function toolbar_mouse_event(event) {\n",
       "        return fig.toolbar_button_onmouseover(event['data']);\n",
       "    }\n",
       "\n",
       "    for(var toolbar_ind in mpl.toolbar_items){\n",
       "        var name = mpl.toolbar_items[toolbar_ind][0];\n",
       "        var tooltip = mpl.toolbar_items[toolbar_ind][1];\n",
       "        var image = mpl.toolbar_items[toolbar_ind][2];\n",
       "        var method_name = mpl.toolbar_items[toolbar_ind][3];\n",
       "\n",
       "        if (!name) { continue; };\n",
       "\n",
       "        var button = $('<button class=\"btn btn-default\" href=\"#\" title=\"' + name + '\"><i class=\"fa ' + image + ' fa-lg\"></i></button>');\n",
       "        button.click(method_name, toolbar_event);\n",
       "        button.mouseover(tooltip, toolbar_mouse_event);\n",
       "        nav_element.append(button);\n",
       "    }\n",
       "\n",
       "    // Add the status bar.\n",
       "    var status_bar = $('<span class=\"mpl-message\" style=\"text-align:right; float: right;\"/>');\n",
       "    nav_element.append(status_bar);\n",
       "    this.message = status_bar[0];\n",
       "\n",
       "    // Add the close button to the window.\n",
       "    var buttongrp = $('<div class=\"btn-group inline pull-right\"></div>');\n",
       "    var button = $('<button class=\"btn btn-mini btn-primary\" href=\"#\" title=\"Stop Interaction\"><i class=\"fa fa-power-off icon-remove icon-large\"></i></button>');\n",
       "    button.click(function (evt) { fig.handle_close(fig, {}); } );\n",
       "    button.mouseover('Stop Interaction', toolbar_mouse_event);\n",
       "    buttongrp.append(button);\n",
       "    var titlebar = this.root.find($('.ui-dialog-titlebar'));\n",
       "    titlebar.prepend(buttongrp);\n",
       "}\n",
       "\n",
       "mpl.figure.prototype._root_extra_style = function(el){\n",
       "    var fig = this\n",
       "    el.on(\"remove\", function(){\n",
       "\tfig.close_ws(fig, {});\n",
       "    });\n",
       "}\n",
       "\n",
       "mpl.figure.prototype._canvas_extra_style = function(el){\n",
       "    // this is important to make the div 'focusable\n",
       "    el.attr('tabindex', 0)\n",
       "    // reach out to IPython and tell the keyboard manager to turn it's self\n",
       "    // off when our div gets focus\n",
       "\n",
       "    // location in version 3\n",
       "    if (IPython.notebook.keyboard_manager) {\n",
       "        IPython.notebook.keyboard_manager.register_events(el);\n",
       "    }\n",
       "    else {\n",
       "        // location in version 2\n",
       "        IPython.keyboard_manager.register_events(el);\n",
       "    }\n",
       "\n",
       "}\n",
       "\n",
       "mpl.figure.prototype._key_event_extra = function(event, name) {\n",
       "    var manager = IPython.notebook.keyboard_manager;\n",
       "    if (!manager)\n",
       "        manager = IPython.keyboard_manager;\n",
       "\n",
       "    // Check for shift+enter\n",
       "    if (event.shiftKey && event.which == 13) {\n",
       "        this.canvas_div.blur();\n",
       "        // select the cell after this one\n",
       "        var index = IPython.notebook.find_cell_index(this.cell_info[0]);\n",
       "        IPython.notebook.select(index + 1);\n",
       "    }\n",
       "}\n",
       "\n",
       "mpl.figure.prototype.handle_save = function(fig, msg) {\n",
       "    fig.ondownload(fig, null);\n",
       "}\n",
       "\n",
       "\n",
       "mpl.find_output_cell = function(html_output) {\n",
       "    // Return the cell and output element which can be found *uniquely* in the notebook.\n",
       "    // Note - this is a bit hacky, but it is done because the \"notebook_saving.Notebook\"\n",
       "    // IPython event is triggered only after the cells have been serialised, which for\n",
       "    // our purposes (turning an active figure into a static one), is too late.\n",
       "    var cells = IPython.notebook.get_cells();\n",
       "    var ncells = cells.length;\n",
       "    for (var i=0; i<ncells; i++) {\n",
       "        var cell = cells[i];\n",
       "        if (cell.cell_type === 'code'){\n",
       "            for (var j=0; j<cell.output_area.outputs.length; j++) {\n",
       "                var data = cell.output_area.outputs[j];\n",
       "                if (data.data) {\n",
       "                    // IPython >= 3 moved mimebundle to data attribute of output\n",
       "                    data = data.data;\n",
       "                }\n",
       "                if (data['text/html'] == html_output) {\n",
       "                    return [cell, data, j];\n",
       "                }\n",
       "            }\n",
       "        }\n",
       "    }\n",
       "}\n",
       "\n",
       "// Register the function which deals with the matplotlib target/channel.\n",
       "// The kernel may be null if the page has been refreshed.\n",
       "if (IPython.notebook.kernel != null) {\n",
       "    IPython.notebook.kernel.comm_manager.register_target('matplotlib', mpl.mpl_figure_comm);\n",
       "}\n"
      ],
      "text/plain": [
       "<IPython.core.display.Javascript object>"
      ]
     },
     "metadata": {},
     "output_type": "display_data"
    },
    {
     "data": {
      "text/html": [
       "<img src=\"data:image/png;base64,iVBORw0KGgoAAAANSUhEUgAAAbAAAAEgCAYAAADVKCZpAAAB+UlEQVR4nO3BMQEAAADCoPVP7WkJoAAAAAAAAAAAAAAAAAAAAAAAAAAAAAAAAAAAAAAAAAAAAAAAAAAAAAAAAAAAAAAAAAAAAAAAAAAAAAAAAAAAAAAAAAAAAAAAAAAAAAAAAAAAAAAAAAAAAAAAAAAAAAAAAAAAAAAAAAAAAAAAAAAAAAAAAAAAAAAAAAAAAAAAAAAAAAAAAAAAAAAAAAAAAAAAAAAAAAAAAAAAAAAAAAAAAAAAAAAAAAAAAAAAAAAAAAAAAAAAAAAAAAAAAAAAAAAAAAAAAAAAAAAAAAAAAAAAAAAAAAAAAAAAAAAAAAAAAAAAAAAAAAAAAAAAAAAAAAAAAAAAAAAAAAAAAAAAAAAAAAAAAAAAAAAAAAAAAAAAAAAAAAAAAAAAAAAAAAAAAAAAAAAAAAAAAAAAAAAAAAAAAAAAAAAAAAAAAAAAAAAAAAAAAAAAAAAAAAAAAAAAAAAAAAAAAAAAAAAAAAAAAAAAAAAAAAAAAAAAAAAAAAAAAAAAAAAAAAAAAAAAAAAAAAAAAAAAAAAAAAAAAAAAAAAAAAAAAAAAAAAAAAAAAAAAAAAAAAAAAAAAAAAAAAAAAAAAAAAAAAAAAAAAAAAAAAAAAAAAAAAAAAAAAAAAAAAAAAAAAAAAAAAAAAAAAAAAAAAAAAAA4AaZiQAB1KMUfAAAAABJRU5ErkJggg==\" width=\"432\">"
      ],
      "text/plain": [
       "<IPython.core.display.HTML object>"
      ]
     },
     "metadata": {},
     "output_type": "display_data"
    }
   ],
   "source": [
    "%matplotlib notebook\n",
    "fig = plt.figure()\n",
    "ax = fig.add_subplot(111, projection='3d')\n",
    "Z = Res_sum / Passed\n",
    "X[X**2 + Y**2 > 1] = np.inf\n",
    "ax.plot_surface(X, Y, Z, cmap='spring')"
   ]
  },
  {
   "cell_type": "code",
   "execution_count": 87,
   "metadata": {},
   "outputs": [
    {
     "data": {
      "application/javascript": [
       "/* Put everything inside the global mpl namespace */\n",
       "window.mpl = {};\n",
       "\n",
       "\n",
       "mpl.get_websocket_type = function() {\n",
       "    if (typeof(WebSocket) !== 'undefined') {\n",
       "        return WebSocket;\n",
       "    } else if (typeof(MozWebSocket) !== 'undefined') {\n",
       "        return MozWebSocket;\n",
       "    } else {\n",
       "        alert('Your browser does not have WebSocket support. ' +\n",
       "              'Please try Chrome, Safari or Firefox ≥ 6. ' +\n",
       "              'Firefox 4 and 5 are also supported but you ' +\n",
       "              'have to enable WebSockets in about:config.');\n",
       "    };\n",
       "}\n",
       "\n",
       "mpl.figure = function(figure_id, websocket, ondownload, parent_element) {\n",
       "    this.id = figure_id;\n",
       "\n",
       "    this.ws = websocket;\n",
       "\n",
       "    this.supports_binary = (this.ws.binaryType != undefined);\n",
       "\n",
       "    if (!this.supports_binary) {\n",
       "        var warnings = document.getElementById(\"mpl-warnings\");\n",
       "        if (warnings) {\n",
       "            warnings.style.display = 'block';\n",
       "            warnings.textContent = (\n",
       "                \"This browser does not support binary websocket messages. \" +\n",
       "                    \"Performance may be slow.\");\n",
       "        }\n",
       "    }\n",
       "\n",
       "    this.imageObj = new Image();\n",
       "\n",
       "    this.context = undefined;\n",
       "    this.message = undefined;\n",
       "    this.canvas = undefined;\n",
       "    this.rubberband_canvas = undefined;\n",
       "    this.rubberband_context = undefined;\n",
       "    this.format_dropdown = undefined;\n",
       "\n",
       "    this.image_mode = 'full';\n",
       "\n",
       "    this.root = $('<div/>');\n",
       "    this._root_extra_style(this.root)\n",
       "    this.root.attr('style', 'display: inline-block');\n",
       "\n",
       "    $(parent_element).append(this.root);\n",
       "\n",
       "    this._init_header(this);\n",
       "    this._init_canvas(this);\n",
       "    this._init_toolbar(this);\n",
       "\n",
       "    var fig = this;\n",
       "\n",
       "    this.waiting = false;\n",
       "\n",
       "    this.ws.onopen =  function () {\n",
       "            fig.send_message(\"supports_binary\", {value: fig.supports_binary});\n",
       "            fig.send_message(\"send_image_mode\", {});\n",
       "            if (mpl.ratio != 1) {\n",
       "                fig.send_message(\"set_dpi_ratio\", {'dpi_ratio': mpl.ratio});\n",
       "            }\n",
       "            fig.send_message(\"refresh\", {});\n",
       "        }\n",
       "\n",
       "    this.imageObj.onload = function() {\n",
       "            if (fig.image_mode == 'full') {\n",
       "                // Full images could contain transparency (where diff images\n",
       "                // almost always do), so we need to clear the canvas so that\n",
       "                // there is no ghosting.\n",
       "                fig.context.clearRect(0, 0, fig.canvas.width, fig.canvas.height);\n",
       "            }\n",
       "            fig.context.drawImage(fig.imageObj, 0, 0);\n",
       "        };\n",
       "\n",
       "    this.imageObj.onunload = function() {\n",
       "        fig.ws.close();\n",
       "    }\n",
       "\n",
       "    this.ws.onmessage = this._make_on_message_function(this);\n",
       "\n",
       "    this.ondownload = ondownload;\n",
       "}\n",
       "\n",
       "mpl.figure.prototype._init_header = function() {\n",
       "    var titlebar = $(\n",
       "        '<div class=\"ui-dialog-titlebar ui-widget-header ui-corner-all ' +\n",
       "        'ui-helper-clearfix\"/>');\n",
       "    var titletext = $(\n",
       "        '<div class=\"ui-dialog-title\" style=\"width: 100%; ' +\n",
       "        'text-align: center; padding: 3px;\"/>');\n",
       "    titlebar.append(titletext)\n",
       "    this.root.append(titlebar);\n",
       "    this.header = titletext[0];\n",
       "}\n",
       "\n",
       "\n",
       "\n",
       "mpl.figure.prototype._canvas_extra_style = function(canvas_div) {\n",
       "\n",
       "}\n",
       "\n",
       "\n",
       "mpl.figure.prototype._root_extra_style = function(canvas_div) {\n",
       "\n",
       "}\n",
       "\n",
       "mpl.figure.prototype._init_canvas = function() {\n",
       "    var fig = this;\n",
       "\n",
       "    var canvas_div = $('<div/>');\n",
       "\n",
       "    canvas_div.attr('style', 'position: relative; clear: both; outline: 0');\n",
       "\n",
       "    function canvas_keyboard_event(event) {\n",
       "        return fig.key_event(event, event['data']);\n",
       "    }\n",
       "\n",
       "    canvas_div.keydown('key_press', canvas_keyboard_event);\n",
       "    canvas_div.keyup('key_release', canvas_keyboard_event);\n",
       "    this.canvas_div = canvas_div\n",
       "    this._canvas_extra_style(canvas_div)\n",
       "    this.root.append(canvas_div);\n",
       "\n",
       "    var canvas = $('<canvas/>');\n",
       "    canvas.addClass('mpl-canvas');\n",
       "    canvas.attr('style', \"left: 0; top: 0; z-index: 0; outline: 0\")\n",
       "\n",
       "    this.canvas = canvas[0];\n",
       "    this.context = canvas[0].getContext(\"2d\");\n",
       "\n",
       "    var backingStore = this.context.backingStorePixelRatio ||\n",
       "\tthis.context.webkitBackingStorePixelRatio ||\n",
       "\tthis.context.mozBackingStorePixelRatio ||\n",
       "\tthis.context.msBackingStorePixelRatio ||\n",
       "\tthis.context.oBackingStorePixelRatio ||\n",
       "\tthis.context.backingStorePixelRatio || 1;\n",
       "\n",
       "    mpl.ratio = (window.devicePixelRatio || 1) / backingStore;\n",
       "\n",
       "    var rubberband = $('<canvas/>');\n",
       "    rubberband.attr('style', \"position: absolute; left: 0; top: 0; z-index: 1;\")\n",
       "\n",
       "    var pass_mouse_events = true;\n",
       "\n",
       "    canvas_div.resizable({\n",
       "        start: function(event, ui) {\n",
       "            pass_mouse_events = false;\n",
       "        },\n",
       "        resize: function(event, ui) {\n",
       "            fig.request_resize(ui.size.width, ui.size.height);\n",
       "        },\n",
       "        stop: function(event, ui) {\n",
       "            pass_mouse_events = true;\n",
       "            fig.request_resize(ui.size.width, ui.size.height);\n",
       "        },\n",
       "    });\n",
       "\n",
       "    function mouse_event_fn(event) {\n",
       "        if (pass_mouse_events)\n",
       "            return fig.mouse_event(event, event['data']);\n",
       "    }\n",
       "\n",
       "    rubberband.mousedown('button_press', mouse_event_fn);\n",
       "    rubberband.mouseup('button_release', mouse_event_fn);\n",
       "    // Throttle sequential mouse events to 1 every 20ms.\n",
       "    rubberband.mousemove('motion_notify', mouse_event_fn);\n",
       "\n",
       "    rubberband.mouseenter('figure_enter', mouse_event_fn);\n",
       "    rubberband.mouseleave('figure_leave', mouse_event_fn);\n",
       "\n",
       "    canvas_div.on(\"wheel\", function (event) {\n",
       "        event = event.originalEvent;\n",
       "        event['data'] = 'scroll'\n",
       "        if (event.deltaY < 0) {\n",
       "            event.step = 1;\n",
       "        } else {\n",
       "            event.step = -1;\n",
       "        }\n",
       "        mouse_event_fn(event);\n",
       "    });\n",
       "\n",
       "    canvas_div.append(canvas);\n",
       "    canvas_div.append(rubberband);\n",
       "\n",
       "    this.rubberband = rubberband;\n",
       "    this.rubberband_canvas = rubberband[0];\n",
       "    this.rubberband_context = rubberband[0].getContext(\"2d\");\n",
       "    this.rubberband_context.strokeStyle = \"#000000\";\n",
       "\n",
       "    this._resize_canvas = function(width, height) {\n",
       "        // Keep the size of the canvas, canvas container, and rubber band\n",
       "        // canvas in synch.\n",
       "        canvas_div.css('width', width)\n",
       "        canvas_div.css('height', height)\n",
       "\n",
       "        canvas.attr('width', width * mpl.ratio);\n",
       "        canvas.attr('height', height * mpl.ratio);\n",
       "        canvas.attr('style', 'width: ' + width + 'px; height: ' + height + 'px;');\n",
       "\n",
       "        rubberband.attr('width', width);\n",
       "        rubberband.attr('height', height);\n",
       "    }\n",
       "\n",
       "    // Set the figure to an initial 600x600px, this will subsequently be updated\n",
       "    // upon first draw.\n",
       "    this._resize_canvas(600, 600);\n",
       "\n",
       "    // Disable right mouse context menu.\n",
       "    $(this.rubberband_canvas).bind(\"contextmenu\",function(e){\n",
       "        return false;\n",
       "    });\n",
       "\n",
       "    function set_focus () {\n",
       "        canvas.focus();\n",
       "        canvas_div.focus();\n",
       "    }\n",
       "\n",
       "    window.setTimeout(set_focus, 100);\n",
       "}\n",
       "\n",
       "mpl.figure.prototype._init_toolbar = function() {\n",
       "    var fig = this;\n",
       "\n",
       "    var nav_element = $('<div/>');\n",
       "    nav_element.attr('style', 'width: 100%');\n",
       "    this.root.append(nav_element);\n",
       "\n",
       "    // Define a callback function for later on.\n",
       "    function toolbar_event(event) {\n",
       "        return fig.toolbar_button_onclick(event['data']);\n",
       "    }\n",
       "    function toolbar_mouse_event(event) {\n",
       "        return fig.toolbar_button_onmouseover(event['data']);\n",
       "    }\n",
       "\n",
       "    for(var toolbar_ind in mpl.toolbar_items) {\n",
       "        var name = mpl.toolbar_items[toolbar_ind][0];\n",
       "        var tooltip = mpl.toolbar_items[toolbar_ind][1];\n",
       "        var image = mpl.toolbar_items[toolbar_ind][2];\n",
       "        var method_name = mpl.toolbar_items[toolbar_ind][3];\n",
       "\n",
       "        if (!name) {\n",
       "            // put a spacer in here.\n",
       "            continue;\n",
       "        }\n",
       "        var button = $('<button/>');\n",
       "        button.addClass('ui-button ui-widget ui-state-default ui-corner-all ' +\n",
       "                        'ui-button-icon-only');\n",
       "        button.attr('role', 'button');\n",
       "        button.attr('aria-disabled', 'false');\n",
       "        button.click(method_name, toolbar_event);\n",
       "        button.mouseover(tooltip, toolbar_mouse_event);\n",
       "\n",
       "        var icon_img = $('<span/>');\n",
       "        icon_img.addClass('ui-button-icon-primary ui-icon');\n",
       "        icon_img.addClass(image);\n",
       "        icon_img.addClass('ui-corner-all');\n",
       "\n",
       "        var tooltip_span = $('<span/>');\n",
       "        tooltip_span.addClass('ui-button-text');\n",
       "        tooltip_span.html(tooltip);\n",
       "\n",
       "        button.append(icon_img);\n",
       "        button.append(tooltip_span);\n",
       "\n",
       "        nav_element.append(button);\n",
       "    }\n",
       "\n",
       "    var fmt_picker_span = $('<span/>');\n",
       "\n",
       "    var fmt_picker = $('<select/>');\n",
       "    fmt_picker.addClass('mpl-toolbar-option ui-widget ui-widget-content');\n",
       "    fmt_picker_span.append(fmt_picker);\n",
       "    nav_element.append(fmt_picker_span);\n",
       "    this.format_dropdown = fmt_picker[0];\n",
       "\n",
       "    for (var ind in mpl.extensions) {\n",
       "        var fmt = mpl.extensions[ind];\n",
       "        var option = $(\n",
       "            '<option/>', {selected: fmt === mpl.default_extension}).html(fmt);\n",
       "        fmt_picker.append(option);\n",
       "    }\n",
       "\n",
       "    // Add hover states to the ui-buttons\n",
       "    $( \".ui-button\" ).hover(\n",
       "        function() { $(this).addClass(\"ui-state-hover\");},\n",
       "        function() { $(this).removeClass(\"ui-state-hover\");}\n",
       "    );\n",
       "\n",
       "    var status_bar = $('<span class=\"mpl-message\"/>');\n",
       "    nav_element.append(status_bar);\n",
       "    this.message = status_bar[0];\n",
       "}\n",
       "\n",
       "mpl.figure.prototype.request_resize = function(x_pixels, y_pixels) {\n",
       "    // Request matplotlib to resize the figure. Matplotlib will then trigger a resize in the client,\n",
       "    // which will in turn request a refresh of the image.\n",
       "    this.send_message('resize', {'width': x_pixels, 'height': y_pixels});\n",
       "}\n",
       "\n",
       "mpl.figure.prototype.send_message = function(type, properties) {\n",
       "    properties['type'] = type;\n",
       "    properties['figure_id'] = this.id;\n",
       "    this.ws.send(JSON.stringify(properties));\n",
       "}\n",
       "\n",
       "mpl.figure.prototype.send_draw_message = function() {\n",
       "    if (!this.waiting) {\n",
       "        this.waiting = true;\n",
       "        this.ws.send(JSON.stringify({type: \"draw\", figure_id: this.id}));\n",
       "    }\n",
       "}\n",
       "\n",
       "\n",
       "mpl.figure.prototype.handle_save = function(fig, msg) {\n",
       "    var format_dropdown = fig.format_dropdown;\n",
       "    var format = format_dropdown.options[format_dropdown.selectedIndex].value;\n",
       "    fig.ondownload(fig, format);\n",
       "}\n",
       "\n",
       "\n",
       "mpl.figure.prototype.handle_resize = function(fig, msg) {\n",
       "    var size = msg['size'];\n",
       "    if (size[0] != fig.canvas.width || size[1] != fig.canvas.height) {\n",
       "        fig._resize_canvas(size[0], size[1]);\n",
       "        fig.send_message(\"refresh\", {});\n",
       "    };\n",
       "}\n",
       "\n",
       "mpl.figure.prototype.handle_rubberband = function(fig, msg) {\n",
       "    var x0 = msg['x0'] / mpl.ratio;\n",
       "    var y0 = (fig.canvas.height - msg['y0']) / mpl.ratio;\n",
       "    var x1 = msg['x1'] / mpl.ratio;\n",
       "    var y1 = (fig.canvas.height - msg['y1']) / mpl.ratio;\n",
       "    x0 = Math.floor(x0) + 0.5;\n",
       "    y0 = Math.floor(y0) + 0.5;\n",
       "    x1 = Math.floor(x1) + 0.5;\n",
       "    y1 = Math.floor(y1) + 0.5;\n",
       "    var min_x = Math.min(x0, x1);\n",
       "    var min_y = Math.min(y0, y1);\n",
       "    var width = Math.abs(x1 - x0);\n",
       "    var height = Math.abs(y1 - y0);\n",
       "\n",
       "    fig.rubberband_context.clearRect(\n",
       "        0, 0, fig.canvas.width / mpl.ratio, fig.canvas.height / mpl.ratio);\n",
       "\n",
       "    fig.rubberband_context.strokeRect(min_x, min_y, width, height);\n",
       "}\n",
       "\n",
       "mpl.figure.prototype.handle_figure_label = function(fig, msg) {\n",
       "    // Updates the figure title.\n",
       "    fig.header.textContent = msg['label'];\n",
       "}\n",
       "\n",
       "mpl.figure.prototype.handle_cursor = function(fig, msg) {\n",
       "    var cursor = msg['cursor'];\n",
       "    switch(cursor)\n",
       "    {\n",
       "    case 0:\n",
       "        cursor = 'pointer';\n",
       "        break;\n",
       "    case 1:\n",
       "        cursor = 'default';\n",
       "        break;\n",
       "    case 2:\n",
       "        cursor = 'crosshair';\n",
       "        break;\n",
       "    case 3:\n",
       "        cursor = 'move';\n",
       "        break;\n",
       "    }\n",
       "    fig.rubberband_canvas.style.cursor = cursor;\n",
       "}\n",
       "\n",
       "mpl.figure.prototype.handle_message = function(fig, msg) {\n",
       "    fig.message.textContent = msg['message'];\n",
       "}\n",
       "\n",
       "mpl.figure.prototype.handle_draw = function(fig, msg) {\n",
       "    // Request the server to send over a new figure.\n",
       "    fig.send_draw_message();\n",
       "}\n",
       "\n",
       "mpl.figure.prototype.handle_image_mode = function(fig, msg) {\n",
       "    fig.image_mode = msg['mode'];\n",
       "}\n",
       "\n",
       "mpl.figure.prototype.updated_canvas_event = function() {\n",
       "    // Called whenever the canvas gets updated.\n",
       "    this.send_message(\"ack\", {});\n",
       "}\n",
       "\n",
       "// A function to construct a web socket function for onmessage handling.\n",
       "// Called in the figure constructor.\n",
       "mpl.figure.prototype._make_on_message_function = function(fig) {\n",
       "    return function socket_on_message(evt) {\n",
       "        if (evt.data instanceof Blob) {\n",
       "            /* FIXME: We get \"Resource interpreted as Image but\n",
       "             * transferred with MIME type text/plain:\" errors on\n",
       "             * Chrome.  But how to set the MIME type?  It doesn't seem\n",
       "             * to be part of the websocket stream */\n",
       "            evt.data.type = \"image/png\";\n",
       "\n",
       "            /* Free the memory for the previous frames */\n",
       "            if (fig.imageObj.src) {\n",
       "                (window.URL || window.webkitURL).revokeObjectURL(\n",
       "                    fig.imageObj.src);\n",
       "            }\n",
       "\n",
       "            fig.imageObj.src = (window.URL || window.webkitURL).createObjectURL(\n",
       "                evt.data);\n",
       "            fig.updated_canvas_event();\n",
       "            fig.waiting = false;\n",
       "            return;\n",
       "        }\n",
       "        else if (typeof evt.data === 'string' && evt.data.slice(0, 21) == \"data:image/png;base64\") {\n",
       "            fig.imageObj.src = evt.data;\n",
       "            fig.updated_canvas_event();\n",
       "            fig.waiting = false;\n",
       "            return;\n",
       "        }\n",
       "\n",
       "        var msg = JSON.parse(evt.data);\n",
       "        var msg_type = msg['type'];\n",
       "\n",
       "        // Call the  \"handle_{type}\" callback, which takes\n",
       "        // the figure and JSON message as its only arguments.\n",
       "        try {\n",
       "            var callback = fig[\"handle_\" + msg_type];\n",
       "        } catch (e) {\n",
       "            console.log(\"No handler for the '\" + msg_type + \"' message type: \", msg);\n",
       "            return;\n",
       "        }\n",
       "\n",
       "        if (callback) {\n",
       "            try {\n",
       "                // console.log(\"Handling '\" + msg_type + \"' message: \", msg);\n",
       "                callback(fig, msg);\n",
       "            } catch (e) {\n",
       "                console.log(\"Exception inside the 'handler_\" + msg_type + \"' callback:\", e, e.stack, msg);\n",
       "            }\n",
       "        }\n",
       "    };\n",
       "}\n",
       "\n",
       "// from http://stackoverflow.com/questions/1114465/getting-mouse-location-in-canvas\n",
       "mpl.findpos = function(e) {\n",
       "    //this section is from http://www.quirksmode.org/js/events_properties.html\n",
       "    var targ;\n",
       "    if (!e)\n",
       "        e = window.event;\n",
       "    if (e.target)\n",
       "        targ = e.target;\n",
       "    else if (e.srcElement)\n",
       "        targ = e.srcElement;\n",
       "    if (targ.nodeType == 3) // defeat Safari bug\n",
       "        targ = targ.parentNode;\n",
       "\n",
       "    // jQuery normalizes the pageX and pageY\n",
       "    // pageX,Y are the mouse positions relative to the document\n",
       "    // offset() returns the position of the element relative to the document\n",
       "    var x = e.pageX - $(targ).offset().left;\n",
       "    var y = e.pageY - $(targ).offset().top;\n",
       "\n",
       "    return {\"x\": x, \"y\": y};\n",
       "};\n",
       "\n",
       "/*\n",
       " * return a copy of an object with only non-object keys\n",
       " * we need this to avoid circular references\n",
       " * http://stackoverflow.com/a/24161582/3208463\n",
       " */\n",
       "function simpleKeys (original) {\n",
       "  return Object.keys(original).reduce(function (obj, key) {\n",
       "    if (typeof original[key] !== 'object')\n",
       "        obj[key] = original[key]\n",
       "    return obj;\n",
       "  }, {});\n",
       "}\n",
       "\n",
       "mpl.figure.prototype.mouse_event = function(event, name) {\n",
       "    var canvas_pos = mpl.findpos(event)\n",
       "\n",
       "    if (name === 'button_press')\n",
       "    {\n",
       "        this.canvas.focus();\n",
       "        this.canvas_div.focus();\n",
       "    }\n",
       "\n",
       "    var x = canvas_pos.x * mpl.ratio;\n",
       "    var y = canvas_pos.y * mpl.ratio;\n",
       "\n",
       "    this.send_message(name, {x: x, y: y, button: event.button,\n",
       "                             step: event.step,\n",
       "                             guiEvent: simpleKeys(event)});\n",
       "\n",
       "    /* This prevents the web browser from automatically changing to\n",
       "     * the text insertion cursor when the button is pressed.  We want\n",
       "     * to control all of the cursor setting manually through the\n",
       "     * 'cursor' event from matplotlib */\n",
       "    event.preventDefault();\n",
       "    return false;\n",
       "}\n",
       "\n",
       "mpl.figure.prototype._key_event_extra = function(event, name) {\n",
       "    // Handle any extra behaviour associated with a key event\n",
       "}\n",
       "\n",
       "mpl.figure.prototype.key_event = function(event, name) {\n",
       "\n",
       "    // Prevent repeat events\n",
       "    if (name == 'key_press')\n",
       "    {\n",
       "        if (event.which === this._key)\n",
       "            return;\n",
       "        else\n",
       "            this._key = event.which;\n",
       "    }\n",
       "    if (name == 'key_release')\n",
       "        this._key = null;\n",
       "\n",
       "    var value = '';\n",
       "    if (event.ctrlKey && event.which != 17)\n",
       "        value += \"ctrl+\";\n",
       "    if (event.altKey && event.which != 18)\n",
       "        value += \"alt+\";\n",
       "    if (event.shiftKey && event.which != 16)\n",
       "        value += \"shift+\";\n",
       "\n",
       "    value += 'k';\n",
       "    value += event.which.toString();\n",
       "\n",
       "    this._key_event_extra(event, name);\n",
       "\n",
       "    this.send_message(name, {key: value,\n",
       "                             guiEvent: simpleKeys(event)});\n",
       "    return false;\n",
       "}\n",
       "\n",
       "mpl.figure.prototype.toolbar_button_onclick = function(name) {\n",
       "    if (name == 'download') {\n",
       "        this.handle_save(this, null);\n",
       "    } else {\n",
       "        this.send_message(\"toolbar_button\", {name: name});\n",
       "    }\n",
       "};\n",
       "\n",
       "mpl.figure.prototype.toolbar_button_onmouseover = function(tooltip) {\n",
       "    this.message.textContent = tooltip;\n",
       "};\n",
       "mpl.toolbar_items = [[\"Home\", \"Reset original view\", \"fa fa-home icon-home\", \"home\"], [\"Back\", \"Back to previous view\", \"fa fa-arrow-left icon-arrow-left\", \"back\"], [\"Forward\", \"Forward to next view\", \"fa fa-arrow-right icon-arrow-right\", \"forward\"], [\"\", \"\", \"\", \"\"], [\"Pan\", \"Pan axes with left mouse, zoom with right\", \"fa fa-arrows icon-move\", \"pan\"], [\"Zoom\", \"Zoom to rectangle\", \"fa fa-square-o icon-check-empty\", \"zoom\"], [\"\", \"\", \"\", \"\"], [\"Download\", \"Download plot\", \"fa fa-floppy-o icon-save\", \"download\"]];\n",
       "\n",
       "mpl.extensions = [\"eps\", \"jpeg\", \"pdf\", \"png\", \"ps\", \"raw\", \"svg\", \"tif\"];\n",
       "\n",
       "mpl.default_extension = \"png\";var comm_websocket_adapter = function(comm) {\n",
       "    // Create a \"websocket\"-like object which calls the given IPython comm\n",
       "    // object with the appropriate methods. Currently this is a non binary\n",
       "    // socket, so there is still some room for performance tuning.\n",
       "    var ws = {};\n",
       "\n",
       "    ws.close = function() {\n",
       "        comm.close()\n",
       "    };\n",
       "    ws.send = function(m) {\n",
       "        //console.log('sending', m);\n",
       "        comm.send(m);\n",
       "    };\n",
       "    // Register the callback with on_msg.\n",
       "    comm.on_msg(function(msg) {\n",
       "        //console.log('receiving', msg['content']['data'], msg);\n",
       "        // Pass the mpl event to the overridden (by mpl) onmessage function.\n",
       "        ws.onmessage(msg['content']['data'])\n",
       "    });\n",
       "    return ws;\n",
       "}\n",
       "\n",
       "mpl.mpl_figure_comm = function(comm, msg) {\n",
       "    // This is the function which gets called when the mpl process\n",
       "    // starts-up an IPython Comm through the \"matplotlib\" channel.\n",
       "\n",
       "    var id = msg.content.data.id;\n",
       "    // Get hold of the div created by the display call when the Comm\n",
       "    // socket was opened in Python.\n",
       "    var element = $(\"#\" + id);\n",
       "    var ws_proxy = comm_websocket_adapter(comm)\n",
       "\n",
       "    function ondownload(figure, format) {\n",
       "        window.open(figure.imageObj.src);\n",
       "    }\n",
       "\n",
       "    var fig = new mpl.figure(id, ws_proxy,\n",
       "                           ondownload,\n",
       "                           element.get(0));\n",
       "\n",
       "    // Call onopen now - mpl needs it, as it is assuming we've passed it a real\n",
       "    // web socket which is closed, not our websocket->open comm proxy.\n",
       "    ws_proxy.onopen();\n",
       "\n",
       "    fig.parent_element = element.get(0);\n",
       "    fig.cell_info = mpl.find_output_cell(\"<div id='\" + id + \"'></div>\");\n",
       "    if (!fig.cell_info) {\n",
       "        console.error(\"Failed to find cell for figure\", id, fig);\n",
       "        return;\n",
       "    }\n",
       "\n",
       "    var output_index = fig.cell_info[2]\n",
       "    var cell = fig.cell_info[0];\n",
       "\n",
       "};\n",
       "\n",
       "mpl.figure.prototype.handle_close = function(fig, msg) {\n",
       "    var width = fig.canvas.width/mpl.ratio\n",
       "    fig.root.unbind('remove')\n",
       "\n",
       "    // Update the output cell to use the data from the current canvas.\n",
       "    fig.push_to_output();\n",
       "    var dataURL = fig.canvas.toDataURL();\n",
       "    // Re-enable the keyboard manager in IPython - without this line, in FF,\n",
       "    // the notebook keyboard shortcuts fail.\n",
       "    IPython.keyboard_manager.enable()\n",
       "    $(fig.parent_element).html('<img src=\"' + dataURL + '\" width=\"' + width + '\">');\n",
       "    fig.close_ws(fig, msg);\n",
       "}\n",
       "\n",
       "mpl.figure.prototype.close_ws = function(fig, msg){\n",
       "    fig.send_message('closing', msg);\n",
       "    // fig.ws.close()\n",
       "}\n",
       "\n",
       "mpl.figure.prototype.push_to_output = function(remove_interactive) {\n",
       "    // Turn the data on the canvas into data in the output cell.\n",
       "    var width = this.canvas.width/mpl.ratio\n",
       "    var dataURL = this.canvas.toDataURL();\n",
       "    this.cell_info[1]['text/html'] = '<img src=\"' + dataURL + '\" width=\"' + width + '\">';\n",
       "}\n",
       "\n",
       "mpl.figure.prototype.updated_canvas_event = function() {\n",
       "    // Tell IPython that the notebook contents must change.\n",
       "    IPython.notebook.set_dirty(true);\n",
       "    this.send_message(\"ack\", {});\n",
       "    var fig = this;\n",
       "    // Wait a second, then push the new image to the DOM so\n",
       "    // that it is saved nicely (might be nice to debounce this).\n",
       "    setTimeout(function () { fig.push_to_output() }, 1000);\n",
       "}\n",
       "\n",
       "mpl.figure.prototype._init_toolbar = function() {\n",
       "    var fig = this;\n",
       "\n",
       "    var nav_element = $('<div/>');\n",
       "    nav_element.attr('style', 'width: 100%');\n",
       "    this.root.append(nav_element);\n",
       "\n",
       "    // Define a callback function for later on.\n",
       "    function toolbar_event(event) {\n",
       "        return fig.toolbar_button_onclick(event['data']);\n",
       "    }\n",
       "    function toolbar_mouse_event(event) {\n",
       "        return fig.toolbar_button_onmouseover(event['data']);\n",
       "    }\n",
       "\n",
       "    for(var toolbar_ind in mpl.toolbar_items){\n",
       "        var name = mpl.toolbar_items[toolbar_ind][0];\n",
       "        var tooltip = mpl.toolbar_items[toolbar_ind][1];\n",
       "        var image = mpl.toolbar_items[toolbar_ind][2];\n",
       "        var method_name = mpl.toolbar_items[toolbar_ind][3];\n",
       "\n",
       "        if (!name) { continue; };\n",
       "\n",
       "        var button = $('<button class=\"btn btn-default\" href=\"#\" title=\"' + name + '\"><i class=\"fa ' + image + ' fa-lg\"></i></button>');\n",
       "        button.click(method_name, toolbar_event);\n",
       "        button.mouseover(tooltip, toolbar_mouse_event);\n",
       "        nav_element.append(button);\n",
       "    }\n",
       "\n",
       "    // Add the status bar.\n",
       "    var status_bar = $('<span class=\"mpl-message\" style=\"text-align:right; float: right;\"/>');\n",
       "    nav_element.append(status_bar);\n",
       "    this.message = status_bar[0];\n",
       "\n",
       "    // Add the close button to the window.\n",
       "    var buttongrp = $('<div class=\"btn-group inline pull-right\"></div>');\n",
       "    var button = $('<button class=\"btn btn-mini btn-primary\" href=\"#\" title=\"Stop Interaction\"><i class=\"fa fa-power-off icon-remove icon-large\"></i></button>');\n",
       "    button.click(function (evt) { fig.handle_close(fig, {}); } );\n",
       "    button.mouseover('Stop Interaction', toolbar_mouse_event);\n",
       "    buttongrp.append(button);\n",
       "    var titlebar = this.root.find($('.ui-dialog-titlebar'));\n",
       "    titlebar.prepend(buttongrp);\n",
       "}\n",
       "\n",
       "mpl.figure.prototype._root_extra_style = function(el){\n",
       "    var fig = this\n",
       "    el.on(\"remove\", function(){\n",
       "\tfig.close_ws(fig, {});\n",
       "    });\n",
       "}\n",
       "\n",
       "mpl.figure.prototype._canvas_extra_style = function(el){\n",
       "    // this is important to make the div 'focusable\n",
       "    el.attr('tabindex', 0)\n",
       "    // reach out to IPython and tell the keyboard manager to turn it's self\n",
       "    // off when our div gets focus\n",
       "\n",
       "    // location in version 3\n",
       "    if (IPython.notebook.keyboard_manager) {\n",
       "        IPython.notebook.keyboard_manager.register_events(el);\n",
       "    }\n",
       "    else {\n",
       "        // location in version 2\n",
       "        IPython.keyboard_manager.register_events(el);\n",
       "    }\n",
       "\n",
       "}\n",
       "\n",
       "mpl.figure.prototype._key_event_extra = function(event, name) {\n",
       "    var manager = IPython.notebook.keyboard_manager;\n",
       "    if (!manager)\n",
       "        manager = IPython.keyboard_manager;\n",
       "\n",
       "    // Check for shift+enter\n",
       "    if (event.shiftKey && event.which == 13) {\n",
       "        this.canvas_div.blur();\n",
       "        // select the cell after this one\n",
       "        var index = IPython.notebook.find_cell_index(this.cell_info[0]);\n",
       "        IPython.notebook.select(index + 1);\n",
       "    }\n",
       "}\n",
       "\n",
       "mpl.figure.prototype.handle_save = function(fig, msg) {\n",
       "    fig.ondownload(fig, null);\n",
       "}\n",
       "\n",
       "\n",
       "mpl.find_output_cell = function(html_output) {\n",
       "    // Return the cell and output element which can be found *uniquely* in the notebook.\n",
       "    // Note - this is a bit hacky, but it is done because the \"notebook_saving.Notebook\"\n",
       "    // IPython event is triggered only after the cells have been serialised, which for\n",
       "    // our purposes (turning an active figure into a static one), is too late.\n",
       "    var cells = IPython.notebook.get_cells();\n",
       "    var ncells = cells.length;\n",
       "    for (var i=0; i<ncells; i++) {\n",
       "        var cell = cells[i];\n",
       "        if (cell.cell_type === 'code'){\n",
       "            for (var j=0; j<cell.output_area.outputs.length; j++) {\n",
       "                var data = cell.output_area.outputs[j];\n",
       "                if (data.data) {\n",
       "                    // IPython >= 3 moved mimebundle to data attribute of output\n",
       "                    data = data.data;\n",
       "                }\n",
       "                if (data['text/html'] == html_output) {\n",
       "                    return [cell, data, j];\n",
       "                }\n",
       "            }\n",
       "        }\n",
       "    }\n",
       "}\n",
       "\n",
       "// Register the function which deals with the matplotlib target/channel.\n",
       "// The kernel may be null if the page has been refreshed.\n",
       "if (IPython.notebook.kernel != null) {\n",
       "    IPython.notebook.kernel.comm_manager.register_target('matplotlib', mpl.mpl_figure_comm);\n",
       "}\n"
      ],
      "text/plain": [
       "<IPython.core.display.Javascript object>"
      ]
     },
     "metadata": {},
     "output_type": "display_data"
    },
    {
     "data": {
      "text/html": [
       "<img src=\"data:image/png;base64,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\" width=\"432\">"
      ],
      "text/plain": [
       "<IPython.core.display.HTML object>"
      ]
     },
     "metadata": {},
     "output_type": "display_data"
    },
    {
     "data": {
      "text/plain": [
       "<mpl_toolkits.mplot3d.art3d.Poly3DCollection at 0x7ff3df473f10>"
      ]
     },
     "execution_count": 87,
     "metadata": {},
     "output_type": "execute_result"
    }
   ],
   "source": [
    "%matplotlib notebook\n",
    "fig = plt.figure()\n",
    "ax = fig.add_subplot(111, projection='3d')\n",
    "Z = X**2 - Y**2\n",
    "X[X**2 + Y**2 > 1] = np.inf\n",
    "Z[Z == np.inf] = 0\n",
    "ax.plot_surface(X, Y, Z, cmap='spring')"
   ]
  },
  {
   "cell_type": "markdown",
   "metadata": {},
   "source": [
    "# Задание 9.\n",
    "### Рассмотреть два вида процессов:\n",
    "$\\bullet$ Винеровский процесс $W(t),\\ t \\in [0, 1],\\ W(0) = 0$;\n",
    "\n",
    "$\\bullet$ Процесс Орнштейна-Уленбека $X(t),\\ t \\in [0, 1],\\ X(0) = X_0$, то есть стационарный марковский гауссовский процесс, начальное значение $X_0$ генерируется случайным образом так, что чтобы полученный процесс был стационарным.\n",
    "### Для данных гауссовских процессов:\n",
    "\n",
    "1) найти ковариационную функцию и переходные вероятности;\n",
    "\n",
    "2) моделировать независимые траектории процесса с данными переходными вероятностями методом добавления разбиения отрезка;\n",
    "\n",
    "3) построить график траектории, не соединяя точки ломанной, с целью получения визуально непрерывной линии."
   ]
  },
  {
   "cell_type": "markdown",
   "metadata": {},
   "source": [
    "## Метод добавления разбиения отрезка.\n",
    "\n",
    "Рассмотрим моделирование некоторого случайного процесса $X(t)$ на отрезке $[t_0, t_1]$\n",
    "\n",
    "1. моделировние $X_0 = X(t_0)$;\n",
    "\n",
    "2. моделирование $X(t_1)$ по условному распределению $[X(t_1)|X(t_0)]$;\n",
    "\n",
    "3. рассмотрим отрезок $[t_i, t_{i + 1}]$, на концах которого определены $$X(t_i) = x_{i},\\ X(t_{i + 1}) = x_{i + 1},$$ добавим узел $$t = \\dfrac{t_{i + 1} - t_i}{2}$$ и построим $X(t)$ с использованием распределения случайной величины $$[X(t)|X(t_i) = x_{i},\\ X(t_{i + 1}) = x_{i + 1}];$$\n",
    "\n",
    "4. повторятть третий шаг до достижения нужного шага сетки."
   ]
  },
  {
   "cell_type": "markdown",
   "metadata": {},
   "source": [
    "## Винеровский процесс\n",
    "Винеровский процесс --- гауссовский процесс Леви, то есть процесс с независимыми приращениями такой, что:\n",
    "\n",
    "$\\bullet\\ W_0= 0;$\n",
    "\n",
    "$\\bullet\\ \\mu(h) = \\mathbb{E}(W_{t + h} - W_{t}) = 0;$\n",
    "\n",
    "$\\bullet\\ \\sigma^2(h) = \\mathbb{D}(W_{t + h} - W_{t}) = \\sigma^2 h.$\n",
    "\n",
    "### Найдём ковариационную функцию для винеровского процесса.\n",
    "\n",
    "$$K(t_1, t_2) = \\mathbb{E}[W(t_1)W(t_2)],$$\n",
    "\n",
    "не ограничивая общности суждений, будем считать, что $t_1 < t_2$, тогда:\n",
    "\n",
    "$$K(t_1, t_2) = \\mathbb{E}[W(t_1)W(t_2)] = \\mathbb{E}W^2(t_1) + \\mathbb{E}[W(t_1) - W_0][W(t_2) - W(t_1)] = $$\n",
    "$$= \\sigma ^2 t_1 + \\mathbb{E}W(t_1)\\mathbb{E}[W(t_2) - W(t_1)] = \\sigma^2 t_1.$$\n",
    "\n",
    "Таким образом, ковариационная функция винеровского процесса:\n",
    "\n",
    "$$K(s, t) = \\min(s, t) \\sigma^2.$$\n",
    "\n",
    "### Моделирование винеровского процесса\n",
    "\n",
    "Найдем распределение \n",
    "$$Y = [W(t)|W(t_i) = x_i,\\ W(t_{i + 1}) = x_{i + 1}],$$\n",
    "где $t = \\dfrac{t_{i + 1} - t_i}{2}$.\n",
    "\n",
    "Одно из свойств винеровского процесса $W(t) \\sim \\mathcal{N}(0, \\sigma^2)$, тогда $Y$ имеет плотность распределение\n",
    "$$p_Y(x) = \\dfrac{p_3(x_i, x, x_{i + 1})}{p_2(x_i, x_{i + 1})},$$\n",
    "\n",
    "где $p_3(x_i, x, x_{i + 1})$ - совместная плотность $[W(t_i), W(t), W(t_{i + 1})]$, а $p_2(x_i, x_{i + 1})$ - совместная плотность $[W(t_i), W(t_{i + 1})]$."
   ]
  },
  {
   "cell_type": "markdown",
   "metadata": {},
   "source": [
    "# Задание 11.\n",
    "### Построить двумерное пуассоновское поле, отвечающее пуассоновскому процессу:\n",
    "\n",
    "### 1. Первая интерпритация: система массового обслуживания. При этом, первая координата поля - время поступления заявки в СМО (равномерное распределение), вторая - время ее обслуживания (распределение $\\chi^2$ с 10 степенями свободы)."
   ]
  },
  {
   "cell_type": "markdown",
   "metadata": {},
   "source": [
    "Рассмотрим работу системы массового обслуживания на отрезке времени $[0, T]$. За это время на участок приходит $\\eta \\sim \\mathcal{Pois}(\\lambda T)$, где $\\lambda$ - интенсивность очереди. Момент прихода $i-$го человека $t_i \\sim \\mathcal{U}([0, T])$, а его время ожидания $s_i \\sim \\mathcal{\\chi^2}(10)$. Обозначим время обработки заявки $i$-го человека через $X_i$, тогда:\n",
    "\n",
    "$$\n",
    "X_i = \n",
    "\\left\\{\n",
    "\\begin{aligned}\n",
    "& t_i + s_i,\\ X_{i - 1} \\leqslant t_i\\ (\\text{в очереди никого нет});\\\\\n",
    "& X_{i - 1} + s_i,\\ X_{i - 1} > t_i\\ (\\text{очередь не пуста}).\n",
    "\\end{aligned}\n",
    "\\right.\n",
    "$$\n",
    "\n",
    "В таком случае, число людей в очереди в момент времени $t$ равен $N(t) = \\sum\\limits_{i = 0}^{\\eta}\\mathbb{I}_{t \\in [t_i, X_i)}$, то есть сумма людей, которые уже встали в очередь и запросы которых не были обработаны к моменты $t$.\n",
    "\n",
    "Заметим, что очередь не будет накапливаться до бесконечности лишь в том случае, если среднее время обработки заявки больше, чем средний интервал между появлением новых людей в очереди. \n",
    "\n",
    "$t_i \\sim \\mathcal{U}[0, T]$, следовательно $(t_{i + 1} - t_i) \\sim \\mathcal{Exp}(\\lambda)$. Известно, что $$\\mathbb{E}(t_{i + 1} - t_i) = \\dfrac{1}{\\lambda},\\quad \\mathbb{E}s_i = 10.$$\n",
    "\n",
    "Тогда наше условие корректной работы СМО (отсутствие бесконечно длинной очереди) эквивалентно $\\dfrac{1}{\\lambda} < 10$."
   ]
  },
  {
   "cell_type": "code",
   "execution_count": 109,
   "metadata": {},
   "outputs": [],
   "source": [
    "def chi2_rnd(k, size):\n",
    "    mu = 0\n",
    "    sigma = 1\n",
    "    return np.sum((np.reshape(normal(mu, sigma, size * k) ** 2, (size, k))), 1)"
   ]
  },
  {
   "cell_type": "code",
   "execution_count": 197,
   "metadata": {},
   "outputs": [],
   "source": [
    "# определение значения параметра\n",
    "lam = 0.1\n",
    "T = 100\n",
    "k = 10\n",
    "n = 1000"
   ]
  },
  {
   "cell_type": "code",
   "execution_count": 215,
   "metadata": {},
   "outputs": [],
   "source": [
    "def queue_mod(t):\n",
    "    eta = np.size(t)\n",
    "    s = chi2_rnd(k, eta)\n",
    "    X = np.zeros(eta)\n",
    "    X[0] = t[0] + s[0]\n",
    "    for i in range(1, eta):\n",
    "        X[i] = max(X[i - 1], t[i]) + s[i]\n",
    "    N = lambda tau: ((tau > t) * (tau < X)).sum()\n",
    "    return [N, X]"
   ]
  },
  {
   "cell_type": "code",
   "execution_count": 356,
   "metadata": {},
   "outputs": [
    {
     "data": {
      "image/png": "[encoded data removed]",
      "text/plain": [
       "<Figure size 432x288 with 1 Axes>"
      ]
     },
     "metadata": {
      "needs_background": "light"
     },
     "output_type": "display_data"
    }
   ],
   "source": [
    "eta = np.random.poisson(lam * T)\n",
    "\n",
    "t = np.sort(T * np.random.rand(int(eta)))\n",
    "\n",
    "[N, X] = queue_mod(t)\n",
    "\n",
    "tt = np.linspace(0, T, n)\n",
    "y = np.zeros(n)\n",
    "for i in range(0, n):\n",
    "    y[i] = N(tt[i])\n",
    "\n",
    "plt.plot(tt, y, color = 'b', alpha = 0.5, label = 'Число людей в очереди')\n",
    "plt.grid()\n",
    "plt.legend()\n",
    "plt.show()"
   ]
  },
  {
   "cell_type": "markdown",
   "metadata": {},
   "source": [
    "### 2. Вторая интерпретация: система массового обслуживания с циклической интенсивностью $\\lambda(1 + \\cos(t))$ и единичными скачками. Свести данную задачу моделирования неоднородного пуассоновского процесса при помощи метода Льюса и Шедлера к моделированию двумерного пуассоновского поля, где первая координата имеет равномерное распределение, а вторая - распределение Бернулли."
   ]
  },
  {
   "cell_type": "markdown",
   "metadata": {},
   "source": [
    "Рассмотрим работу СМО c циклической интенсивностью $\\lambda(t)$ на отрезке времени $[0, T]$. $\\lambda(t) = \\lambda (1 - \\cos(t)) \\leqslant 2\\lambda$ для любого $t \\in [0, T]$. Тогда получим число людей, встающих в очередь $\\eta \\sim \\mathcal{Pois}(2\\lambda)$ и получим соответствующее число равномерно распределенных моментов времени, в которые приходят эти люди $t_1', \\ldots, t_{\\eta}'$. \n",
    "\n",
    "Получим новую выборку моментов времени $t_1, \\ldots, t_n$ следующим образом: каждую случайную величину $t_i'$ будем принимать в новую выборку с вероятностью $p_i = \\dfrac{\\lambda(t_i')}{2 \\lambda} = \\dfrac{1 + \\cos(t_i')}{2}.$ Полученная выборка будет определнять моменты появления новых людей в очереди в системе массового обслуживания с циклической интенсивностью. \n",
    "\n",
    "Далее рассуждения повторяют пункт 1 задания 11."
   ]
  },
  {
   "cell_type": "code",
   "execution_count": 336,
   "metadata": {},
   "outputs": [],
   "source": [
    "lam = 0.1\n",
    "T = 100\n",
    "k = 10\n",
    "n = 1000"
   ]
  },
  {
   "cell_type": "code",
   "execution_count": 353,
   "metadata": {},
   "outputs": [
    {
     "data": {
      "image/png": "[encoded data removed]",
      "text/plain": [
       "<Figure size 432x288 with 1 Axes>"
      ]
     },
     "metadata": {
      "needs_background": "light"
     },
     "output_type": "display_data"
    }
   ],
   "source": [
    "eta = np.random.poisson(2 * lam * T)\n",
    "t1 = (T * np.random.rand(int(eta)))\n",
    "idx = (np.random.rand(eta)) < ((1 + np.cos(t1)) / 2)\n",
    "t = t1[idx]\n",
    "\n",
    "[N, X] = queue_mod(t)\n",
    "\n",
    "tt = np.linspace(0, T, n)\n",
    "y = np.zeros(n)\n",
    "for i in range(0, n):\n",
    "    y[i] = N(tt[i])\n",
    "\n",
    "plt.plot(tt, y, color = 'b', alpha = 0.5, label = 'Число людей в очереди')\n",
    "plt.legend()\n",
    "plt.grid()\n",
    "plt.show()"
   ]
  },
  {
   "cell_type": "markdown",
   "metadata": {},
   "source": [
    "### 3. Третья интерпретация: работа страховой компании. Первая координата - момент наступления страхового случая (равномерное распределение), вторая координата - величина ущерба (распределение Парето). Поступление капитала по времени линейно со скоростью $c > 0$, начальный капитал $W > 0$."
   ]
  },
  {
   "cell_type": "markdown",
   "metadata": {},
   "source": [
    "Рассмотрим работу страховой компании на отрезке времени $[0, T]$. Число страховых случаев $N \\sim \\mathcal{Pois}(\\lambda)$. Моменты наступления страховых случаев $t_i \\sim \\mathcal{U}(0, T)$, величины ущерба в соответствующие моменты времени $X_i \\sim \\mathcal{Par}(k)$, где $\\mathcal{Par}(k)$ - распределение Парето с параметром $k$.\n",
    "\n",
    "Будем моделировать распределение Парето методом обращения функции распределения. Для распределения Парето:\n",
    "$$F_{Par} = 1 - \\left[ \\frac{1}{x}\\right]^k.$$\n",
    "Тогда при $y \\sim \\mathcal{U}[0, 1]$ случайная величина $x = (1 - y)^-\\frac{1}{k}\\ \\sim \\mathcal{Par}(k).$"
   ]
  },
  {
   "cell_type": "code",
   "execution_count": 512,
   "metadata": {},
   "outputs": [],
   "source": [
    "def Pareto(k, size):\n",
    "    y = np.random.rand(size)\n",
    "    return (1 - y) ** (- (1 / k))"
   ]
  },
  {
   "cell_type": "markdown",
   "metadata": {},
   "source": [
    "Капитал поступает линейно со скоростью $c$, а начальный капитал равен $W$. Также при возникновении страховых случаев необходимо выплачивать соответствующие величины ущерба, следовательно:\n",
    "$$K(t) = W + ct - \\sum\\limits_{i = 1}^{N(t)} X_i,$$\n",
    "где $N(t)$ - число страховых случаев к моменту времени $t$.\n",
    "\n",
    "Рассмотрим поведение системы при различных параметрах. Будем рассматривать $k > 1$, так как в противном случае математическое ожидание случайной величины не определено. \n",
    "\n",
    "Рассмотрим среднее значение капитала в момент времени $t$:\n",
    "$$\\mathbb{E}K(t) = W + ct - \\lambda t \\frac{k}{k - 1} = W + t(c - \\dfrac{\\lambda k}{k + 1}).$$\n",
    "Таким образом, при $c > \\dfrac{\\lambda k}{k - 1}$ капитал будет расти, а в обратном случае быстро будет израсходован."
   ]
  },
  {
   "cell_type": "code",
   "execution_count": 599,
   "metadata": {},
   "outputs": [],
   "source": [
    "lam = 1\n",
    "k = 2\n",
    "T = 100\n",
    "c = 2\n",
    "W = 50\n",
    "n = 1000"
   ]
  },
  {
   "cell_type": "code",
   "execution_count": 570,
   "metadata": {},
   "outputs": [],
   "source": [
    "def K(tau, f, xx, t):\n",
    "    if (tau < t[0]):\n",
    "        return W + c*tau\n",
    "    res = [((t[i] <= tau) & (t[i + 1] > tau)) for i in range(0, eta - 1)]\n",
    "    if (np.sum(res) == 0):\n",
    "        res = np.concatenate((res, [1])).astype(bool)\n",
    "    else:\n",
    "        res = np.concatenate((res, [0])).astype(bool)\n",
    "    if (W + c * tau - xx[res] <= 0):\n",
    "        f = False\n",
    "    return f * (W + c * tau - xx[res]) \n"
   ]
  },
  {
   "cell_type": "code",
   "execution_count": 602,
   "metadata": {},
   "outputs": [
    {
     "data": {
      "image/png": "[encoded data removed]",
      "text/plain": [
       "<Figure size 432x288 with 1 Axes>"
      ]
     },
     "metadata": {
      "needs_background": "light"
     },
     "output_type": "display_data"
    }
   ],
   "source": [
    "eta = np.random.poisson(lam * T)\n",
    "t = np.sort(T * np.random.rand(eta))\n",
    "X = Pareto(k, eta)\n",
    "f = True\n",
    "\n",
    "kk = np.zeros(eta)\n",
    "xx = np.zeros(eta)\n",
    "kk[0] = W\n",
    "for i in range(1, eta):\n",
    "    xx[i] = xx[i - 1] + X[i]\n",
    "    \n",
    "tt = np.linspace(0, T, n)\n",
    "yy = np.zeros(n)\n",
    "\n",
    "for i in range(0, n):\n",
    "    yy[i] = K(tt[i], f, xx, t)\n",
    "\n",
    "    \n",
    "plt.plot(tt, yy, color = 'b', alpha = 0.5, label = 'K(t)')\n",
    "plt.legend()\n",
    "plt.show()"
   ]
  }
 ],
 "metadata": {
  "kernelspec": {
   "display_name": "Python 3",
   "language": "python",
   "name": "python3"
  },
  "language_info": {
   "codemirror_mode": {
    "name": "ipython",
    "version": 3
   },
   "file_extension": ".py",
   "mimetype": "text/x-python",
   "name": "python",
   "nbconvert_exporter": "python",
   "pygments_lexer": "ipython3",
   "version": "3.8.3"
  }
 },
 "nbformat": 4,
 "nbformat_minor": 4
}
