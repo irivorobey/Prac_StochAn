{
 "cells": [
  {
   "cell_type": "code",
   "execution_count": 1,
   "metadata": {},
   "outputs": [],
   "source": [
    "import numpy as np #считать циферки\n",
    "import math\n",
    "import matplotlib #рисовать картиночки\n",
    "%matplotlib inline\n",
    "import matplotlib.pyplot as plt\n",
    "import pandas as pd"
   ]
  },
  {
   "cell_type": "markdown",
   "metadata": {},
   "source": [
    "# Задание 1\n",
    "### 1. Реализовать генератор схемы Бернулли с заданной вероятностью успеха $p$. На основе гегнератора схемы Бернулли построить датчик для биномиального распределения.\n"
   ]
  },
  {
   "cell_type": "markdown",
   "metadata": {},
   "source": [
    "## Схема Бернулли"
   ]
  },
  {
   "cell_type": "code",
   "execution_count": 2,
   "metadata": {},
   "outputs": [],
   "source": [
    "def bern(p, size):\n",
    "    if (p > 1 or p < 0):\n",
    "        print('p = ', p, 'ins out of bounds [0, 1]')\n",
    "        return \"error\"\n",
    "    return (np.random.random_sample(size) <= p).astype(int)"
   ]
  },
  {
   "cell_type": "code",
   "execution_count": 3,
   "metadata": {},
   "outputs": [],
   "source": [
    "p = 0.4;\n",
    "size = 1000;"
   ]
  },
  {
   "cell_type": "markdown",
   "metadata": {},
   "source": [
    "Проверка распределения Бернулли"
   ]
  },
  {
   "cell_type": "code",
   "execution_count": 4,
   "metadata": {},
   "outputs": [
    {
     "data": {
      "image/png": "[encoded data removed]",
      "text/plain": [
       "<Figure size 432x288 with 1 Axes>"
      ]
     },
     "metadata": {
      "needs_background": "light"
     },
     "output_type": "display_data"
    }
   ],
   "source": [
    "plt.hist(bern(p, size), color = 'b', alpha = 0.5)\n",
    "plt.show()"
   ]
  },
  {
   "cell_type": "markdown",
   "metadata": {},
   "source": [
    "## Датчик биномиального распределения"
   ]
  },
  {
   "cell_type": "code",
   "execution_count": 5,
   "metadata": {},
   "outputs": [],
   "source": [
    "def binom(p, n, size):\n",
    "    if (p > 1 or p < 0):\n",
    "        print('p = ', p, 'ins out of bounds [0, 1]')\n",
    "        return \"error\"\n",
    "    if (type(size) == int):\n",
    "        return (bern(p, (n, size))).sum(0)\n",
    "    else:\n",
    "        return (bern(p, (n,) + size)).sum(0)"
   ]
  },
  {
   "cell_type": "code",
   "execution_count": 6,
   "metadata": {},
   "outputs": [],
   "source": [
    "p = 0.4\n",
    "n = 100\n",
    "size = 100000"
   ]
  },
  {
   "cell_type": "markdown",
   "metadata": {},
   "source": [
    "Проверка биномиального распределения"
   ]
  },
  {
   "cell_type": "code",
   "execution_count": 7,
   "metadata": {},
   "outputs": [
    {
     "data": {
      "image/png": "[encoded data removed]",
      "text/plain": [
       "<Figure size 432x288 with 1 Axes>"
      ]
     },
     "metadata": {
      "needs_background": "light"
     },
     "output_type": "display_data"
    }
   ],
   "source": [
    "m = n * p;\n",
    "plt.hist(binom(p, n, size), bins = 20, color = 'b', alpha = 0.5)\n",
    "plt.show()"
   ]
  },
  {
   "cell_type": "markdown",
   "metadata": {},
   "source": [
    "### 2. Реализовать генератор геометрического распределения. Проверить для данного распределения свойство отсутствия памяти."
   ]
  },
  {
   "cell_type": "markdown",
   "metadata": {},
   "source": [
    "## Генератор геометрического распределения"
   ]
  },
  {
   "cell_type": "code",
   "execution_count": 8,
   "metadata": {},
   "outputs": [],
   "source": [
    "def geom(p, size):\n",
    "    if (p > 1 or p < 0):\n",
    "        print('p = ', p, 'ins out of bounds [0, 1]')\n",
    "        return \"error\"\n",
    "    lam = -np.log(1 - p)\n",
    "    u = np.random.random_sample(size)\n",
    "    return np.floor(np.divide(-np.log(np.ones(size) - u), lam))"
   ]
  },
  {
   "cell_type": "code",
   "execution_count": 9,
   "metadata": {},
   "outputs": [],
   "source": [
    "p = 0.3\n",
    "size = 100000"
   ]
  },
  {
   "cell_type": "markdown",
   "metadata": {},
   "source": [
    "Проверка геометрического распределения"
   ]
  },
  {
   "cell_type": "code",
   "execution_count": 10,
   "metadata": {},
   "outputs": [
    {
     "data": {
      "image/png": "[encoded data removed]",
      "text/plain": [
       "<Figure size 432x288 with 1 Axes>"
      ]
     },
     "metadata": {
      "needs_background": "light"
     },
     "output_type": "display_data"
    }
   ],
   "source": [
    "g = geom(p, size)\n",
    "plt.hist(g, bins = np.arange(-0.25, np.max(g), 1), density = True, color = 'b', alpha = 0.5)\n",
    "plt.show()"
   ]
  },
  {
   "cell_type": "markdown",
   "metadata": {},
   "source": [
    "Проверка свойства отсутствия памяти"
   ]
  },
  {
   "cell_type": "code",
   "execution_count": 11,
   "metadata": {},
   "outputs": [],
   "source": [
    "tau = 5"
   ]
  },
  {
   "cell_type": "code",
   "execution_count": 12,
   "metadata": {},
   "outputs": [
    {
     "data": {
      "image/png": "[encoded data removed]",
      "text/plain": [
       "<Figure size 432x288 with 1 Axes>"
      ]
     },
     "metadata": {
      "needs_background": "light"
     },
     "output_type": "display_data"
    }
   ],
   "source": [
    "x = geom(p, size)\n",
    "y = geom(p, int(size / ((1 - p)**tau)))\n",
    "y = y[y >= tau][0 : size]\n",
    "plt.hist(x, bins = np.arange(-0.25, np.max(x), 1), density = True, color = 'b', alpha = 0.5, label = 'x')\n",
    "plt.hist(y - tau, bins = np.arange(-0.25, np.max(x), 1), density = True, color = 'r', alpha = 0.8, rwidth = 0.3, label = r'y - $\\tau$')\n",
    "plt.legend()\n",
    "plt.show()"
   ]
  },
  {
   "cell_type": "markdown",
   "metadata": {},
   "source": [
    "### 3. Рассмотреть игру в орлянку - бесконечную последовательность независимых испытаний с бросанием правильной монеты. Выигрыш $S_n$ определяется как сумма по всем $n$ испытаниям значений $-1$ и $1$ в зависимости от выпавшей стороны. Проиллюстровать (в виде ломанной) поведение нормированной суммы $Y(i) = \\frac{S_n}  {\\sqrt{n}}$, как функцию от номера испытания $i = 1, ..., n$ для одной отдельно взятой траектории. Дать теоретическую оценку для $Y(n)$ при $n \\rightarrow \\infty$."
   ]
  },
  {
   "cell_type": "code",
   "execution_count": 13,
   "metadata": {},
   "outputs": [
    {
     "data": {
      "image/png": "[encoded data removed]",
      "text/plain": [
       "<Figure size 432x288 with 1 Axes>"
      ]
     },
     "metadata": {
      "needs_background": "light"
     },
     "output_type": "display_data"
    }
   ],
   "source": [
    "n = 100\n",
    "for i in range(0, 10):\n",
    "    s_n = (2 * bern(0.5, n) - 1).cumsum()\n",
    "    plt.plot(s_n / np.sqrt(n))\n",
    "plt.plot([0, n], [3, 3], 'k', [0, n], [-3, -3], 'k')\n",
    "plt.show()"
   ]
  },
  {
   "cell_type": "markdown",
   "metadata": {},
   "source": [
    "# Задание 2.\n",
    "### 1. Построить датчик сингулярного распределения, имеющий в качестве функции распределения канторову лестницу. С помощью критерия Колмогорова убедиться в корректности работы датчика."
   ]
  },
  {
   "cell_type": "markdown",
   "metadata": {},
   "source": [
    "## Сингулярное распределение с канторовой лестницей"
   ]
  },
  {
   "cell_type": "markdown",
   "metadata": {},
   "source": [
    "Носителем распределения является канторова лестница. В троичной записи точек, принадлежащих канторову множеству отсутствует единица. Таким образом, можно задать каждый элемент множетсва (с заданной точностью) при помощи его троичной записи. Для этого сгенерируем схему Бернулли, заменяя $1$ на $2$. Полученная последовательность задает троичную запись числа, то есть, при переходе к десятичной системе счисления, будет получена случайная величина, распределенная сингулярно с канторовой лестницей в качестве функции распределения.\n",
    "\n",
    "Для определения необходимой точности вычислений (длину генерируемой схемы Бернулли) положим точность $10^{-10}$. При переходе к троичной системе счисления получено, что необходимо вычислить $n = 10\\frac{\\ln 10}{\\ln 3} \\approx 21$ знаков после запятой."
   ]
  },
  {
   "cell_type": "code",
   "execution_count": 14,
   "metadata": {},
   "outputs": [],
   "source": [
    "def sing(size):\n",
    "    p = 0.5\n",
    "    n = 21\n",
    "    if (type(size) == int):\n",
    "        x = 2 * (bern(p, (n, size)))\n",
    "        y = (np.ones((n, size)) / 3).cumprod(0)\n",
    "    else:\n",
    "        x = 2 * (bern(p, (n,) + size))\n",
    "        y = (np.ones((n,) + size) / 3).cumprod(0)\n",
    "    return (x * y).sum(0)"
   ]
  },
  {
   "cell_type": "code",
   "execution_count": 15,
   "metadata": {},
   "outputs": [],
   "source": [
    "size = 10000"
   ]
  },
  {
   "cell_type": "code",
   "execution_count": 16,
   "metadata": {},
   "outputs": [
    {
     "data": {
      "image/png": "[encoded data removed]",
      "text/plain": [
       "<Figure size 432x288 with 1 Axes>"
      ]
     },
     "metadata": {
      "needs_background": "light"
     },
     "output_type": "display_data"
    }
   ],
   "source": [
    "from statsmodels.distributions.empirical_distribution import ECDF\n",
    "\n",
    "sample = sing(size)\n",
    "\n",
    "ecdf = ECDF(sample)\n",
    "plt.plot(ecdf.x, ecdf.y, label = 'Singular distribution', c = 'b', alpha = 0.5)\n",
    "plt.legend()\n",
    "plt.show()"
   ]
  },
  {
   "cell_type": "markdown",
   "metadata": {},
   "source": [
    "## Лестница Кантора\n",
    "\n",
    "Зададим канторову лестницу аналитически для использования критерия Колмогорова.\n",
    "\n",
    "Для аналитического построения канторовой лестницы представим x в троичной системе счисления. Если в троичной записи числа есть $1$, то выбросим все последующие цифры из записи и заменим все предшествующие $2$ на $1$. Полученная последовательность является записью значения канторовой лестницы в двоичной системе счисления"
   ]
  },
  {
   "cell_type": "code",
   "execution_count": 17,
   "metadata": {},
   "outputs": [],
   "source": [
    "def cantor(x):\n",
    "    if (x >= 1):\n",
    "        return 1\n",
    "    if (x <= 0):\n",
    "        return 0\n",
    "    res = 0\n",
    "    i = 1\n",
    "    while (i <= 21):\n",
    "        c = np.floor(3 * x)\n",
    "        if (c == 2):\n",
    "            res = res + 1 / 2**i\n",
    "        if (c == 1):\n",
    "            res = res + 1 / 2**i\n",
    "            break\n",
    "        i = i + 1\n",
    "        x = (x - c/3) * 3\n",
    "    return res"
   ]
  },
  {
   "cell_type": "code",
   "execution_count": 18,
   "metadata": {},
   "outputs": [],
   "source": [
    "def cantor_vect(xx):\n",
    "    if type(xx) == int:\n",
    "        return cantor(xx)\n",
    "    else:\n",
    "        res = np.zeros(np.shape(xx))\n",
    "        for i in enumerate(xx):\n",
    "            res[i[0]] = cantor(i[1])\n",
    "    return res"
   ]
  },
  {
   "cell_type": "code",
   "execution_count": 19,
   "metadata": {},
   "outputs": [],
   "source": [
    "n_plot = 10000"
   ]
  },
  {
   "cell_type": "code",
   "execution_count": 20,
   "metadata": {},
   "outputs": [
    {
     "data": {
      "image/png": "[encoded data removed]",
      "text/plain": [
       "<Figure size 432x288 with 1 Axes>"
      ]
     },
     "metadata": {
      "needs_background": "light"
     },
     "output_type": "display_data"
    }
   ],
   "source": [
    "x = np.linspace(0, 1, n_plot)\n",
    "y = cantor_vect(x)\n",
    "plt.plot(y, c = 'r', label = 'Analitical Cantor function')\n",
    "plt.legend()\n",
    "plt.show()"
   ]
  },
  {
   "cell_type": "markdown",
   "metadata": {},
   "source": [
    "## Проверка\n",
    "\n",
    "Проверим правильность построения сингулярного распределения с помощью критерия Колмогорова.\n",
    "\n",
    "#### Критерий Колмогорова:\n",
    "Пусть $F(x)$ - заданная функция распределения, $F_{n}(x)$ - эмпирическая функция распределения, построенная по данной выборке. Пусть $D_n = \\sup\\limits_{x}|F(x) - F_n(x)|$, тогда элементы выборки распределены с функцией $F$ с заданным уровнем согласия $\\alpha$ тогда и только тогда, когда $\\sqrt{n}D_n \\leqslant \\gamma$, где $\\gamma = K^{-1}(1 - \\alpha)$.  \n",
    "\n",
    "Положим $\\alpha = 5%$, тогда $\\gamma = 1.36$."
   ]
  },
  {
   "cell_type": "code",
   "execution_count": 21,
   "metadata": {},
   "outputs": [],
   "source": [
    "n_hyp = 100\n",
    "n_sample = 1000\n",
    "n_plot = 10000"
   ]
  },
  {
   "cell_type": "code",
   "execution_count": 22,
   "metadata": {},
   "outputs": [
    {
     "name": "stdout",
     "output_type": "stream",
     "text": [
      "Rejected  5.0 % of tests.\n"
     ]
    }
   ],
   "source": [
    "from statsmodels.distributions.empirical_distribution import ECDF\n",
    "\n",
    "rejected = 0\n",
    "gamma = 1.36\n",
    "cant = cantor_vect(np.linspace(0, 1, n_plot))\n",
    "\n",
    "for i in range(0, n_hyp):\n",
    "    ecdf = ECDF(sing(n_sample))\n",
    "    Dn = np.max(np.abs(ecdf(np.linspace(0, 1, n_plot)) - cant))\n",
    "    if (Dn * np.sqrt(n_sample) > gamma):\n",
    "        rejected = rejected + 1\n",
    "    \n",
    "print('Rejected ', rejected/n_hyp * 100, '% of tests.')"
   ]
  },
  {
   "cell_type": "code",
   "execution_count": 23,
   "metadata": {},
   "outputs": [
    {
     "data": {
      "image/png": "[encoded data removed]",
      "text/plain": [
       "<Figure size 432x288 with 1 Axes>"
      ]
     },
     "metadata": {
      "needs_background": "light"
     },
     "output_type": "display_data"
    }
   ],
   "source": [
    "plt.plot(cant, c = 'b', label = 'Analitical Cantor function', alpha = 0.5)\n",
    "plt.plot(ecdf(np.linspace(0, 1, n_plot)), c = 'r', label = 'Singular distribution (latest test)')\n",
    "plt.legend()\n",
    "plt.show()"
   ]
  },
  {
   "cell_type": "markdown",
   "metadata": {},
   "source": [
    "### 2. Для канторовых случайных величин проверить свойство симметричности относительно $\\frac{1}{2}$ ($X$ и $1 - X$ распределены одинаково) и самоподобия относительно деления на $3$ с помощью критерия Смирнова."
   ]
  },
  {
   "cell_type": "markdown",
   "metadata": {},
   "source": [
    "## Симметричность распределения\n",
    "\n",
    "Рассмотрим две выборки, $X_1 \\sim \\mathcal{Cant}\\ (\\mathcal{Cant}$ - сингулярное распределение с канторовой лестницей в качестве функции распределения) и $1 - X_2,\\ X_2 \\sim \\mathcal{Cant}$. Покажем, с использованием критерия Смирнова, что $1 - X$ имеет такое же распределение. \n",
    "\n",
    "#### Критерий Смирнова:\n",
    "Пусть $X_1$ и $X_2$ - две выборки. Для того, чтобы проверить, одинаковые ли у низ распределения введем $D_{mn} = \\sup\\limits_{x}|F_1(x) - F_2(x)|$, где $F_1(x)$ и $F_2(x)$ - эмпирические функции распределения на основе выборок $X_1$ и $X_2$ соответственно. $X_1$ и $X_2$ распределены одинаково тогда и только тогда, когда $\\left(\\frac{mn}{m + n}\\right)^{\\frac{1}{2}}D_{mn} \\leqslant \\gamma$, где $\\gamma = K^{-1}(1 - \\alpha)$, $\\alpha$ - уровень согласия.\n",
    "\n",
    "Положим $\\alpha = 5%$, тогда $\\gamma = 1.36$.\n",
    "В нашем случае $m = n$, а значит, критерий имеет следующий вид: $\\sqrt{\\frac{n}{2}}D_{mn} \\leqslant 1.36$. "
   ]
  },
  {
   "cell_type": "code",
   "execution_count": 24,
   "metadata": {},
   "outputs": [],
   "source": [
    "n_hyp = 100\n",
    "n_sample = 1000\n",
    "n_plot = 1000"
   ]
  },
  {
   "cell_type": "code",
   "execution_count": 25,
   "metadata": {},
   "outputs": [
    {
     "name": "stdout",
     "output_type": "stream",
     "text": [
      "Rejected  3.0 % of tests.\n"
     ]
    }
   ],
   "source": [
    "from statsmodels.distributions.empirical_distribution import ECDF\n",
    "\n",
    "rejected = 0\n",
    "gamma = 1.36\n",
    "x = np.linspace(0, 1, n_plot)\n",
    "\n",
    "for i in range(0, n_hyp):\n",
    "    x1 = sing(n_sample)\n",
    "    ecdf1 = ECDF(x1)\n",
    "    x2 = 1 - sing(n_sample)\n",
    "    ecdf2 = ECDF(x2)\n",
    "    Dn = np.max(np.abs(ecdf1(x) - ecdf2(x)))\n",
    "    if (Dn * np.sqrt(n_sample/2) > gamma):\n",
    "        rejected = rejected + 1\n",
    "    \n",
    "print('Rejected ', rejected/n_hyp * 100, '% of tests.')"
   ]
  },
  {
   "cell_type": "code",
   "execution_count": 26,
   "metadata": {},
   "outputs": [
    {
     "data": {
      "image/png": "[encoded data removed]",
      "text/plain": [
       "<Figure size 432x288 with 1 Axes>"
      ]
     },
     "metadata": {
      "needs_background": "light"
     },
     "output_type": "display_data"
    }
   ],
   "source": [
    "plt.plot(ecdf1(x), c = 'b', label = r'$X_1$ (latest test)', alpha = 0.5)\n",
    "plt.plot(ecdf2(x), c = 'r', label = r'$1 - X_2$ (latest test)')\n",
    "plt.legend()\n",
    "plt.show()"
   ]
  },
  {
   "cell_type": "markdown",
   "metadata": {},
   "source": [
    "## Самоподобие распределения относительно деления на 3\n",
    "\n",
    "Аналогично проверке на симметричность рассмотрим распределения $\\frac{Y}{3}$ и условное распределение $Y$ при условии $Y \\in [0, \\frac{1}{3}]$."
   ]
  },
  {
   "cell_type": "code",
   "execution_count": 27,
   "metadata": {},
   "outputs": [],
   "source": [
    "n_hyp = 100\n",
    "n_sample = 1000\n",
    "n_plot = 1000"
   ]
  },
  {
   "cell_type": "code",
   "execution_count": 28,
   "metadata": {},
   "outputs": [
    {
     "name": "stdout",
     "output_type": "stream",
     "text": [
      "Rejected  0.0 % of tests.\n"
     ]
    }
   ],
   "source": [
    "from statsmodels.distributions.empirical_distribution import ECDF\n",
    "\n",
    "rejected = 0\n",
    "gamma = 1.36\n",
    "x = np.linspace(0, 1, n_plot)\n",
    "\n",
    "for i in range(0, n_hyp):\n",
    "    x1 = sing(n_sample)/3\n",
    "    ecdf1 = ECDF(x1)\n",
    "    x2 = sing(n_sample * 2)\n",
    "    x2 = x2[x2 <= 1/3]\n",
    "    ecdf2 = ECDF(x2)\n",
    "    Dn = np.max(np.abs(ecdf1(x) - ecdf2(x)))\n",
    "    if (Dn * np.sqrt(n_sample/2) > gamma):\n",
    "        rejected = rejected + 1\n",
    "    \n",
    "print('Rejected ', rejected/n_hyp * 100, '% of tests.')"
   ]
  },
  {
   "cell_type": "code",
   "execution_count": 29,
   "metadata": {},
   "outputs": [
    {
     "data": {
      "image/png": "[encoded data removed]",
      "text/plain": [
       "<Figure size 432x288 with 1 Axes>"
      ]
     },
     "metadata": {
      "needs_background": "light"
     },
     "output_type": "display_data"
    }
   ],
   "source": [
    "plt.plot(ecdf1(x), c = 'b', label = r'$\\frac{Y}{3}$ (latest test)', alpha = 0.5)\n",
    "plt.plot(ecdf2(x), c = 'r', label = r'$Y: Y \\in [0, \\frac{1}{3}]$ (latest test)')\n",
    "plt.legend()\n",
    "plt.show()"
   ]
  },
  {
   "cell_type": "markdown",
   "metadata": {},
   "source": [
    "### 3. Вычислить значение математического ожидания и дисперсии для данного распределения. Сравнить теоретические значения с эмпирическими для разного объема выборок. Проиллюстрировать сходимость."
   ]
  },
  {
   "cell_type": "markdown",
   "metadata": {},
   "source": [
    "## Вычисление матожидания и дисперсии\n",
    "Пусть $\\xi \\sim \\mathcal{Cant}$, из симетричности распределения относительно $\\frac{1}{2}$ следует, что $\\mathbb{E}\\xi = \\frac{1}{2} \\sim 0,5$.\n",
    "\n",
    "Вычислим $\\mathbb{E}\\xi ^2 = \\int\\limits_0^1 x^2 dF(x) = \\int\\limits_0^{\\frac{1}{3}} x^2 dF(x) + \\int\\limits_{\\frac{2}{3}}^1 x^2 dF(x)$, используя свойство самоподобия получим, что $\\mathbb{E}\\xi^2 = \\frac{3}{8}$.\n",
    "\n",
    "Таким образом, $\\mathbb{D}\\xi = \\frac{3}{8} - \\frac{1}{4} = \\frac{1}{8} \\sim 0,125.$\n",
    "\n",
    "## Эмпирические значения"
   ]
  },
  {
   "cell_type": "code",
   "execution_count": 30,
   "metadata": {},
   "outputs": [],
   "source": [
    "n_sample1 = 100\n",
    "n_sample2 = 1000\n",
    "n_sample3 = 100000\n",
    "\n",
    "df = pd.DataFrame({\n",
    "    'Mean': np.zeros(3),\n",
    "    'Variance': np.zeros(3)},\n",
    "    index = {n_sample1, n_sample2, n_sample3})"
   ]
  },
  {
   "cell_type": "code",
   "execution_count": 31,
   "metadata": {},
   "outputs": [],
   "source": [
    "mean1 = np.mean(sing(n_sample1))\n",
    "\n",
    "mean2 = np.mean(sing(n_sample2))\n",
    "mean3 = np.mean(sing(n_sample3))\n",
    "\n",
    "var1 = np.var(sing(n_sample1))\n",
    "var2 = np.var(sing(n_sample2))\n",
    "var3 = np.var(sing(n_sample3))"
   ]
  },
  {
   "cell_type": "code",
   "execution_count": 32,
   "metadata": {},
   "outputs": [
    {
     "data": {
      "text/html": [
       "<div>\n",
       "<style scoped>\n",
       "    .dataframe tbody tr th:only-of-type {\n",
       "        vertical-align: middle;\n",
       "    }\n",
       "\n",
       "    .dataframe tbody tr th {\n",
       "        vertical-align: top;\n",
       "    }\n",
       "\n",
       "    .dataframe thead th {\n",
       "        text-align: right;\n",
       "    }\n",
       "</style>\n",
       "<table border=\"1\" class=\"dataframe\">\n",
       "  <thead>\n",
       "    <tr style=\"text-align: right;\">\n",
       "      <th></th>\n",
       "      <th>Mean</th>\n",
       "      <th>Variance</th>\n",
       "    </tr>\n",
       "  </thead>\n",
       "  <tbody>\n",
       "    <tr>\n",
       "      <th>1000</th>\n",
       "      <td>0.500269</td>\n",
       "      <td>0.120799</td>\n",
       "    </tr>\n",
       "    <tr>\n",
       "      <th>100</th>\n",
       "      <td>0.467909</td>\n",
       "      <td>0.127966</td>\n",
       "    </tr>\n",
       "    <tr>\n",
       "      <th>100000</th>\n",
       "      <td>0.498542</td>\n",
       "      <td>0.124460</td>\n",
       "    </tr>\n",
       "  </tbody>\n",
       "</table>\n",
       "</div>"
      ],
      "text/plain": [
       "            Mean  Variance\n",
       "1000    0.500269  0.120799\n",
       "100     0.467909  0.127966\n",
       "100000  0.498542  0.124460"
      ]
     },
     "execution_count": 32,
     "metadata": {},
     "output_type": "execute_result"
    }
   ],
   "source": [
    "df.loc[n_sample1, 'Mean'] = mean1\n",
    "df.loc[n_sample2, 'Mean'] = mean2\n",
    "df.loc[n_sample3, 'Mean'] = mean3\n",
    "\n",
    "df.loc[n_sample1, 'Variance'] = var1\n",
    "df.loc[n_sample2, 'Variance'] = var2\n",
    "df.loc[n_sample3, 'Variance'] = var3\n",
    "\n",
    "df"
   ]
  },
  {
   "cell_type": "markdown",
   "metadata": {},
   "source": [
    "## Сходимость\n",
    "\n",
    "Матожидание для каждого $n$ - числа случайных величин $X_n$ рассчитывается следующим образом: $$\\mathbb{E}_n = \\dfrac{1}{n}\\sum\\limits_{k = 1}^{n}X_k,$$\n",
    "а дисперсия: $$\\mathbb{D}_n = \\dfrac{1}{n}\\sum\\limits_{k = 1}^{n}(X_k - \\bar X)^2$$"
   ]
  },
  {
   "cell_type": "code",
   "execution_count": 33,
   "metadata": {},
   "outputs": [
    {
     "data": {
      "image/png": "[encoded data removed]",
      "text/plain": [
       "<Figure size 432x288 with 1 Axes>"
      ]
     },
     "metadata": {
      "needs_background": "light"
     },
     "output_type": "display_data"
    },
    {
     "data": {
      "image/png": "[encoded data removed]",
      "text/plain": [
       "<Figure size 432x288 with 1 Axes>"
      ]
     },
     "metadata": {
      "needs_background": "light"
     },
     "output_type": "display_data"
    }
   ],
   "source": [
    "n = 500\n",
    "m = 0.5\n",
    "v = 0.125\n",
    "ns = np.linspace(10, 3000, n)\n",
    "means = np.zeros(n)\n",
    "varss = np.zeros(n)\n",
    "\n",
    "for i in range(0, n):\n",
    "    sample = sing(int(ns[i]))\n",
    "    means[i] = sample.mean()\n",
    "    varss[i] = sample.var()\n",
    "\n",
    "plt.plot(ns, means, label = 'Empirical mean', c = 'b', alpha = 0.5)\n",
    "plt.plot([10, 3000], [0.5, 0.5], c = 'r', label = 'Analitical mean')\n",
    "plt.legend()\n",
    "plt.show()\n",
    "\n",
    "\n",
    "plt.plot(ns, varss, label = 'Empirical variance', c = 'b', alpha = 0.5)\n",
    "plt.plot([10, 3000], [v, v], c = 'r', label = 'Analitical variance')\n",
    "plt.legend()\n",
    "plt.show()"
   ]
  },
  {
   "cell_type": "markdown",
   "metadata": {},
   "source": [
    "# Задание 3.\n",
    "### 1. Построить датчик экспоненциального распределения. Проверить для данного распределения сойство отсутствия памяти. Пусть $X_1, ..., X_n$ - нзависимо экспоненциально распределенные с.в. с параметрами $\\lambda_1, ..., \\lambda_n$ соотвестственно. Найти распределение сучайной величины $Y = \\min(X_1, ..., X_n).$"
   ]
  },
  {
   "cell_type": "markdown",
   "metadata": {},
   "source": [
    "## Датчик экcпоненциального распределения"
   ]
  },
  {
   "cell_type": "code",
   "execution_count": 34,
   "metadata": {},
   "outputs": [],
   "source": [
    "def exp(lam, size):\n",
    "    u = np.random.random_sample(size)\n",
    "    return np.divide(-np.log(np.ones(size) - u), lam)"
   ]
  },
  {
   "cell_type": "code",
   "execution_count": 35,
   "metadata": {},
   "outputs": [],
   "source": [
    "lam = 4\n",
    "size = 1000"
   ]
  },
  {
   "cell_type": "code",
   "execution_count": 36,
   "metadata": {},
   "outputs": [
    {
     "data": {
      "image/png": "[encoded data removed]",
      "text/plain": [
       "<Figure size 432x288 with 1 Axes>"
      ]
     },
     "metadata": {
      "needs_background": "light"
     },
     "output_type": "display_data"
    }
   ],
   "source": [
    "plt.hist(exp(lam, size), label = 'Exponential distribution histogram', color = 'b', alpha = 0.5)\n",
    "plt.legend()\n",
    "plt.show()"
   ]
  },
  {
   "cell_type": "markdown",
   "metadata": {},
   "source": [
    "## Проверка отсутствия памяти"
   ]
  },
  {
   "cell_type": "code",
   "execution_count": 37,
   "metadata": {},
   "outputs": [
    {
     "data": {
      "image/png": "[encoded data removed]",
      "text/plain": [
       "<Figure size 432x288 with 1 Axes>"
      ]
     },
     "metadata": {
      "needs_background": "light"
     },
     "output_type": "display_data"
    }
   ],
   "source": [
    "tau = 1\n",
    "x = exp(lam, size)\n",
    "y = exp(lam, int(size * np.exp(lam * tau)))\n",
    "y = y[y >= tau][0 : size]\n",
    "plt.hist(x, bins = np.linspace(0, np.max(x), 10), density = True, alpha = 0.5, label = 'x', color = 'b')\n",
    "plt.hist(y - tau, bins = np.linspace(0, np.max(x), 10), density = True, label = r'y - $\\tau$', color = 'r', rwidth = 0.3, alpha = 0.8)\n",
    "plt.legend()\n",
    "plt.show()"
   ]
  },
  {
   "cell_type": "markdown",
   "metadata": {},
   "source": [
    "\n",
    "## Распределение минимума \n",
    "\n",
    "Рассмотрим независимо экспоненциально распределенные величины $X_1, ..., X_n$ с параметрами $\\lambda_1,...,\\lambda_n$ соответственно.\n",
    "\n",
    "Функция распределения $Y = \\min(X_1, ..., X_n)$ вычисляется следующим образом:\n",
    "$$F_y(x) = \\mathbb{P}(\\min(X_1,...,X_n) < x) = 1 - \\prod\\limits_{k = 1}^n (1 - F_{X_n}(x)) = 1 - e^{-\\sum\\limits_{i = 1}^{n}\\lambda_i X_i},$$ то есть $Y \\sim \\mathcal{exp}(\\sum\\limits_{i = 1}^n \\lambda_i).$"
   ]
  },
  {
   "cell_type": "code",
   "execution_count": 38,
   "metadata": {},
   "outputs": [
    {
     "data": {
      "image/png": "[encoded data removed]",
      "text/plain": [
       "<Figure size 432x288 with 1 Axes>"
      ]
     },
     "metadata": {
      "needs_background": "light"
     },
     "output_type": "display_data"
    }
   ],
   "source": [
    "from statsmodels.distributions.empirical_distribution import ECDF\n",
    "\n",
    "n = 5\n",
    "size = 10000\n",
    "\n",
    "lam = (np.random.random_sample(n) * 10 + 1).astype(int)\n",
    "\n",
    "sample = np.zeros(n * size)\n",
    "for i in range(0, n):\n",
    "    sample[i * size : (i + 1) * size] = exp(lam[i], size)  \n",
    "sample = np.reshape(sample, (n, size))\n",
    "new_sample = sample.min(0)\n",
    "\n",
    "x = np.linspace(0, 0.3, 20)\n",
    "\n",
    "plt.hist(new_sample, density = True, bins = 25, label = 'Histogram of the empirical distribution', color = 'b', alpha = 0.5)\n",
    "plt.plot(x, lam.sum(0) *  np.exp(-1 * lam.sum(0) * x), label = 'Analitical distribution function', color = 'r')\n",
    "plt.legend()\n",
    "plt.show()"
   ]
  },
  {
   "cell_type": "markdown",
   "metadata": {},
   "source": [
    "### 2. На основе датчика экспоненциального распределения построить датчик пуассоновского распределения.\n",
    "\n",
    "## Пуассоновское распределение\n",
    "\n",
    "Рассмотрим пуассоновский процесс $X(t)$ с интенсивностью $\\lambda$. В момент времени $1$ $X(1)$ имеет пуассоновоское распределение с параметром $\\lambda$. \n",
    "\n",
    "Также известно, что скачки в пуассоновском процессе распределены экспоненциально, то есть случайную величину $\\eta \\sim \\mathcal{Pois}(\\lambda)$  можно получить как индекс первой суммируемой\n",
    "случайной величины $\\xi_i \\sim \\mathcal{Exp}(\\lambda)$ такой, что $$\\sum\\limits_{i = 1}^{\\eta} \\xi_i \\geqslant 1.$$"
   ]
  },
  {
   "cell_type": "code",
   "execution_count": 39,
   "metadata": {},
   "outputs": [],
   "source": [
    "def poisson_exp(lam, size):\n",
    "    sum = 0\n",
    "    res = np.zeros(size)\n",
    "    for i in range(0, size):\n",
    "        while (sum <= 1):\n",
    "            sum = sum + exp(lam, 1)\n",
    "            res[i] = res[i] + 1\n",
    "        sum = 0\n",
    "    return res"
   ]
  },
  {
   "cell_type": "code",
   "execution_count": 40,
   "metadata": {},
   "outputs": [
    {
     "data": {
      "image/png": "[encoded data removed]",
      "text/plain": [
       "<Figure size 432x288 with 1 Axes>"
      ]
     },
     "metadata": {
      "needs_background": "light"
     },
     "output_type": "display_data"
    }
   ],
   "source": [
    "lam = 9\n",
    "size = 1000\n",
    "plt.hist(poisson_exp(lam, size), bins = 20, label = 'Poisson distribution (with exponential)', color = 'b', alpha = 0.5)\n",
    "plt.legend()\n",
    "plt.show()"
   ]
  },
  {
   "cell_type": "markdown",
   "metadata": {},
   "source": [
    "### 3. Построить датчик пуассоновского распределения как предел биномиального распределения. С помощью критерия хи-квадрат Пирсона убедиться, что получен датчик распределения Пуассона.\n",
    "\n",
    "Для построения датчика Пуассоновского распределения воспользуемся теоремой Пуассона.\n",
    "\n",
    "#### Теорема Пуассона:\n",
    "Пусть проведено $n \\rightarrow \\infty$ испытаний Бернулли, причем $p_n \\rightarrow 0$, а $np \\rightarrow \\lambda > 0$, тогда вероятность получить $k$ успехов в $n$ испытаниях Бернулли стремится к величине $\\frac{\\lambda^k e^{-\\lambda}}{k!}$, причем $$\\left| \\sum\\limits_k C_n^k p^k(1 - p)^{n-k} - \\sum\\limits_k \\frac{\\lambda^k}{k!}e^{-\\lambda} \\right| \\leqslant np^2.$$\n",
    "\n",
    "Выберем такой $\\epsilon$, что $np^2 = \\lambda p = \\epsilon$ при заданном $\\lambda$. Тогда $p = \\frac{\\epsilon}{\\lambda},\\ n = \\frac{\\lambda}{\\epsilon}$. Положим $\\epsilon = 10^{-3}.$"
   ]
  },
  {
   "cell_type": "code",
   "execution_count": 41,
   "metadata": {},
   "outputs": [],
   "source": [
    "def poisson_binom(lam, size):\n",
    "    eps = 10**(-3)\n",
    "    p = eps / lam\n",
    "    n = int(lam / p)\n",
    "    return binom(p, n, size)"
   ]
  },
  {
   "cell_type": "code",
   "execution_count": 42,
   "metadata": {},
   "outputs": [
    {
     "data": {
      "image/png": "[encoded data removed]",
      "text/plain": [
       "<Figure size 432x288 with 1 Axes>"
      ]
     },
     "metadata": {
      "needs_background": "light"
     },
     "output_type": "display_data"
    }
   ],
   "source": [
    "lam = 9\n",
    "size = 1000\n",
    "plt.hist(poisson_binom(lam, size), bins = 30, label = 'Poisson distribution (with binomial)', color = 'b', alpha = 0.5)\n",
    "plt.legend()\n",
    "plt.show()"
   ]
  },
  {
   "cell_type": "markdown",
   "metadata": {},
   "source": [
    "## Проверка\n",
    "\n",
    "Для проверки правильности полученного распределения воспользуемся критерием хи-квадрат Пирсона.\n",
    "\n",
    "#### Критерий хи-квадрат:\n",
    "Рассмотрим выборку $X_1, ..., X_n,\\ X_i \\in [a, b]$. Разделим $[a,b]$ на $m$ непересекабщихся полуинтервалов. Пусть $n_i$ - количество наблюдений, попавших в $i$-й полуинтервал. Пусть $p_j = F(b_j) - F(a_j)$ - вероятность попадания наблюдения в $j$-й интервал при функции распределения $F(x)$, тогда ожидаемое число наблюдений в $j$-м интервале равно $np_j$. Тогда $$Q = \\sum\\limits_{i = 1}^{m}\\dfrac{(n_i - np_i)^2}{np_i} \\rightarrow \\chi ^2(m - 1), \\quad n \\rightarrow \\infty.$$\n",
    "\n",
    "Тогда случайные величины в выборке распределены как $F(x)$ тогда и только тогда, когда $Q < \\gamma$. Определим $\\gamma = \\chi _{m - 1}^{-1}(1 - \\alpha)$."
   ]
  },
  {
   "cell_type": "code",
   "execution_count": 43,
   "metadata": {},
   "outputs": [],
   "source": [
    "def poisson(lam, k):\n",
    "    if type(k) == int:\n",
    "        return np.exp(-lam) * (lam ** k) / np.prod(range(1, k + 1))\n",
    "    \n",
    "    res = np.zeros(len(k))\n",
    "    for i in range(0, len(k)):\n",
    "        res[i] = np.exp(-lam) * (lam ** k[i]) / np.prod(range(1, k[i] + 1))\n",
    "    return res"
   ]
  },
  {
   "cell_type": "code",
   "execution_count": 44,
   "metadata": {},
   "outputs": [
    {
     "name": "stdout",
     "output_type": "stream",
     "text": [
      "Rejected  1.0 % of tests.\n"
     ]
    }
   ],
   "source": [
    "from scipy.stats import chi2\n",
    "\n",
    "lam = 4\n",
    "size = 500\n",
    "\n",
    "rejected = 0\n",
    "n_hyp = 100\n",
    "\n",
    "x = np.array([0, 3, 4, 5, 6])\n",
    "n = len(x)\n",
    "\n",
    "alpha = 0.05\n",
    "gamma = chi2.ppf(1 - alpha, n)\n",
    "\n",
    "ps = np.zeros(n)\n",
    "ps[0] = poisson(lam, 0) + poisson(lam, 1) + poisson(lam, 2)\n",
    "ps[1 : 4] = poisson(lam, x[1 : 4])\n",
    "ps[4] = 1 - ps.sum()\n",
    "\n",
    "for i in range(0, n_hyp):\n",
    "    ns = np.zeros(n)\n",
    "    sample = poisson_binom(lam, size)\n",
    "\n",
    "    ns[0] = (sample == 0).sum() + (sample == 1).sum() + (sample == 2).sum()\n",
    "    for i in range(1, 4):\n",
    "        ns[i] = (sample == x[i]).sum()\n",
    "    ns[4] = size - np.sum(ns)\n",
    "\n",
    "    ns = ns.astype(int)\n",
    "\n",
    "    q = np.sum((ns - ps * size) ** 2 / size / ps)\n",
    "    \n",
    "    if (q > gamma):\n",
    "        rejected = rejected + 1\n",
    "        \n",
    "print('Rejected ', rejected/n_hyp * 100, '% of tests.')"
   ]
  },
  {
   "cell_type": "markdown",
   "metadata": {},
   "source": [
    "\n",
    "### 4. Построить датчик стандартного нормального распределения методом моделирования случайных величин парами с переходом в полярные коорадинаты. Проверить при помощи критерия t-критерия Стьюдента равенство математических ожиданий, а при помощи критерия Фишера равенство дисперсий.\n",
    "\n",
    "В полярной системе координат построим точки, квадрат радиуса которых распределен экспоненциально с $\\lambda = \\frac{1}{2}$, а угол распределен равномерно. При переходе в декартову систему координат коорадинаты $x, y$ распределены равномерно."
   ]
  },
  {
   "cell_type": "code",
   "execution_count": 45,
   "metadata": {},
   "outputs": [],
   "source": [
    "def normal(mu, sigma, size):\n",
    "    phi = 2 * math.pi * np.random.random_sample(int(np.ceil(size/2)))\n",
    "    r2 = exp(0.5, int(np.ceil(size/2)))\n",
    "    x = np.sqrt(r2) * np.sin(phi)\n",
    "    y = np.sqrt(r2) * np.cos(phi)\n",
    "    return np.concatenate([x, y])[0:size] * sigma + mu"
   ]
  },
  {
   "cell_type": "code",
   "execution_count": 46,
   "metadata": {},
   "outputs": [
    {
     "data": {
      "image/png": "[encoded data removed]",
      "text/plain": [
       "<Figure size 432x288 with 1 Axes>"
      ]
     },
     "metadata": {
      "needs_background": "light"
     },
     "output_type": "display_data"
    }
   ],
   "source": [
    "mu = 0\n",
    "sigma = 1\n",
    "size = 10000\n",
    "plt.hist(normal(mu, sigma, size), bins = 20, label = 'Normal distribution', density=True, color = 'b', alpha = 0.5)\n",
    "x = np.linspace(-4, 4, 1000)\n",
    "plt.plot(x, 1 / (np.sqrt(2 * np.pi)) * np.exp(-x**2 / 2), color = 'r')\n",
    "plt.legend()\n",
    "plt.show()"
   ]
  },
  {
   "cell_type": "markdown",
   "metadata": {},
   "source": [
    "## Проверка матожидания\n",
    "\n",
    "Для проверки правильности постоенного распределения воспользуется t-критерием Стьюдента.\n",
    "\n",
    "#### T-критерий Стьюдента\n",
    "\n",
    "Пусть $X$ - выборка, эмпирическое распределение которой нормальное со средним $\\mu$. Пусть $$\\sigma'  = \\sqrt{\\frac{1}{n - 1} \\sum\\limits_i (X_i - \\bar X)^2}, \\quad U = \\sqrt{n} \\dfrac{\\bar X - \\mu}{\\sigma'}.$$\n",
    "Тогда $X$ действительно распределено нормально с параметром $\\mu$ тогда и только тогда, когда $U \\leqslant \\gamma,\\ \\gamma = T^{-1}(1 - \\frac{\\alpha}{2}),$ где $\\alpha$ - уровень солгасия."
   ]
  },
  {
   "cell_type": "code",
   "execution_count": 47,
   "metadata": {},
   "outputs": [
    {
     "name": "stdout",
     "output_type": "stream",
     "text": [
      "Rejected  6.0 % of tests.\n"
     ]
    }
   ],
   "source": [
    "from scipy.stats import t\n",
    "\n",
    "n_hyp = 100\n",
    "rejected = 0\n",
    "alpha = 0.05\n",
    "\n",
    "mu = 1\n",
    "sigma = 2\n",
    "size = 1000\n",
    "\n",
    "gamma = t.ppf(1 - alpha / 2, size - 1)\n",
    "\n",
    "for i in range(0, n_hyp):\n",
    "    sample = normal(mu, sigma, size)\n",
    "    mean = sample.mean()\n",
    "    s = np.sqrt(np.sum((sample - mean) ** 2) / (size - 1))\n",
    "    u = np.abs(np.sqrt(size) * (mean - mu) / s)\n",
    "    if (u >= gamma):\n",
    "        rejected = rejected + 1\n",
    "        \n",
    "print('Rejected ', rejected/n_hyp * 100, '% of tests.')"
   ]
  },
  {
   "cell_type": "markdown",
   "metadata": {},
   "source": [
    "##  Проверка равенства дисперсий\n",
    "\n",
    "Рассмотрим построенное распределение и нормальное распределение с одинаковыми параметрами. С помощью критерия Фишера проверим равенство дисперсий выборок, полученных разными способами.\n",
    "\n",
    "#### Критерий Фишера:\n",
    "\n",
    "Пусть $X_1$ и $X_2$ - выборки размера $m$ и $n$ соответственно с нормальным распределением с параметрами $\\mu$ и $\\sigma$. Пусть $$V = \\dfrac{\\sum\\limits_i (X_i - \\bar X)^2 (m - 1)}{(m - 1)\\sum\\limits_i (Y_i - \\bar Y)^2}.$$\n",
    "Дисперсии равны при $V \\in [\\gamma_1, \\gamma_2],$ где $\\gamma_1 = F_{(n - 1)(m - 1)}^{-1}\\left(\\dfrac{\\alpha}{2}\\right),$ а $\\gamma_2 = F_{(n - 1)(m - 1)}^{-1}\\left(1 - \\dfrac{\\alpha}{2}\\right).$"
   ]
  },
  {
   "cell_type": "code",
   "execution_count": 48,
   "metadata": {},
   "outputs": [
    {
     "name": "stdout",
     "output_type": "stream",
     "text": [
      "Rejected  4.0 % of tests.\n"
     ]
    }
   ],
   "source": [
    "from scipy.stats import f\n",
    "\n",
    "n_hyp = 100\n",
    "rejected = 0\n",
    "alpha = 0.05\n",
    "\n",
    "mu = 0\n",
    "sigma = 1\n",
    "size = 1000\n",
    "\n",
    "gamma1 = f.ppf(alpha / 2, size - 1, size - 1)\n",
    "gamma2 = f.ppf(1 - alpha / 2, size - 1, size - 1)\n",
    "\n",
    "for i in range(0, n_hyp):\n",
    "    sample1 = normal(mu, sigma, size)\n",
    "    sample2 = np.random.randn(size)\n",
    "    V = sample1.var() / sample2.var()\n",
    "    if (V >= gamma2) or (V <= gamma1):\n",
    "        rejected = rejected + 1\n",
    "        \n",
    "print('Rejected ', rejected/n_hyp * 100, '% of tests.')"
   ]
  },
  {
   "cell_type": "markdown",
   "metadata": {},
   "source": [
    "# Задание 4.\n",
    "### 1. Построить датчик распределения Коши.\n",
    "\n",
    "Построим датчик распределения Коши с использованием равномерного распределения. Пусть $X \\sim \\mathcal{U}[0, 1]$, тогда $\\tan(\\pi (X - \\frac{1}{2})) \\sim \\mathcal{C}(0, 1)$. Для получения распределения Коши с параметрами $x_0, \\gamma$ воспользуемся формулой $X_1 = \\gamma X_0 + x_0,$ где $X_1 \\sim \\mathcal{C}(x_0, \\gamma),\\ X_0 \\sim \\mathcal{C}(0, 1)$"
   ]
  },
  {
   "cell_type": "code",
   "execution_count": 49,
   "metadata": {},
   "outputs": [],
   "source": [
    "def cauchy(x_0, gamma, size):\n",
    "    sample = np.random.random_sample(size)\n",
    "    return gamma * (np.tan(np.pi * (sample - 0.5))) + x_0"
   ]
  },
  {
   "cell_type": "code",
   "execution_count": 50,
   "metadata": {},
   "outputs": [
    {
     "data": {
      "image/png": "[encoded data removed]",
      "text/plain": [
       "<Figure size 432x288 with 1 Axes>"
      ]
     },
     "metadata": {
      "needs_background": "light"
     },
     "output_type": "display_data"
    }
   ],
   "source": [
    "x_0 = 0\n",
    "gamma = 3\n",
    "size = 10000\n",
    "x = np.linspace(-20, 20, size)\n",
    "plt.plot(x, 1 / np.pi / gamma / (1 + ((x - x_0)/gamma)**2), color = 'r')\n",
    "plt.hist(cauchy(x_0, gamma, size), label = 'Cauchi distribution', range = (-20, 20), alpha = 0.5, color = 'b', density = True, bins = 40)\n",
    "plt.legend()\n",
    "plt.show()"
   ]
  },
  {
   "cell_type": "markdown",
   "metadata": {},
   "source": [
    "### 2. На основе датчика распределения Коши с помощью метода фон Неймана построить датчик стандартного нормального распределения. При помощи функции normal probability plot убедиться в корректности построенного датчика и обосновать наблюдаемоую линейную зависимость.\n",
    "\n",
    "Рассмотрим генератор распределения Коши и построим по нему стандартное нормальное распределение. \n",
    "\n",
    "Пусть $c(x)$ - плотность распрелеоения Коши, $n(x)$ - плотность стандартного нормального распределения. \n",
    "\n",
    "Введем $k$ такое, что $\\dfrac{n(x)}{c(x)} \\leqslant k$.\n",
    "\n",
    "Воспользуемся следующим алгоритмом:\n",
    "1.  сгенерируем $X \\sim \\mathcal{C}(0, 1),\\ Y \\sim \\mathcal{U}[0, 1]$;\n",
    "2. рассмотрим неравенство $\\dfrac{n(X)}{c(X)} \\leqslant k U$: если оно выполнено, то $X \\sim \\mathcal{N}(0, 1)$, иначе - нет.\n",
    "\n",
    "Выберем подходящее $k$. \n",
    "$$h(x) = \\dfrac{n(x)}{c(x)} = \\sqrt{\\dfrac{\\pi}{2}}\\dfrac{e^{-\\frac{x^2}{2}}(x^2 + \\gamma^2)}{\\gamma},$$ минимум функции достигается при $\\gamma = 1$, при этом $h(1) = \\sqrt{2\\pi}e^{-\\frac{1}{2}} = k$."
   ]
  },
  {
   "cell_type": "code",
   "execution_count": 51,
   "metadata": {},
   "outputs": [],
   "source": [
    "def normal_cauchy(mu, sigma, size):\n",
    "    k = np.sqrt(2*np.pi) * np.exp(-0.5)\n",
    "    res = []\n",
    "    while (len(res) < size):\n",
    "        c = cauchy(0, 1, 2 * size)\n",
    "        u = np.random.random_sample(2 * size)\n",
    "        res = np.concatenate([res, c[np.sqrt(np.pi / 2) * np.exp(-(c ** 2) / 2) * (c ** 2 + 1) > k * u]])\n",
    "    return sigma * res + mu"
   ]
  },
  {
   "cell_type": "code",
   "execution_count": 52,
   "metadata": {},
   "outputs": [
    {
     "name": "stdout",
     "output_type": "stream",
     "text": [
      "[0.0693582]\n"
     ]
    }
   ],
   "source": [
    "print(normal(0, 1, 1))"
   ]
  },
  {
   "cell_type": "code",
   "execution_count": 53,
   "metadata": {},
   "outputs": [
    {
     "data": {
      "image/png": "[encoded data removed]",
      "text/plain": [
       "<Figure size 432x288 with 1 Axes>"
      ]
     },
     "metadata": {
      "needs_background": "light"
     },
     "output_type": "display_data"
    }
   ],
   "source": [
    "mu = 0\n",
    "sigma = 1\n",
    "size = 10000\n",
    "x = np.linspace(-4, 4, 1000)\n",
    "plt.plot(x, 1 / (np.sqrt(2 * np.pi)) * np.exp(-x**2 / 2), color = 'r')\n",
    "plt.hist(normal_cauchy(mu, sigma, size), bins = 50, label = 'Normal distribution (with Cauchy)', density=True, color = 'b', alpha = 0.5)\n",
    "plt.legend()\n",
    "plt.show()"
   ]
  },
  {
   "cell_type": "code",
   "execution_count": 54,
   "metadata": {},
   "outputs": [
    {
     "data": {
      "image/png": "[encoded data removed]",
      "text/plain": [
       "<Figure size 432x288 with 1 Axes>"
      ]
     },
     "metadata": {
      "needs_background": "light"
     },
     "output_type": "display_data"
    }
   ],
   "source": [
    "from scipy import stats\n",
    "\n",
    "samp = normal_cauchy(0, 1, 500)\n",
    "(quants, vals), (slope, inter, r) = stats.probplot(samp, dist='norm')\n",
    "\n",
    "samp2 = normal_cauchy(0, 3, 500)\n",
    "(quants2, vals2), (slope2, inter2, r2) = stats.probplot(samp2, dist='norm')\n",
    "\n",
    "plt.plot(vals2, quants2, 'o', label=r'$\\sigma=3$', color = 'b', alpha = 0.5)\n",
    "plt.plot(quants2 * slope2 + inter2, quants2, 'r')\n",
    "\n",
    "plt.plot(vals, quants, 'o', label=r'$\\sigma=1$', color = 'r', alpha = 0.5\n",
    "        )\n",
    "plt.plot(quants * slope + inter, quants, 'r')\n",
    "\n",
    "ticks_perc=[1, 5, 10, 20, 50, 80, 90, 95, 99]\n",
    "ticks_quan=[stats.norm.ppf(i/100.) for i in ticks_perc]\n",
    "plt.yticks(ticks_quan,ticks_perc)\n",
    "\n",
    "plt.legend()\n",
    "plt.grid()\n",
    "plt.show()"
   ]
  },
  {
   "cell_type": "markdown",
   "metadata": {},
   "source": [
    "### 3. Сравнить скорость моделирования стандартного нормального распределения в заданиях 3 и 4."
   ]
  },
  {
   "cell_type": "code",
   "execution_count": 55,
   "metadata": {},
   "outputs": [
    {
     "data": {
      "image/png": "[encoded data removed]",
      "text/plain": [
       "<Figure size 432x288 with 1 Axes>"
      ]
     },
     "metadata": {
      "needs_background": "light"
     },
     "output_type": "display_data"
    }
   ],
   "source": [
    "from time import time\n",
    "\n",
    "n = 10\n",
    "p = np.array([2, 4, 5, 6])\n",
    "T1 = np.zeros((n, len(p)))\n",
    "T2 = np.zeros((n, len(p)))\n",
    "\n",
    "for i in range(0, n):\n",
    "    for j in range(0, len(p)):\n",
    "        t = time()\n",
    "        a = normal(0, 1, 10 ** p[j])\n",
    "        T1[i, j] = time() - t\n",
    "\n",
    "t1 = np.median(T1, 0)\n",
    "\n",
    "for i in range(0, n):\n",
    "    for j in range(0, len(p)):\n",
    "        t = time()\n",
    "        a = normal_cauchy(0, 1, 10 ** p[j])\n",
    "        T2[i, j] = time() - t\n",
    "\n",
    "t2 = np.median(T2, 0)\n",
    "\n",
    "plt.plot(t1, color = 'b', alpha = 0.5, label = 'Normal distribution')\n",
    "plt.plot(t2, color = 'r', label = 'Normal distribution (with Cauchy)')\n",
    "plt.legend()\n",
    "plt.show()"
   ]
  },
  {
   "cell_type": "markdown",
   "metadata": {},
   "source": [
    "# Задание 5.\n",
    "\n",
    "### 1. Пусть $X_i \\sim \\mathcal{N}(\\mu, \\sigma^2)$. Убедиться эмпирически в справедливости ЗБЧ и ЦПТ, т.е. исследовать поведение суммы $S_n$ и эмпирического распределения величины $$\\sqrt{n}\\left(\\dfrac{S_n}{n} - \\mu \\right).$$\n",
    "\n",
    "## Проверка ЗБЧ\n",
    "\n",
    "В случае выполнения закона больших чисел, $\\dfrac{S_n}{n} \\rightarrow \\mu$ или $S_n \\rightarrow n \\mu$."
   ]
  },
  {
   "cell_type": "code",
   "execution_count": 56,
   "metadata": {},
   "outputs": [
    {
     "data": {
      "image/png": "[encoded data removed]",
      "text/plain": [
       "<Figure size 432x288 with 1 Axes>"
      ]
     },
     "metadata": {
      "needs_background": "light"
     },
     "output_type": "display_data"
    }
   ],
   "source": [
    "mu = 1\n",
    "sigma = 1\n",
    "n = 5000\n",
    "\n",
    "x = np.ones(n).cumsum()\n",
    "\n",
    "sample = normal(mu, sigma**2, n)\n",
    "Sn = np.cumsum(sample)\n",
    "\n",
    "plt.plot(Sn, color = 'b', alpha = 0.5, label = r'$S_n$')\n",
    "plt.plot(mu * x, color = 'r', label = r'$n \\mu$')\n",
    "plt.legend()\n",
    "plt.show()"
   ]
  },
  {
   "cell_type": "markdown",
   "metadata": {},
   "source": [
    "## Проверка ЦПТ\n",
    "\n",
    "Покажем, что $\\sqrt{n}\\left(\\dfrac{S_n}{n} - \\mu \\right)$ рапределено нормально с параметрами 0, $\\sigma$."
   ]
  },
  {
   "cell_type": "code",
   "execution_count": 57,
   "metadata": {},
   "outputs": [
    {
     "data": {
      "image/png": "[encoded data removed]",
      "text/plain": [
       "<Figure size 432x288 with 1 Axes>"
      ]
     },
     "metadata": {
      "needs_background": "light"
     },
     "output_type": "display_data"
    }
   ],
   "source": [
    "from scipy.stats import norm\n",
    "\n",
    "mu = 1\n",
    "sigma = 1\n",
    "n = 10000\n",
    "\n",
    "sample = np.zeros(n)\n",
    "x = np.linspace(-4, 4, 100000)\n",
    "\n",
    "for i in range(0, n):\n",
    "    sample[i] = np.sqrt(n) * (normal(mu, sigma**2, n).mean() - mu)\n",
    "    \n",
    "plt.hist(sample,  bins = 50, label = r'$\\sqrt{n}\\left(\\dfrac{S_n}{n} - \\mu \\right).$', density=True, color = 'b', alpha = 0.5)\n",
    "plt.plot(x, norm.pdf(x / sigma) / sigma, color = 'r', label = r'$\\mathcal{N}(0, \\sigma^2)$')\n",
    "plt.legend()\n",
    "plt.show()"
   ]
  },
  {
   "cell_type": "markdown",
   "metadata": {},
   "source": [
    "### 2. Считая $\\mu$ и $\\sigma$ неизвестными, для пункта 1 построить доверительне интервалы для среднего и дисперсии.\n",
    "\n",
    "## Доверительный интервал для матожидания\n",
    "\n",
    "Известно, что $$U = \\sqrt{n} \\dfrac{\\bar X - \\mu}{\\sigma'} \\sim \\mathcal{St}(n - 1),$$ где $\\sigma' = \\dfrac{1}{n - 1} \\sum (X_i - \\bar X)^2$.\n",
    "\n",
    "Тогда $$\\mathbb{P}(\\gamma_1 < U < \\gamma_2) = \\mathbb{P}\\left(\\bar X - \\dfrac{\\sigma' \\gamma_2}{\\sqrt{n}} < \\mu < \\bar X - \\dfrac{\\sigma' \\gamma_1}{\\sqrt{n}}\\right) = 1 - \\alpha = T(\\gamma_2) - T(\\gamma_1),$$\n",
    "где $T(x)$ - функция распределения Стьюдента с $n - 1$ степенями свободы.\n",
    "\n",
    "Таким образом, $\\gamma_1 = T^{-1}(\\frac{\\alpha}{2}),\\ \\gamma_2 = T^{-1}(1 - \\frac{\\alpha}{2})$, а $\\mu$ лежит в интервале $\\left(\\bar X - \\dfrac{\\sigma' \\gamma_2}{\\sqrt{n}}, \\bar X - \\dfrac{\\sigma' \\gamma_1}{\\sqrt{n}}\\right)$."
   ]
  },
  {
   "cell_type": "code",
   "execution_count": 58,
   "metadata": {},
   "outputs": [
    {
     "name": "stdout",
     "output_type": "stream",
     "text": [
      "Wrong interval in  1.0 % of tests.\n"
     ]
    }
   ],
   "source": [
    "from scipy.stats import t\n",
    "\n",
    "mu = 0\n",
    "sigma = 1\n",
    "size = 1000\n",
    "\n",
    "alpha = 0.05\n",
    "n_hyp = 100\n",
    "rejected = 0\n",
    "\n",
    "gamma1 = t.ppf(alpha / 2, size - 1)\n",
    "gamma2 = t.ppf(1 - alpha / 2, size - 1)\n",
    "\n",
    "for i in range(1, n_hyp):\n",
    "    sample = normal(mu, sigma**2, size)\n",
    "    mean = sample.mean()\n",
    "    s = np.sqrt(np.sum((sample - mean) ** 2) / (size - 1))\n",
    "    if (mu < mean - s * gamma2 / np.sqrt(size)) or (mu > mean - s * gamma1 / np.sqrt(size)):\n",
    "        rejected = rejected + 1\n",
    "\n",
    "print('Wrong interval in ', rejected/n_hyp * 100, '% of tests.')"
   ]
  },
  {
   "cell_type": "markdown",
   "metadata": {},
   "source": [
    "## Доверительный интервал для дисперсии\n",
    "\n",
    "Известно, что $$V = \\dfrac{\\sum\\limits_{i = 1}^{n} (X_i - \\bar X)^2}{\\sigma^2} \\sim \\chi^2(n - 1).$$\n",
    "\n",
    "Тогда $$\\mathbb{P}(\\gamma1 < V < \\gamma2) = \\mathbb{P}\\left(\\dfrac{\\sum (X_i - \\bar X)^2}{\\gamma_2} < \\sigma^2 < \\dfrac{\\sum (X_i - \\bar X)^2}{\\gamma_1}\\right) = 1 - \\alpha = \\chi(\\gamma_2) - \\chi(\\gamma_1).$$\n",
    "\n",
    "Таким образом, $\\gamma_1 = \\chi^{-1}(\\frac{\\alpha}{2}),\\ \\gamma_2 = \\chi^{-1}(1 - \\frac{\\alpha}{2})$, а $\\sigma^2 \\in \\left(\\dfrac{\\sum (X_i - \\bar X)^2}{\\gamma_2}, \\dfrac{\\sum (X_i - \\bar X)^2}{\\gamma_1} \\right)$"
   ]
  },
  {
   "cell_type": "code",
   "execution_count": 59,
   "metadata": {},
   "outputs": [
    {
     "name": "stdout",
     "output_type": "stream",
     "text": [
      "Wrong interval in  2.0 % of tests.\n"
     ]
    }
   ],
   "source": [
    "from scipy.stats import chi2\n",
    "\n",
    "mu = 0\n",
    "sigma = 1\n",
    "size = 1000\n",
    "\n",
    "alpha = 0.05\n",
    "n_hyp = 100\n",
    "rejected = 0\n",
    "\n",
    "gamma1 = chi2.ppf(alpha / 2, size - 1)\n",
    "gamma2 = chi2.ppf(1 - alpha / 2, size - 1)\n",
    "\n",
    "for i in range(1, n_hyp):\n",
    "    sample = normal(mu, sigma**2, size)\n",
    "    if (sigma**2 < size * sample.var() / gamma2) or (sigma**2 > size * sample.var() / gamma1):\n",
    "        rejected = rejected + 1\n",
    "\n",
    "print('Wrong interval in ', rejected/n_hyp * 100, '% of tests.')"
   ]
  },
  {
   "cell_type": "markdown",
   "metadata": {},
   "source": [
    "### 3. Пусть $X_i \\sim \\mathcal{C}(x_0, \\gamma)$ имеет распределение Коши со сдвигом $x_0$ и масштабом $\\gamma$. Проверить эмпирически, как ведут себя суммы $\\frac{S_n}{n}$. Результат объяснить, а также найти закон распределения данных сумм.\n",
    "\n",
    "Так как распределение Коши не имеет матожидания или дисперсии, то закон больших чисел выполняться не будет. "
   ]
  },
  {
   "cell_type": "code",
   "execution_count": 60,
   "metadata": {},
   "outputs": [
    {
     "data": {
      "image/png": "[encoded data removed]",
      "text/plain": [
       "<Figure size 432x288 with 1 Axes>"
      ]
     },
     "metadata": {
      "needs_background": "light"
     },
     "output_type": "display_data"
    }
   ],
   "source": [
    "x_0 = 1\n",
    "gamma = 1\n",
    "n = 5000\n",
    "\n",
    "x = np.ones(n).cumsum()\n",
    "\n",
    "sample = cauchy(x_0, gamma, n)\n",
    "Sn = np.cumsum(sample)\n",
    "\n",
    "plt.plot(Sn, color = 'b', alpha = 0.5, label = r'$S_n$')\n",
    "plt.plot(x_0 * x, color = 'r', label = r'$n \\mu$')\n",
    "plt.legend()\n",
    "plt.show()"
   ]
  },
  {
   "cell_type": "markdown",
   "metadata": {},
   "source": [
    "## Закон распределения сумм"
   ]
  },
  {
   "cell_type": "code",
   "execution_count": 61,
   "metadata": {},
   "outputs": [
    {
     "data": {
      "image/png": "[encoded data removed]",
      "text/plain": [
       "<Figure size 432x288 with 1 Axes>"
      ]
     },
     "metadata": {
      "needs_background": "light"
     },
     "output_type": "display_data"
    }
   ],
   "source": [
    "x_0 = 0\n",
    "gamma = 3\n",
    "n = 1000\n",
    "size = 10000\n",
    "x = np.linspace(-20, 20, size)\n",
    "plt.plot(x, 1 / np.pi / gamma / (1 + ((x - x_0)/gamma)**2), color = 'r')\n",
    "plt.hist(cauchy(x_0, gamma, (n, size)).sum(0) / n, label = 'Cauchi distribution', range = (-20, 20), alpha = 0.5, color = 'b', density = True, bins = 50)\n",
    "plt.legend()\n",
    "plt.show()"
   ]
  },
  {
   "cell_type": "markdown",
   "metadata": {},
   "source": [
    "Эмпирически получено, что $\\frac{S_n}{n} \\sim \\mathcal{C}(x_0, \\gamma)$. Покажем, что это действительно так. Для этого рассмотрим характеристическую функцию распределения Коши:\n",
    "$$\\varphi(t) = \\mathbb{E}e^{it\\xi} = \\dfrac{1}{\\pi}\\int\\dfrac{\\gamma e^{itx}}{(x - x_0)^2 + \\gamma^2}dx = e^{itx_0 - |t|\\gamma}.$$\n",
    "\n",
    "Известно также, что из $\\xi \\sim \\varphi$ следует $\\sum\\limits_{k = 1}^{n}\\xi_k = \\varphi^n$. Тогда $$\\varphi_{\\frac{S_n}{n}}(t) = \\left[\\varphi\\left(\\frac{t}{n}\\right)\\right]^n = e^{itx_0 - |t|\\gamma},$$\n",
    "то есть $\\dfrac{S_n}{n} \\sim \\mathcal{C}(x_0, \\gamma).$"
   ]
  },
  {
   "cell_type": "markdown",
   "metadata": {},
   "source": [
    "# Задание 6.\n",
    "\n",
    "### 1. Посчитать интеграл $$I = \\int\\limits_{-\\infty}^{\\infty}\\int\\limits_{-\\infty}^{\\infty}\\ldots\\int\\limits_{-\\infty}^{\\infty}\\dfrac{e^{-\\left(x_1^2 + \\ldots + x_{10}^2 + \\frac{1}{2^7 \\cdot x_1^2 \\cdot \\ldots\\cdot x_{10}^2}\\right)}}{x_1^2 \\cdot \\ldots \\cdot x_{10}^2}dx_1dx_2\\ldots dx_{10}$$\n",
    "- методом Монте-Карло;\n",
    "- методом квадратур, сводя задачу к вычислению собственного интеграла Римана.\n",
    "\n",
    "## Метод Монте-Карло\n",
    "\n",
    "Представим интеграл в виде матожидания от некоторого десятимерного распределения. \n",
    "\n",
    "Заметим, что плотность десятимерного нормального распределенияс параметрами $\\mu = 0,\\ \\sigma^2 = \\frac{1}{2}$ выглядит следующим образом:\n",
    "$$p(x) = \\dfrac{1}{\\pi^5}e^{-\\sum x_k^2}.$$\n",
    "Тогда интеграл $I$ можно преддставить в виде:\n",
    "$$I = \\pi^5 \\int\\limits_{-\\infty}^{\\infty}\\int\\limits_{-\\infty}^{\\infty}\\ldots\\int\\limits_{-\\infty}^{\\infty} y e^{-\\frac{y}{2^7}}p(x)dx = \\pi^5 \\mathbb{E}\\left[y e^{-\\frac{y}{128}}\\right] \\approx \\pi^5 \\dfrac{1}{n} \\sum\\limits_{k = 1}^{n}y_k e^{-\\frac{y_k}{128}},$$\n",
    "где $X_j^{(k)} \\sim \\mathcal{N}\\left(0, \\frac{1}{2}\\right),\\ j = 1,\\ldots, 10,\\ k = 1, \\ldots, n;\\ y_k = \\left[ \\prod\\limits_{j = 1}^{10} X_j^{(k)}\\right]^{-2}.$"
   ]
  },
  {
   "cell_type": "code",
   "execution_count": 62,
   "metadata": {},
   "outputs": [
    {
     "name": "stdout",
     "output_type": "stream",
     "text": [
      "123.61241060532801\n"
     ]
    }
   ],
   "source": [
    "n = 10**(6)\n",
    "y = (np.reshape(normal(0, np.sqrt(0.5), 10 * n), (10, n)).prod(0)) ** (-2)\n",
    "res = (np.pi ** 5) * (y * np.exp(-y / 128)).mean()\n",
    "print(res)"
   ]
  },
  {
   "cell_type": "markdown",
   "metadata": {},
   "source": [
    "## Метод квадратур\n",
    "\n",
    "Введем замену $$x_i = \\tan y_i \\Rightarrow dx_i = \\frac{1}{\\cos^2 y_i}dy_i,\\quad i = 1,\\ldots,10.$$\n",
    "\n",
    "\n",
    "При такой замене интеграл $I$ примет вид:$$I =  \\int\\limits_{-\\frac{\\pi}{2}}^{\\frac{\\pi}{2}} \\int\\limits_{-\\frac{\\pi}{2}}^{\\frac{\\pi}{2}} \\ldots \\int\\limits_{-\\frac{\\pi}{2}}^{\\frac{\\pi}{2}} \\prod \\dfrac{1}{\\sin^2 y_k} \\exp\\left\\{-\\sum \\tan^2 y_k - \\frac{1}{128} \\prod \\cot^2 y_k \\right\\} dy_1 \\ldots dy_{10}.$$\n",
    "\n",
    "Заметим, что интеграл четный, значит можно рассматривать отрезки $[0, \\frac{\\pi}{2}]$, при этом необходимо домножить полученный результат на $2^{10}$, то есть удвоить по каждому измерению.\n",
    "Разобьем каждый из $10$ отрезков $[0, \\frac{\\pi}{2}]$ на $m$ равных подынтервалов, в каждом подынтервале выберем среднее значение и получим сетку из $m - 1$ элементов по каждому разряду. Сопоставим каждой точке на интервале ее порядковый номер (от $1$ до $m - 1$).\n",
    "\n",
    "Заметим, что подынтегральная функция симметрична по всем аргументам, а значит, можно перебирать не все возможные комбинации точек, а только те, номера которых упорядочены и не убывают. Такие комбинации определяются в функции get_ii(), принимающей на вход предыдущую возможную (стартовая - все нули) последовательность.\n",
    "\n",
    "Назовем весом количество комбинаций, которые приводятся к рассматриваемой при упорядочивании элементов. Для того, чтобы учесть все обобщаемые точки, необходимо умножить значения функций в этих точках на их вес. \n",
    "Для вычисления весов каждой из комбинаций воспользуемся формулой:\n",
    "\n",
    "$$w = \\dfrac{n!}{n_1!\\cdot\\ldots n_{m - 1}!},$$\n",
    "где $n_i$ - количество элементов в строке, принимающих значение $i$, $i = 1,\\ldots,m$.\n",
    "\n",
    "Полученная сумма умножается на $h^{10} = \\left[\\dfrac{\\pi}{2m}\\right]^{10}$, затем на $2^{10}$, упрощая, получим коэффициент $(2h)^{10}$. \n",
    "\n",
    "Таким образом, интеграл вычисляется многомерным методом прямоугольников, а выбор точек специального вида позволяет упростить вычисления."
   ]
  },
  {
   "cell_type": "code",
   "execution_count": 63,
   "metadata": {},
   "outputs": [],
   "source": [
    "def fact(n): #считает факториал\n",
    "    if (n == 0):\n",
    "        return 1\n",
    "    return np.prod(range(1, n + 1))"
   ]
  },
  {
   "cell_type": "markdown",
   "metadata": {},
   "source": []
  },
  {
   "cell_type": "code",
   "execution_count": 64,
   "metadata": {},
   "outputs": [],
   "source": [
    "def coef(ns): #считает вес комбинации\n",
    "    ns = ns[ns != 0]\n",
    "    res = fact(ns.sum())\n",
    "    for i in range(0, len(ns)):\n",
    "        res = res / fact(ns[i])\n",
    "    return res"
   ]
  },
  {
   "cell_type": "code",
   "execution_count": 65,
   "metadata": {},
   "outputs": [],
   "source": [
    "def fun(y): #та самая подынтеральная функция\n",
    "    tans = np.tan(y) ** 2\n",
    "    return np.exp(-tans.sum() - np.prod(1 / tans) / 128) * np.prod(1 / (np.sin(y))**2)"
   ]
  },
  {
   "cell_type": "code",
   "execution_count": 66,
   "metadata": {},
   "outputs": [],
   "source": [
    "def get_ii(s, m):\n",
    "    for i in range(-1, -len(s) - 1, -1):\n",
    "        if (s[i] < m - 1):\n",
    "            s[i:] = (s[i] + 1) * np.ones(np.shape(s[i:]))\n",
    "            return s.astype(int)\n",
    "    return -1"
   ]
  },
  {
   "cell_type": "code",
   "execution_count": 67,
   "metadata": {},
   "outputs": [
    {
     "name": "stdout",
     "output_type": "stream",
     "text": [
      "124.98912846401929\n"
     ]
    }
   ],
   "source": [
    "m = 12\n",
    "n = 10\n",
    "\n",
    "res = 0\n",
    "\n",
    "h = np.pi / 2 / m\n",
    "x = [0 + h * (i + 0.5) for i in range(0, m)]\n",
    "\n",
    "ii = np.zeros(n)\n",
    "\n",
    "while 1:\n",
    "    ii = get_ii(ii, m)\n",
    "    if (np.prod(ii == -1)):\n",
    "        break\n",
    "    ns = np.array([np.array((ii == i)).astype(int).sum() for i in range(0, m)])\n",
    "    res += coef(ns) * fun(np.array([x[i] for i in ii]))\n",
    "res = res * ((2 * h) ** 10)\n",
    "print(res)"
   ]
  },
  {
   "cell_type": "markdown",
   "metadata": {},
   "source": [
    "### 2. Для каждого случая оценить точность вычислений.\n",
    "\n",
    "## Метод Монте-Карло\n",
    "\n",
    "Для оценки ошибки $\\varepsilon$ на выборке размера $n$ с уровнем доеврия $\\alpha$ воспользуемся неравенством Чебышева:\n",
    "$$\\mathbb{P} \\left( \\left| \\dfrac{1}{n} \\sum\\limits_{i = 1}^{n} f(Y_i) - \\mathbb{E} [f(Y)] \\right| \\geqslant \\varepsilon \\right) \\leqslant \\mathbb{D}\\dfrac{[f(Y)]}{n \\varepsilon^2} = \\alpha.$$\n",
    "В качестве $\\mathbb{D}[f(Y)]$ используем выборочную дисперсию. Положим $\\alpha = 5$%, $n = 10^{5}$."
   ]
  },
  {
   "cell_type": "code",
   "execution_count": 68,
   "metadata": {},
   "outputs": [
    {
     "name": "stdout",
     "output_type": "stream",
     "text": [
      "1.611950232391183\n"
     ]
    }
   ],
   "source": [
    "n = 10**7\n",
    "alpha = 0.05\n",
    "y = (np.reshape(normal(0, 1 / np.sqrt(2), 10 * n), (10, n)).prod(0)) ** (-2)\n",
    "var = (np.pi ** 5 * y * np.exp(-y / 128)).var()\n",
    "res = np.sqrt(var / n / alpha)\n",
    "print(res)"
   ]
  },
  {
   "cell_type": "markdown",
   "metadata": {},
   "source": [
    "## Метод квадратур\n",
    "\n",
    "Для оценки погрешности воспрользуемся разложением подынтегральной функции $f(x)$ в ряд Тейлора до первого члена:\n",
    "$$f(x) = f(x_0) + \\langle \\nabla f(\\xi), \\Delta x\\rangle,$$\n",
    "где $x_0$ - центр десятимерного гиперкуба $\\Delta$, а $\\xi$ лежит в нем.\n",
    "\n",
    "Тогда погрешность по каждому из измерений составляет:\n",
    "$$\\int\\limits_{\\Delta} \\langle \\nabla f(\\xi), \\Delta x \\rangle \\leqslant \\sup\\limits_{\\Delta}\\| \\nabla f(x) \\| \\|\\Delta x\\| \\mu(\\Delta) \\leqslant \\dfrac{\\sqrt{n}}{2}h^{n + 1} \\sup\\limits_{\\left[ -\\frac{\\pi}{2}, \\frac{\\pi}{2}\\right]} \\|\\nabla f(x)\\|,$$\n",
    "а общая ошибка не превосходит $\\dfrac{\\pi^n h \\sqrt{n}}{2} \\sup\\limits_{\\left[ -\\frac{\\pi}{2}, \\frac{\\pi}{2} \\right]} \\|\\nabla f(x)\\|$. \n",
    "\n",
    "Ошибка убывает линейно по $h$, однако для достижения маленькой ошибки необходима большая вычислительная мощность."
   ]
  },
  {
   "cell_type": "markdown",
   "metadata": {},
   "source": [
    "# Задание 7.\n",
    "\n",
    "### 1. Методом случайного поиска найти минимальное значение функции $f$ на множестве $A = \\{x_1, x_2: x_1^2 + x_2^2 \\leqslant 1 \\}$, т.е. $y = \\min\\limits_{x \\in A}f(x)$, где $$f(x) = x_1^3 \\sin \\left(\\dfrac{1}{x_1} \\right) + 10 x_1 x_2^4 \\cos \\left( \\dfrac{1}{x_2} \\right)$$ при $x_1 \\not= 0$ и $x_2 \\not= 0$, функция доопределяется по непрерывности при $x_1 = 0$ или $x_2 = 0$.\n",
    "\n",
    "Для поиска минимума методом случайного поиска сгенерируем равномерное распределение точек по кругу и среди них найдем наименьшее значение. \n",
    "\n",
    "Необходимое количество точек определяется через вероятность не попасть в $\\Delta x$ окрестность точки минимума. Вычислим необходимый $n$ (число точек).\n",
    "Вероятность попасть в круг, но не попасть в $\\Delta x$ окрестность точки минимума $x_*$, при выборе одной точки определяется как $\\mathbb{P} = 1 - \\frac{\\pi \\Delta x^2}{\\pi} = 1 - \\Delta x^2$, следовательно, при выборе $n$ точек $\\mathbb{P}_n = (1 - \\Delta x^2)^n$. Зафиксируем $p$ - вероятность не попасть в указанную окрестность. Тогда $(1 - \\Delta x ^2)^n = p$, а $n = \\frac{\\ln p}{\\ln (1 - \\Delta x^2)}$.\n",
    "\n",
    "Выберем окрестность $\\Delta x$ таким образом, чтобы для фиксированной погрешности $\\varepsilon$ выполнялось $|f(x_*) - f(x)| < \\varepsilon$: $|f(x_*) - f(x)| < \\|\\nabla f \\| |\\Delta x|,$ оценим $\\|\\nabla f\\|$.\n",
    "$$\\dfrac{\\partial f}{\\partial x_1} = 3 x_1^2 \\sin \\left( \\dfrac{1}{x_1} \\right) - x_1 \\cos\\left( \\dfrac{1}{x_1} \\right) + 10 x_2^$ \\cos\\left( \\dfrac{1}{x_2} \\right) \\leqslant 14,$$\n",
    "$$\\dfrac{\\partial f}{\\partial x_2} = 40 x_1 x_2^3 \\cos \\left( \\dfrac{1}{x_2} \\right) + 10 x_1 x_2^2 \\sin\\left( \\dfrac{1}{x_2} \\right) \\leqslant 50,$$\n",
    "такми образом, $\\| \\nabla f \\| \\leqslant \\sqrt{14^2 + 50^2} \\approx 52 = C.$ Тогда $\\Delta x = \\dfrac{\\varepsilon}{C}$.\n",
    "\n",
    "Для удобства перейдем в полярную систему координат. \n",
    "При равномерном распределении точек по единичному кругу полученные случайные величины распределены следующим образом:\n",
    "$$\\mathbb{P}(\\xi \\in B) = \\iint\\limits_{B}p(x)dxdy = \\{\\text{к полярной системе координат}\\} = \\dfrac{1}{2\\pi}\\iint\\limits_{B}dr^2d\\varphi,$$\n",
    "то есть $\\varphi \\sim \\mathcal{U}[0,2\\pi]$, а $r$ имеет функцию распределения:\n",
    "$$F_r(x) = \\left\\{\n",
    "\\begin{aligned}\n",
    "    &0,\\quad x < 0\\\\\n",
    "    &x^2,\\quad x \\in [0, 1]\\\\\n",
    "    &1,\\quad x > 1\n",
    "\\end{aligned}\n",
    "\\right.$$\n",
    "С помощью метода обратных функций определяется $r \\sim \\sqrt{u},\\ u \\sim \\mathcal{U}[0, 1]$."
   ]
  },
  {
   "cell_type": "code",
   "execution_count": 69,
   "metadata": {},
   "outputs": [],
   "source": [
    "def fun_min_val(x1, x2):\n",
    "    res = x1 ** 3 * np.sin(1 / x1) + 10 * x1 * x2 ** 4 * np.cos(1 / x2)\n",
    "    return res"
   ]
  },
  {
   "cell_type": "code",
   "execution_count": 70,
   "metadata": {},
   "outputs": [
    {
     "name": "stdout",
     "output_type": "stream",
     "text": [
      "81004599\n",
      "-1.2884453282161419\n"
     ]
    }
   ],
   "source": [
    "eps = 10 ** (-2)\n",
    "p = 0.05\n",
    "c = 52\n",
    "step = eps / c\n",
    "n = int(np.log(p) / np.log(1 - step ** 2))\n",
    "print(n)\n",
    " \n",
    "r_sample = np.sqrt(np.random.random_sample(n))\n",
    "phi_sample = 2 * np.pi * np.random.random_sample(n)\n",
    "\n",
    "print(fun_min_val(r_sample * np.sin(phi_sample), r_sample * np.cos(phi_sample)).min())"
   ]
  },
  {
   "cell_type": "markdown",
   "metadata": {},
   "source": [
    "### 2. Методом имитации отжига найти минимальное значение функции Розенброка $g$ в пространстве $\n",
    "\\mathbb{R}^2$, где $$g(x) = (x_1 - 1)^2 + 100(x_2 - x_1^2)^2.$$\n",
    "\n",
    "Введем вспомогательные функции при решении задачи."
   ]
  },
  {
   "cell_type": "code",
   "execution_count": 71,
   "metadata": {},
   "outputs": [],
   "source": [
    "def fun_rosenbrock(x1, x2):\n",
    "    return (x1 - 1) ** 2 + 100 * (x2 - x1 ** 2) ** 2"
   ]
  },
  {
   "cell_type": "markdown",
   "metadata": {},
   "source": [
    "Предполагаемый следующий шаг алгоритма ($new = [new_x, new_y]$) распределен как $\\mathcal{N}(cur, cur_t \\sigma^2)$, где $cur = [cur_x, cur_y]$ - текущий шаг алгоритма, $cur_t$ - температура в текущий момент времени, $\\sigma$ - параметр."
   ]
  },
  {
   "cell_type": "code",
   "execution_count": 72,
   "metadata": {},
   "outputs": [],
   "source": [
    "def new_state(cur_x, cur_y, t):\n",
    "    new_x = normal(cur_x, np.sqrt(t) *  sigma * np.sqrt(1 + abs(cur_x)), 1)\n",
    "    new_y = normal(cur_y, np.sqrt(t) * sigma * np.sqrt(1 + abs(cur_y)), 1)\n",
    "    return (new_x, new_y)"
   ]
  },
  {
   "cell_type": "markdown",
   "metadata": {},
   "source": [
    "Функция $$p(\\Delta f, cur_t) = e^{-\\frac{|\\Delta f|}{cur_t}},$$ где $\\Delta f = f(cur) - f(next)$, определяет вероятность, с которой на каждом шаге выбирается точка (меняется на следующую или сохраняется текущая). "
   ]
  },
  {
   "cell_type": "code",
   "execution_count": 73,
   "metadata": {},
   "outputs": [],
   "source": [
    "def p(df, t):\n",
    "    return np.exp(-abs(df) / t)"
   ]
  },
  {
   "cell_type": "markdown",
   "metadata": {},
   "source": [
    "В следующей функции происходит выбор точки для следующего шага алгоритма. Если $\\Delta f > 0$, то всегда выбирается следующая точка (на которой достигается меньшая точка). Если неравенство не выполнено, то вероятность перехода к следующей точке определяется функцией $p(\\Delta f, cur_t)$."
   ]
  },
  {
   "cell_type": "code",
   "execution_count": 74,
   "metadata": {},
   "outputs": [],
   "source": [
    "def choose_state(new_x, new_y, cur_x, cur_y, t):\n",
    "    df = fun_rosenbrock(cur_x, cur_y) - fun_rosenbrock(new_x, new_y) \n",
    "    if (df > 0) or (bern(p(df, t), 1)):\n",
    "        return (new_x, new_y)\n",
    "    return (cur_x, cur_y)"
   ]
  },
  {
   "cell_type": "markdown",
   "metadata": {},
   "source": [
    "Функция $t\\_next(cur_t)$ контролирует изменение температуры (ее уменьшение с коэффициентом $k$)."
   ]
  },
  {
   "cell_type": "code",
   "execution_count": 75,
   "metadata": {},
   "outputs": [],
   "source": [
    "def t_next(cur_t):\n",
    "    return k * cur_t"
   ]
  },
  {
   "cell_type": "markdown",
   "metadata": {},
   "source": [
    "В результате, с использованием описанных функций, на каждом шаге происходит выбор точки. Работа алгоритма останавливается, когда температура приближается к нулю ($t < 10^{-6}$)."
   ]
  },
  {
   "cell_type": "code",
   "execution_count": 76,
   "metadata": {},
   "outputs": [],
   "source": [
    "from time import time\n",
    "\n",
    "\n",
    "def annealing(g):\n",
    "\n",
    "    i = 0\n",
    "    t = time()\n",
    "\n",
    "    cur_x = np.random.random_sample() * 20 - 10\n",
    "    cur_y = np.random.random_sample() * 20 - 10\n",
    "    cur = [cur_x, cur_y]\n",
    "    if (g == 1):\n",
    "        print('x_0 = ', cur_x)\n",
    "        print('y_0 = ', cur_y)\n",
    "\n",
    "    cur_t = t_0\n",
    "\n",
    "    while cur_t > 10 ** (-6):\n",
    "        i += 1\n",
    "        new = new_state(cur[0], cur[1], cur_t)\n",
    "        cur = choose_state(new[0], new[1], cur[0], cur[1], cur_t)\n",
    "        cur_t = t_next(cur_t)\n",
    "        if (g == 1):\n",
    "            plt.plot(cur[0], cur[1], 'bo', alpha = 0.5)\n",
    "\n",
    "    if (g == 1):\n",
    "        plt.plot(cur[0], cur[1], '*r')\n",
    "        print('x* = ', cur[0])\n",
    "        print('y* = ', cur[1])\n",
    "        print('f(x*, y*) = ', fun_rosenbrock(cur[0], cur[1]))\n",
    "        print('Inaccuracy = ', abs(1 - cur[0]), abs(1 - cur[1]))\n",
    "        print('The algorithm made ', i, ' iterations, it took ', time() - t, 'seconds.')\n",
    "\n",
    "    return (cur[0], cur[1], i, time() - t)"
   ]
  },
  {
   "cell_type": "code",
   "execution_count": 77,
   "metadata": {},
   "outputs": [
    {
     "name": "stdout",
     "output_type": "stream",
     "text": [
      "(array([0.99851831]), array([0.997034]), 1444, 0.1955256462097168)\n"
     ]
    }
   ],
   "source": [
    "k = 0.99\n",
    "t_0 = 2\n",
    "sigma = 1 / t_0\n",
    "\n",
    "res = annealing(0)\n",
    "print(res)"
   ]
  },
  {
   "cell_type": "code",
   "execution_count": 78,
   "metadata": {},
   "outputs": [
    {
     "name": "stdout",
     "output_type": "stream",
     "text": [
      "0.15909326076507568\n"
     ]
    },
    {
     "data": {
      "image/png": "[encoded data removed]",
      "text/plain": [
       "<Figure size 432x288 with 1 Axes>"
      ]
     },
     "metadata": {
      "needs_background": "light"
     },
     "output_type": "display_data"
    },
    {
     "data": {
      "image/png": "[encoded data removed]",
      "text/plain": [
       "<Figure size 432x288 with 1 Axes>"
      ]
     },
     "metadata": {
      "needs_background": "light"
     },
     "output_type": "display_data"
    }
   ],
   "source": [
    "n = 100\n",
    "\n",
    "T = np.zeros(n)\n",
    "\n",
    "Inac_x = np.zeros(n)\n",
    "Inac_y = np.zeros(n)\n",
    "\n",
    "for j in range(0, n):\n",
    "    res = annealing(0)\n",
    "    T[j] = res[3]\n",
    "    Inac_x[j] = abs(1 - res[0])\n",
    "    Inac_y[j] = abs(1 - res[1])\n",
    "\n",
    "print(np.median(T))\n",
    "plt.hist(Inac_x, color = 'b', alpha = 0.5)\n",
    "plt.show()\n",
    "plt.hist(Inac_y, color = 'b', alpha = 0.5)\n",
    "plt.show()"
   ]
  },
  {
   "cell_type": "markdown",
   "metadata": {},
   "source": [
    "# Задание 8.\n",
    "\n",
    "### Применить метод Монте-Карло к решению первой краевой задачи для двумерного уравнения Лапласа в единичном круге:\n",
    "### $$\\left\\{\n",
    "\\begin{aligned}\n",
    "&\\Delta u = 0,\\ (x, y) \\in D\\\\\n",
    "&u|_{\\delta D} = f(x, y)\\\\\n",
    "&u \\in C^2(D),\\ f \\in C(\\delta D)\\\\\n",
    "&D = \\{x, y:\\ x^2 + y^2 \\leqslant 1 \\}\n",
    "\\end{aligned}\n",
    "\\right.$$\n",
    "### Для функции $f(x, y) = x^2 - y^2$ найти аналитическое решение и сравнить с полученным по методу Монте-Карло.\n",
    "\n",
    "Аналитическим решением задачи является функция $u(x, y) = x^2 - y^2.$\n",
    "\n",
    "## Метод Монте-Карло\n",
    "\n",
    "Разобьем область $D$ на сетку с шагом $h$. Чтобы понять, является ли точка граничной воспользумся следующими условиями:\n",
    "$$\\begin{gather} x^2 + y^2 \\leqslant 1;\\\\ x^2 + y^2 + h^2 + 2h\\max\\{|x|, |y|\\} > 1\\end{gather}.$$\n",
    "Если выполнено первое условие, то рассматриваемая точка с координатами $(x, y)$ принадлежит области $D$, если также выполнено и второе неравенство, то рассматриваемая точка является граничной (хотя бы одна из трех соседних точек лежит вне области $D$).\n",
    "\n",
    "Из каждой внутренней точки можно двигаться в четырех направлениях (вправо, влево, вверх или вниз), выбор направления случаен. Последовательным переходом из одной точки в другую можно попасть на границу. Найдем сумму значений заданной на границе функции $f(x)$ при N запусках процесса из некоторой фиксированной внутренней точки $P$ и поделим полученную сумму на $N$. Таким образом, получено значение функции $u(P)$.\n",
    "\n"
   ]
  },
  {
   "cell_type": "code",
   "execution_count": 79,
   "metadata": {},
   "outputs": [],
   "source": [
    "def fun_laplas(x, y):\n",
    "    #print(x, y)\n",
    "    return x**2 - y**2"
   ]
  },
  {
   "cell_type": "code",
   "execution_count": 80,
   "metadata": {},
   "outputs": [],
   "source": [
    "def in_range(x, y): #returnes: 0 - out of range; 1 - inside; 2 - on bound\n",
    "    #print('a ', x, y)\n",
    "    if (x**2 + y**2 <= 1):\n",
    "        if (x**2 + y**2 + h**2 + 2 * h * max(abs(x), abs(y)) > 1):\n",
    "            return 2\n",
    "        else:\n",
    "            return 1\n",
    "    else:\n",
    "        return 0"
   ]
  },
  {
   "cell_type": "code",
   "execution_count": 81,
   "metadata": {},
   "outputs": [],
   "source": [
    "def next_step(i, j): #gives next coordinate\n",
    "    step = (bern(0.5, 1) * 2 - 1) * bern(0.5, 1)\n",
    "    if (i < 19) and (i > 0):\n",
    "        i += step\n",
    "    elif (i <= 0):\n",
    "        i += abs(step)\n",
    "    else:\n",
    "        i -= abs(step)\n",
    "        \n",
    "    if (j < 19) and (j > 0):\n",
    "        j += (bern(0.5, 1) * 2 - 1) * (1 - abs(step))\n",
    "    elif (j <= 0):\n",
    "        j += 1 - abs(step)\n",
    "    else:\n",
    "        j -= 1 - abs(step)   \n",
    "    return (i, j)"
   ]
  },
  {
   "cell_type": "code",
   "execution_count": 82,
   "metadata": {},
   "outputs": [],
   "source": [
    "def get_value(X, Y, i0, j0):\n",
    "    coord = np.array([i0, j0])\n",
    "    traj_i = (i0,)\n",
    "    traj_j = (j0, )\n",
    "    #print(i0, j0)\n",
    "    while (in_range(X[coord[0], coord[0]], Y[coord[1], coord[1]]) != 2):\n",
    "        coord = next_step(coord[0], coord[1])\n",
    "        #print(X[coord[0], coord[0]], Y[coord[1], coord[1]])\n",
    "        #print(coord)\n",
    "        traj_i = traj_i + (int(coord[0]),)\n",
    "        traj_j = traj_j + (int(coord[1]),)\n",
    "    return (traj_i, traj_j, fun_laplas(X[int(coord[0]), int(coord[0])], Y[int(coord[1]), int(coord[1])]))"
   ]
  },
  {
   "cell_type": "code",
   "execution_count": 83,
   "metadata": {},
   "outputs": [],
   "source": [
    "def get_coord(P, X, Y):\n",
    "    n_p = np.shape(P)[0]\n",
    "    Coord_i, Coord_j = np.where(P == P.min())\n",
    "    coord_i = Coord_i[0]\n",
    "    coord_j = Coord_j[0]\n",
    "    while (in_range(X[int(coord_i), int(coord_i)], Y[int(coord_j), int(coord_j)]) != 1):\n",
    "        P[int(coord_i), int(coord_j)] = n_step\n",
    "        Coord_i, Coord_j = np.where(P == P.min())\n",
    "        coord_i = Coord_i[0]\n",
    "        coord_j = Coord_j[0]\n",
    "    return (int(coord_i), int(coord_j))"
   ]
  },
  {
   "cell_type": "code",
   "execution_count": 84,
   "metadata": {},
   "outputs": [],
   "source": [
    "n = 20\n",
    "n_step = 500"
   ]
  },
  {
   "cell_type": "code",
   "execution_count": 85,
   "metadata": {},
   "outputs": [],
   "source": [
    "h = 2 / n\n",
    "\n",
    "x = np.linspace(-1, 1, n)\n",
    "y = np.linspace(-1, 1, n)\n",
    "XY = np.meshgrid(x, y)\n",
    "X, Y = np.meshgrid(x, y)\n",
    "\n",
    "Passed = np.zeros((n, n))\n",
    "Res_sum = np.zeros((n, n))\n",
    "coord = np.zeros(2)\n",
    "\n",
    "while np.any(Passed < n_step):\n",
    "    coord = get_coord(Passed, X, Y)\n",
    "    res = get_value(X, Y, coord[0], coord[1])\n",
    "    #print(res)\n",
    "    Passed[res[0], res[1]] += 1\n",
    "    Res_sum[res[0], res[1]] += res[2]\n",
    "    #print(Passed)\n",
    "\n",
    "#print(Passed)\n",
    "#print(Res_sum / Passed)\n",
    "\n"
   ]
  },
  {
   "cell_type": "code",
   "execution_count": 86,
   "metadata": {},
   "outputs": [
    {
     "data": {
      "application/javascript": [
       "/* Put everything inside the global mpl namespace */\n",
       "window.mpl = {};\n",
       "\n",
       "\n",
       "mpl.get_websocket_type = function() {\n",
       "    if (typeof(WebSocket) !== 'undefined') {\n",
       "        return WebSocket;\n",
       "    } else if (typeof(MozWebSocket) !== 'undefined') {\n",
       "        return MozWebSocket;\n",
       "    } else {\n",
       "        alert('Your browser does not have WebSocket support. ' +\n",
       "              'Please try Chrome, Safari or Firefox ≥ 6. ' +\n",
       "              'Firefox 4 and 5 are also supported but you ' +\n",
       "              'have to enable WebSockets in about:config.');\n",
       "    };\n",
       "}\n",
       "\n",
       "mpl.figure = function(figure_id, websocket, ondownload, parent_element) {\n",
       "    this.id = figure_id;\n",
       "\n",
       "    this.ws = websocket;\n",
       "\n",
       "    this.supports_binary = (this.ws.binaryType != undefined);\n",
       "\n",
       "    if (!this.supports_binary) {\n",
       "        var warnings = document.getElementById(\"mpl-warnings\");\n",
       "        if (warnings) {\n",
       "            warnings.style.display = 'block';\n",
       "            warnings.textContent = (\n",
       "                \"This browser does not support binary websocket messages. \" +\n",
       "                    \"Performance may be slow.\");\n",
       "        }\n",
       "    }\n",
       "\n",
       "    this.imageObj = new Image();\n",
       "\n",
       "    this.context = undefined;\n",
       "    this.message = undefined;\n",
       "    this.canvas = undefined;\n",
       "    this.rubberband_canvas = undefined;\n",
       "    this.rubberband_context = undefined;\n",
       "    this.format_dropdown = undefined;\n",
       "\n",
       "    this.image_mode = 'full';\n",
       "\n",
       "    this.root = $('<div/>');\n",
       "    this._root_extra_style(this.root)\n",
       "    this.root.attr('style', 'display: inline-block');\n",
       "\n",
       "    $(parent_element).append(this.root);\n",
       "\n",
       "    this._init_header(this);\n",
       "    this._init_canvas(this);\n",
       "    this._init_toolbar(this);\n",
       "\n",
       "    var fig = this;\n",
       "\n",
       "    this.waiting = false;\n",
       "\n",
       "    this.ws.onopen =  function () {\n",
       "            fig.send_message(\"supports_binary\", {value: fig.supports_binary});\n",
       "            fig.send_message(\"send_image_mode\", {});\n",
       "            if (mpl.ratio != 1) {\n",
       "                fig.send_message(\"set_dpi_ratio\", {'dpi_ratio': mpl.ratio});\n",
       "            }\n",
       "            fig.send_message(\"refresh\", {});\n",
       "        }\n",
       "\n",
       "    this.imageObj.onload = function() {\n",
       "            if (fig.image_mode == 'full') {\n",
       "                // Full images could contain transparency (where diff images\n",
       "                // almost always do), so we need to clear the canvas so that\n",
       "                // there is no ghosting.\n",
       "                fig.context.clearRect(0, 0, fig.canvas.width, fig.canvas.height);\n",
       "            }\n",
       "            fig.context.drawImage(fig.imageObj, 0, 0);\n",
       "        };\n",
       "\n",
       "    this.imageObj.onunload = function() {\n",
       "        fig.ws.close();\n",
       "    }\n",
       "\n",
       "    this.ws.onmessage = this._make_on_message_function(this);\n",
       "\n",
       "    this.ondownload = ondownload;\n",
       "}\n",
       "\n",
       "mpl.figure.prototype._init_header = function() {\n",
       "    var titlebar = $(\n",
       "        '<div class=\"ui-dialog-titlebar ui-widget-header ui-corner-all ' +\n",
       "        'ui-helper-clearfix\"/>');\n",
       "    var titletext = $(\n",
       "        '<div class=\"ui-dialog-title\" style=\"width: 100%; ' +\n",
       "        'text-align: center; padding: 3px;\"/>');\n",
       "    titlebar.append(titletext)\n",
       "    this.root.append(titlebar);\n",
       "    this.header = titletext[0];\n",
       "}\n",
       "\n",
       "\n",
       "\n",
       "mpl.figure.prototype._canvas_extra_style = function(canvas_div) {\n",
       "\n",
       "}\n",
       "\n",
       "\n",
       "mpl.figure.prototype._root_extra_style = function(canvas_div) {\n",
       "\n",
       "}\n",
       "\n",
       "mpl.figure.prototype._init_canvas = function() {\n",
       "    var fig = this;\n",
       "\n",
       "    var canvas_div = $('<div/>');\n",
       "\n",
       "    canvas_div.attr('style', 'position: relative; clear: both; outline: 0');\n",
       "\n",
       "    function canvas_keyboard_event(event) {\n",
       "        return fig.key_event(event, event['data']);\n",
       "    }\n",
       "\n",
       "    canvas_div.keydown('key_press', canvas_keyboard_event);\n",
       "    canvas_div.keyup('key_release', canvas_keyboard_event);\n",
       "    this.canvas_div = canvas_div\n",
       "    this._canvas_extra_style(canvas_div)\n",
       "    this.root.append(canvas_div);\n",
       "\n",
       "    var canvas = $('<canvas/>');\n",
       "    canvas.addClass('mpl-canvas');\n",
       "    canvas.attr('style', \"left: 0; top: 0; z-index: 0; outline: 0\")\n",
       "\n",
       "    this.canvas = canvas[0];\n",
       "    this.context = canvas[0].getContext(\"2d\");\n",
       "\n",
       "    var backingStore = this.context.backingStorePixelRatio ||\n",
       "\tthis.context.webkitBackingStorePixelRatio ||\n",
       "\tthis.context.mozBackingStorePixelRatio ||\n",
       "\tthis.context.msBackingStorePixelRatio ||\n",
       "\tthis.context.oBackingStorePixelRatio ||\n",
       "\tthis.context.backingStorePixelRatio || 1;\n",
       "\n",
       "    mpl.ratio = (window.devicePixelRatio || 1) / backingStore;\n",
       "\n",
       "    var rubberband = $('<canvas/>');\n",
       "    rubberband.attr('style', \"position: absolute; left: 0; top: 0; z-index: 1;\")\n",
       "\n",
       "    var pass_mouse_events = true;\n",
       "\n",
       "    canvas_div.resizable({\n",
       "        start: function(event, ui) {\n",
       "            pass_mouse_events = false;\n",
       "        },\n",
       "        resize: function(event, ui) {\n",
       "            fig.request_resize(ui.size.width, ui.size.height);\n",
       "        },\n",
       "        stop: function(event, ui) {\n",
       "            pass_mouse_events = true;\n",
       "            fig.request_resize(ui.size.width, ui.size.height);\n",
       "        },\n",
       "    });\n",
       "\n",
       "    function mouse_event_fn(event) {\n",
       "        if (pass_mouse_events)\n",
       "            return fig.mouse_event(event, event['data']);\n",
       "    }\n",
       "\n",
       "    rubberband.mousedown('button_press', mouse_event_fn);\n",
       "    rubberband.mouseup('button_release', mouse_event_fn);\n",
       "    // Throttle sequential mouse events to 1 every 20ms.\n",
       "    rubberband.mousemove('motion_notify', mouse_event_fn);\n",
       "\n",
       "    rubberband.mouseenter('figure_enter', mouse_event_fn);\n",
       "    rubberband.mouseleave('figure_leave', mouse_event_fn);\n",
       "\n",
       "    canvas_div.on(\"wheel\", function (event) {\n",
       "        event = event.originalEvent;\n",
       "        event['data'] = 'scroll'\n",
       "        if (event.deltaY < 0) {\n",
       "            event.step = 1;\n",
       "        } else {\n",
       "            event.step = -1;\n",
       "        }\n",
       "        mouse_event_fn(event);\n",
       "    });\n",
       "\n",
       "    canvas_div.append(canvas);\n",
       "    canvas_div.append(rubberband);\n",
       "\n",
       "    this.rubberband = rubberband;\n",
       "    this.rubberband_canvas = rubberband[0];\n",
       "    this.rubberband_context = rubberband[0].getContext(\"2d\");\n",
       "    this.rubberband_context.strokeStyle = \"#000000\";\n",
       "\n",
       "    this._resize_canvas = function(width, height) {\n",
       "        // Keep the size of the canvas, canvas container, and rubber band\n",
       "        // canvas in synch.\n",
       "        canvas_div.css('width', width)\n",
       "        canvas_div.css('height', height)\n",
       "\n",
       "        canvas.attr('width', width * mpl.ratio);\n",
       "        canvas.attr('height', height * mpl.ratio);\n",
       "        canvas.attr('style', 'width: ' + width + 'px; height: ' + height + 'px;');\n",
       "\n",
       "        rubberband.attr('width', width);\n",
       "        rubberband.attr('height', height);\n",
       "    }\n",
       "\n",
       "    // Set the figure to an initial 600x600px, this will subsequently be updated\n",
       "    // upon first draw.\n",
       "    this._resize_canvas(600, 600);\n",
       "\n",
       "    // Disable right mouse context menu.\n",
       "    $(this.rubberband_canvas).bind(\"contextmenu\",function(e){\n",
       "        return false;\n",
       "    });\n",
       "\n",
       "    function set_focus () {\n",
       "        canvas.focus();\n",
       "        canvas_div.focus();\n",
       "    }\n",
       "\n",
       "    window.setTimeout(set_focus, 100);\n",
       "}\n",
       "\n",
       "mpl.figure.prototype._init_toolbar = function() {\n",
       "    var fig = this;\n",
       "\n",
       "    var nav_element = $('<div/>');\n",
       "    nav_element.attr('style', 'width: 100%');\n",
       "    this.root.append(nav_element);\n",
       "\n",
       "    // Define a callback function for later on.\n",
       "    function toolbar_event(event) {\n",
       "        return fig.toolbar_button_onclick(event['data']);\n",
       "    }\n",
       "    function toolbar_mouse_event(event) {\n",
       "        return fig.toolbar_button_onmouseover(event['data']);\n",
       "    }\n",
       "\n",
       "    for(var toolbar_ind in mpl.toolbar_items) {\n",
       "        var name = mpl.toolbar_items[toolbar_ind][0];\n",
       "        var tooltip = mpl.toolbar_items[toolbar_ind][1];\n",
       "        var image = mpl.toolbar_items[toolbar_ind][2];\n",
       "        var method_name = mpl.toolbar_items[toolbar_ind][3];\n",
       "\n",
       "        if (!name) {\n",
       "            // put a spacer in here.\n",
       "            continue;\n",
       "        }\n",
       "        var button = $('<button/>');\n",
       "        button.addClass('ui-button ui-widget ui-state-default ui-corner-all ' +\n",
       "                        'ui-button-icon-only');\n",
       "        button.attr('role', 'button');\n",
       "        button.attr('aria-disabled', 'false');\n",
       "        button.click(method_name, toolbar_event);\n",
       "        button.mouseover(tooltip, toolbar_mouse_event);\n",
       "\n",
       "        var icon_img = $('<span/>');\n",
       "        icon_img.addClass('ui-button-icon-primary ui-icon');\n",
       "        icon_img.addClass(image);\n",
       "        icon_img.addClass('ui-corner-all');\n",
       "\n",
       "        var tooltip_span = $('<span/>');\n",
       "        tooltip_span.addClass('ui-button-text');\n",
       "        tooltip_span.html(tooltip);\n",
       "\n",
       "        button.append(icon_img);\n",
       "        button.append(tooltip_span);\n",
       "\n",
       "        nav_element.append(button);\n",
       "    }\n",
       "\n",
       "    var fmt_picker_span = $('<span/>');\n",
       "\n",
       "    var fmt_picker = $('<select/>');\n",
       "    fmt_picker.addClass('mpl-toolbar-option ui-widget ui-widget-content');\n",
       "    fmt_picker_span.append(fmt_picker);\n",
       "    nav_element.append(fmt_picker_span);\n",
       "    this.format_dropdown = fmt_picker[0];\n",
       "\n",
       "    for (var ind in mpl.extensions) {\n",
       "        var fmt = mpl.extensions[ind];\n",
       "        var option = $(\n",
       "            '<option/>', {selected: fmt === mpl.default_extension}).html(fmt);\n",
       "        fmt_picker.append(option);\n",
       "    }\n",
       "\n",
       "    // Add hover states to the ui-buttons\n",
       "    $( \".ui-button\" ).hover(\n",
       "        function() { $(this).addClass(\"ui-state-hover\");},\n",
       "        function() { $(this).removeClass(\"ui-state-hover\");}\n",
       "    );\n",
       "\n",
       "    var status_bar = $('<span class=\"mpl-message\"/>');\n",
       "    nav_element.append(status_bar);\n",
       "    this.message = status_bar[0];\n",
       "}\n",
       "\n",
       "mpl.figure.prototype.request_resize = function(x_pixels, y_pixels) {\n",
       "    // Request matplotlib to resize the figure. Matplotlib will then trigger a resize in the client,\n",
       "    // which will in turn request a refresh of the image.\n",
       "    this.send_message('resize', {'width': x_pixels, 'height': y_pixels});\n",
       "}\n",
       "\n",
       "mpl.figure.prototype.send_message = function(type, properties) {\n",
       "    properties['type'] = type;\n",
       "    properties['figure_id'] = this.id;\n",
       "    this.ws.send(JSON.stringify(properties));\n",
       "}\n",
       "\n",
       "mpl.figure.prototype.send_draw_message = function() {\n",
       "    if (!this.waiting) {\n",
       "        this.waiting = true;\n",
       "        this.ws.send(JSON.stringify({type: \"draw\", figure_id: this.id}));\n",
       "    }\n",
       "}\n",
       "\n",
       "\n",
       "mpl.figure.prototype.handle_save = function(fig, msg) {\n",
       "    var format_dropdown = fig.format_dropdown;\n",
       "    var format = format_dropdown.options[format_dropdown.selectedIndex].value;\n",
       "    fig.ondownload(fig, format);\n",
       "}\n",
       "\n",
       "\n",
       "mpl.figure.prototype.handle_resize = function(fig, msg) {\n",
       "    var size = msg['size'];\n",
       "    if (size[0] != fig.canvas.width || size[1] != fig.canvas.height) {\n",
       "        fig._resize_canvas(size[0], size[1]);\n",
       "        fig.send_message(\"refresh\", {});\n",
       "    };\n",
       "}\n",
       "\n",
       "mpl.figure.prototype.handle_rubberband = function(fig, msg) {\n",
       "    var x0 = msg['x0'] / mpl.ratio;\n",
       "    var y0 = (fig.canvas.height - msg['y0']) / mpl.ratio;\n",
       "    var x1 = msg['x1'] / mpl.ratio;\n",
       "    var y1 = (fig.canvas.height - msg['y1']) / mpl.ratio;\n",
       "    x0 = Math.floor(x0) + 0.5;\n",
       "    y0 = Math.floor(y0) + 0.5;\n",
       "    x1 = Math.floor(x1) + 0.5;\n",
       "    y1 = Math.floor(y1) + 0.5;\n",
       "    var min_x = Math.min(x0, x1);\n",
       "    var min_y = Math.min(y0, y1);\n",
       "    var width = Math.abs(x1 - x0);\n",
       "    var height = Math.abs(y1 - y0);\n",
       "\n",
       "    fig.rubberband_context.clearRect(\n",
       "        0, 0, fig.canvas.width / mpl.ratio, fig.canvas.height / mpl.ratio);\n",
       "\n",
       "    fig.rubberband_context.strokeRect(min_x, min_y, width, height);\n",
       "}\n",
       "\n",
       "mpl.figure.prototype.handle_figure_label = function(fig, msg) {\n",
       "    // Updates the figure title.\n",
       "    fig.header.textContent = msg['label'];\n",
       "}\n",
       "\n",
       "mpl.figure.prototype.handle_cursor = function(fig, msg) {\n",
       "    var cursor = msg['cursor'];\n",
       "    switch(cursor)\n",
       "    {\n",
       "    case 0:\n",
       "        cursor = 'pointer';\n",
       "        break;\n",
       "    case 1:\n",
       "        cursor = 'default';\n",
       "        break;\n",
       "    case 2:\n",
       "        cursor = 'crosshair';\n",
       "        break;\n",
       "    case 3:\n",
       "        cursor = 'move';\n",
       "        break;\n",
       "    }\n",
       "    fig.rubberband_canvas.style.cursor = cursor;\n",
       "}\n",
       "\n",
       "mpl.figure.prototype.handle_message = function(fig, msg) {\n",
       "    fig.message.textContent = msg['message'];\n",
       "}\n",
       "\n",
       "mpl.figure.prototype.handle_draw = function(fig, msg) {\n",
       "    // Request the server to send over a new figure.\n",
       "    fig.send_draw_message();\n",
       "}\n",
       "\n",
       "mpl.figure.prototype.handle_image_mode = function(fig, msg) {\n",
       "    fig.image_mode = msg['mode'];\n",
       "}\n",
       "\n",
       "mpl.figure.prototype.updated_canvas_event = function() {\n",
       "    // Called whenever the canvas gets updated.\n",
       "    this.send_message(\"ack\", {});\n",
       "}\n",
       "\n",
       "// A function to construct a web socket function for onmessage handling.\n",
       "// Called in the figure constructor.\n",
       "mpl.figure.prototype._make_on_message_function = function(fig) {\n",
       "    return function socket_on_message(evt) {\n",
       "        if (evt.data instanceof Blob) {\n",
       "            /* FIXME: We get \"Resource interpreted as Image but\n",
       "             * transferred with MIME type text/plain:\" errors on\n",
       "             * Chrome.  But how to set the MIME type?  It doesn't seem\n",
       "             * to be part of the websocket stream */\n",
       "            evt.data.type = \"image/png\";\n",
       "\n",
       "            /* Free the memory for the previous frames */\n",
       "            if (fig.imageObj.src) {\n",
       "                (window.URL || window.webkitURL).revokeObjectURL(\n",
       "                    fig.imageObj.src);\n",
       "            }\n",
       "\n",
       "            fig.imageObj.src = (window.URL || window.webkitURL).createObjectURL(\n",
       "                evt.data);\n",
       "            fig.updated_canvas_event();\n",
       "            fig.waiting = false;\n",
       "            return;\n",
       "        }\n",
       "        else if (typeof evt.data === 'string' && evt.data.slice(0, 21) == \"data:image/png;base64\") {\n",
       "            fig.imageObj.src = evt.data;\n",
       "            fig.updated_canvas_event();\n",
       "            fig.waiting = false;\n",
       "            return;\n",
       "        }\n",
       "\n",
       "        var msg = JSON.parse(evt.data);\n",
       "        var msg_type = msg['type'];\n",
       "\n",
       "        // Call the  \"handle_{type}\" callback, which takes\n",
       "        // the figure and JSON message as its only arguments.\n",
       "        try {\n",
       "            var callback = fig[\"handle_\" + msg_type];\n",
       "        } catch (e) {\n",
       "            console.log(\"No handler for the '\" + msg_type + \"' message type: \", msg);\n",
       "            return;\n",
       "        }\n",
       "\n",
       "        if (callback) {\n",
       "            try {\n",
       "                // console.log(\"Handling '\" + msg_type + \"' message: \", msg);\n",
       "                callback(fig, msg);\n",
       "            } catch (e) {\n",
       "                console.log(\"Exception inside the 'handler_\" + msg_type + \"' callback:\", e, e.stack, msg);\n",
       "            }\n",
       "        }\n",
       "    };\n",
       "}\n",
       "\n",
       "// from http://stackoverflow.com/questions/1114465/getting-mouse-location-in-canvas\n",
       "mpl.findpos = function(e) {\n",
       "    //this section is from http://www.quirksmode.org/js/events_properties.html\n",
       "    var targ;\n",
       "    if (!e)\n",
       "        e = window.event;\n",
       "    if (e.target)\n",
       "        targ = e.target;\n",
       "    else if (e.srcElement)\n",
       "        targ = e.srcElement;\n",
       "    if (targ.nodeType == 3) // defeat Safari bug\n",
       "        targ = targ.parentNode;\n",
       "\n",
       "    // jQuery normalizes the pageX and pageY\n",
       "    // pageX,Y are the mouse positions relative to the document\n",
       "    // offset() returns the position of the element relative to the document\n",
       "    var x = e.pageX - $(targ).offset().left;\n",
       "    var y = e.pageY - $(targ).offset().top;\n",
       "\n",
       "    return {\"x\": x, \"y\": y};\n",
       "};\n",
       "\n",
       "/*\n",
       " * return a copy of an object with only non-object keys\n",
       " * we need this to avoid circular references\n",
       " * http://stackoverflow.com/a/24161582/3208463\n",
       " */\n",
       "function simpleKeys (original) {\n",
       "  return Object.keys(original).reduce(function (obj, key) {\n",
       "    if (typeof original[key] !== 'object')\n",
       "        obj[key] = original[key]\n",
       "    return obj;\n",
       "  }, {});\n",
       "}\n",
       "\n",
       "mpl.figure.prototype.mouse_event = function(event, name) {\n",
       "    var canvas_pos = mpl.findpos(event)\n",
       "\n",
       "    if (name === 'button_press')\n",
       "    {\n",
       "        this.canvas.focus();\n",
       "        this.canvas_div.focus();\n",
       "    }\n",
       "\n",
       "    var x = canvas_pos.x * mpl.ratio;\n",
       "    var y = canvas_pos.y * mpl.ratio;\n",
       "\n",
       "    this.send_message(name, {x: x, y: y, button: event.button,\n",
       "                             step: event.step,\n",
       "                             guiEvent: simpleKeys(event)});\n",
       "\n",
       "    /* This prevents the web browser from automatically changing to\n",
       "     * the text insertion cursor when the button is pressed.  We want\n",
       "     * to control all of the cursor setting manually through the\n",
       "     * 'cursor' event from matplotlib */\n",
       "    event.preventDefault();\n",
       "    return false;\n",
       "}\n",
       "\n",
       "mpl.figure.prototype._key_event_extra = function(event, name) {\n",
       "    // Handle any extra behaviour associated with a key event\n",
       "}\n",
       "\n",
       "mpl.figure.prototype.key_event = function(event, name) {\n",
       "\n",
       "    // Prevent repeat events\n",
       "    if (name == 'key_press')\n",
       "    {\n",
       "        if (event.which === this._key)\n",
       "            return;\n",
       "        else\n",
       "            this._key = event.which;\n",
       "    }\n",
       "    if (name == 'key_release')\n",
       "        this._key = null;\n",
       "\n",
       "    var value = '';\n",
       "    if (event.ctrlKey && event.which != 17)\n",
       "        value += \"ctrl+\";\n",
       "    if (event.altKey && event.which != 18)\n",
       "        value += \"alt+\";\n",
       "    if (event.shiftKey && event.which != 16)\n",
       "        value += \"shift+\";\n",
       "\n",
       "    value += 'k';\n",
       "    value += event.which.toString();\n",
       "\n",
       "    this._key_event_extra(event, name);\n",
       "\n",
       "    this.send_message(name, {key: value,\n",
       "                             guiEvent: simpleKeys(event)});\n",
       "    return false;\n",
       "}\n",
       "\n",
       "mpl.figure.prototype.toolbar_button_onclick = function(name) {\n",
       "    if (name == 'download') {\n",
       "        this.handle_save(this, null);\n",
       "    } else {\n",
       "        this.send_message(\"toolbar_button\", {name: name});\n",
       "    }\n",
       "};\n",
       "\n",
       "mpl.figure.prototype.toolbar_button_onmouseover = function(tooltip) {\n",
       "    this.message.textContent = tooltip;\n",
       "};\n",
       "mpl.toolbar_items = [[\"Home\", \"Reset original view\", \"fa fa-home icon-home\", \"home\"], [\"Back\", \"Back to previous view\", \"fa fa-arrow-left icon-arrow-left\", \"back\"], [\"Forward\", \"Forward to next view\", \"fa fa-arrow-right icon-arrow-right\", \"forward\"], [\"\", \"\", \"\", \"\"], [\"Pan\", \"Pan axes with left mouse, zoom with right\", \"fa fa-arrows icon-move\", \"pan\"], [\"Zoom\", \"Zoom to rectangle\", \"fa fa-square-o icon-check-empty\", \"zoom\"], [\"\", \"\", \"\", \"\"], [\"Download\", \"Download plot\", \"fa fa-floppy-o icon-save\", \"download\"]];\n",
       "\n",
       "mpl.extensions = [\"eps\", \"jpeg\", \"pdf\", \"png\", \"ps\", \"raw\", \"svg\", \"tif\"];\n",
       "\n",
       "mpl.default_extension = \"png\";var comm_websocket_adapter = function(comm) {\n",
       "    // Create a \"websocket\"-like object which calls the given IPython comm\n",
       "    // object with the appropriate methods. Currently this is a non binary\n",
       "    // socket, so there is still some room for performance tuning.\n",
       "    var ws = {};\n",
       "\n",
       "    ws.close = function() {\n",
       "        comm.close()\n",
       "    };\n",
       "    ws.send = function(m) {\n",
       "        //console.log('sending', m);\n",
       "        comm.send(m);\n",
       "    };\n",
       "    // Register the callback with on_msg.\n",
       "    comm.on_msg(function(msg) {\n",
       "        //console.log('receiving', msg['content']['data'], msg);\n",
       "        // Pass the mpl event to the overridden (by mpl) onmessage function.\n",
       "        ws.onmessage(msg['content']['data'])\n",
       "    });\n",
       "    return ws;\n",
       "}\n",
       "\n",
       "mpl.mpl_figure_comm = function(comm, msg) {\n",
       "    // This is the function which gets called when the mpl process\n",
       "    // starts-up an IPython Comm through the \"matplotlib\" channel.\n",
       "\n",
       "    var id = msg.content.data.id;\n",
       "    // Get hold of the div created by the display call when the Comm\n",
       "    // socket was opened in Python.\n",
       "    var element = $(\"#\" + id);\n",
       "    var ws_proxy = comm_websocket_adapter(comm)\n",
       "\n",
       "    function ondownload(figure, format) {\n",
       "        window.open(figure.imageObj.src);\n",
       "    }\n",
       "\n",
       "    var fig = new mpl.figure(id, ws_proxy,\n",
       "                           ondownload,\n",
       "                           element.get(0));\n",
       "\n",
       "    // Call onopen now - mpl needs it, as it is assuming we've passed it a real\n",
       "    // web socket which is closed, not our websocket->open comm proxy.\n",
       "    ws_proxy.onopen();\n",
       "\n",
       "    fig.parent_element = element.get(0);\n",
       "    fig.cell_info = mpl.find_output_cell(\"<div id='\" + id + \"'></div>\");\n",
       "    if (!fig.cell_info) {\n",
       "        console.error(\"Failed to find cell for figure\", id, fig);\n",
       "        return;\n",
       "    }\n",
       "\n",
       "    var output_index = fig.cell_info[2]\n",
       "    var cell = fig.cell_info[0];\n",
       "\n",
       "};\n",
       "\n",
       "mpl.figure.prototype.handle_close = function(fig, msg) {\n",
       "    var width = fig.canvas.width/mpl.ratio\n",
       "    fig.root.unbind('remove')\n",
       "\n",
       "    // Update the output cell to use the data from the current canvas.\n",
       "    fig.push_to_output();\n",
       "    var dataURL = fig.canvas.toDataURL();\n",
       "    // Re-enable the keyboard manager in IPython - without this line, in FF,\n",
       "    // the notebook keyboard shortcuts fail.\n",
       "    IPython.keyboard_manager.enable()\n",
       "    $(fig.parent_element).html('<img src=\"' + dataURL + '\" width=\"' + width + '\">');\n",
       "    fig.close_ws(fig, msg);\n",
       "}\n",
       "\n",
       "mpl.figure.prototype.close_ws = function(fig, msg){\n",
       "    fig.send_message('closing', msg);\n",
       "    // fig.ws.close()\n",
       "}\n",
       "\n",
       "mpl.figure.prototype.push_to_output = function(remove_interactive) {\n",
       "    // Turn the data on the canvas into data in the output cell.\n",
       "    var width = this.canvas.width/mpl.ratio\n",
       "    var dataURL = this.canvas.toDataURL();\n",
       "    this.cell_info[1]['text/html'] = '<img src=\"' + dataURL + '\" width=\"' + width + '\">';\n",
       "}\n",
       "\n",
       "mpl.figure.prototype.updated_canvas_event = function() {\n",
       "    // Tell IPython that the notebook contents must change.\n",
       "    IPython.notebook.set_dirty(true);\n",
       "    this.send_message(\"ack\", {});\n",
       "    var fig = this;\n",
       "    // Wait a second, then push the new image to the DOM so\n",
       "    // that it is saved nicely (might be nice to debounce this).\n",
       "    setTimeout(function () { fig.push_to_output() }, 1000);\n",
       "}\n",
       "\n",
       "mpl.figure.prototype._init_toolbar = function() {\n",
       "    var fig = this;\n",
       "\n",
       "    var nav_element = $('<div/>');\n",
       "    nav_element.attr('style', 'width: 100%');\n",
       "    this.root.append(nav_element);\n",
       "\n",
       "    // Define a callback function for later on.\n",
       "    function toolbar_event(event) {\n",
       "        return fig.toolbar_button_onclick(event['data']);\n",
       "    }\n",
       "    function toolbar_mouse_event(event) {\n",
       "        return fig.toolbar_button_onmouseover(event['data']);\n",
       "    }\n",
       "\n",
       "    for(var toolbar_ind in mpl.toolbar_items){\n",
       "        var name = mpl.toolbar_items[toolbar_ind][0];\n",
       "        var tooltip = mpl.toolbar_items[toolbar_ind][1];\n",
       "        var image = mpl.toolbar_items[toolbar_ind][2];\n",
       "        var method_name = mpl.toolbar_items[toolbar_ind][3];\n",
       "\n",
       "        if (!name) { continue; };\n",
       "\n",
       "        var button = $('<button class=\"btn btn-default\" href=\"#\" title=\"' + name + '\"><i class=\"fa ' + image + ' fa-lg\"></i></button>');\n",
       "        button.click(method_name, toolbar_event);\n",
       "        button.mouseover(tooltip, toolbar_mouse_event);\n",
       "        nav_element.append(button);\n",
       "    }\n",
       "\n",
       "    // Add the status bar.\n",
       "    var status_bar = $('<span class=\"mpl-message\" style=\"text-align:right; float: right;\"/>');\n",
       "    nav_element.append(status_bar);\n",
       "    this.message = status_bar[0];\n",
       "\n",
       "    // Add the close button to the window.\n",
       "    var buttongrp = $('<div class=\"btn-group inline pull-right\"></div>');\n",
       "    var button = $('<button class=\"btn btn-mini btn-primary\" href=\"#\" title=\"Stop Interaction\"><i class=\"fa fa-power-off icon-remove icon-large\"></i></button>');\n",
       "    button.click(function (evt) { fig.handle_close(fig, {}); } );\n",
       "    button.mouseover('Stop Interaction', toolbar_mouse_event);\n",
       "    buttongrp.append(button);\n",
       "    var titlebar = this.root.find($('.ui-dialog-titlebar'));\n",
       "    titlebar.prepend(buttongrp);\n",
       "}\n",
       "\n",
       "mpl.figure.prototype._root_extra_style = function(el){\n",
       "    var fig = this\n",
       "    el.on(\"remove\", function(){\n",
       "\tfig.close_ws(fig, {});\n",
       "    });\n",
       "}\n",
       "\n",
       "mpl.figure.prototype._canvas_extra_style = function(el){\n",
       "    // this is important to make the div 'focusable\n",
       "    el.attr('tabindex', 0)\n",
       "    // reach out to IPython and tell the keyboard manager to turn it's self\n",
       "    // off when our div gets focus\n",
       "\n",
       "    // location in version 3\n",
       "    if (IPython.notebook.keyboard_manager) {\n",
       "        IPython.notebook.keyboard_manager.register_events(el);\n",
       "    }\n",
       "    else {\n",
       "        // location in version 2\n",
       "        IPython.keyboard_manager.register_events(el);\n",
       "    }\n",
       "\n",
       "}\n",
       "\n",
       "mpl.figure.prototype._key_event_extra = function(event, name) {\n",
       "    var manager = IPython.notebook.keyboard_manager;\n",
       "    if (!manager)\n",
       "        manager = IPython.keyboard_manager;\n",
       "\n",
       "    // Check for shift+enter\n",
       "    if (event.shiftKey && event.which == 13) {\n",
       "        this.canvas_div.blur();\n",
       "        // select the cell after this one\n",
       "        var index = IPython.notebook.find_cell_index(this.cell_info[0]);\n",
       "        IPython.notebook.select(index + 1);\n",
       "    }\n",
       "}\n",
       "\n",
       "mpl.figure.prototype.handle_save = function(fig, msg) {\n",
       "    fig.ondownload(fig, null);\n",
       "}\n",
       "\n",
       "\n",
       "mpl.find_output_cell = function(html_output) {\n",
       "    // Return the cell and output element which can be found *uniquely* in the notebook.\n",
       "    // Note - this is a bit hacky, but it is done because the \"notebook_saving.Notebook\"\n",
       "    // IPython event is triggered only after the cells have been serialised, which for\n",
       "    // our purposes (turning an active figure into a static one), is too late.\n",
       "    var cells = IPython.notebook.get_cells();\n",
       "    var ncells = cells.length;\n",
       "    for (var i=0; i<ncells; i++) {\n",
       "        var cell = cells[i];\n",
       "        if (cell.cell_type === 'code'){\n",
       "            for (var j=0; j<cell.output_area.outputs.length; j++) {\n",
       "                var data = cell.output_area.outputs[j];\n",
       "                if (data.data) {\n",
       "                    // IPython >= 3 moved mimebundle to data attribute of output\n",
       "                    data = data.data;\n",
       "                }\n",
       "                if (data['text/html'] == html_output) {\n",
       "                    return [cell, data, j];\n",
       "                }\n",
       "            }\n",
       "        }\n",
       "    }\n",
       "}\n",
       "\n",
       "// Register the function which deals with the matplotlib target/channel.\n",
       "// The kernel may be null if the page has been refreshed.\n",
       "if (IPython.notebook.kernel != null) {\n",
       "    IPython.notebook.kernel.comm_manager.register_target('matplotlib', mpl.mpl_figure_comm);\n",
       "}\n"
      ],
      "text/plain": [
       "<IPython.core.display.Javascript object>"
      ]
     },
     "metadata": {},
     "output_type": "display_data"
    },
    {
     "data": {
      "text/html": [
       "<img src=\"data:image/png;base64,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\" width=\"432\">"
      ],
      "text/plain": [
       "<IPython.core.display.HTML object>"
      ]
     },
     "metadata": {},
     "output_type": "display_data"
    },
    {
     "data": {
      "text/plain": [
       "<mpl_toolkits.mplot3d.art3d.Poly3DCollection at 0x7ff9a1000970>"
      ]
     },
     "execution_count": 86,
     "metadata": {},
     "output_type": "execute_result"
    },
    {
     "data": {
      "application/javascript": [
       "/* Put everything inside the global mpl namespace */\n",
       "window.mpl = {};\n",
       "\n",
       "\n",
       "mpl.get_websocket_type = function() {\n",
       "    if (typeof(WebSocket) !== 'undefined') {\n",
       "        return WebSocket;\n",
       "    } else if (typeof(MozWebSocket) !== 'undefined') {\n",
       "        return MozWebSocket;\n",
       "    } else {\n",
       "        alert('Your browser does not have WebSocket support. ' +\n",
       "              'Please try Chrome, Safari or Firefox ≥ 6. ' +\n",
       "              'Firefox 4 and 5 are also supported but you ' +\n",
       "              'have to enable WebSockets in about:config.');\n",
       "    };\n",
       "}\n",
       "\n",
       "mpl.figure = function(figure_id, websocket, ondownload, parent_element) {\n",
       "    this.id = figure_id;\n",
       "\n",
       "    this.ws = websocket;\n",
       "\n",
       "    this.supports_binary = (this.ws.binaryType != undefined);\n",
       "\n",
       "    if (!this.supports_binary) {\n",
       "        var warnings = document.getElementById(\"mpl-warnings\");\n",
       "        if (warnings) {\n",
       "            warnings.style.display = 'block';\n",
       "            warnings.textContent = (\n",
       "                \"This browser does not support binary websocket messages. \" +\n",
       "                    \"Performance may be slow.\");\n",
       "        }\n",
       "    }\n",
       "\n",
       "    this.imageObj = new Image();\n",
       "\n",
       "    this.context = undefined;\n",
       "    this.message = undefined;\n",
       "    this.canvas = undefined;\n",
       "    this.rubberband_canvas = undefined;\n",
       "    this.rubberband_context = undefined;\n",
       "    this.format_dropdown = undefined;\n",
       "\n",
       "    this.image_mode = 'full';\n",
       "\n",
       "    this.root = $('<div/>');\n",
       "    this._root_extra_style(this.root)\n",
       "    this.root.attr('style', 'display: inline-block');\n",
       "\n",
       "    $(parent_element).append(this.root);\n",
       "\n",
       "    this._init_header(this);\n",
       "    this._init_canvas(this);\n",
       "    this._init_toolbar(this);\n",
       "\n",
       "    var fig = this;\n",
       "\n",
       "    this.waiting = false;\n",
       "\n",
       "    this.ws.onopen =  function () {\n",
       "            fig.send_message(\"supports_binary\", {value: fig.supports_binary});\n",
       "            fig.send_message(\"send_image_mode\", {});\n",
       "            if (mpl.ratio != 1) {\n",
       "                fig.send_message(\"set_dpi_ratio\", {'dpi_ratio': mpl.ratio});\n",
       "            }\n",
       "            fig.send_message(\"refresh\", {});\n",
       "        }\n",
       "\n",
       "    this.imageObj.onload = function() {\n",
       "            if (fig.image_mode == 'full') {\n",
       "                // Full images could contain transparency (where diff images\n",
       "                // almost always do), so we need to clear the canvas so that\n",
       "                // there is no ghosting.\n",
       "                fig.context.clearRect(0, 0, fig.canvas.width, fig.canvas.height);\n",
       "            }\n",
       "            fig.context.drawImage(fig.imageObj, 0, 0);\n",
       "        };\n",
       "\n",
       "    this.imageObj.onunload = function() {\n",
       "        fig.ws.close();\n",
       "    }\n",
       "\n",
       "    this.ws.onmessage = this._make_on_message_function(this);\n",
       "\n",
       "    this.ondownload = ondownload;\n",
       "}\n",
       "\n",
       "mpl.figure.prototype._init_header = function() {\n",
       "    var titlebar = $(\n",
       "        '<div class=\"ui-dialog-titlebar ui-widget-header ui-corner-all ' +\n",
       "        'ui-helper-clearfix\"/>');\n",
       "    var titletext = $(\n",
       "        '<div class=\"ui-dialog-title\" style=\"width: 100%; ' +\n",
       "        'text-align: center; padding: 3px;\"/>');\n",
       "    titlebar.append(titletext)\n",
       "    this.root.append(titlebar);\n",
       "    this.header = titletext[0];\n",
       "}\n",
       "\n",
       "\n",
       "\n",
       "mpl.figure.prototype._canvas_extra_style = function(canvas_div) {\n",
       "\n",
       "}\n",
       "\n",
       "\n",
       "mpl.figure.prototype._root_extra_style = function(canvas_div) {\n",
       "\n",
       "}\n",
       "\n",
       "mpl.figure.prototype._init_canvas = function() {\n",
       "    var fig = this;\n",
       "\n",
       "    var canvas_div = $('<div/>');\n",
       "\n",
       "    canvas_div.attr('style', 'position: relative; clear: both; outline: 0');\n",
       "\n",
       "    function canvas_keyboard_event(event) {\n",
       "        return fig.key_event(event, event['data']);\n",
       "    }\n",
       "\n",
       "    canvas_div.keydown('key_press', canvas_keyboard_event);\n",
       "    canvas_div.keyup('key_release', canvas_keyboard_event);\n",
       "    this.canvas_div = canvas_div\n",
       "    this._canvas_extra_style(canvas_div)\n",
       "    this.root.append(canvas_div);\n",
       "\n",
       "    var canvas = $('<canvas/>');\n",
       "    canvas.addClass('mpl-canvas');\n",
       "    canvas.attr('style', \"left: 0; top: 0; z-index: 0; outline: 0\")\n",
       "\n",
       "    this.canvas = canvas[0];\n",
       "    this.context = canvas[0].getContext(\"2d\");\n",
       "\n",
       "    var backingStore = this.context.backingStorePixelRatio ||\n",
       "\tthis.context.webkitBackingStorePixelRatio ||\n",
       "\tthis.context.mozBackingStorePixelRatio ||\n",
       "\tthis.context.msBackingStorePixelRatio ||\n",
       "\tthis.context.oBackingStorePixelRatio ||\n",
       "\tthis.context.backingStorePixelRatio || 1;\n",
       "\n",
       "    mpl.ratio = (window.devicePixelRatio || 1) / backingStore;\n",
       "\n",
       "    var rubberband = $('<canvas/>');\n",
       "    rubberband.attr('style', \"position: absolute; left: 0; top: 0; z-index: 1;\")\n",
       "\n",
       "    var pass_mouse_events = true;\n",
       "\n",
       "    canvas_div.resizable({\n",
       "        start: function(event, ui) {\n",
       "            pass_mouse_events = false;\n",
       "        },\n",
       "        resize: function(event, ui) {\n",
       "            fig.request_resize(ui.size.width, ui.size.height);\n",
       "        },\n",
       "        stop: function(event, ui) {\n",
       "            pass_mouse_events = true;\n",
       "            fig.request_resize(ui.size.width, ui.size.height);\n",
       "        },\n",
       "    });\n",
       "\n",
       "    function mouse_event_fn(event) {\n",
       "        if (pass_mouse_events)\n",
       "            return fig.mouse_event(event, event['data']);\n",
       "    }\n",
       "\n",
       "    rubberband.mousedown('button_press', mouse_event_fn);\n",
       "    rubberband.mouseup('button_release', mouse_event_fn);\n",
       "    // Throttle sequential mouse events to 1 every 20ms.\n",
       "    rubberband.mousemove('motion_notify', mouse_event_fn);\n",
       "\n",
       "    rubberband.mouseenter('figure_enter', mouse_event_fn);\n",
       "    rubberband.mouseleave('figure_leave', mouse_event_fn);\n",
       "\n",
       "    canvas_div.on(\"wheel\", function (event) {\n",
       "        event = event.originalEvent;\n",
       "        event['data'] = 'scroll'\n",
       "        if (event.deltaY < 0) {\n",
       "            event.step = 1;\n",
       "        } else {\n",
       "            event.step = -1;\n",
       "        }\n",
       "        mouse_event_fn(event);\n",
       "    });\n",
       "\n",
       "    canvas_div.append(canvas);\n",
       "    canvas_div.append(rubberband);\n",
       "\n",
       "    this.rubberband = rubberband;\n",
       "    this.rubberband_canvas = rubberband[0];\n",
       "    this.rubberband_context = rubberband[0].getContext(\"2d\");\n",
       "    this.rubberband_context.strokeStyle = \"#000000\";\n",
       "\n",
       "    this._resize_canvas = function(width, height) {\n",
       "        // Keep the size of the canvas, canvas container, and rubber band\n",
       "        // canvas in synch.\n",
       "        canvas_div.css('width', width)\n",
       "        canvas_div.css('height', height)\n",
       "\n",
       "        canvas.attr('width', width * mpl.ratio);\n",
       "        canvas.attr('height', height * mpl.ratio);\n",
       "        canvas.attr('style', 'width: ' + width + 'px; height: ' + height + 'px;');\n",
       "\n",
       "        rubberband.attr('width', width);\n",
       "        rubberband.attr('height', height);\n",
       "    }\n",
       "\n",
       "    // Set the figure to an initial 600x600px, this will subsequently be updated\n",
       "    // upon first draw.\n",
       "    this._resize_canvas(600, 600);\n",
       "\n",
       "    // Disable right mouse context menu.\n",
       "    $(this.rubberband_canvas).bind(\"contextmenu\",function(e){\n",
       "        return false;\n",
       "    });\n",
       "\n",
       "    function set_focus () {\n",
       "        canvas.focus();\n",
       "        canvas_div.focus();\n",
       "    }\n",
       "\n",
       "    window.setTimeout(set_focus, 100);\n",
       "}\n",
       "\n",
       "mpl.figure.prototype._init_toolbar = function() {\n",
       "    var fig = this;\n",
       "\n",
       "    var nav_element = $('<div/>');\n",
       "    nav_element.attr('style', 'width: 100%');\n",
       "    this.root.append(nav_element);\n",
       "\n",
       "    // Define a callback function for later on.\n",
       "    function toolbar_event(event) {\n",
       "        return fig.toolbar_button_onclick(event['data']);\n",
       "    }\n",
       "    function toolbar_mouse_event(event) {\n",
       "        return fig.toolbar_button_onmouseover(event['data']);\n",
       "    }\n",
       "\n",
       "    for(var toolbar_ind in mpl.toolbar_items) {\n",
       "        var name = mpl.toolbar_items[toolbar_ind][0];\n",
       "        var tooltip = mpl.toolbar_items[toolbar_ind][1];\n",
       "        var image = mpl.toolbar_items[toolbar_ind][2];\n",
       "        var method_name = mpl.toolbar_items[toolbar_ind][3];\n",
       "\n",
       "        if (!name) {\n",
       "            // put a spacer in here.\n",
       "            continue;\n",
       "        }\n",
       "        var button = $('<button/>');\n",
       "        button.addClass('ui-button ui-widget ui-state-default ui-corner-all ' +\n",
       "                        'ui-button-icon-only');\n",
       "        button.attr('role', 'button');\n",
       "        button.attr('aria-disabled', 'false');\n",
       "        button.click(method_name, toolbar_event);\n",
       "        button.mouseover(tooltip, toolbar_mouse_event);\n",
       "\n",
       "        var icon_img = $('<span/>');\n",
       "        icon_img.addClass('ui-button-icon-primary ui-icon');\n",
       "        icon_img.addClass(image);\n",
       "        icon_img.addClass('ui-corner-all');\n",
       "\n",
       "        var tooltip_span = $('<span/>');\n",
       "        tooltip_span.addClass('ui-button-text');\n",
       "        tooltip_span.html(tooltip);\n",
       "\n",
       "        button.append(icon_img);\n",
       "        button.append(tooltip_span);\n",
       "\n",
       "        nav_element.append(button);\n",
       "    }\n",
       "\n",
       "    var fmt_picker_span = $('<span/>');\n",
       "\n",
       "    var fmt_picker = $('<select/>');\n",
       "    fmt_picker.addClass('mpl-toolbar-option ui-widget ui-widget-content');\n",
       "    fmt_picker_span.append(fmt_picker);\n",
       "    nav_element.append(fmt_picker_span);\n",
       "    this.format_dropdown = fmt_picker[0];\n",
       "\n",
       "    for (var ind in mpl.extensions) {\n",
       "        var fmt = mpl.extensions[ind];\n",
       "        var option = $(\n",
       "            '<option/>', {selected: fmt === mpl.default_extension}).html(fmt);\n",
       "        fmt_picker.append(option);\n",
       "    }\n",
       "\n",
       "    // Add hover states to the ui-buttons\n",
       "    $( \".ui-button\" ).hover(\n",
       "        function() { $(this).addClass(\"ui-state-hover\");},\n",
       "        function() { $(this).removeClass(\"ui-state-hover\");}\n",
       "    );\n",
       "\n",
       "    var status_bar = $('<span class=\"mpl-message\"/>');\n",
       "    nav_element.append(status_bar);\n",
       "    this.message = status_bar[0];\n",
       "}\n",
       "\n",
       "mpl.figure.prototype.request_resize = function(x_pixels, y_pixels) {\n",
       "    // Request matplotlib to resize the figure. Matplotlib will then trigger a resize in the client,\n",
       "    // which will in turn request a refresh of the image.\n",
       "    this.send_message('resize', {'width': x_pixels, 'height': y_pixels});\n",
       "}\n",
       "\n",
       "mpl.figure.prototype.send_message = function(type, properties) {\n",
       "    properties['type'] = type;\n",
       "    properties['figure_id'] = this.id;\n",
       "    this.ws.send(JSON.stringify(properties));\n",
       "}\n",
       "\n",
       "mpl.figure.prototype.send_draw_message = function() {\n",
       "    if (!this.waiting) {\n",
       "        this.waiting = true;\n",
       "        this.ws.send(JSON.stringify({type: \"draw\", figure_id: this.id}));\n",
       "    }\n",
       "}\n",
       "\n",
       "\n",
       "mpl.figure.prototype.handle_save = function(fig, msg) {\n",
       "    var format_dropdown = fig.format_dropdown;\n",
       "    var format = format_dropdown.options[format_dropdown.selectedIndex].value;\n",
       "    fig.ondownload(fig, format);\n",
       "}\n",
       "\n",
       "\n",
       "mpl.figure.prototype.handle_resize = function(fig, msg) {\n",
       "    var size = msg['size'];\n",
       "    if (size[0] != fig.canvas.width || size[1] != fig.canvas.height) {\n",
       "        fig._resize_canvas(size[0], size[1]);\n",
       "        fig.send_message(\"refresh\", {});\n",
       "    };\n",
       "}\n",
       "\n",
       "mpl.figure.prototype.handle_rubberband = function(fig, msg) {\n",
       "    var x0 = msg['x0'] / mpl.ratio;\n",
       "    var y0 = (fig.canvas.height - msg['y0']) / mpl.ratio;\n",
       "    var x1 = msg['x1'] / mpl.ratio;\n",
       "    var y1 = (fig.canvas.height - msg['y1']) / mpl.ratio;\n",
       "    x0 = Math.floor(x0) + 0.5;\n",
       "    y0 = Math.floor(y0) + 0.5;\n",
       "    x1 = Math.floor(x1) + 0.5;\n",
       "    y1 = Math.floor(y1) + 0.5;\n",
       "    var min_x = Math.min(x0, x1);\n",
       "    var min_y = Math.min(y0, y1);\n",
       "    var width = Math.abs(x1 - x0);\n",
       "    var height = Math.abs(y1 - y0);\n",
       "\n",
       "    fig.rubberband_context.clearRect(\n",
       "        0, 0, fig.canvas.width / mpl.ratio, fig.canvas.height / mpl.ratio);\n",
       "\n",
       "    fig.rubberband_context.strokeRect(min_x, min_y, width, height);\n",
       "}\n",
       "\n",
       "mpl.figure.prototype.handle_figure_label = function(fig, msg) {\n",
       "    // Updates the figure title.\n",
       "    fig.header.textContent = msg['label'];\n",
       "}\n",
       "\n",
       "mpl.figure.prototype.handle_cursor = function(fig, msg) {\n",
       "    var cursor = msg['cursor'];\n",
       "    switch(cursor)\n",
       "    {\n",
       "    case 0:\n",
       "        cursor = 'pointer';\n",
       "        break;\n",
       "    case 1:\n",
       "        cursor = 'default';\n",
       "        break;\n",
       "    case 2:\n",
       "        cursor = 'crosshair';\n",
       "        break;\n",
       "    case 3:\n",
       "        cursor = 'move';\n",
       "        break;\n",
       "    }\n",
       "    fig.rubberband_canvas.style.cursor = cursor;\n",
       "}\n",
       "\n",
       "mpl.figure.prototype.handle_message = function(fig, msg) {\n",
       "    fig.message.textContent = msg['message'];\n",
       "}\n",
       "\n",
       "mpl.figure.prototype.handle_draw = function(fig, msg) {\n",
       "    // Request the server to send over a new figure.\n",
       "    fig.send_draw_message();\n",
       "}\n",
       "\n",
       "mpl.figure.prototype.handle_image_mode = function(fig, msg) {\n",
       "    fig.image_mode = msg['mode'];\n",
       "}\n",
       "\n",
       "mpl.figure.prototype.updated_canvas_event = function() {\n",
       "    // Called whenever the canvas gets updated.\n",
       "    this.send_message(\"ack\", {});\n",
       "}\n",
       "\n",
       "// A function to construct a web socket function for onmessage handling.\n",
       "// Called in the figure constructor.\n",
       "mpl.figure.prototype._make_on_message_function = function(fig) {\n",
       "    return function socket_on_message(evt) {\n",
       "        if (evt.data instanceof Blob) {\n",
       "            /* FIXME: We get \"Resource interpreted as Image but\n",
       "             * transferred with MIME type text/plain:\" errors on\n",
       "             * Chrome.  But how to set the MIME type?  It doesn't seem\n",
       "             * to be part of the websocket stream */\n",
       "            evt.data.type = \"image/png\";\n",
       "\n",
       "            /* Free the memory for the previous frames */\n",
       "            if (fig.imageObj.src) {\n",
       "                (window.URL || window.webkitURL).revokeObjectURL(\n",
       "                    fig.imageObj.src);\n",
       "            }\n",
       "\n",
       "            fig.imageObj.src = (window.URL || window.webkitURL).createObjectURL(\n",
       "                evt.data);\n",
       "            fig.updated_canvas_event();\n",
       "            fig.waiting = false;\n",
       "            return;\n",
       "        }\n",
       "        else if (typeof evt.data === 'string' && evt.data.slice(0, 21) == \"data:image/png;base64\") {\n",
       "            fig.imageObj.src = evt.data;\n",
       "            fig.updated_canvas_event();\n",
       "            fig.waiting = false;\n",
       "            return;\n",
       "        }\n",
       "\n",
       "        var msg = JSON.parse(evt.data);\n",
       "        var msg_type = msg['type'];\n",
       "\n",
       "        // Call the  \"handle_{type}\" callback, which takes\n",
       "        // the figure and JSON message as its only arguments.\n",
       "        try {\n",
       "            var callback = fig[\"handle_\" + msg_type];\n",
       "        } catch (e) {\n",
       "            console.log(\"No handler for the '\" + msg_type + \"' message type: \", msg);\n",
       "            return;\n",
       "        }\n",
       "\n",
       "        if (callback) {\n",
       "            try {\n",
       "                // console.log(\"Handling '\" + msg_type + \"' message: \", msg);\n",
       "                callback(fig, msg);\n",
       "            } catch (e) {\n",
       "                console.log(\"Exception inside the 'handler_\" + msg_type + \"' callback:\", e, e.stack, msg);\n",
       "            }\n",
       "        }\n",
       "    };\n",
       "}\n",
       "\n",
       "// from http://stackoverflow.com/questions/1114465/getting-mouse-location-in-canvas\n",
       "mpl.findpos = function(e) {\n",
       "    //this section is from http://www.quirksmode.org/js/events_properties.html\n",
       "    var targ;\n",
       "    if (!e)\n",
       "        e = window.event;\n",
       "    if (e.target)\n",
       "        targ = e.target;\n",
       "    else if (e.srcElement)\n",
       "        targ = e.srcElement;\n",
       "    if (targ.nodeType == 3) // defeat Safari bug\n",
       "        targ = targ.parentNode;\n",
       "\n",
       "    // jQuery normalizes the pageX and pageY\n",
       "    // pageX,Y are the mouse positions relative to the document\n",
       "    // offset() returns the position of the element relative to the document\n",
       "    var x = e.pageX - $(targ).offset().left;\n",
       "    var y = e.pageY - $(targ).offset().top;\n",
       "\n",
       "    return {\"x\": x, \"y\": y};\n",
       "};\n",
       "\n",
       "/*\n",
       " * return a copy of an object with only non-object keys\n",
       " * we need this to avoid circular references\n",
       " * http://stackoverflow.com/a/24161582/3208463\n",
       " */\n",
       "function simpleKeys (original) {\n",
       "  return Object.keys(original).reduce(function (obj, key) {\n",
       "    if (typeof original[key] !== 'object')\n",
       "        obj[key] = original[key]\n",
       "    return obj;\n",
       "  }, {});\n",
       "}\n",
       "\n",
       "mpl.figure.prototype.mouse_event = function(event, name) {\n",
       "    var canvas_pos = mpl.findpos(event)\n",
       "\n",
       "    if (name === 'button_press')\n",
       "    {\n",
       "        this.canvas.focus();\n",
       "        this.canvas_div.focus();\n",
       "    }\n",
       "\n",
       "    var x = canvas_pos.x * mpl.ratio;\n",
       "    var y = canvas_pos.y * mpl.ratio;\n",
       "\n",
       "    this.send_message(name, {x: x, y: y, button: event.button,\n",
       "                             step: event.step,\n",
       "                             guiEvent: simpleKeys(event)});\n",
       "\n",
       "    /* This prevents the web browser from automatically changing to\n",
       "     * the text insertion cursor when the button is pressed.  We want\n",
       "     * to control all of the cursor setting manually through the\n",
       "     * 'cursor' event from matplotlib */\n",
       "    event.preventDefault();\n",
       "    return false;\n",
       "}\n",
       "\n",
       "mpl.figure.prototype._key_event_extra = function(event, name) {\n",
       "    // Handle any extra behaviour associated with a key event\n",
       "}\n",
       "\n",
       "mpl.figure.prototype.key_event = function(event, name) {\n",
       "\n",
       "    // Prevent repeat events\n",
       "    if (name == 'key_press')\n",
       "    {\n",
       "        if (event.which === this._key)\n",
       "            return;\n",
       "        else\n",
       "            this._key = event.which;\n",
       "    }\n",
       "    if (name == 'key_release')\n",
       "        this._key = null;\n",
       "\n",
       "    var value = '';\n",
       "    if (event.ctrlKey && event.which != 17)\n",
       "        value += \"ctrl+\";\n",
       "    if (event.altKey && event.which != 18)\n",
       "        value += \"alt+\";\n",
       "    if (event.shiftKey && event.which != 16)\n",
       "        value += \"shift+\";\n",
       "\n",
       "    value += 'k';\n",
       "    value += event.which.toString();\n",
       "\n",
       "    this._key_event_extra(event, name);\n",
       "\n",
       "    this.send_message(name, {key: value,\n",
       "                             guiEvent: simpleKeys(event)});\n",
       "    return false;\n",
       "}\n",
       "\n",
       "mpl.figure.prototype.toolbar_button_onclick = function(name) {\n",
       "    if (name == 'download') {\n",
       "        this.handle_save(this, null);\n",
       "    } else {\n",
       "        this.send_message(\"toolbar_button\", {name: name});\n",
       "    }\n",
       "};\n",
       "\n",
       "mpl.figure.prototype.toolbar_button_onmouseover = function(tooltip) {\n",
       "    this.message.textContent = tooltip;\n",
       "};\n",
       "mpl.toolbar_items = [[\"Home\", \"Reset original view\", \"fa fa-home icon-home\", \"home\"], [\"Back\", \"Back to previous view\", \"fa fa-arrow-left icon-arrow-left\", \"back\"], [\"Forward\", \"Forward to next view\", \"fa fa-arrow-right icon-arrow-right\", \"forward\"], [\"\", \"\", \"\", \"\"], [\"Pan\", \"Pan axes with left mouse, zoom with right\", \"fa fa-arrows icon-move\", \"pan\"], [\"Zoom\", \"Zoom to rectangle\", \"fa fa-square-o icon-check-empty\", \"zoom\"], [\"\", \"\", \"\", \"\"], [\"Download\", \"Download plot\", \"fa fa-floppy-o icon-save\", \"download\"]];\n",
       "\n",
       "mpl.extensions = [\"eps\", \"jpeg\", \"pdf\", \"png\", \"ps\", \"raw\", \"svg\", \"tif\"];\n",
       "\n",
       "mpl.default_extension = \"png\";var comm_websocket_adapter = function(comm) {\n",
       "    // Create a \"websocket\"-like object which calls the given IPython comm\n",
       "    // object with the appropriate methods. Currently this is a non binary\n",
       "    // socket, so there is still some room for performance tuning.\n",
       "    var ws = {};\n",
       "\n",
       "    ws.close = function() {\n",
       "        comm.close()\n",
       "    };\n",
       "    ws.send = function(m) {\n",
       "        //console.log('sending', m);\n",
       "        comm.send(m);\n",
       "    };\n",
       "    // Register the callback with on_msg.\n",
       "    comm.on_msg(function(msg) {\n",
       "        //console.log('receiving', msg['content']['data'], msg);\n",
       "        // Pass the mpl event to the overridden (by mpl) onmessage function.\n",
       "        ws.onmessage(msg['content']['data'])\n",
       "    });\n",
       "    return ws;\n",
       "}\n",
       "\n",
       "mpl.mpl_figure_comm = function(comm, msg) {\n",
       "    // This is the function which gets called when the mpl process\n",
       "    // starts-up an IPython Comm through the \"matplotlib\" channel.\n",
       "\n",
       "    var id = msg.content.data.id;\n",
       "    // Get hold of the div created by the display call when the Comm\n",
       "    // socket was opened in Python.\n",
       "    var element = $(\"#\" + id);\n",
       "    var ws_proxy = comm_websocket_adapter(comm)\n",
       "\n",
       "    function ondownload(figure, format) {\n",
       "        window.open(figure.imageObj.src);\n",
       "    }\n",
       "\n",
       "    var fig = new mpl.figure(id, ws_proxy,\n",
       "                           ondownload,\n",
       "                           element.get(0));\n",
       "\n",
       "    // Call onopen now - mpl needs it, as it is assuming we've passed it a real\n",
       "    // web socket which is closed, not our websocket->open comm proxy.\n",
       "    ws_proxy.onopen();\n",
       "\n",
       "    fig.parent_element = element.get(0);\n",
       "    fig.cell_info = mpl.find_output_cell(\"<div id='\" + id + \"'></div>\");\n",
       "    if (!fig.cell_info) {\n",
       "        console.error(\"Failed to find cell for figure\", id, fig);\n",
       "        return;\n",
       "    }\n",
       "\n",
       "    var output_index = fig.cell_info[2]\n",
       "    var cell = fig.cell_info[0];\n",
       "\n",
       "};\n",
       "\n",
       "mpl.figure.prototype.handle_close = function(fig, msg) {\n",
       "    var width = fig.canvas.width/mpl.ratio\n",
       "    fig.root.unbind('remove')\n",
       "\n",
       "    // Update the output cell to use the data from the current canvas.\n",
       "    fig.push_to_output();\n",
       "    var dataURL = fig.canvas.toDataURL();\n",
       "    // Re-enable the keyboard manager in IPython - without this line, in FF,\n",
       "    // the notebook keyboard shortcuts fail.\n",
       "    IPython.keyboard_manager.enable()\n",
       "    $(fig.parent_element).html('<img src=\"' + dataURL + '\" width=\"' + width + '\">');\n",
       "    fig.close_ws(fig, msg);\n",
       "}\n",
       "\n",
       "mpl.figure.prototype.close_ws = function(fig, msg){\n",
       "    fig.send_message('closing', msg);\n",
       "    // fig.ws.close()\n",
       "}\n",
       "\n",
       "mpl.figure.prototype.push_to_output = function(remove_interactive) {\n",
       "    // Turn the data on the canvas into data in the output cell.\n",
       "    var width = this.canvas.width/mpl.ratio\n",
       "    var dataURL = this.canvas.toDataURL();\n",
       "    this.cell_info[1]['text/html'] = '<img src=\"' + dataURL + '\" width=\"' + width + '\">';\n",
       "}\n",
       "\n",
       "mpl.figure.prototype.updated_canvas_event = function() {\n",
       "    // Tell IPython that the notebook contents must change.\n",
       "    IPython.notebook.set_dirty(true);\n",
       "    this.send_message(\"ack\", {});\n",
       "    var fig = this;\n",
       "    // Wait a second, then push the new image to the DOM so\n",
       "    // that it is saved nicely (might be nice to debounce this).\n",
       "    setTimeout(function () { fig.push_to_output() }, 1000);\n",
       "}\n",
       "\n",
       "mpl.figure.prototype._init_toolbar = function() {\n",
       "    var fig = this;\n",
       "\n",
       "    var nav_element = $('<div/>');\n",
       "    nav_element.attr('style', 'width: 100%');\n",
       "    this.root.append(nav_element);\n",
       "\n",
       "    // Define a callback function for later on.\n",
       "    function toolbar_event(event) {\n",
       "        return fig.toolbar_button_onclick(event['data']);\n",
       "    }\n",
       "    function toolbar_mouse_event(event) {\n",
       "        return fig.toolbar_button_onmouseover(event['data']);\n",
       "    }\n",
       "\n",
       "    for(var toolbar_ind in mpl.toolbar_items){\n",
       "        var name = mpl.toolbar_items[toolbar_ind][0];\n",
       "        var tooltip = mpl.toolbar_items[toolbar_ind][1];\n",
       "        var image = mpl.toolbar_items[toolbar_ind][2];\n",
       "        var method_name = mpl.toolbar_items[toolbar_ind][3];\n",
       "\n",
       "        if (!name) { continue; };\n",
       "\n",
       "        var button = $('<button class=\"btn btn-default\" href=\"#\" title=\"' + name + '\"><i class=\"fa ' + image + ' fa-lg\"></i></button>');\n",
       "        button.click(method_name, toolbar_event);\n",
       "        button.mouseover(tooltip, toolbar_mouse_event);\n",
       "        nav_element.append(button);\n",
       "    }\n",
       "\n",
       "    // Add the status bar.\n",
       "    var status_bar = $('<span class=\"mpl-message\" style=\"text-align:right; float: right;\"/>');\n",
       "    nav_element.append(status_bar);\n",
       "    this.message = status_bar[0];\n",
       "\n",
       "    // Add the close button to the window.\n",
       "    var buttongrp = $('<div class=\"btn-group inline pull-right\"></div>');\n",
       "    var button = $('<button class=\"btn btn-mini btn-primary\" href=\"#\" title=\"Stop Interaction\"><i class=\"fa fa-power-off icon-remove icon-large\"></i></button>');\n",
       "    button.click(function (evt) { fig.handle_close(fig, {}); } );\n",
       "    button.mouseover('Stop Interaction', toolbar_mouse_event);\n",
       "    buttongrp.append(button);\n",
       "    var titlebar = this.root.find($('.ui-dialog-titlebar'));\n",
       "    titlebar.prepend(buttongrp);\n",
       "}\n",
       "\n",
       "mpl.figure.prototype._root_extra_style = function(el){\n",
       "    var fig = this\n",
       "    el.on(\"remove\", function(){\n",
       "\tfig.close_ws(fig, {});\n",
       "    });\n",
       "}\n",
       "\n",
       "mpl.figure.prototype._canvas_extra_style = function(el){\n",
       "    // this is important to make the div 'focusable\n",
       "    el.attr('tabindex', 0)\n",
       "    // reach out to IPython and tell the keyboard manager to turn it's self\n",
       "    // off when our div gets focus\n",
       "\n",
       "    // location in version 3\n",
       "    if (IPython.notebook.keyboard_manager) {\n",
       "        IPython.notebook.keyboard_manager.register_events(el);\n",
       "    }\n",
       "    else {\n",
       "        // location in version 2\n",
       "        IPython.keyboard_manager.register_events(el);\n",
       "    }\n",
       "\n",
       "}\n",
       "\n",
       "mpl.figure.prototype._key_event_extra = function(event, name) {\n",
       "    var manager = IPython.notebook.keyboard_manager;\n",
       "    if (!manager)\n",
       "        manager = IPython.keyboard_manager;\n",
       "\n",
       "    // Check for shift+enter\n",
       "    if (event.shiftKey && event.which == 13) {\n",
       "        this.canvas_div.blur();\n",
       "        // select the cell after this one\n",
       "        var index = IPython.notebook.find_cell_index(this.cell_info[0]);\n",
       "        IPython.notebook.select(index + 1);\n",
       "    }\n",
       "}\n",
       "\n",
       "mpl.figure.prototype.handle_save = function(fig, msg) {\n",
       "    fig.ondownload(fig, null);\n",
       "}\n",
       "\n",
       "\n",
       "mpl.find_output_cell = function(html_output) {\n",
       "    // Return the cell and output element which can be found *uniquely* in the notebook.\n",
       "    // Note - this is a bit hacky, but it is done because the \"notebook_saving.Notebook\"\n",
       "    // IPython event is triggered only after the cells have been serialised, which for\n",
       "    // our purposes (turning an active figure into a static one), is too late.\n",
       "    var cells = IPython.notebook.get_cells();\n",
       "    var ncells = cells.length;\n",
       "    for (var i=0; i<ncells; i++) {\n",
       "        var cell = cells[i];\n",
       "        if (cell.cell_type === 'code'){\n",
       "            for (var j=0; j<cell.output_area.outputs.length; j++) {\n",
       "                var data = cell.output_area.outputs[j];\n",
       "                if (data.data) {\n",
       "                    // IPython >= 3 moved mimebundle to data attribute of output\n",
       "                    data = data.data;\n",
       "                }\n",
       "                if (data['text/html'] == html_output) {\n",
       "                    return [cell, data, j];\n",
       "                }\n",
       "            }\n",
       "        }\n",
       "    }\n",
       "}\n",
       "\n",
       "// Register the function which deals with the matplotlib target/channel.\n",
       "// The kernel may be null if the page has been refreshed.\n",
       "if (IPython.notebook.kernel != null) {\n",
       "    IPython.notebook.kernel.comm_manager.register_target('matplotlib', mpl.mpl_figure_comm);\n",
       "}\n"
      ],
      "text/plain": [
       "<IPython.core.display.Javascript object>"
      ]
     },
     "metadata": {},
     "output_type": "display_data"
    },
    {
     "data": {
      "text/html": [
       "<img src=\"data:image/png;base64,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\" width=\"432\">"
      ],
      "text/plain": [
       "<IPython.core.display.HTML object>"
      ]
     },
     "metadata": {},
     "output_type": "display_data"
    }
   ],
   "source": [
    "%matplotlib notebook\n",
    "fig = plt.figure()\n",
    "ax = fig.add_subplot(111, projection='3d')\n",
    "Z = Res_sum / Passed\n",
    "X[X**2 + Y**2 > 1] = np.inf\n",
    "ax.plot_surface(X, Y, Z, cmap='spring')"
   ]
  },
  {
   "cell_type": "code",
   "execution_count": 87,
   "metadata": {
    "scrolled": true
   },
   "outputs": [
    {
     "data": {
      "application/javascript": [
       "/* Put everything inside the global mpl namespace */\n",
       "window.mpl = {};\n",
       "\n",
       "\n",
       "mpl.get_websocket_type = function() {\n",
       "    if (typeof(WebSocket) !== 'undefined') {\n",
       "        return WebSocket;\n",
       "    } else if (typeof(MozWebSocket) !== 'undefined') {\n",
       "        return MozWebSocket;\n",
       "    } else {\n",
       "        alert('Your browser does not have WebSocket support. ' +\n",
       "              'Please try Chrome, Safari or Firefox ≥ 6. ' +\n",
       "              'Firefox 4 and 5 are also supported but you ' +\n",
       "              'have to enable WebSockets in about:config.');\n",
       "    };\n",
       "}\n",
       "\n",
       "mpl.figure = function(figure_id, websocket, ondownload, parent_element) {\n",
       "    this.id = figure_id;\n",
       "\n",
       "    this.ws = websocket;\n",
       "\n",
       "    this.supports_binary = (this.ws.binaryType != undefined);\n",
       "\n",
       "    if (!this.supports_binary) {\n",
       "        var warnings = document.getElementById(\"mpl-warnings\");\n",
       "        if (warnings) {\n",
       "            warnings.style.display = 'block';\n",
       "            warnings.textContent = (\n",
       "                \"This browser does not support binary websocket messages. \" +\n",
       "                    \"Performance may be slow.\");\n",
       "        }\n",
       "    }\n",
       "\n",
       "    this.imageObj = new Image();\n",
       "\n",
       "    this.context = undefined;\n",
       "    this.message = undefined;\n",
       "    this.canvas = undefined;\n",
       "    this.rubberband_canvas = undefined;\n",
       "    this.rubberband_context = undefined;\n",
       "    this.format_dropdown = undefined;\n",
       "\n",
       "    this.image_mode = 'full';\n",
       "\n",
       "    this.root = $('<div/>');\n",
       "    this._root_extra_style(this.root)\n",
       "    this.root.attr('style', 'display: inline-block');\n",
       "\n",
       "    $(parent_element).append(this.root);\n",
       "\n",
       "    this._init_header(this);\n",
       "    this._init_canvas(this);\n",
       "    this._init_toolbar(this);\n",
       "\n",
       "    var fig = this;\n",
       "\n",
       "    this.waiting = false;\n",
       "\n",
       "    this.ws.onopen =  function () {\n",
       "            fig.send_message(\"supports_binary\", {value: fig.supports_binary});\n",
       "            fig.send_message(\"send_image_mode\", {});\n",
       "            if (mpl.ratio != 1) {\n",
       "                fig.send_message(\"set_dpi_ratio\", {'dpi_ratio': mpl.ratio});\n",
       "            }\n",
       "            fig.send_message(\"refresh\", {});\n",
       "        }\n",
       "\n",
       "    this.imageObj.onload = function() {\n",
       "            if (fig.image_mode == 'full') {\n",
       "                // Full images could contain transparency (where diff images\n",
       "                // almost always do), so we need to clear the canvas so that\n",
       "                // there is no ghosting.\n",
       "                fig.context.clearRect(0, 0, fig.canvas.width, fig.canvas.height);\n",
       "            }\n",
       "            fig.context.drawImage(fig.imageObj, 0, 0);\n",
       "        };\n",
       "\n",
       "    this.imageObj.onunload = function() {\n",
       "        fig.ws.close();\n",
       "    }\n",
       "\n",
       "    this.ws.onmessage = this._make_on_message_function(this);\n",
       "\n",
       "    this.ondownload = ondownload;\n",
       "}\n",
       "\n",
       "mpl.figure.prototype._init_header = function() {\n",
       "    var titlebar = $(\n",
       "        '<div class=\"ui-dialog-titlebar ui-widget-header ui-corner-all ' +\n",
       "        'ui-helper-clearfix\"/>');\n",
       "    var titletext = $(\n",
       "        '<div class=\"ui-dialog-title\" style=\"width: 100%; ' +\n",
       "        'text-align: center; padding: 3px;\"/>');\n",
       "    titlebar.append(titletext)\n",
       "    this.root.append(titlebar);\n",
       "    this.header = titletext[0];\n",
       "}\n",
       "\n",
       "\n",
       "\n",
       "mpl.figure.prototype._canvas_extra_style = function(canvas_div) {\n",
       "\n",
       "}\n",
       "\n",
       "\n",
       "mpl.figure.prototype._root_extra_style = function(canvas_div) {\n",
       "\n",
       "}\n",
       "\n",
       "mpl.figure.prototype._init_canvas = function() {\n",
       "    var fig = this;\n",
       "\n",
       "    var canvas_div = $('<div/>');\n",
       "\n",
       "    canvas_div.attr('style', 'position: relative; clear: both; outline: 0');\n",
       "\n",
       "    function canvas_keyboard_event(event) {\n",
       "        return fig.key_event(event, event['data']);\n",
       "    }\n",
       "\n",
       "    canvas_div.keydown('key_press', canvas_keyboard_event);\n",
       "    canvas_div.keyup('key_release', canvas_keyboard_event);\n",
       "    this.canvas_div = canvas_div\n",
       "    this._canvas_extra_style(canvas_div)\n",
       "    this.root.append(canvas_div);\n",
       "\n",
       "    var canvas = $('<canvas/>');\n",
       "    canvas.addClass('mpl-canvas');\n",
       "    canvas.attr('style', \"left: 0; top: 0; z-index: 0; outline: 0\")\n",
       "\n",
       "    this.canvas = canvas[0];\n",
       "    this.context = canvas[0].getContext(\"2d\");\n",
       "\n",
       "    var backingStore = this.context.backingStorePixelRatio ||\n",
       "\tthis.context.webkitBackingStorePixelRatio ||\n",
       "\tthis.context.mozBackingStorePixelRatio ||\n",
       "\tthis.context.msBackingStorePixelRatio ||\n",
       "\tthis.context.oBackingStorePixelRatio ||\n",
       "\tthis.context.backingStorePixelRatio || 1;\n",
       "\n",
       "    mpl.ratio = (window.devicePixelRatio || 1) / backingStore;\n",
       "\n",
       "    var rubberband = $('<canvas/>');\n",
       "    rubberband.attr('style', \"position: absolute; left: 0; top: 0; z-index: 1;\")\n",
       "\n",
       "    var pass_mouse_events = true;\n",
       "\n",
       "    canvas_div.resizable({\n",
       "        start: function(event, ui) {\n",
       "            pass_mouse_events = false;\n",
       "        },\n",
       "        resize: function(event, ui) {\n",
       "            fig.request_resize(ui.size.width, ui.size.height);\n",
       "        },\n",
       "        stop: function(event, ui) {\n",
       "            pass_mouse_events = true;\n",
       "            fig.request_resize(ui.size.width, ui.size.height);\n",
       "        },\n",
       "    });\n",
       "\n",
       "    function mouse_event_fn(event) {\n",
       "        if (pass_mouse_events)\n",
       "            return fig.mouse_event(event, event['data']);\n",
       "    }\n",
       "\n",
       "    rubberband.mousedown('button_press', mouse_event_fn);\n",
       "    rubberband.mouseup('button_release', mouse_event_fn);\n",
       "    // Throttle sequential mouse events to 1 every 20ms.\n",
       "    rubberband.mousemove('motion_notify', mouse_event_fn);\n",
       "\n",
       "    rubberband.mouseenter('figure_enter', mouse_event_fn);\n",
       "    rubberband.mouseleave('figure_leave', mouse_event_fn);\n",
       "\n",
       "    canvas_div.on(\"wheel\", function (event) {\n",
       "        event = event.originalEvent;\n",
       "        event['data'] = 'scroll'\n",
       "        if (event.deltaY < 0) {\n",
       "            event.step = 1;\n",
       "        } else {\n",
       "            event.step = -1;\n",
       "        }\n",
       "        mouse_event_fn(event);\n",
       "    });\n",
       "\n",
       "    canvas_div.append(canvas);\n",
       "    canvas_div.append(rubberband);\n",
       "\n",
       "    this.rubberband = rubberband;\n",
       "    this.rubberband_canvas = rubberband[0];\n",
       "    this.rubberband_context = rubberband[0].getContext(\"2d\");\n",
       "    this.rubberband_context.strokeStyle = \"#000000\";\n",
       "\n",
       "    this._resize_canvas = function(width, height) {\n",
       "        // Keep the size of the canvas, canvas container, and rubber band\n",
       "        // canvas in synch.\n",
       "        canvas_div.css('width', width)\n",
       "        canvas_div.css('height', height)\n",
       "\n",
       "        canvas.attr('width', width * mpl.ratio);\n",
       "        canvas.attr('height', height * mpl.ratio);\n",
       "        canvas.attr('style', 'width: ' + width + 'px; height: ' + height + 'px;');\n",
       "\n",
       "        rubberband.attr('width', width);\n",
       "        rubberband.attr('height', height);\n",
       "    }\n",
       "\n",
       "    // Set the figure to an initial 600x600px, this will subsequently be updated\n",
       "    // upon first draw.\n",
       "    this._resize_canvas(600, 600);\n",
       "\n",
       "    // Disable right mouse context menu.\n",
       "    $(this.rubberband_canvas).bind(\"contextmenu\",function(e){\n",
       "        return false;\n",
       "    });\n",
       "\n",
       "    function set_focus () {\n",
       "        canvas.focus();\n",
       "        canvas_div.focus();\n",
       "    }\n",
       "\n",
       "    window.setTimeout(set_focus, 100);\n",
       "}\n",
       "\n",
       "mpl.figure.prototype._init_toolbar = function() {\n",
       "    var fig = this;\n",
       "\n",
       "    var nav_element = $('<div/>');\n",
       "    nav_element.attr('style', 'width: 100%');\n",
       "    this.root.append(nav_element);\n",
       "\n",
       "    // Define a callback function for later on.\n",
       "    function toolbar_event(event) {\n",
       "        return fig.toolbar_button_onclick(event['data']);\n",
       "    }\n",
       "    function toolbar_mouse_event(event) {\n",
       "        return fig.toolbar_button_onmouseover(event['data']);\n",
       "    }\n",
       "\n",
       "    for(var toolbar_ind in mpl.toolbar_items) {\n",
       "        var name = mpl.toolbar_items[toolbar_ind][0];\n",
       "        var tooltip = mpl.toolbar_items[toolbar_ind][1];\n",
       "        var image = mpl.toolbar_items[toolbar_ind][2];\n",
       "        var method_name = mpl.toolbar_items[toolbar_ind][3];\n",
       "\n",
       "        if (!name) {\n",
       "            // put a spacer in here.\n",
       "            continue;\n",
       "        }\n",
       "        var button = $('<button/>');\n",
       "        button.addClass('ui-button ui-widget ui-state-default ui-corner-all ' +\n",
       "                        'ui-button-icon-only');\n",
       "        button.attr('role', 'button');\n",
       "        button.attr('aria-disabled', 'false');\n",
       "        button.click(method_name, toolbar_event);\n",
       "        button.mouseover(tooltip, toolbar_mouse_event);\n",
       "\n",
       "        var icon_img = $('<span/>');\n",
       "        icon_img.addClass('ui-button-icon-primary ui-icon');\n",
       "        icon_img.addClass(image);\n",
       "        icon_img.addClass('ui-corner-all');\n",
       "\n",
       "        var tooltip_span = $('<span/>');\n",
       "        tooltip_span.addClass('ui-button-text');\n",
       "        tooltip_span.html(tooltip);\n",
       "\n",
       "        button.append(icon_img);\n",
       "        button.append(tooltip_span);\n",
       "\n",
       "        nav_element.append(button);\n",
       "    }\n",
       "\n",
       "    var fmt_picker_span = $('<span/>');\n",
       "\n",
       "    var fmt_picker = $('<select/>');\n",
       "    fmt_picker.addClass('mpl-toolbar-option ui-widget ui-widget-content');\n",
       "    fmt_picker_span.append(fmt_picker);\n",
       "    nav_element.append(fmt_picker_span);\n",
       "    this.format_dropdown = fmt_picker[0];\n",
       "\n",
       "    for (var ind in mpl.extensions) {\n",
       "        var fmt = mpl.extensions[ind];\n",
       "        var option = $(\n",
       "            '<option/>', {selected: fmt === mpl.default_extension}).html(fmt);\n",
       "        fmt_picker.append(option);\n",
       "    }\n",
       "\n",
       "    // Add hover states to the ui-buttons\n",
       "    $( \".ui-button\" ).hover(\n",
       "        function() { $(this).addClass(\"ui-state-hover\");},\n",
       "        function() { $(this).removeClass(\"ui-state-hover\");}\n",
       "    );\n",
       "\n",
       "    var status_bar = $('<span class=\"mpl-message\"/>');\n",
       "    nav_element.append(status_bar);\n",
       "    this.message = status_bar[0];\n",
       "}\n",
       "\n",
       "mpl.figure.prototype.request_resize = function(x_pixels, y_pixels) {\n",
       "    // Request matplotlib to resize the figure. Matplotlib will then trigger a resize in the client,\n",
       "    // which will in turn request a refresh of the image.\n",
       "    this.send_message('resize', {'width': x_pixels, 'height': y_pixels});\n",
       "}\n",
       "\n",
       "mpl.figure.prototype.send_message = function(type, properties) {\n",
       "    properties['type'] = type;\n",
       "    properties['figure_id'] = this.id;\n",
       "    this.ws.send(JSON.stringify(properties));\n",
       "}\n",
       "\n",
       "mpl.figure.prototype.send_draw_message = function() {\n",
       "    if (!this.waiting) {\n",
       "        this.waiting = true;\n",
       "        this.ws.send(JSON.stringify({type: \"draw\", figure_id: this.id}));\n",
       "    }\n",
       "}\n",
       "\n",
       "\n",
       "mpl.figure.prototype.handle_save = function(fig, msg) {\n",
       "    var format_dropdown = fig.format_dropdown;\n",
       "    var format = format_dropdown.options[format_dropdown.selectedIndex].value;\n",
       "    fig.ondownload(fig, format);\n",
       "}\n",
       "\n",
       "\n",
       "mpl.figure.prototype.handle_resize = function(fig, msg) {\n",
       "    var size = msg['size'];\n",
       "    if (size[0] != fig.canvas.width || size[1] != fig.canvas.height) {\n",
       "        fig._resize_canvas(size[0], size[1]);\n",
       "        fig.send_message(\"refresh\", {});\n",
       "    };\n",
       "}\n",
       "\n",
       "mpl.figure.prototype.handle_rubberband = function(fig, msg) {\n",
       "    var x0 = msg['x0'] / mpl.ratio;\n",
       "    var y0 = (fig.canvas.height - msg['y0']) / mpl.ratio;\n",
       "    var x1 = msg['x1'] / mpl.ratio;\n",
       "    var y1 = (fig.canvas.height - msg['y1']) / mpl.ratio;\n",
       "    x0 = Math.floor(x0) + 0.5;\n",
       "    y0 = Math.floor(y0) + 0.5;\n",
       "    x1 = Math.floor(x1) + 0.5;\n",
       "    y1 = Math.floor(y1) + 0.5;\n",
       "    var min_x = Math.min(x0, x1);\n",
       "    var min_y = Math.min(y0, y1);\n",
       "    var width = Math.abs(x1 - x0);\n",
       "    var height = Math.abs(y1 - y0);\n",
       "\n",
       "    fig.rubberband_context.clearRect(\n",
       "        0, 0, fig.canvas.width / mpl.ratio, fig.canvas.height / mpl.ratio);\n",
       "\n",
       "    fig.rubberband_context.strokeRect(min_x, min_y, width, height);\n",
       "}\n",
       "\n",
       "mpl.figure.prototype.handle_figure_label = function(fig, msg) {\n",
       "    // Updates the figure title.\n",
       "    fig.header.textContent = msg['label'];\n",
       "}\n",
       "\n",
       "mpl.figure.prototype.handle_cursor = function(fig, msg) {\n",
       "    var cursor = msg['cursor'];\n",
       "    switch(cursor)\n",
       "    {\n",
       "    case 0:\n",
       "        cursor = 'pointer';\n",
       "        break;\n",
       "    case 1:\n",
       "        cursor = 'default';\n",
       "        break;\n",
       "    case 2:\n",
       "        cursor = 'crosshair';\n",
       "        break;\n",
       "    case 3:\n",
       "        cursor = 'move';\n",
       "        break;\n",
       "    }\n",
       "    fig.rubberband_canvas.style.cursor = cursor;\n",
       "}\n",
       "\n",
       "mpl.figure.prototype.handle_message = function(fig, msg) {\n",
       "    fig.message.textContent = msg['message'];\n",
       "}\n",
       "\n",
       "mpl.figure.prototype.handle_draw = function(fig, msg) {\n",
       "    // Request the server to send over a new figure.\n",
       "    fig.send_draw_message();\n",
       "}\n",
       "\n",
       "mpl.figure.prototype.handle_image_mode = function(fig, msg) {\n",
       "    fig.image_mode = msg['mode'];\n",
       "}\n",
       "\n",
       "mpl.figure.prototype.updated_canvas_event = function() {\n",
       "    // Called whenever the canvas gets updated.\n",
       "    this.send_message(\"ack\", {});\n",
       "}\n",
       "\n",
       "// A function to construct a web socket function for onmessage handling.\n",
       "// Called in the figure constructor.\n",
       "mpl.figure.prototype._make_on_message_function = function(fig) {\n",
       "    return function socket_on_message(evt) {\n",
       "        if (evt.data instanceof Blob) {\n",
       "            /* FIXME: We get \"Resource interpreted as Image but\n",
       "             * transferred with MIME type text/plain:\" errors on\n",
       "             * Chrome.  But how to set the MIME type?  It doesn't seem\n",
       "             * to be part of the websocket stream */\n",
       "            evt.data.type = \"image/png\";\n",
       "\n",
       "            /* Free the memory for the previous frames */\n",
       "            if (fig.imageObj.src) {\n",
       "                (window.URL || window.webkitURL).revokeObjectURL(\n",
       "                    fig.imageObj.src);\n",
       "            }\n",
       "\n",
       "            fig.imageObj.src = (window.URL || window.webkitURL).createObjectURL(\n",
       "                evt.data);\n",
       "            fig.updated_canvas_event();\n",
       "            fig.waiting = false;\n",
       "            return;\n",
       "        }\n",
       "        else if (typeof evt.data === 'string' && evt.data.slice(0, 21) == \"data:image/png;base64\") {\n",
       "            fig.imageObj.src = evt.data;\n",
       "            fig.updated_canvas_event();\n",
       "            fig.waiting = false;\n",
       "            return;\n",
       "        }\n",
       "\n",
       "        var msg = JSON.parse(evt.data);\n",
       "        var msg_type = msg['type'];\n",
       "\n",
       "        // Call the  \"handle_{type}\" callback, which takes\n",
       "        // the figure and JSON message as its only arguments.\n",
       "        try {\n",
       "            var callback = fig[\"handle_\" + msg_type];\n",
       "        } catch (e) {\n",
       "            console.log(\"No handler for the '\" + msg_type + \"' message type: \", msg);\n",
       "            return;\n",
       "        }\n",
       "\n",
       "        if (callback) {\n",
       "            try {\n",
       "                // console.log(\"Handling '\" + msg_type + \"' message: \", msg);\n",
       "                callback(fig, msg);\n",
       "            } catch (e) {\n",
       "                console.log(\"Exception inside the 'handler_\" + msg_type + \"' callback:\", e, e.stack, msg);\n",
       "            }\n",
       "        }\n",
       "    };\n",
       "}\n",
       "\n",
       "// from http://stackoverflow.com/questions/1114465/getting-mouse-location-in-canvas\n",
       "mpl.findpos = function(e) {\n",
       "    //this section is from http://www.quirksmode.org/js/events_properties.html\n",
       "    var targ;\n",
       "    if (!e)\n",
       "        e = window.event;\n",
       "    if (e.target)\n",
       "        targ = e.target;\n",
       "    else if (e.srcElement)\n",
       "        targ = e.srcElement;\n",
       "    if (targ.nodeType == 3) // defeat Safari bug\n",
       "        targ = targ.parentNode;\n",
       "\n",
       "    // jQuery normalizes the pageX and pageY\n",
       "    // pageX,Y are the mouse positions relative to the document\n",
       "    // offset() returns the position of the element relative to the document\n",
       "    var x = e.pageX - $(targ).offset().left;\n",
       "    var y = e.pageY - $(targ).offset().top;\n",
       "\n",
       "    return {\"x\": x, \"y\": y};\n",
       "};\n",
       "\n",
       "/*\n",
       " * return a copy of an object with only non-object keys\n",
       " * we need this to avoid circular references\n",
       " * http://stackoverflow.com/a/24161582/3208463\n",
       " */\n",
       "function simpleKeys (original) {\n",
       "  return Object.keys(original).reduce(function (obj, key) {\n",
       "    if (typeof original[key] !== 'object')\n",
       "        obj[key] = original[key]\n",
       "    return obj;\n",
       "  }, {});\n",
       "}\n",
       "\n",
       "mpl.figure.prototype.mouse_event = function(event, name) {\n",
       "    var canvas_pos = mpl.findpos(event)\n",
       "\n",
       "    if (name === 'button_press')\n",
       "    {\n",
       "        this.canvas.focus();\n",
       "        this.canvas_div.focus();\n",
       "    }\n",
       "\n",
       "    var x = canvas_pos.x * mpl.ratio;\n",
       "    var y = canvas_pos.y * mpl.ratio;\n",
       "\n",
       "    this.send_message(name, {x: x, y: y, button: event.button,\n",
       "                             step: event.step,\n",
       "                             guiEvent: simpleKeys(event)});\n",
       "\n",
       "    /* This prevents the web browser from automatically changing to\n",
       "     * the text insertion cursor when the button is pressed.  We want\n",
       "     * to control all of the cursor setting manually through the\n",
       "     * 'cursor' event from matplotlib */\n",
       "    event.preventDefault();\n",
       "    return false;\n",
       "}\n",
       "\n",
       "mpl.figure.prototype._key_event_extra = function(event, name) {\n",
       "    // Handle any extra behaviour associated with a key event\n",
       "}\n",
       "\n",
       "mpl.figure.prototype.key_event = function(event, name) {\n",
       "\n",
       "    // Prevent repeat events\n",
       "    if (name == 'key_press')\n",
       "    {\n",
       "        if (event.which === this._key)\n",
       "            return;\n",
       "        else\n",
       "            this._key = event.which;\n",
       "    }\n",
       "    if (name == 'key_release')\n",
       "        this._key = null;\n",
       "\n",
       "    var value = '';\n",
       "    if (event.ctrlKey && event.which != 17)\n",
       "        value += \"ctrl+\";\n",
       "    if (event.altKey && event.which != 18)\n",
       "        value += \"alt+\";\n",
       "    if (event.shiftKey && event.which != 16)\n",
       "        value += \"shift+\";\n",
       "\n",
       "    value += 'k';\n",
       "    value += event.which.toString();\n",
       "\n",
       "    this._key_event_extra(event, name);\n",
       "\n",
       "    this.send_message(name, {key: value,\n",
       "                             guiEvent: simpleKeys(event)});\n",
       "    return false;\n",
       "}\n",
       "\n",
       "mpl.figure.prototype.toolbar_button_onclick = function(name) {\n",
       "    if (name == 'download') {\n",
       "        this.handle_save(this, null);\n",
       "    } else {\n",
       "        this.send_message(\"toolbar_button\", {name: name});\n",
       "    }\n",
       "};\n",
       "\n",
       "mpl.figure.prototype.toolbar_button_onmouseover = function(tooltip) {\n",
       "    this.message.textContent = tooltip;\n",
       "};\n",
       "mpl.toolbar_items = [[\"Home\", \"Reset original view\", \"fa fa-home icon-home\", \"home\"], [\"Back\", \"Back to previous view\", \"fa fa-arrow-left icon-arrow-left\", \"back\"], [\"Forward\", \"Forward to next view\", \"fa fa-arrow-right icon-arrow-right\", \"forward\"], [\"\", \"\", \"\", \"\"], [\"Pan\", \"Pan axes with left mouse, zoom with right\", \"fa fa-arrows icon-move\", \"pan\"], [\"Zoom\", \"Zoom to rectangle\", \"fa fa-square-o icon-check-empty\", \"zoom\"], [\"\", \"\", \"\", \"\"], [\"Download\", \"Download plot\", \"fa fa-floppy-o icon-save\", \"download\"]];\n",
       "\n",
       "mpl.extensions = [\"eps\", \"jpeg\", \"pdf\", \"png\", \"ps\", \"raw\", \"svg\", \"tif\"];\n",
       "\n",
       "mpl.default_extension = \"png\";var comm_websocket_adapter = function(comm) {\n",
       "    // Create a \"websocket\"-like object which calls the given IPython comm\n",
       "    // object with the appropriate methods. Currently this is a non binary\n",
       "    // socket, so there is still some room for performance tuning.\n",
       "    var ws = {};\n",
       "\n",
       "    ws.close = function() {\n",
       "        comm.close()\n",
       "    };\n",
       "    ws.send = function(m) {\n",
       "        //console.log('sending', m);\n",
       "        comm.send(m);\n",
       "    };\n",
       "    // Register the callback with on_msg.\n",
       "    comm.on_msg(function(msg) {\n",
       "        //console.log('receiving', msg['content']['data'], msg);\n",
       "        // Pass the mpl event to the overridden (by mpl) onmessage function.\n",
       "        ws.onmessage(msg['content']['data'])\n",
       "    });\n",
       "    return ws;\n",
       "}\n",
       "\n",
       "mpl.mpl_figure_comm = function(comm, msg) {\n",
       "    // This is the function which gets called when the mpl process\n",
       "    // starts-up an IPython Comm through the \"matplotlib\" channel.\n",
       "\n",
       "    var id = msg.content.data.id;\n",
       "    // Get hold of the div created by the display call when the Comm\n",
       "    // socket was opened in Python.\n",
       "    var element = $(\"#\" + id);\n",
       "    var ws_proxy = comm_websocket_adapter(comm)\n",
       "\n",
       "    function ondownload(figure, format) {\n",
       "        window.open(figure.imageObj.src);\n",
       "    }\n",
       "\n",
       "    var fig = new mpl.figure(id, ws_proxy,\n",
       "                           ondownload,\n",
       "                           element.get(0));\n",
       "\n",
       "    // Call onopen now - mpl needs it, as it is assuming we've passed it a real\n",
       "    // web socket which is closed, not our websocket->open comm proxy.\n",
       "    ws_proxy.onopen();\n",
       "\n",
       "    fig.parent_element = element.get(0);\n",
       "    fig.cell_info = mpl.find_output_cell(\"<div id='\" + id + \"'></div>\");\n",
       "    if (!fig.cell_info) {\n",
       "        console.error(\"Failed to find cell for figure\", id, fig);\n",
       "        return;\n",
       "    }\n",
       "\n",
       "    var output_index = fig.cell_info[2]\n",
       "    var cell = fig.cell_info[0];\n",
       "\n",
       "};\n",
       "\n",
       "mpl.figure.prototype.handle_close = function(fig, msg) {\n",
       "    var width = fig.canvas.width/mpl.ratio\n",
       "    fig.root.unbind('remove')\n",
       "\n",
       "    // Update the output cell to use the data from the current canvas.\n",
       "    fig.push_to_output();\n",
       "    var dataURL = fig.canvas.toDataURL();\n",
       "    // Re-enable the keyboard manager in IPython - without this line, in FF,\n",
       "    // the notebook keyboard shortcuts fail.\n",
       "    IPython.keyboard_manager.enable()\n",
       "    $(fig.parent_element).html('<img src=\"' + dataURL + '\" width=\"' + width + '\">');\n",
       "    fig.close_ws(fig, msg);\n",
       "}\n",
       "\n",
       "mpl.figure.prototype.close_ws = function(fig, msg){\n",
       "    fig.send_message('closing', msg);\n",
       "    // fig.ws.close()\n",
       "}\n",
       "\n",
       "mpl.figure.prototype.push_to_output = function(remove_interactive) {\n",
       "    // Turn the data on the canvas into data in the output cell.\n",
       "    var width = this.canvas.width/mpl.ratio\n",
       "    var dataURL = this.canvas.toDataURL();\n",
       "    this.cell_info[1]['text/html'] = '<img src=\"' + dataURL + '\" width=\"' + width + '\">';\n",
       "}\n",
       "\n",
       "mpl.figure.prototype.updated_canvas_event = function() {\n",
       "    // Tell IPython that the notebook contents must change.\n",
       "    IPython.notebook.set_dirty(true);\n",
       "    this.send_message(\"ack\", {});\n",
       "    var fig = this;\n",
       "    // Wait a second, then push the new image to the DOM so\n",
       "    // that it is saved nicely (might be nice to debounce this).\n",
       "    setTimeout(function () { fig.push_to_output() }, 1000);\n",
       "}\n",
       "\n",
       "mpl.figure.prototype._init_toolbar = function() {\n",
       "    var fig = this;\n",
       "\n",
       "    var nav_element = $('<div/>');\n",
       "    nav_element.attr('style', 'width: 100%');\n",
       "    this.root.append(nav_element);\n",
       "\n",
       "    // Define a callback function for later on.\n",
       "    function toolbar_event(event) {\n",
       "        return fig.toolbar_button_onclick(event['data']);\n",
       "    }\n",
       "    function toolbar_mouse_event(event) {\n",
       "        return fig.toolbar_button_onmouseover(event['data']);\n",
       "    }\n",
       "\n",
       "    for(var toolbar_ind in mpl.toolbar_items){\n",
       "        var name = mpl.toolbar_items[toolbar_ind][0];\n",
       "        var tooltip = mpl.toolbar_items[toolbar_ind][1];\n",
       "        var image = mpl.toolbar_items[toolbar_ind][2];\n",
       "        var method_name = mpl.toolbar_items[toolbar_ind][3];\n",
       "\n",
       "        if (!name) { continue; };\n",
       "\n",
       "        var button = $('<button class=\"btn btn-default\" href=\"#\" title=\"' + name + '\"><i class=\"fa ' + image + ' fa-lg\"></i></button>');\n",
       "        button.click(method_name, toolbar_event);\n",
       "        button.mouseover(tooltip, toolbar_mouse_event);\n",
       "        nav_element.append(button);\n",
       "    }\n",
       "\n",
       "    // Add the status bar.\n",
       "    var status_bar = $('<span class=\"mpl-message\" style=\"text-align:right; float: right;\"/>');\n",
       "    nav_element.append(status_bar);\n",
       "    this.message = status_bar[0];\n",
       "\n",
       "    // Add the close button to the window.\n",
       "    var buttongrp = $('<div class=\"btn-group inline pull-right\"></div>');\n",
       "    var button = $('<button class=\"btn btn-mini btn-primary\" href=\"#\" title=\"Stop Interaction\"><i class=\"fa fa-power-off icon-remove icon-large\"></i></button>');\n",
       "    button.click(function (evt) { fig.handle_close(fig, {}); } );\n",
       "    button.mouseover('Stop Interaction', toolbar_mouse_event);\n",
       "    buttongrp.append(button);\n",
       "    var titlebar = this.root.find($('.ui-dialog-titlebar'));\n",
       "    titlebar.prepend(buttongrp);\n",
       "}\n",
       "\n",
       "mpl.figure.prototype._root_extra_style = function(el){\n",
       "    var fig = this\n",
       "    el.on(\"remove\", function(){\n",
       "\tfig.close_ws(fig, {});\n",
       "    });\n",
       "}\n",
       "\n",
       "mpl.figure.prototype._canvas_extra_style = function(el){\n",
       "    // this is important to make the div 'focusable\n",
       "    el.attr('tabindex', 0)\n",
       "    // reach out to IPython and tell the keyboard manager to turn it's self\n",
       "    // off when our div gets focus\n",
       "\n",
       "    // location in version 3\n",
       "    if (IPython.notebook.keyboard_manager) {\n",
       "        IPython.notebook.keyboard_manager.register_events(el);\n",
       "    }\n",
       "    else {\n",
       "        // location in version 2\n",
       "        IPython.keyboard_manager.register_events(el);\n",
       "    }\n",
       "\n",
       "}\n",
       "\n",
       "mpl.figure.prototype._key_event_extra = function(event, name) {\n",
       "    var manager = IPython.notebook.keyboard_manager;\n",
       "    if (!manager)\n",
       "        manager = IPython.keyboard_manager;\n",
       "\n",
       "    // Check for shift+enter\n",
       "    if (event.shiftKey && event.which == 13) {\n",
       "        this.canvas_div.blur();\n",
       "        // select the cell after this one\n",
       "        var index = IPython.notebook.find_cell_index(this.cell_info[0]);\n",
       "        IPython.notebook.select(index + 1);\n",
       "    }\n",
       "}\n",
       "\n",
       "mpl.figure.prototype.handle_save = function(fig, msg) {\n",
       "    fig.ondownload(fig, null);\n",
       "}\n",
       "\n",
       "\n",
       "mpl.find_output_cell = function(html_output) {\n",
       "    // Return the cell and output element which can be found *uniquely* in the notebook.\n",
       "    // Note - this is a bit hacky, but it is done because the \"notebook_saving.Notebook\"\n",
       "    // IPython event is triggered only after the cells have been serialised, which for\n",
       "    // our purposes (turning an active figure into a static one), is too late.\n",
       "    var cells = IPython.notebook.get_cells();\n",
       "    var ncells = cells.length;\n",
       "    for (var i=0; i<ncells; i++) {\n",
       "        var cell = cells[i];\n",
       "        if (cell.cell_type === 'code'){\n",
       "            for (var j=0; j<cell.output_area.outputs.length; j++) {\n",
       "                var data = cell.output_area.outputs[j];\n",
       "                if (data.data) {\n",
       "                    // IPython >= 3 moved mimebundle to data attribute of output\n",
       "                    data = data.data;\n",
       "                }\n",
       "                if (data['text/html'] == html_output) {\n",
       "                    return [cell, data, j];\n",
       "                }\n",
       "            }\n",
       "        }\n",
       "    }\n",
       "}\n",
       "\n",
       "// Register the function which deals with the matplotlib target/channel.\n",
       "// The kernel may be null if the page has been refreshed.\n",
       "if (IPython.notebook.kernel != null) {\n",
       "    IPython.notebook.kernel.comm_manager.register_target('matplotlib', mpl.mpl_figure_comm);\n",
       "}\n"
      ],
      "text/plain": [
       "<IPython.core.display.Javascript object>"
      ]
     },
     "metadata": {},
     "output_type": "display_data"
    },
    {
     "data": {
      "text/html": [
       "<img src=\"data:image/png;base64,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\" width=\"432\">"
      ],
      "text/plain": [
       "<IPython.core.display.HTML object>"
      ]
     },
     "metadata": {},
     "output_type": "display_data"
    },
    {
     "data": {
      "text/plain": [
       "<mpl_toolkits.mplot3d.art3d.Poly3DCollection at 0x7ff9a0defb80>"
      ]
     },
     "execution_count": 87,
     "metadata": {},
     "output_type": "execute_result"
    }
   ],
   "source": [
    "%matplotlib notebook\n",
    "fig = plt.figure()\n",
    "ax = fig.add_subplot(111, projection='3d')\n",
    "Z = X**2 - Y**2\n",
    "X[X**2 + Y**2 > 1] = np.inf\n",
    "Z[Z == np.inf] = 0\n",
    "ax.plot_surface(X, Y, Z, cmap='spring')"
   ]
  },
  {
   "cell_type": "markdown",
   "metadata": {},
   "source": [
    "# Задание 9.\n",
    "### Рассмотреть два вида процессов:\n",
    "$\\bullet$ Винеровский процесс $W(t),\\ t \\in [0, 1],\\ W(0) = 0$;\n",
    "\n",
    "$\\bullet$ Процесс Орнштейна-Уленбека $X(t),\\ t \\in [0, 1],\\ X(0) = X_0$, то есть стационарный марковский гауссовский процесс, начальное значение $X_0$ генерируется случайным образом так, что чтобы полученный процесс был стационарным.\n",
    "### Для данных гауссовских процессов:\n",
    "\n",
    "1) найти ковариационную функцию и переходные вероятности;\n",
    "\n",
    "2) моделировать независимые траектории процесса с данными переходными вероятностями методом добавления разбиения отрезка;\n",
    "\n",
    "3) построить график траектории, не соединяя точки ломанной, с целью получения визуально непрерывной линии."
   ]
  },
  {
   "cell_type": "markdown",
   "metadata": {},
   "source": [
    "## Метод добавления разбиения отрезка.\n",
    "\n",
    "Рассмотрим моделирование некоторого случайного процесса $X(t)$ на отрезке $[t_0, t_1]$\n",
    "\n",
    "1. моделировние $X_0 = X(t_0)$;\n",
    "\n",
    "2. моделирование $X(t_1)$ по условному распределению $[X(t_1)|X(t_0)]$;\n",
    "\n",
    "3. рассмотрим отрезок $[t_i, t_{i + 1}]$, на концах которого определены $$X(t_i) = x_{i},\\ X(t_{i + 1}) = x_{i + 1},$$ добавим узел $$t = \\dfrac{t_{i + 1} - t_i}{2}$$ и построим $X(t)$ с использованием распределения случайной величины $$[X(t)|X(t_i) = x_{i},\\ X(t_{i + 1}) = x_{i + 1}];$$\n",
    "\n",
    "4. повторять третий шаг до достижения нужного шага сетки."
   ]
  },
  {
   "cell_type": "markdown",
   "metadata": {},
   "source": [
    "## Винеровский процесс\n",
    "Винеровский процесс - гауссовский процесс Леви, то есть процесс с независимыми приращениями такой, что:\n",
    "\n",
    "$\\bullet\\ W_0= 0;$\n",
    "\n",
    "$\\bullet\\ \\mu(h) = \\mathbb{E}(W_{t + h} - W_{t}) = 0;$\n",
    "\n",
    "$\\bullet\\ \\sigma^2(h) = \\mathbb{D}(W_{t + h} - W_{t}) = \\sigma^2 h.$\n",
    "\n",
    "### Найдём ковариационную функцию для винеровского процесса.\n",
    "\n",
    "$$K(t_1, t_2) = \\mathbb{E}[W(t_1)W(t_2)],$$\n",
    "\n",
    "не ограничивая общности суждений, будем считать, что $t_1 < t_2$, тогда:\n",
    "\n",
    "$$K(t_1, t_2) = \\mathbb{E}[W(t_1)W(t_2)] = \\mathbb{E}W^2(t_1) + \\mathbb{E}[W(t_1) - W_0][W(t_2) - W(t_1)] = $$\n",
    "$$= \\sigma ^2 t_1 + \\mathbb{E}W(t_1)\\mathbb{E}[W(t_2) - W(t_1)] = \\sigma^2 t_1.$$\n",
    "\n",
    "Таким образом, ковариационная функция винеровского процесса:\n",
    "\n",
    "$$K(s, t) = \\min(s, t) \\sigma^2.$$\n",
    "\n",
    "### Моделирование винеровского процесса\n",
    "\n",
    "Найдем распределение \n",
    "$$Y = [W(t_{i + \\frac{1}{2}})|W(t_i) = x_i,\\ W(t_{i + 1}) = x_{i + 1}],$$\n",
    "где $t_{i + \\frac{1}{2}} = \\dfrac{t_{i + 1} - t_i}{2}$.\n",
    "\n",
    "Одно из свойств винеровского процесса $W(t) \\sim \\mathcal{N}(0, \\sigma^2)$, тогда $Y$ имеет плотность распределения\n",
    "$$p_Y(x) = \\dfrac{p_3(x_i, x_{i + \\frac{1}{2}}, x_{i + 1})}{p_2(x_i, x_{i + 1})},$$\n",
    "\n",
    "где $p_3(x_i, x_{i + \\frac{1}{2}}, x_{i + 1})$ - совместная плотность $[W(t_i), W(t_{i + \\frac{1}{2}}), W(t_{i + 1})]$, а $p_2(x_i, x_{i + 1})$ - совместная плотность $[W(t_i), W(t_{i + 1})]$.\n",
    "\n",
    "Получим ковариационные матрицы $\\Sigma_2$ и $\\Sigma_3$, соответствующие $p_2(x),\\ p_3(x)$. Вопрользуемся формулой для ковариационной функции винеровского процесса, тогда\n",
    "\n",
    "$$\n",
    "\\Sigma_2 = \\sigma^2 \\begin{bmatrix} t_i & t_i \\\\ t_i & t_{i + 1}\\end{bmatrix}\n",
    "$$\n",
    "\n",
    "$$\n",
    "\\Sigma_3 = \\sigma^2 \\begin{bmatrix} t_i & t_i & t_i \\\\ t_i & t_{i + \\frac{1}{2}} & t_{i + \\frac{1}{2}} \\\\ t_{i + \\frac{1}{2}} & t_{i + \\frac{1}{2}} & t_{i + 1}\\end{bmatrix}\n",
    "$$\n",
    "\n",
    "Рассмотрим $n$-мерное нормальное распределение со средним $\\mu$ и ковариационной матрицей $\\Sigma$. Для такого распределения плотность имеет вид:\n",
    "\n",
    "$$\n",
    "p(x) = \\dfrac{1}{\\sqrt{(2\\pi)^n|\\Sigma|}} e^{-\\frac{1}{2}(x - \\mu)^T \\Sigma^{-1}(x - \\mu)}\n",
    "$$\n",
    "\n",
    "Вычислим плотность $p_Y(x)$. Заметим, что она имеет вид $C e^ {d}$, где коэффициент $C$ получен как частное коэффициентов при $p_2(x),\\ p_3(x)$, а $d$ как разность степеней экспоненты в тех же плотностях.\n",
    "\n",
    "Воспользуемся символьными вычислениями для вычисления $d$."
   ]
  },
  {
   "cell_type": "code",
   "execution_count": 116,
   "metadata": {},
   "outputs": [
    {
     "data": {
      "text/latex": [
       "$\\displaystyle \\frac{- t_{1} x_{3} \\left(- x_{1} + x_{3}\\right) - 2 t_{1} \\left(x_{2} \\left(x_{1} - x_{2}\\right) + x_{3} \\left(x_{2} - x_{3}\\right)\\right) + x_{1} \\left(t_{1} x_{3} - t_{3} x_{1}\\right) - x_{1} \\left(x_{2} \\left(t_{1} - t_{3}\\right) + \\left(t_{1} + t_{3}\\right) \\left(- x_{1} + x_{3}\\right)\\right)}{2 t_{1} \\left(t_{1} - t_{3}\\right)}$"
      ],
      "text/plain": [
       "(-t_1*x_3*(-x_1 + x_3) - 2*t_1*(x_2*(x_1 - x_2) + x_3*(x_2 - x_3)) + x_1*(t_1*x_3 - t_3*x_1) - x_1*(x_2*(t_1 - t_3) + (t_1 + t_3)*(-x_1 + x_3)))/(2*t_1*(t_1 - t_3))"
      ]
     },
     "execution_count": 116,
     "metadata": {},
     "output_type": "execute_result"
    }
   ],
   "source": [
    "import sympy as sp\n",
    "\n",
    "t1, t2, t3 = sp.symbols('t_1 t_2 t_3', real = True)\n",
    "x1, x2, x3 = sp.symbols('x_1 x_2 x_3', real = True)\n",
    "\n",
    "t2 = (t1 + t3) / 2\n",
    "\n",
    "S3 = sp.Matrix([[t1, t1, t1], [t1, t2, t2], [t2, t2, t3]])\n",
    "S2 = sp.Matrix([[t1, t1], [t1, t3]])\n",
    "X3 = sp.Matrix([[x1], [x2], [x3]])\n",
    "X2 = sp.Matrix([[x1], [x3]])\n",
    "\n",
    "d = -sp.Rational(1, 2) * X3.T @ S3.inv() @ X3 + Rational(1, 2) * X2.T @ S2.inv() @ X2\n",
    "2\n",
    "\n",
    "d[0].simplify()"
   ]
  },
  {
   "cell_type": "markdown",
   "metadata": {},
   "source": [
    "Пусть $h = t_{i + \\frac{1}{2}} - t_i$, тогда плотность распределения для процесса $Y$ имеет вид:\n",
    "\n",
    "AAAAAAAAAAAAAAAAAAAAAAAAAAAAAAA ЧТО ТАМ С ЦИФЕРКАМИ ПОМОГИТЕ Я НЕ ХОЧУ ЭТО СЧИТАТЬ\n",
    "\n",
    "$$\n",
    "p_Y(x) = C \\exp\\left\\{-\\dfrac{2}{(t_{i + 1} - t_i)}\\left(x_{i + \\frac{1}{2}} - \\dfrac{x_i + x_{i + 1}}{2}\\right)^2\\right\\}, \n",
    "$$\n",
    "\n",
    "а значит, $$ Y \\sim \\mathcal{N}\\left( \\dfrac{x_i + x_{i + 1}}{2}, \\dfrac{h \\sigma^2}{2}\\right).$$"
   ]
  },
  {
   "cell_type": "code",
   "execution_count": 189,
   "metadata": {},
   "outputs": [],
   "source": [
    "n_grid = 15\n",
    "sigma = 1"
   ]
  },
  {
   "cell_type": "code",
   "execution_count": 191,
   "metadata": {},
   "outputs": [],
   "source": [
    "def wiener(sigma, n_grid):\n",
    "    W = np.zeros(2 ** n_grid + 1)\n",
    "    W[-1] = sigma * np.random.randn()\n",
    "    step = 2 ** n_grid\n",
    "    first = 2 ** (n_grid - 1)\n",
    "    h = 1\n",
    "    for i in range(0, n_grid):\n",
    "        h /= 2\n",
    "        W[first :: step] = np.random.randn(2 ** i) * np.sqrt(h / 2) * sigma + (W[: -1 : step] + W[step :: step]) / 2\n",
    "        first = first // 2\n",
    "        step = step // 2\n",
    "    return W"
   ]
  },
  {
   "cell_type": "code",
   "execution_count": 190,
   "metadata": {},
   "outputs": [],
   "source": [
    "%matplotlib inline"
   ]
  },
  {
   "cell_type": "code",
   "execution_count": 192,
   "metadata": {},
   "outputs": [
    {
     "data": {
      "image/png": "[encoded data removed]",
      "text/plain": [
       "<Figure size 432x288 with 1 Axes>"
      ]
     },
     "metadata": {
      "needs_background": "light"
     },
     "output_type": "display_data"
    }
   ],
   "source": [
    "x = np.linspace(0, 1, 2 ** n_grid + 1)\n",
    "plt.plot(x, wiener(sigma, n_grid), 'b.', ms = 0.2, alpha = 0.5)\n",
    "plt.title(r'Винеровский процесс с $\\sigma = 1$')\n",
    "plt.show()"
   ]
  },
  {
   "cell_type": "markdown",
   "metadata": {},
   "source": [
    "## Процесс Орнштейна-Уленбека\n",
    "\n",
    "Процесс Орнштейна-Уленбека - это стационарный марковский гауссовский процесс."
   ]
  },
  {
   "cell_type": "markdown",
   "metadata": {},
   "source": [
    "### Найдем ковариационную функцию для процесса Орнштейна-Уленбека\n",
    "\n",
    "Известно, что для корреляционной функции такого процесса верно\n",
    "$$\\rho(X(t_1), X(t_3)) = \\rho(X(t_1), X(t_2))\\rho(X(t_2), \\rho(t_3)),\\quad t_1 < t_2 < t_3.$$\n",
    "\n",
    "Рассмотрим центрированный процесс Орнштейна-Уленбека, в таком случаедля любого $t$ будет верно $X(t) \\sim \\mathcal{N}(0, \\sigma^2)$. Ковариационная функция для такого процесса будет иметь вид $$R(t_1, t_2) = \\sigma^2 K(|t_2 - t_1|),$$ \n",
    "\n",
    "где $K(t) = \\rho(X(t), X_0)$. Найдем вид $K(t).$\n",
    "\n",
    "Рассмотрим $0 \\leqslant t_1 < t_2 \\leqslant 1$, тогда из свойства корреляционной функции:\n",
    "\n",
    "$$K(t_2) = \\rho(X(t_2), X(t_1))\\rho(X(t_1), X(0)) = K(t_2 - t_1)K(t_1),$$\n",
    "\n",
    "в таком случае, для любых $t \\geqslant 0, s \\geqslant 0$ верно $K(t + s) = K(t)K(s)$. \n",
    "\n",
    "Логарифм такой функции является решением уравнения Коши:\n",
    "$$f(x + y) = f(x) + f(y).$$\n",
    "\n",
    "В классе непрерывных функций уравнение Коши имеет единственное решение вида $K(t) = e^{-\\lambda t},\\ \\lambda > 0$, следовательно\n",
    "\n",
    "$$R(t_1, t_2) = \\sigma^2 e^{-\\lambda |t_1 - t_2|}, \\quad \\lambda > 0.$$"
   ]
  },
  {
   "cell_type": "markdown",
   "metadata": {},
   "source": [
    "### Моделирование процесса Орнштейна-Уленбека\n",
    "\n",
    "\n",
    "Как и винеровский процесс, процесс Орнштейна-Уленбека является гауссовским, а значит рассчитывается по аналогичной формуле, имея однако другие ковариационные матрицы.\n",
    "\n",
    "Построим ковариационные матрицы для двух и трех случайных величин $\\Sigma_2,\\ \\Sigma_3$ соответственно. \n",
    "\n",
    "Рассмотрим случайные величины $X(t_i),\\ X(t_{i + \\frac{1}{2}}),\\ X(t_{i + 1})$,  обозначим $h = t_{i + \\frac{1}{2}} - t_i$, тогда\n",
    "\n",
    "$$\n",
    "\\Sigma_2 = \\sigma^2 \\begin{bmatrix} 1 & e^{-2\\lambda h} \\\\ e^{-2\\lambda h} & 1\\end{bmatrix}\n",
    "$$\n",
    "\n",
    "$$\n",
    "\\Sigma_3 = \\sigma^2 \\begin{bmatrix} 1 & e^{-\\lambda h} & e^{-2\\lambda h} \\\\ e^{-\\lambda h} & 1 & e^{-\\lambda h} \\\\ e^{-2\\lambda h} & e^{-\\lambda h} & 1\\end{bmatrix}\n",
    "$$\n",
    "\n",
    "Рассмотрим теперь $t_1 = 0,\\ t_2 = 1$. В этом случае \n",
    "\n",
    "$$\\Sigma_2^{(0)} = \\sigma^2 \\begin{bmatrix} 1 & e^{-\\lambda} \\\\ e^{-\\lambda} & 1\\end{bmatrix}$$\n"
   ]
  },
  {
   "cell_type": "code",
   "execution_count": 117,
   "metadata": {},
   "outputs": [],
   "source": [
    "t1, t2, t3 = sp.symbols('t_1 t_2 t_3', real = True)\n",
    "x0, x1, x2, x3 = sp.symbols('x_0 x_1 x_2 x_3', real = True)\n",
    "lam, h = sp.symbols('\\lambda h', real = True)\n",
    "t2 = (t1 + t3) / 2\n",
    "h = t2 - t1\n",
    "\n",
    "S3 = sp.Matrix([[1, sp.exp(-lam * h), sp.exp(-2 * lam * h)], \n",
    "             [sp.exp(-lam * h), 1, sp.exp(-lam * h)], \n",
    "             [sp.exp(-2 *lam * h), sp.exp(-lam * h), 1]])\n",
    "S2 = sp.Matrix([[1, sp.exp(-2 * lam * h)], [sp.exp(-2 * lam * h), 1]])\n",
    "X3 = sp.Matrix([[x1], [x2], [x3]])\n",
    "X2 = sp.Matrix([[x1], [x3]])\n",
    "\n",
    "d = -sp.Rational(1, 2) * X3.T @ S3.inv() @ X3 + Rational(1, 2) * X2.T @ S2.inv() @ X2\n",
    "2\n",
    "\n",
    "S_20 = S2.subs(h, Rational(1, 2))\n",
    "X0 = sp.Matrix([[x0], [x1]])\n",
    "d_0 = -sp.Rational(1, 2) * X0.T @ S_20.inv() @ X0\n",
    "d_0 = d_0[0].simplify()\n",
    "\n",
    "\n",
    "d = d[0].simplify()"
   ]
  },
  {
   "cell_type": "code",
   "execution_count": 118,
   "metadata": {},
   "outputs": [
    {
     "data": {
      "text/latex": [
       "$\\displaystyle - \\frac{x_{0} \\left(x_{0} e^{\\lambda} - x_{1}\\right) - x_{1} \\left(x_{0} - x_{1} e^{\\lambda}\\right)}{4 \\sinh{\\left(\\lambda \\right)}}$"
      ],
      "text/plain": [
       "-(x_0*(x_0*exp(\\lambda) - x_1) - x_1*(x_0 - x_1*exp(\\lambda)))/(4*sinh(\\lambda))"
      ]
     },
     "execution_count": 118,
     "metadata": {},
     "output_type": "execute_result"
    }
   ],
   "source": [
    "d_0"
   ]
  },
  {
   "cell_type": "code",
   "execution_count": 119,
   "metadata": {},
   "outputs": [
    {
     "data": {
      "text/latex": [
       "$\\displaystyle \\frac{- \\left(x_{1} \\left(x_{1} - x_{3} e^{\\lambda \\left(t_{1} - t_{3}\\right)}\\right) - x_{3} \\left(x_{1} e^{\\lambda \\left(t_{1} - t_{3}\\right)} - x_{3}\\right)\\right) \\left(e^{2 \\lambda \\left(t_{1} - t_{3}\\right)} - 2 e^{\\lambda \\left(t_{1} - t_{3}\\right)} + 1\\right) \\left(e^{3 \\lambda \\left(t_{1} - t_{3}\\right)} - 3 e^{2 \\lambda \\left(t_{1} - t_{3}\\right)} + 3 e^{\\lambda \\left(t_{1} - t_{3}\\right)} - 1\\right) - \\left(e^{2 \\lambda \\left(t_{1} - t_{3}\\right)} - 1\\right) \\left(- x_{1} \\left(x_{1} - x_{2} e^{\\frac{\\lambda \\left(t_{1} - t_{3}\\right)}{2}}\\right) \\left(e^{2 \\lambda \\left(t_{1} - t_{3}\\right)} - 2 e^{\\lambda \\left(t_{1} - t_{3}\\right)} + 1\\right)^{2} + x_{2} \\left(x_{3} \\left(e^{\\lambda \\left(t_{1} - t_{3}\\right)} - 1\\right) \\left(e^{3 \\lambda \\left(t_{1} - t_{3}\\right)} - 3 e^{2 \\lambda \\left(t_{1} - t_{3}\\right)} + 3 e^{\\lambda \\left(t_{1} - t_{3}\\right)} - 1\\right) e^{\\frac{\\lambda \\left(t_{1} - t_{3}\\right)}{2}} + \\left(x_{1} \\left(e^{2 \\lambda \\left(t_{1} - t_{3}\\right)} - 2 e^{\\lambda \\left(t_{1} - t_{3}\\right)} + 1\\right) e^{\\frac{\\lambda \\left(t_{1} - t_{3}\\right)}{2}} - x_{2} \\left(e^{3 \\lambda \\left(t_{1} - t_{3}\\right)} - e^{2 \\lambda \\left(t_{1} - t_{3}\\right)} - e^{\\lambda \\left(t_{1} - t_{3}\\right)} + 1\\right)\\right) \\left(e^{2 \\lambda \\left(t_{1} - t_{3}\\right)} - 2 e^{\\lambda \\left(t_{1} - t_{3}\\right)} + 1\\right)\\right) + x_{3} \\left(x_{2} \\left(e^{2 \\lambda \\left(t_{1} - t_{3}\\right)} - 2 e^{\\lambda \\left(t_{1} - t_{3}\\right)} + 1\\right)^{2} e^{\\frac{\\lambda \\left(t_{1} - t_{3}\\right)}{2}} - x_{3} \\left(e^{\\lambda \\left(t_{1} - t_{3}\\right)} - 1\\right) \\left(e^{3 \\lambda \\left(t_{1} - t_{3}\\right)} - 3 e^{2 \\lambda \\left(t_{1} - t_{3}\\right)} + 3 e^{\\lambda \\left(t_{1} - t_{3}\\right)} - 1\\right)\\right)\\right)}{2 \\left(e^{2 \\lambda \\left(t_{1} - t_{3}\\right)} - 1\\right) \\left(e^{2 \\lambda \\left(t_{1} - t_{3}\\right)} - 2 e^{\\lambda \\left(t_{1} - t_{3}\\right)} + 1\\right) \\left(e^{3 \\lambda \\left(t_{1} - t_{3}\\right)} - 3 e^{2 \\lambda \\left(t_{1} - t_{3}\\right)} + 3 e^{\\lambda \\left(t_{1} - t_{3}\\right)} - 1\\right)}$"
      ],
      "text/plain": [
       "(-(x_1*(x_1 - x_3*exp(\\lambda*(t_1 - t_3))) - x_3*(x_1*exp(\\lambda*(t_1 - t_3)) - x_3))*(exp(2*\\lambda*(t_1 - t_3)) - 2*exp(\\lambda*(t_1 - t_3)) + 1)*(exp(3*\\lambda*(t_1 - t_3)) - 3*exp(2*\\lambda*(t_1 - t_3)) + 3*exp(\\lambda*(t_1 - t_3)) - 1) - (exp(2*\\lambda*(t_1 - t_3)) - 1)*(-x_1*(x_1 - x_2*exp(\\lambda*(t_1 - t_3)/2))*(exp(2*\\lambda*(t_1 - t_3)) - 2*exp(\\lambda*(t_1 - t_3)) + 1)**2 + x_2*(x_3*(exp(\\lambda*(t_1 - t_3)) - 1)*(exp(3*\\lambda*(t_1 - t_3)) - 3*exp(2*\\lambda*(t_1 - t_3)) + 3*exp(\\lambda*(t_1 - t_3)) - 1)*exp(\\lambda*(t_1 - t_3)/2) + (x_1*(exp(2*\\lambda*(t_1 - t_3)) - 2*exp(\\lambda*(t_1 - t_3)) + 1)*exp(\\lambda*(t_1 - t_3)/2) - x_2*(exp(3*\\lambda*(t_1 - t_3)) - exp(2*\\lambda*(t_1 - t_3)) - exp(\\lambda*(t_1 - t_3)) + 1))*(exp(2*\\lambda*(t_1 - t_3)) - 2*exp(\\lambda*(t_1 - t_3)) + 1)) + x_3*(x_2*(exp(2*\\lambda*(t_1 - t_3)) - 2*exp(\\lambda*(t_1 - t_3)) + 1)**2*exp(\\lambda*(t_1 - t_3)/2) - x_3*(exp(\\lambda*(t_1 - t_3)) - 1)*(exp(3*\\lambda*(t_1 - t_3)) - 3*exp(2*\\lambda*(t_1 - t_3)) + 3*exp(\\lambda*(t_1 - t_3)) - 1))))/(2*(exp(2*\\lambda*(t_1 - t_3)) - 1)*(exp(2*\\lambda*(t_1 - t_3)) - 2*exp(\\lambda*(t_1 - t_3)) + 1)*(exp(3*\\lambda*(t_1 - t_3)) - 3*exp(2*\\lambda*(t_1 - t_3)) + 3*exp(\\lambda*(t_1 - t_3)) - 1))"
      ]
     },
     "execution_count": 119,
     "metadata": {},
     "output_type": "execute_result"
    }
   ],
   "source": [
    "d"
   ]
  },
  {
   "cell_type": "markdown",
   "metadata": {},
   "source": [
    "Подставляя полученные матрицы в соответствующие формулы (см. винеровский процесс) получим, что \n",
    "\n",
    "$$[X(1)|X(0)] \\sim \\mathcal{N} (x_0e^{-\\lambda}, \\sigma^2(1 - e^{-2\\lambda}))$$\n",
    "\n",
    "$$[X(t_{i + \\frac{1}{2}})|\\ X(t_i) = x_i,\\ X(t_{i + 1}) = x_{i + 1}] \\sim \\mathcal{N}\\left(\\dfrac{x_i + x_{i + 1}}{e^{\\lambda h} + e^{-\\lambda h}}, \\dfrac{\\sigma^2 (e^{2\\lambda h} - 1)}{e^{2\\lambda h} + 1} \\right).$$"
   ]
  },
  {
   "cell_type": "code",
   "execution_count": 182,
   "metadata": {},
   "outputs": [],
   "source": [
    "n_grid = 14\n",
    "sigma = 1\n",
    "lam = 5"
   ]
  },
  {
   "cell_type": "code",
   "execution_count": 183,
   "metadata": {},
   "outputs": [],
   "source": [
    "def ou_mean(x1, x2, h, lam):\n",
    "    return((x1 + x2) / (np.exp(lam * h) + np.exp(-lam * h)))"
   ]
  },
  {
   "cell_type": "code",
   "execution_count": 184,
   "metadata": {},
   "outputs": [],
   "source": [
    "def ou_scale(h, sigma, lam):\n",
    "    return((sigma ** 2) * (np.exp(2 * lam * h) - 1)/(np.exp(2 * lam * h) + 1))"
   ]
  },
  {
   "cell_type": "code",
   "execution_count": 185,
   "metadata": {},
   "outputs": [],
   "source": [
    "def ornstein_uhlenbeck(sigma, lam, n_grid):\n",
    "    OU = np.zeros(2 ** n_grid + 1)\n",
    "    OU[0] = np.random.rand() * sigma\n",
    "    OU[-1] =  sigma * sqrt(1 - exp(-2 * lam)) * np.random.randn() + OU[0] * exp(-lam)\n",
    "    step = 2 ** n_grid\n",
    "    first = 2 ** (n_grid - 1)\n",
    "    h = 1\n",
    "    for i in range(0, n_grid):\n",
    "        h /= 2\n",
    "        OU[first :: step] = np.random.randn(2 ** i) * np.sqrt(ou_scale(h, sigma, lam)) + ou_mean(OU[: -1 : step], OU[step :: step], h, lam)\n",
    "        first = first // 2\n",
    "        step = step // 2\n",
    "    return OU"
   ]
  },
  {
   "cell_type": "code",
   "execution_count": 186,
   "metadata": {},
   "outputs": [
    {
     "data": {
      "image/png": "[encoded data removed]",
      "text/plain": [
       "<Figure size 432x288 with 1 Axes>"
      ]
     },
     "metadata": {
      "needs_background": "light"
     },
     "output_type": "display_data"
    }
   ],
   "source": [
    "x = np.linspace(0, 1, 2 ** n_grid + 1)\n",
    "plt.plot(x, ornstein_uhlenbeck(sigma, lam, n_grid), 'b.', ms = 0.2, alpha = 0.5)\n",
    "plt.title(r'Процесс Орнштейна-Уленбека с $\\sigma = 1$')\n",
    "plt.show()"
   ]
  },
  {
   "cell_type": "markdown",
   "metadata": {},
   "source": [
    "# Задание 10.\n",
    "\n",
    "## Произвести фильтрацию одномерного процесса Орнштейна-Уленбека."
   ]
  },
  {
   "cell_type": "markdown",
   "metadata": {},
   "source": [
    "### 1. Используя генератор белого шума, добавить случайную ошибку с известной дисперсией к реализации процесса Орнштейна-Уленбека.\n",
    "\n",
    "Рассмотрим процесс Орнштейна-Уленбека $x_n = X(t_n)$ с заданными параметрами $\\lambda > 0,\\ \\sigma$ на сетке $\\{t_n = nh\\ |\\ n = 1,\\ldots,N;\\ h = \\frac{1}{N}\\}$. \n",
    "\n",
    "Пусть $x_1 = X(t_1) \\sim \\mathcal{N}(0, \\sigma^2)$, тогда процесс $x_n$ может быть записан в виде:\n",
    "$$x_n = a x_{n - 1} + \\nu_n,$$\n",
    "\n",
    "где $\\nu_n \\sim \\mathcal{N}(0, q)$.\n",
    "\n",
    "Введем зашумленный сигнал $y_n$ вида\n",
    "$$y_n = x_n + \\varepsilon_n,$$\n",
    "где $\\varepsilon_n$ - ошибка с заданным характером распределения (в данной задаче нормальным или распределением Коши) с нулевым сдвигом и масштабом $r$ (он также считается известным).\n",
    "\n",
    "Найдем параметры системы $a$ и $q$. Для этоого запишем ковариациооную функцию процесса в моменты $t_n$ и $t_{n + 1}$:\n",
    "\n",
    "$$ R(t_n, t_n) = \\mathbb{D}x_n = \\sigma^2, $$\n",
    "$$ R(t_n, t_{n + 1}) = a \\mathbb{D}x_n = a \\sigma^2, $$\n",
    "$$ R(t_{n + 1}, t_{n + 1}) = \\mathbb{D}(x_{n + 1}) = a^2\\mathbb{D}x_n = a^2\\sigma^2 + q =  \\sigma^2.$$\n",
    "\n",
    "Из полученной системы находим искомые параметры:\n",
    "$$a = e^{\\lambda h}, \\quad q = \\sigma^2(1 - e^{-2\\lambda}).$$"
   ]
  },
  {
   "cell_type": "markdown",
   "metadata": {},
   "source": [
    "### 2. При помощи одномерного фильтра Калмана оценить траекторию процесса по зашумленному сигналу, параметры процесса и белого шума считать известными.\n",
    "\n",
    "Рассмотрим работу фильтра Калмана на $n$-ом шаге.\n",
    "\n",
    "Введем обозначения: \n",
    "\n",
    "$\\hat x_{n|n}$  - оценка значения $x_n$ при известных $y_1, \\ldots, y_n$;\n",
    "\n",
    "$\\hat x_{n|(n - 1)}$ - предполагаемое значение $x_n$ на основе предыдущего шага в соответствии с динамической системой;\n",
    "\n",
    "$p_{n|n}$ - дисперсия ошибки фильтрации;\n",
    "\n",
    "$p_{n|(n - 1)}$ - прогнозируемая диспресия на основе предыдущего шага.\n",
    "\n",
    "Фильтр Калмана работает по следующему алгоритму:\n",
    "\n",
    "1) исходя из динамической системы получаем:\n",
    "$$ \\hat x_{n|(n - 1)} = a \\hat x_{(n - 1)|(n - 1)},\\quad p_{n|(n - 1)} = a^2 p_{(n - 1)|(n - 1)} + q;$$\n",
    "2) вычисляем разницу между наблюдаемым процессом и прогнозом $\\delta_n$ и коэффициент усиления Калмана $k_n$:\n",
    "$$\\delta_n = y_n - \\hat x_{n|(n - 1)},\\quad k_n = \\dfrac{p_{n|(n - 1)}}{p_{n|(n - 1)} + r};$$\n",
    "3) рассчитываем новое значение $x_{n|n}$ как линейную комбинацию предсказанного и наблюдаемого значений:\n",
    "$$\\hat x_{n|n} = \\hat x_{n|(n - 1)} + k_n \\delta_n,\\quad p_{n|n} = (1 - k_n)p_{n|(n - 1)}.$$"
   ]
  },
  {
   "cell_type": "code",
   "execution_count": 249,
   "metadata": {},
   "outputs": [],
   "source": [
    "def kalman(y, a, q, r):\n",
    "    n = len(y)\n",
    "    p = np.zeros(n)\n",
    "    x_res = np.zeros(n)\n",
    "    x_res[0] = y[0]\n",
    "    p[0] = r\n",
    "    for i in range(1, n):\n",
    "        x_pred = a * x_res[i - 1]\n",
    "        p_pred = a**2 * p[i - 1] + q\n",
    "        delta = y[i] - x_pred\n",
    "        k = p_pred / (p_pred + r)\n",
    "        x_res[i] = x_pred + k * delta\n",
    "        p[i] = (1 - k) * p_pred\n",
    "    return [x_res, p]"
   ]
  },
  {
   "cell_type": "markdown",
   "metadata": {},
   "source": [
    "### Нормальная ошибка"
   ]
  },
  {
   "cell_type": "code",
   "execution_count": 246,
   "metadata": {},
   "outputs": [],
   "source": [
    "lam = 0.01\n",
    "sigma = 1\n",
    "\n",
    "r = 0.01\n",
    "\n",
    "n_grid = 14"
   ]
  },
  {
   "cell_type": "code",
   "execution_count": 247,
   "metadata": {},
   "outputs": [],
   "source": [
    "n = int(2 ** n_grid + 1)\n",
    "\n",
    "h = 1 / (n - 1)\n",
    "\n",
    "a = exp(-lam * h)\n",
    "q = (sigma ** 2) * (1 - exp(-2 * lam * h))"
   ]
  },
  {
   "cell_type": "code",
   "execution_count": 216,
   "metadata": {},
   "outputs": [
    {
     "data": {
      "image/png": "[encoded data removed]",
      "text/plain": [
       "<Figure size 432x288 with 1 Axes>"
      ]
     },
     "metadata": {
      "needs_background": "light"
     },
     "output_type": "display_data"
    }
   ],
   "source": [
    "# получение процесса Орнштейна-Уленбека\n",
    "\n",
    "x = ornstein_uhlenbeck(sigma, lam, n_grid)\n",
    "\n",
    "pl = np.linspace(0, 1, 2 ** n_grid + 1)\n",
    "plt.plot(pl, x, 'r.', ms = 0.2, label = 'Чистый сигнал')\n",
    "plt.title(r'Процесс Орнштейна-Уленбека с $\\sigma = 1$')\n",
    "plt.legend()\n",
    "plt.show()"
   ]
  },
  {
   "cell_type": "code",
   "execution_count": 218,
   "metadata": {},
   "outputs": [
    {
     "data": {
      "image/png": "[encoded data removed]",
      "text/plain": [
       "<Figure size 432x288 with 1 Axes>"
      ]
     },
     "metadata": {
      "needs_background": "light"
     },
     "output_type": "display_data"
    }
   ],
   "source": [
    "#добавление нормального шума\n",
    "\n",
    "noise = np.sqrt(r) * np.random.randn(n)\n",
    "y = x + noise\n",
    "\n",
    "\n",
    "plt.plot(pl, y, 'b', ms = 0.2, alpha = 0.5, label = 'Зашумленный сигнал')\n",
    "plt.plot(pl, x, 'r', ms = 0.2, label = 'Чистый сигнал')\n",
    "plt.title(r'Процесс Орнштейна-Уленбека с добавлением шума')\n",
    "plt.legend()\n",
    "plt.show()"
   ]
  },
  {
   "cell_type": "code",
   "execution_count": 250,
   "metadata": {},
   "outputs": [
    {
     "data": {
      "image/png": "[encoded data removed]",
      "text/plain": [
       "<Figure size 432x288 with 1 Axes>"
      ]
     },
     "metadata": {
      "needs_background": "light"
     },
     "output_type": "display_data"
    }
   ],
   "source": [
    "#фильтрация\n",
    "z = kalman(y, a, q, r)[0]\n",
    "plt.plot(pl, z, 'b.', ms = 0.2, alpha = 0.5, label = 'Результат фильтрации')\n",
    "plt.plot(pl, x, 'r.', ms = 0.2, label = 'Чистый сигнал')\n",
    "plt.title(r'Результат фильтрации процесса с нормальным шумом')\n",
    "plt.legend()\n",
    "plt.show()"
   ]
  },
  {
   "cell_type": "markdown",
   "metadata": {},
   "source": [
    "### Ошибка с распределением Коши"
   ]
  },
  {
   "cell_type": "code",
   "execution_count": 258,
   "metadata": {},
   "outputs": [],
   "source": [
    "lam = 0.01\n",
    "sigma = 1\n",
    "\n",
    "r = 0.0001\n",
    "\n",
    "n_grid = 14"
   ]
  },
  {
   "cell_type": "code",
   "execution_count": 252,
   "metadata": {},
   "outputs": [],
   "source": [
    "n = int(2 ** n_grid + 1)\n",
    "\n",
    "h = 1 / (n - 1)\n",
    "\n",
    "a = exp(-lam * h)\n",
    "q = (sigma ** 2) * (1 - exp(-2 * lam * h))"
   ]
  },
  {
   "cell_type": "code",
   "execution_count": 253,
   "metadata": {},
   "outputs": [
    {
     "data": {
      "image/png": "[encoded data removed]",
      "text/plain": [
       "<Figure size 432x288 with 1 Axes>"
      ]
     },
     "metadata": {
      "needs_background": "light"
     },
     "output_type": "display_data"
    }
   ],
   "source": [
    "# получение процесса Орнштейна-Уленбека\n",
    "\n",
    "x = ornstein_uhlenbeck(sigma, lam, n_grid)\n",
    "\n",
    "pl = np.linspace(0, 1, 2 ** n_grid + 1)\n",
    "plt.plot(pl, x, 'r.', ms = 0.2, label = 'Чистый сигнал')\n",
    "plt.title(r'Процесс Орнштейна-Уленбека с $\\sigma = 1$')\n",
    "plt.legend()\n",
    "plt.show()"
   ]
  },
  {
   "cell_type": "code",
   "execution_count": 259,
   "metadata": {},
   "outputs": [
    {
     "data": {
      "image/png": "[encoded data removed]",
      "text/plain": [
       "<Figure size 432x288 with 1 Axes>"
      ]
     },
     "metadata": {
      "needs_background": "light"
     },
     "output_type": "display_data"
    }
   ],
   "source": [
    "#добавление шума c распределением Коши\n",
    "\n",
    "noise = cauchy(0, r, n)\n",
    "y = x + noise\n",
    "\n",
    "\n",
    "plt.plot(pl, y, 'b', ms = 0.2, alpha = 0.5, label = 'Зашумленный сигнал')\n",
    "plt.plot(pl, x, 'r', ms = 0.2, label = 'Чистый сигнал')\n",
    "plt.title(r'Процесс Орнштейна-Уленбека с добавлением шума')\n",
    "plt.legend()\n",
    "plt.show()"
   ]
  },
  {
   "cell_type": "code",
   "execution_count": 262,
   "metadata": {},
   "outputs": [
    {
     "data": {
      "image/png": "[encoded data removed]",
      "text/plain": [
       "<Figure size 432x288 with 1 Axes>"
      ]
     },
     "metadata": {
      "needs_background": "light"
     },
     "output_type": "display_data"
    }
   ],
   "source": [
    "#фильтрация\n",
    "z = kalman(y, a, q, r)[0]\n",
    "plt.plot(pl, z, 'b.', ms = 0.2, alpha = 0.5, label = 'Результат фильтрации')\n",
    "plt.plot(pl, x, 'r.', ms = 0.2, label = 'Чистый сигнал')\n",
    "plt.title(r'Результат фильтрации процесса с шумом с распределением Коши')\n",
    "plt.legend()\n",
    "plt.show()"
   ]
  },
  {
   "cell_type": "markdown",
   "metadata": {},
   "source": [
    "# Задание 11.\n",
    "### Построить двумерное пуассоновское поле, отвечающее пуассоновскому процессу:\n",
    "\n",
    "### 1. Первая интерпритация: система массового обслуживания. При этом, первая координата поля - время поступления заявки в СМО (равномерное распределение), вторая - время ее обслуживания (распределение $\\chi^2$ с 10 степенями свободы)."
   ]
  },
  {
   "cell_type": "markdown",
   "metadata": {},
   "source": [
    "Рассмотрим работу системы массового обслуживания на отрезке времени $[0, T]$. За это время на участок приходит $\\eta \\sim \\mathcal{Pois}(\\lambda T)$, где $\\lambda$ - интенсивность очереди. Момент прихода $i-$го человека $t_i \\sim \\mathcal{U}([0, T])$, а его время ожидания $s_i \\sim \\mathcal{\\chi^2}(10)$. Обозначим время обработки заявки $i$-го человека через $X_i$, тогда:\n",
    "\n",
    "$$\n",
    "X_i = \n",
    "\\left\\{\n",
    "\\begin{aligned}\n",
    "& t_i + s_i,\\ X_{i - 1} \\leqslant t_i\\ (\\text{в очереди никого нет});\\\\\n",
    "& X_{i - 1} + s_i,\\ X_{i - 1} > t_i\\ (\\text{очередь не пуста}).\n",
    "\\end{aligned}\n",
    "\\right.\n",
    "$$\n",
    "\n",
    "В таком случае, число людей в очереди в момент времени $t$ равен $N(t) = \\sum\\limits_{i = 0}^{\\eta}\\mathbb{I}_{t \\in [t_i, X_i)}$, то есть сумма людей, которые уже встали в очередь и запросы которых не были обработаны к моменты $t$.\n",
    "\n",
    "Заметим, что очередь не будет накапливаться до бесконечности лишь в том случае, если среднее время обработки заявки больше, чем средний интервал между появлением новых людей в очереди. \n",
    "\n",
    "$t_i \\sim \\mathcal{U}[0, T]$, следовательно $(t_{i + 1} - t_i) \\sim \\mathcal{Exp}(\\lambda)$. Известно, что $$\\mathbb{E}(t_{i + 1} - t_i) = \\dfrac{1}{\\lambda},\\quad \\mathbb{E}s_i = 10.$$\n",
    "\n",
    "Тогда наше условие корректной работы СМО (отсутствие бесконечно длинной очереди) эквивалентно $\\dfrac{1}{\\lambda} < 10$."
   ]
  },
  {
   "cell_type": "code",
   "execution_count": 134,
   "metadata": {},
   "outputs": [],
   "source": [
    "def chi2_rnd(k, size):\n",
    "    mu = 0\n",
    "    sigma = 1\n",
    "    return np.sum((np.reshape(np.random.rand(size * k) ** 2, (size, k))), 1)"
   ]
  },
  {
   "cell_type": "code",
   "execution_count": 135,
   "metadata": {},
   "outputs": [],
   "source": [
    "# определение значения параметра\n",
    "lam = 0.1\n",
    "T = 100\n",
    "k = 10\n",
    "n = 1000"
   ]
  },
  {
   "cell_type": "code",
   "execution_count": 136,
   "metadata": {},
   "outputs": [],
   "source": [
    "def queue_mod(t):\n",
    "    eta = np.size(t)\n",
    "    s = chi2_rnd(k, eta)\n",
    "    X = np.zeros(eta)\n",
    "    X[0] = t[0] + s[0]\n",
    "    for i in range(1, eta):\n",
    "        X[i] = max(X[i - 1], t[i]) + s[i]\n",
    "    N = lambda tau: ((tau > t) * (tau < X)).sum()\n",
    "    return [N, X]"
   ]
  },
  {
   "cell_type": "code",
   "execution_count": 139,
   "metadata": {},
   "outputs": [
    {
     "data": {
      "image/png": "[encoded data removed]",
      "text/plain": [
       "<Figure size 432x288 with 1 Axes>"
      ]
     },
     "metadata": {
      "needs_background": "light"
     },
     "output_type": "display_data"
    }
   ],
   "source": [
    "\n",
    "eta = np.random.poisson(lam * T)\n",
    "\n",
    "t = np.sort(T * np.random.rand(int(eta)))\n",
    "\n",
    "[N, X] = queue_mod(t)\n",
    "\n",
    "tt = np.linspace(0, T, n)\n",
    "y = np.zeros(n)\n",
    "for i in range(0, n):\n",
    "    y[i] = N(tt[i])\n",
    "\n",
    "plt.plot(tt, y, color = 'b', alpha = 0.5, label = 'Число людей в очереди')\n",
    "plt.grid()\n",
    "plt.legend()\n",
    "plt.show()"
   ]
  },
  {
   "cell_type": "markdown",
   "metadata": {},
   "source": [
    "### 2. Вторая интерпретация: система массового обслуживания с циклической интенсивностью $\\lambda(1 + \\cos(t))$ и единичными скачками. Свести данную задачу моделирования неоднородного пуассоновского процесса при помощи метода Льюса и Шедлера к моделированию двумерного пуассоновского поля, где первая координата имеет равномерное распределение, а вторая - распределение Бернулли."
   ]
  },
  {
   "cell_type": "markdown",
   "metadata": {},
   "source": [
    "Рассмотрим работу СМО c циклической интенсивностью $\\lambda(t)$ на отрезке времени $[0, T]$. $\\lambda(t) = \\lambda (1 - \\cos(t)) \\leqslant 2\\lambda$ для любого $t \\in [0, T]$. Тогда получим число людей, встающих в очередь $\\eta \\sim \\mathcal{Pois}(2\\lambda)$ и получим соответствующее число равномерно распределенных моментов времени, в которые приходят эти люди $t_1', \\ldots, t_{\\eta}'$. \n",
    "\n",
    "Получим новую выборку моментов времени $t_1, \\ldots, t_n$ следующим образом: каждую случайную величину $t_i'$ будем принимать в новую выборку с вероятностью $p_i = \\dfrac{\\lambda(t_i')}{2 \\lambda} = \\dfrac{1 + \\cos(t_i')}{2}.$ Полученная выборка будет определнять моменты появления новых людей в очереди в системе массового обслуживания с циклической интенсивностью. \n",
    "\n",
    "Далее рассуждения повторяют пункт 1 задания 11."
   ]
  },
  {
   "cell_type": "code",
   "execution_count": 140,
   "metadata": {},
   "outputs": [],
   "source": [
    "lam = 0.1\n",
    "T = 100\n",
    "k = 10\n",
    "n = 1000"
   ]
  },
  {
   "cell_type": "code",
   "execution_count": 141,
   "metadata": {},
   "outputs": [
    {
     "data": {
      "image/png": "[encoded data removed]",
      "text/plain": [
       "<Figure size 432x288 with 1 Axes>"
      ]
     },
     "metadata": {
      "needs_background": "light"
     },
     "output_type": "display_data"
    }
   ],
   "source": [
    "eta = np.random.poisson(2 * lam * T)\n",
    "t1 = (T * np.random.rand(int(eta)))\n",
    "idx = (np.random.rand(eta)) < ((1 + np.cos(t1)) / 2)\n",
    "t = t1[idx]\n",
    "\n",
    "[N, X] = queue_mod(t)\n",
    "\n",
    "tt = np.linspace(0, T, n)\n",
    "y = np.zeros(n)\n",
    "for i in range(0, n):\n",
    "    y[i] = N(tt[i])\n",
    "\n",
    "plt.plot(tt, y, color = 'b', alpha = 0.5, label = 'Число людей в очереди')\n",
    "plt.legend()\n",
    "plt.grid()\n",
    "plt.show()"
   ]
  },
  {
   "cell_type": "markdown",
   "metadata": {},
   "source": [
    "### 3. Третья интерпретация: работа страховой компании. Первая координата - момент наступления страхового случая (равномерное распределение), вторая координата - величина ущерба (распределение Парето). Поступление капитала по времени линейно со скоростью $c > 0$, начальный капитал $W > 0$."
   ]
  },
  {
   "cell_type": "markdown",
   "metadata": {},
   "source": [
    "Рассмотрим работу страховой компании на отрезке времени $[0, T]$. Число страховых случаев $N \\sim \\mathcal{Pois}(\\lambda)$. Моменты наступления страховых случаев $t_i \\sim \\mathcal{U}(0, T)$, величины ущерба в соответствующие моменты времени $X_i \\sim \\mathcal{Par}(k)$, где $\\mathcal{Par}(k)$ - распределение Парето с параметром $k$.\n",
    "\n",
    "Будем моделировать распределение Парето методом обращения функции распределения. Для распределения Парето:\n",
    "$$F_{Par} = 1 - \\left[ \\frac{1}{x}\\right]^k.$$\n",
    "Тогда при $y \\sim \\mathcal{U}[0, 1]$ случайная величина $x = (1 - y)^-\\frac{1}{k}\\ \\sim \\mathcal{Par}(k).$"
   ]
  },
  {
   "cell_type": "code",
   "execution_count": 142,
   "metadata": {},
   "outputs": [],
   "source": [
    "def Pareto(k, size):\n",
    "    y = np.random.rand(size)\n",
    "    return (1 - y) ** (- (1 / k))"
   ]
  },
  {
   "cell_type": "markdown",
   "metadata": {},
   "source": [
    "Капитал поступает линейно со скоростью $c$, а начальный капитал равен $W$. Также при возникновении страховых случаев необходимо выплачивать соответствующие величины ущерба, следовательно:\n",
    "$$K(t) = W + ct - \\sum\\limits_{i = 1}^{N(t)} X_i,$$\n",
    "где $N(t)$ - число страховых случаев к моменту времени $t$.\n",
    "\n",
    "Рассмотрим поведение системы при различных параметрах. Будем рассматривать $k > 1$, так как в противном случае математическое ожидание случайной величины не определено. \n",
    "\n",
    "Рассмотрим среднее значение капитала в момент времени $t$:\n",
    "$$\\mathbb{E}K(t) = W + ct - \\lambda t \\frac{k}{k - 1} = W + t(c - \\dfrac{\\lambda k}{k + 1}).$$\n",
    "Таким образом, при $c > \\dfrac{\\lambda k}{k - 1}$ капитал будет расти, а в обратном случае быстро будет израсходован."
   ]
  },
  {
   "cell_type": "code",
   "execution_count": 143,
   "metadata": {},
   "outputs": [],
   "source": [
    "lam = 1\n",
    "k = 2\n",
    "T = 100\n",
    "c = 2\n",
    "W = 50\n",
    "n = 1000"
   ]
  },
  {
   "cell_type": "code",
   "execution_count": 144,
   "metadata": {},
   "outputs": [],
   "source": [
    "def K(tau, f, xx, t):\n",
    "    if (tau < t[0]):\n",
    "        return W + c*tau\n",
    "    res = [((t[i] <= tau) & (t[i + 1] > tau)) for i in range(0, eta - 1)]\n",
    "    if (np.sum(res) == 0):\n",
    "        res = np.concatenate((res, [1])).astype(bool)\n",
    "    else:\n",
    "        res = np.concatenate((res, [0])).astype(bool)\n",
    "    if (W + c * tau - xx[res] <= 0):\n",
    "        f = False\n",
    "    return f * (W + c * tau - xx[res]) \n"
   ]
  },
  {
   "cell_type": "code",
   "execution_count": 145,
   "metadata": {},
   "outputs": [
    {
     "data": {
      "image/png": "[encoded data removed]",
      "text/plain": [
       "<Figure size 432x288 with 1 Axes>"
      ]
     },
     "metadata": {
      "needs_background": "light"
     },
     "output_type": "display_data"
    }
   ],
   "source": [
    "eta = np.random.poisson(lam * T)\n",
    "t = np.sort(T * np.random.rand(eta))\n",
    "X = Pareto(k, eta)\n",
    "f = True\n",
    "\n",
    "kk = np.zeros(eta)\n",
    "xx = np.zeros(eta)\n",
    "kk[0] = W\n",
    "for i in range(1, eta):\n",
    "    xx[i] = xx[i - 1] + X[i]\n",
    "    \n",
    "tt = np.linspace(0, T, n)\n",
    "yy = np.zeros(n)\n",
    "\n",
    "for i in range(0, n):\n",
    "    yy[i] = K(tt[i], f, xx, t)\n",
    "\n",
    "    \n",
    "plt.plot(tt, yy, color = 'b', alpha = 0.5, label = 'K(t)')\n",
    "plt.legend()\n",
    "plt.show()"
   ]
  }
 ],
 "metadata": {
  "kernelspec": {
   "display_name": "Python 3",
   "language": "python",
   "name": "python3"
  },
  "language_info": {
   "codemirror_mode": {
    "name": "ipython",
    "version": 3
   },
   "file_extension": ".py",
   "mimetype": "text/x-python",
   "name": "python",
   "nbconvert_exporter": "python",
   "pygments_lexer": "ipython3",
   "version": "3.8.3"
  }
 },
 "nbformat": 4,
 "nbformat_minor": 4
}
